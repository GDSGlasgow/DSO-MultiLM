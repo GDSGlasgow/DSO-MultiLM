{
 "cells": [
  {
   "cell_type": "code",
   "execution_count": 57,
   "metadata": {},
   "outputs": [],
   "source": [
    "import sys\n",
    "sys.path.append('..')\n",
    "from BERT_geoparser.translator import Translator"
   ]
  },
  {
   "cell_type": "code",
   "execution_count": 58,
   "metadata": {},
   "outputs": [],
   "source": [
    "translator = Translator(languages=None, model_size='418M')"
   ]
  },
  {
   "cell_type": "code",
   "execution_count": 3,
   "metadata": {},
   "outputs": [
    {
     "name": "stdout",
     "output_type": "stream",
     "text": [
      "Input text language detected as \"fr\"\n",
      "TRANSLATION : {'lanuage': 'fr', 'translation': ['The European Court of Human Rights sentenced Switzerland for violating the Convention on Human Rights.']}\n"
     ]
    }
   ],
   "source": [
    "fr_text = \"La Cour européenne des droits de l'Homme a condamné mardi la Suisse pour violation de la Convention des droits de l'Homme.\"#, donnant raison à une association de femmes âgées qui attaquait l'inaction du pays face au changement climatique.\"\n",
    "\n",
    "in_lang = translator.detect_language(fr_text)\n",
    "print(f'Input text language detected as \"{in_lang}\"')\n",
    "translated_text = translator.translate(fr_text, out_lang='en')\n",
    "print(f'TRANSLATION : {translated_text}')"
   ]
  },
  {
   "cell_type": "code",
   "execution_count": 4,
   "metadata": {},
   "outputs": [
    {
     "name": "stdout",
     "output_type": "stream",
     "text": [
      "Input text language detected as \"ms\"\n",
      "TRANSLATION : {'lanuage': 'ms', 'translation': ['Hilir Perak District Police Chief, Assistant Commissioner Ahmad Adnan Basri said the 36-year-old suspect who was trapped for four days until Sunday was also investigated in accordance with Section 44(1)(a) of the 1987 Road Transport Act.']}\n"
     ]
    }
   ],
   "source": [
    "ms_text = \"Ketua Polis Daerah Hilir Perak, Asisten Komisioner Ahmad Adnan Basri berkata, suspek lelaki berusia 36 yang sedang direman selama empat hari sehingga Ahad ini turut disiasat mengikut Seksyen 44(1)(a) Akta Pengangkutan Jalan 1987.\"\n",
    "in_lang = translator.detect_language(ms_text)\n",
    "print(f'Input text language detected as \"{in_lang}\"')\n",
    "translated_text = translator.translate(ms_text, out_lang='en')\n",
    "print(f'TRANSLATION : {translated_text}')"
   ]
  },
  {
   "cell_type": "code",
   "execution_count": 5,
   "metadata": {},
   "outputs": [
    {
     "name": "stdout",
     "output_type": "stream",
     "text": [
      "Input text language detected as \"it\"\n",
      "TRANSLATION : {'lanuage': 'it', 'translation': ['During the third day of searches at the Suviana plant, the bombers found the body of a dispersed man on the ninth floor underground.']}\n"
     ]
    }
   ],
   "source": [
    "it_text = \"Durante il terzo giorno di ricerche nella centrale di Suviana i sommozzatori hanno trovato al nono piano sottoterra il corpo di un disperso.\"\n",
    "it_lang = translator.detect_language(it_text)\n",
    "print(f'Input text language detected as \"{it_lang}\"')\n",
    "translated_text = translator.translate(it_text, out_lang='en')\n",
    "print(f'TRANSLATION : {translated_text}')"
   ]
  },
  {
   "cell_type": "code",
   "execution_count": 6,
   "metadata": {},
   "outputs": [
    {
     "name": "stdout",
     "output_type": "stream",
     "text": [
      "Input text language detected as \"zh\"\n",
      "TRANSLATION : {'lanuage': 'zh', 'translation': [\"Ren Wenbing did not want to leave this factory made of empty brick, which was a prosperous factory in Dongguan, China's manufacturing center.\"]}\n"
     ]
    }
   ],
   "source": [
    "zh_text = \"任文兵（Ren Wenbing，音译）不愿离开这个由空心砖砌成的厂房，这儿曾是中国制造业中心东莞的一家繁荣的工厂\"\n",
    "zh_lang = translator.detect_language(zh_text)\n",
    "print(f'Input text language detected as \"{zh_lang}\"')\n",
    "translated_text = translator.translate(zh_text, out_lang='en')\n",
    "print(f'TRANSLATION : {translated_text}')"
   ]
  },
  {
   "cell_type": "markdown",
   "metadata": {},
   "source": [
    "## Obtaining validation data for multi-lingual toponym identification"
   ]
  },
  {
   "cell_type": "code",
   "execution_count": 49,
   "metadata": {},
   "outputs": [],
   "source": [
    "from gnews import GNews\n",
    "from newspaper import Article\n",
    "\n",
    "google_news = GNews(language='id')\n",
    "malay_news = google_news.get_news('Jakarta')\n"
   ]
  },
  {
   "cell_type": "code",
   "execution_count": 50,
   "metadata": {},
   "outputs": [
    {
     "data": {
      "text/plain": [
       "'Sejumlah lokasi di Jakarta Utara terdampak banjir rob - ANTARA'"
      ]
     },
     "execution_count": 50,
     "metadata": {},
     "output_type": "execute_result"
    }
   ],
   "source": [
    "malay_news[0]['title']"
   ]
  },
  {
   "cell_type": "code",
   "execution_count": 66,
   "metadata": {},
   "outputs": [
    {
     "name": "stdout",
     "output_type": "stream",
     "text": [
      "Jakarta, CNBC Idnonesia - Hotel-hotel di Jakarta kian bertambah banyak setelah munculnya dua hotel baru di daerah Jakarta Pusat, yakni The Ibis Jakarta Raden Saleh dengan 105 kamar dan Ashley Hotel Tugu Tani sebanyak 80 kamar. Dengan tambahan ini, total pasokan kamar hotel bintang 3 ke-atas di Jakarta tercatat di sebanyak 56.180 unit.\n",
      "\n",
      "Kondisi ini bertolak belakang jika dibandingkan tahun 2023 yang tak mencatat adanya penambahan jumlah pasokan hotel baru.\n",
      "\n",
      "Hanya saja, pasokan hotel di Jakarta tetap terkonsentrasi di wilayah Jakarta Pusat dan kawasan pusat bisnis (central business district/ CBD) Jakarta, dengan porsi mencapai 58% dari total pasokan. Di tahun 2024, diprediksi akan ada beberapa penambahan hotel baru yang akan beroperasi, antara lain adalah Pan Pacific Jakarta, 25Hours the Oddbird Jakarta, dan Park Royal Hotel Jakarta.\n",
      "\n",
      "ADVERTISEMENT SCROLL TO RESUME CONTENT\n",
      "\n",
      "Pada gilirannya konsentrasi hotel yang berpusat di satu titik akan menambah beban bagi bisnis hotel. Apalagi, dengan adanya potensi efek proyek Ibu Kota Nusantara (IKN). Demikian mengutip \"Jakarta Property Market Insight Q1 2024\" yang dirilis Leads Property.\n",
      "\n",
      "\"Melihat jauh ke depan, kita semua mengetahui bahwa ibukota negara akan pindah ke IKN. Kondisi ini diperkirakan akan memberikan tekanan pada tingkat hunian oleh karena diperkirakan juga akan ada pengurangan volume kegiatan meeting,\" tulis Leads Property, dikutip Selasa (4/6/2024).\n",
      "\n",
      "\"Secara historikal, permintaan terhadap ruang meeting dan kamar hotel, juga banyak yang berasal dari lembaga-lembaga pemerintah atau government-based demand berkisar 30-40%. Oleh karena itu, dengan berpindahnya pusat pemerintahan ke IKN, akan berpengaruh pada bisnis perhotelan,\" demikian mengutip laporan tersebut.\n",
      "\n",
      "Sektor perhotelan akan mengalami perlambatan pada awal tahun ini, dengan periode yang lebih tenang untuk permintaan domestik yang disebabkan oleh berkurangnya aktivitas MICE dan staycation akibat adanya Pemilihan Umum (Pemilu) 2024. Ditambah lagi ada momen Puasa dan Lebaran 2024, yang berdampak pada rendahnya tingkat okupansi di kuartal berjalan.\n",
      "\n",
      "Rata-rata Average Daily Rate (ADR) mengalami penurunan sebesar 3,7% dibandingkan triwulan sebelumnya. Penurunan ini disebabkan oleh penurunan permintaan pada kuartal I tahun 2024. Setelah kenaikan tersebut, ADR keseluruhan tercatat sebesar Rp1.494.645.\n",
      "\n",
      "Angka ini masih sedikit lebih tinggi secara tahunan yang menunjukkan. Sebagai catatan, peningkatan pada biaya operasional juga memegang peranan dalam peningkatan ADR.\n",
      "\n",
      "\"Seluruh segmen mengalami penurunan, dengan kelas Bintang 3 mengalami penurunan paling besar, yaitu sebesar 17,4% secara kuartalan. Hasilnya, Tarif Average Daily Rate (ADR) hotel Bintang 3 tercatat sebesar Rp 448.598 per kamar per malam. Sedangkan hotel Bintang 4 dan Bintang 5 mengalami penurunan sebesar 8,8% dan 2,7% secara kuartalan, masing-masing tercatat sebesar Rp653.782 dan Rp2.389.724,\" tulis Leads Property.\n"
     ]
    }
   ],
   "source": [
    "article = Article(malay_news[4]['url'])\n",
    "article.download()\n",
    "article.parse()\n",
    "article_text = article.text\n",
    "print(article.text)"
   ]
  },
  {
   "cell_type": "code",
   "execution_count": 67,
   "metadata": {},
   "outputs": [
    {
     "name": "stdout",
     "output_type": "stream",
     "text": [
      "Input text language detected as \"id\"\n",
      "TRANSLATION : {'lanuage': 'id', 'translation': ['In addition to this, the total supply of the hotel rooms as the top 3 star in Jakarta is recorded at 56.180 units. by this condition decline decline decline decline decline decline decline decline decline decline decline decline decline decline decline decline decline decline decline decline decline decline decline decline decline decline decline decline decline decline decline decline decline decline decline decline decline decline decline decline decline decline decline decline decline decline decline decline decline decline decline decline decline decline decline decline decline decline decline decline decline decline decline decline decline decline decline decline decline decline decline decline decline decline decline decline decline decline decline decline decline decline decline decl']}\n"
     ]
    }
   ],
   "source": [
    "lang = translator.detect_language(article_text)\n",
    "print(f'Input text language detected as \"{lang}\"')\n",
    "translated_text = translator.translate(article_text, out_lang='en')\n",
    "print(f'TRANSLATION : {translated_text}')"
   ]
  },
  {
   "cell_type": "code",
   "execution_count": 11,
   "metadata": {},
   "outputs": [
    {
     "name": "stdout",
     "output_type": "stream",
     "text": [
      "Requirement already satisfied: lxml[html_clean] in c:\\users\\jws10y\\appdata\\local\\anaconda3\\envs\\language-transformer\\lib\\site-packages (5.2.2)\n",
      "Collecting lxml-html-clean (from lxml[html_clean])\n",
      "  Using cached lxml_html_clean-0.1.1-py3-none-any.whl.metadata (1.5 kB)\n",
      "Using cached lxml_html_clean-0.1.1-py3-none-any.whl (11 kB)\n",
      "Installing collected packages: lxml-html-clean\n",
      "Successfully installed lxml-html-clean-0.1.1\n"
     ]
    }
   ],
   "source": [
    "! pip3 install lxml[html_clean]"
   ]
  },
  {
   "cell_type": "code",
   "execution_count": null,
   "metadata": {},
   "outputs": [],
   "source": []
  }
 ],
 "metadata": {
  "kernelspec": {
   "display_name": "language-transformer",
   "language": "python",
   "name": "python3"
  },
  "language_info": {
   "codemirror_mode": {
    "name": "ipython",
    "version": 3
   },
   "file_extension": ".py",
   "mimetype": "text/x-python",
   "name": "python",
   "nbconvert_exporter": "python",
   "pygments_lexer": "ipython3",
   "version": "3.10.13"
  }
 },
 "nbformat": 4,
 "nbformat_minor": 2
}
