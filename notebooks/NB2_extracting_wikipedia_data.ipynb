{
 "cells": [
  {
   "cell_type": "markdown",
   "metadata": {},
   "source": [
    "# Exploring Wikipedia as a dataset for tar/inc tagging model\n",
    "This notebook walks through the methods used to build a dataste of wikipedia pages to train our relational tagging model."
   ]
  },
  {
   "cell_type": "code",
<<<<<<< HEAD
   "execution_count": 2,
=======
   "execution_count": 113,
>>>>>>> a77f96d0820c52c0cbe32d1d300a3d607231739f
   "metadata": {},
   "outputs": [],
   "source": [
    "# standard library imports\n",
    "import sys\n",
    "import re\n",
    "sys.path.append('../')\n",
    "# third party imports\n",
    "import wikipedia\n",
    "from tqdm import tqdm\n",
    "from shapely.geometry import Point, shape\n",
    "from geopy.distance import distance\n",
    "import pandas as pd\n",
    "# local imports\n",
    "from BERT_geoparser.gazetteer import Gazetteer\n",
    "from BERT_geoparser.tokenizer import Tokenizer\n",
    "from BERT_geoparser.model import BertModel\n",
    "from BERT_geoparser.data import Data"
   ]
  },
  {
   "cell_type": "markdown",
   "metadata": {},
   "source": [
    "## 2 Building a dataset of wikipedia locations\n",
    "Now we have a trained NER-tagging model we can move on to buildng a new dataset to tage. To do this, we will randomly sample locations from a gazetteer of world cities, and use the wikipedia api to access the corresponding wikipedia page. We will then randomly sample sentences from that page an split them into tokens to input into the model.\n",
    "\n",
    "# 2.1 Building a list of locations to search for\n",
    "We have used work by Hertford et al (Hertford, 2023) to limit our search to countries which have relatively high OSM completeness. These countries are stored in the parameter `accepted_countries`. We then use the GeoNames datasbase to search for all cities with a population greater than 1000 within those countries. This dataset requires a little cleaning before use."
   ]
  },
  {
   "cell_type": "code",
<<<<<<< HEAD
   "execution_count": 71,
=======
   "execution_count": 114,
>>>>>>> a77f96d0820c52c0cbe32d1d300a3d607231739f
   "metadata": {},
   "outputs": [
    {
     "data": {
      "text/html": [
       "<div>\n",
       "<style scoped>\n",
       "    .dataframe tbody tr th:only-of-type {\n",
       "        vertical-align: middle;\n",
       "    }\n",
       "\n",
       "    .dataframe tbody tr th {\n",
       "        vertical-align: top;\n",
       "    }\n",
       "\n",
       "    .dataframe thead th {\n",
       "        text-align: right;\n",
       "    }\n",
       "</style>\n",
       "<table border=\"1\" class=\"dataframe\">\n",
       "  <thead>\n",
       "    <tr style=\"text-align: right;\">\n",
       "      <th></th>\n",
       "      <th>Geoname ID</th>\n",
       "      <th>Name</th>\n",
       "      <th>ASCII Name</th>\n",
       "      <th>Alternate Names</th>\n",
       "      <th>Feature Class</th>\n",
       "      <th>Feature Code</th>\n",
       "      <th>Country Code</th>\n",
       "      <th>Country name EN</th>\n",
       "      <th>Country Code 2</th>\n",
       "      <th>Admin1 Code</th>\n",
       "      <th>Admin2 Code</th>\n",
       "      <th>Admin3 Code</th>\n",
       "      <th>Admin4 Code</th>\n",
       "      <th>Population</th>\n",
       "      <th>Elevation</th>\n",
       "      <th>DIgital Elevation Model</th>\n",
       "      <th>Timezone</th>\n",
       "      <th>Modification date</th>\n",
       "      <th>LABEL EN</th>\n",
       "      <th>Coordinates</th>\n",
       "    </tr>\n",
       "  </thead>\n",
       "  <tbody>\n",
       "    <tr>\n",
       "      <th>142027</th>\n",
       "      <td>1694792</td>\n",
       "      <td>Paraiso</td>\n",
       "      <td>Paraiso</td>\n",
       "      <td>Paraiso</td>\n",
       "      <td>P</td>\n",
       "      <td>PPL</td>\n",
       "      <td>PH</td>\n",
       "      <td>Philippines</td>\n",
       "      <td>NaN</td>\n",
       "      <td>12</td>\n",
       "      <td>70</td>\n",
       "      <td>126306000</td>\n",
       "      <td>NaN</td>\n",
       "      <td>4153</td>\n",
       "      <td>NaN</td>\n",
       "      <td>90</td>\n",
       "      <td>Asia/Manila</td>\n",
       "      <td>2018-02-06</td>\n",
       "      <td>Philippines</td>\n",
       "      <td>6.47606, 124.80954</td>\n",
       "    </tr>\n",
       "    <tr>\n",
       "      <th>142028</th>\n",
       "      <td>1694812</td>\n",
       "      <td>Paracale</td>\n",
       "      <td>Paracale</td>\n",
       "      <td>Paracale</td>\n",
       "      <td>P</td>\n",
       "      <td>PPLA3</td>\n",
       "      <td>PH</td>\n",
       "      <td>Philippines</td>\n",
       "      <td>NaN</td>\n",
       "      <td>05</td>\n",
       "      <td>15</td>\n",
       "      <td>051608000</td>\n",
       "      <td>NaN</td>\n",
       "      <td>8290</td>\n",
       "      <td>NaN</td>\n",
       "      <td>5</td>\n",
       "      <td>Asia/Manila</td>\n",
       "      <td>2017-12-13</td>\n",
       "      <td>Philippines</td>\n",
       "      <td>14.2804, 122.7881</td>\n",
       "    </tr>\n",
       "    <tr>\n",
       "      <th>142029</th>\n",
       "      <td>1695427</td>\n",
       "      <td>Pangal Sur</td>\n",
       "      <td>Pangal Sur</td>\n",
       "      <td>Pangal,Pangal Sur</td>\n",
       "      <td>P</td>\n",
       "      <td>PPL</td>\n",
       "      <td>PH</td>\n",
       "      <td>Philippines</td>\n",
       "      <td>NaN</td>\n",
       "      <td>02</td>\n",
       "      <td>31</td>\n",
       "      <td>023112000</td>\n",
       "      <td>NaN</td>\n",
       "      <td>2710</td>\n",
       "      <td>NaN</td>\n",
       "      <td>93</td>\n",
       "      <td>Asia/Manila</td>\n",
       "      <td>2017-12-13</td>\n",
       "      <td>Philippines</td>\n",
       "      <td>16.60036, 121.66979</td>\n",
       "    </tr>\n",
       "    <tr>\n",
       "      <th>142030</th>\n",
       "      <td>1695804</td>\n",
       "      <td>Panabo</td>\n",
       "      <td>Panabo</td>\n",
       "      <td>Kota Panabo,Panabo,Panabo City,Panabo Lakanbalen</td>\n",
       "      <td>P</td>\n",
       "      <td>PPL</td>\n",
       "      <td>PH</td>\n",
       "      <td>Philippines</td>\n",
       "      <td>NaN</td>\n",
       "      <td>11</td>\n",
       "      <td>I7</td>\n",
       "      <td>112315000</td>\n",
       "      <td>NaN</td>\n",
       "      <td>84749</td>\n",
       "      <td>NaN</td>\n",
       "      <td>4</td>\n",
       "      <td>Asia/Manila</td>\n",
       "      <td>2017-12-13</td>\n",
       "      <td>Philippines</td>\n",
       "      <td>7.30806, 125.68417</td>\n",
       "    </tr>\n",
       "    <tr>\n",
       "      <th>142031</th>\n",
       "      <td>1695994</td>\n",
       "      <td>Palsong</td>\n",
       "      <td>Palsong</td>\n",
       "      <td>Palsong</td>\n",
       "      <td>P</td>\n",
       "      <td>PPL</td>\n",
       "      <td>PH</td>\n",
       "      <td>Philippines</td>\n",
       "      <td>NaN</td>\n",
       "      <td>05</td>\n",
       "      <td>16</td>\n",
       "      <td>051706000</td>\n",
       "      <td>NaN</td>\n",
       "      <td>4566</td>\n",
       "      <td>NaN</td>\n",
       "      <td>18</td>\n",
       "      <td>Asia/Manila</td>\n",
       "      <td>2017-12-13</td>\n",
       "      <td>Philippines</td>\n",
       "      <td>13.4248, 123.2963</td>\n",
       "    </tr>\n",
       "  </tbody>\n",
       "</table>\n",
       "</div>"
      ],
      "text/plain": [
       "        Geoname ID        Name  ASCII Name  \\\n",
       "142027     1694792     Paraiso     Paraiso   \n",
       "142028     1694812    Paracale    Paracale   \n",
       "142029     1695427  Pangal Sur  Pangal Sur   \n",
       "142030     1695804      Panabo      Panabo   \n",
       "142031     1695994     Palsong     Palsong   \n",
       "\n",
       "                                         Alternate Names Feature Class  \\\n",
       "142027                                           Paraiso             P   \n",
       "142028                                          Paracale             P   \n",
       "142029                                 Pangal,Pangal Sur             P   \n",
       "142030  Kota Panabo,Panabo,Panabo City,Panabo Lakanbalen             P   \n",
       "142031                                           Palsong             P   \n",
       "\n",
       "       Feature Code Country Code Country name EN Country Code 2 Admin1 Code  \\\n",
       "142027          PPL           PH     Philippines            NaN          12   \n",
       "142028        PPLA3           PH     Philippines            NaN          05   \n",
       "142029          PPL           PH     Philippines            NaN          02   \n",
       "142030          PPL           PH     Philippines            NaN          11   \n",
       "142031          PPL           PH     Philippines            NaN          05   \n",
       "\n",
       "       Admin2 Code Admin3 Code Admin4 Code  Population  Elevation  \\\n",
       "142027          70   126306000         NaN        4153        NaN   \n",
       "142028          15   051608000         NaN        8290        NaN   \n",
       "142029          31   023112000         NaN        2710        NaN   \n",
       "142030          I7   112315000         NaN       84749        NaN   \n",
       "142031          16   051706000         NaN        4566        NaN   \n",
       "\n",
       "        DIgital Elevation Model     Timezone Modification date     LABEL EN  \\\n",
       "142027                       90  Asia/Manila        2018-02-06  Philippines   \n",
       "142028                        5  Asia/Manila        2017-12-13  Philippines   \n",
       "142029                       93  Asia/Manila        2017-12-13  Philippines   \n",
       "142030                        4  Asia/Manila        2017-12-13  Philippines   \n",
       "142031                       18  Asia/Manila        2017-12-13  Philippines   \n",
       "\n",
       "                Coordinates  \n",
       "142027   6.47606, 124.80954  \n",
       "142028    14.2804, 122.7881  \n",
       "142029  16.60036, 121.66979  \n",
       "142030   7.30806, 125.68417  \n",
       "142031    13.4248, 123.2963  "
      ]
     },
<<<<<<< HEAD
     "execution_count": 71,
=======
     "execution_count": 114,
>>>>>>> a77f96d0820c52c0cbe32d1d300a3d607231739f
     "metadata": {},
     "output_type": "execute_result"
    }
   ],
   "source": [
    "world_cities = pd.read_csv('../data/NB2/geonames_world_cities.csv', delimiter=';')\n",
    "world_cities.tail()"
   ]
  },
  {
   "cell_type": "code",
<<<<<<< HEAD
   "execution_count": 9,
=======
   "execution_count": 115,
>>>>>>> a77f96d0820c52c0cbe32d1d300a3d607231739f
   "metadata": {},
   "outputs": [],
   "source": [
    "# clean up the coordinates column\n",
    "get_lat = lambda coords : float(coords.split(', ')[0])\n",
    "get_lng = lambda coords : float(coords.split(', ')[1])\n",
    "\n",
    "world_cities['lat'] = world_cities.Coordinates.apply(get_lat)\n",
    "world_cities['lng'] = world_cities.Coordinates.apply(get_lng)\n",
    "world_cities = world_cities.rename(columns={'Name':'city', 'ASCII Name':'city_ascii', 'Country name EN':'country', 'Population':'population'})"
   ]
  },
  {
   "cell_type": "code",
<<<<<<< HEAD
   "execution_count": 10,
=======
   "execution_count": 116,
>>>>>>> a77f96d0820c52c0cbe32d1d300a3d607231739f
   "metadata": {},
   "outputs": [],
   "source": [
    "countries = world_cities.country.unique()"
   ]
  },
  {
   "cell_type": "code",
<<<<<<< HEAD
   "execution_count": 11,
=======
   "execution_count": 5,
>>>>>>> a77f96d0820c52c0cbe32d1d300a3d607231739f
   "metadata": {},
   "outputs": [],
   "source": [
    "accepted_countries = ['United States', 'Canada', 'Portugal', 'Spain', 'France', 'Ireland', 'United Kingdom', 'Norway', 'Sweden', 'Denmark', 'Finland',\n",
    "                      'Belgium', 'Netherlands', 'Switzerland', 'Austria', 'Germany', 'Italy', 'Czech Republic', 'Slovakia', 'Slovenia', 'Hungary', 'Bosnia and Herzegovina', 'Croatia',\n",
    "                      'Slovakia', 'Poland', 'Lithuania', 'Latvia', 'Estonia', 'Iceland']"
   ]
  },
  {
   "cell_type": "code",
<<<<<<< HEAD
   "execution_count": 12,
=======
   "execution_count": 6,
>>>>>>> a77f96d0820c52c0cbe32d1d300a3d607231739f
   "metadata": {},
   "outputs": [],
   "source": [
    "# check all the countries are in the world_cities list\n",
    "for country in accepted_countries:\n",
    "    if country not in world_cities.country.unique():\n",
    "        print(country)"
   ]
  },
  {
   "cell_type": "code",
<<<<<<< HEAD
   "execution_count": 14,
=======
   "execution_count": 117,
>>>>>>> a77f96d0820c52c0cbe32d1d300a3d607231739f
   "metadata": {},
   "outputs": [
    {
     "name": "stdout",
     "output_type": "stream",
     "text": [
      "Total locations in dataset: 72757\n"
     ]
    }
   ],
   "source": [
    "# cut the list of cities down to just those in our list of accepted countries\n",
    "world_cities = world_cities[world_cities.country.isin(accepted_countries)]\n",
    "print(f'Total locations in dataset: {len(world_cities)}')"
   ]
  },
  {
<<<<<<< HEAD
=======
   "cell_type": "code",
   "execution_count": 120,
   "metadata": {},
   "outputs": [],
   "source": [
    "world_cities = world_cities[world_cities.population > 10000]"
   ]
  },
  {
>>>>>>> a77f96d0820c52c0cbe32d1d300a3d607231739f
   "cell_type": "markdown",
   "metadata": {},
   "source": [
    "## 2.1 Checking that locations have associated OSM polygons\n",
    "Our method for relational tagging is reliant on the target locations being associated with a spatial polygon in OSM.. We will use the `Gazetteer` class to search the Nominatim API for each locaiton, and check whether a polygon object is returned. This can take some time, depnding on the speed of your internet connect. It took about 90 mins to complete for me. "
   ]
  },
  {
   "cell_type": "code",
<<<<<<< HEAD
   "execution_count": 208,
=======
   "execution_count": 122,
>>>>>>> a77f96d0820c52c0cbe32d1d300a3d607231739f
   "metadata": {},
   "outputs": [
    {
     "name": "stderr",
     "output_type": "stream",
     "text": [
<<<<<<< HEAD
      "100%|██████████| 10851/10851 [1:30:44<00:00,  1.99it/s]\n"
=======
      "100%|██████████| 13195/13195 [1:51:05<00:00,  1.98it/s] "
     ]
    },
    {
     "name": "stdout",
     "output_type": "stream",
     "text": [
      "11314\n",
      "     Geoname ID        city   city_ascii  \\\n",
      "108     2663536       Växjö      Vaexjoe   \n",
      "109     2665171  Vänersborg  Vaenersborg   \n",
      "114     2673730   Stockholm    Stockholm   \n",
      "117     2684653   Oxelösund   Oxeloesund   \n",
      "120     2696503       Lerum        Lerum   \n",
      "\n",
      "                                       Alternate Names Feature Class  \\\n",
      "108  VXO,Vaexjoe,Vaxjo,Vekse,Veksh'o,Vekshe,Veksheh...             P   \n",
      "109  Venersborg,Venersburgum,Venershbori,Venesborga...             P   \n",
      "114  Estocolm,Estocolme,Estocolmo,Estocolmu,Estocòl...             P   \n",
      "117  Oksel'osund,Okselesund,Okseljosund,Oxeloesund,...             P   \n",
      "120                                                NaN             P   \n",
      "\n",
      "    Feature Code Country Code country Country Code 2 Admin1 Code  ...  \\\n",
      "108         PPLA           SE  Sweden            NaN          12  ...   \n",
      "109        PPLA2           SE  Sweden            NaN          28  ...   \n",
      "114         PPLC           SE  Sweden            NaN          26  ...   \n",
      "117        PPLA2           SE  Sweden            NaN          18  ...   \n",
      "120        PPLA2           SE  Sweden            NaN          28  ...   \n",
      "\n",
      "    Admin4 Code population Elevation  DIgital Elevation Model  \\\n",
      "108         NaN      65383       NaN                      169   \n",
      "109         NaN      23119       NaN                       54   \n",
      "114         NaN    1515017       NaN                       17   \n",
      "117         NaN      11157       NaN                       11   \n",
      "120         NaN      26913       NaN                       20   \n",
      "\n",
      "             Timezone  Modification date LABEL EN         Coordinates  \\\n",
      "108  Europe/Stockholm         2019-09-05   Sweden  56.87767, 14.80906   \n",
      "109  Europe/Stockholm         2017-03-18   Sweden   58.38075, 12.3234   \n",
      "114  Europe/Stockholm         2022-03-09   Sweden  59.32938, 18.06871   \n",
      "117  Europe/Stockholm         2019-09-05   Sweden  58.67057, 17.10152   \n",
      "120  Europe/Stockholm         2017-03-18   Sweden  57.77051, 12.26904   \n",
      "\n",
      "          lat       lng  \n",
      "108  56.87767  14.80906  \n",
      "109  58.38075  12.32340  \n",
      "114  59.32938  18.06871  \n",
      "117  58.67057  17.10152  \n",
      "120  57.77051  12.26904  \n",
      "\n",
      "[5 rows x 22 columns]\n"
     ]
    },
    {
     "name": "stderr",
     "output_type": "stream",
     "text": [
      "\n"
>>>>>>> a77f96d0820c52c0cbe32d1d300a3d607231739f
     ]
    }
   ],
   "source": [
    "# We're going to use the gazetteer to limit these to cities with OSM polygons\n",
    "gazetteer = Gazetteer(polygon=True, addressdetails=False)\n",
    "accepted_indices = []\n",
    "for i, city in tqdm(world_cities.iterrows(), total=len(world_cities)):\n",
    "    name = city.city\n",
    "    coords = (float(city.lat), float(city.lng))\n",
    "    country = city.country\n",
    "    try:\n",
    "        matches = gazetteer.query(name).json()\n",
    "    except TypeError:\n",
    "        continue\n",
    "    for match in matches:\n",
    "        if 'geojson' not in match.keys():\n",
    "            continue\n",
    "        if 'Polygon' not in match['geojson']['type']:\n",
    "            continue\n",
<<<<<<< HEAD
    "        if Point(coords) in shape(match['geojson']):\n",
=======
    "        if Point(coords[::-1]).within(shape(match['geojson'])):\n",
>>>>>>> a77f96d0820c52c0cbe32d1d300a3d607231739f
    "            accepted_indices.append(i)\n",
    "            break\n",
    "# cut or cdity list down to just the ones with polygons, remove duplicates.\n",
    "poly_cities = world_cities.loc[accepted_indices]\n",
    "deduplicated = poly_cities.drop_duplicates()\n",
    "print(len(deduplicated))   \n",
    "print(poly_cities.head())         "
   ]
  },
  {
   "cell_type": "code",
<<<<<<< HEAD
   "execution_count": 216,
=======
   "execution_count": 124,
>>>>>>> a77f96d0820c52c0cbe32d1d300a3d607231739f
   "metadata": {},
   "outputs": [],
   "source": [
    "# save the dataset\n",
    "deduplicated.to_csv('../data/NB2/world_cities.csv', index=False)"
   ]
  },
  {
   "cell_type": "markdown",
   "metadata": {},
   "source": [
    "## 2.3 Searching wikipedia for these locations\n",
    "We now need to search the Wikipeida API for locations matching these. We will do various check to ensure that the identified page matches the expected location, including checking for coordinates, checking for key words, and checking for disambiguation pages.\n",
    "\n",
    "First, though, let's take a look at the data provided by the Wikipedia wpi."
   ]
  },
  {
   "cell_type": "code",
<<<<<<< HEAD
   "execution_count": 15,
=======
   "execution_count": 10,
>>>>>>> a77f96d0820c52c0cbe32d1d300a3d607231739f
   "metadata": {},
   "outputs": [],
   "source": [
    "# lets take a quick look at the wikipedia api\n",
    "glasgow = wikipedia.WikipediaPage(title='Glasgow')"
   ]
  },
  {
   "cell_type": "code",
<<<<<<< HEAD
   "execution_count": 16,
=======
   "execution_count": 11,
>>>>>>> a77f96d0820c52c0cbe32d1d300a3d607231739f
   "metadata": {},
   "outputs": [
    {
     "data": {
      "text/plain": [
<<<<<<< HEAD
       "'Glasgow (UK:  GLA(H)Z-goh, GLA(H)SS-; Scots: Glesca [ˈɡleskə] or Glesga [ˈɡlezɡə]; Scottish Gaelic: Glaschu [ˈkl̪ˠas̪əxu]) is the most populous city in Scotland, and is the third-most populous city in the United Kingdom, as well as being the 27th largest city by population in Europe. In 2022, it had an estimated population as a defined locality of \\n632,350 and anchored an urban settlement of \\n1,028,220. Formed as a county of itself in 1893, the city had previously been in the historic county of Lanarkshire (or Clydesdale) and has also grown to include settlements that were once part of Renfrewshire and Dunbartonshire (or the Lennox). It now forms the Glasgow City Council area, one of the 32 council areas of Scotland, and is administered by Glasgow City Council. \\nGlasgow has the largest economy in Scotland and the third-highest GDP per capita of any city in the UK. Glasgow\\'s major cultural institutions enjoy international reputations including The Royal Conservatoire of Scotland, Burrell Collection, Kelvingrove Art Gallery and Museum, Royal Scottish National Orchestra, BBC Scottish Symphony Orchestra, Scottish Ballet and Scottish Opera. The city was the European Capital of Culture in 1990 and is notable for its architecture, culture, media, music scene, sports clubs and transport connections. It is the fifth-most visited city in the United Kingdom. The city hosted the 2021 United Nations Climate Change Conference (COP26) at its main events venue, the SEC Centre. Glasgow hosted the 2014 Commonwealth Games and the first European Championships in 2018, and was one of the host cities for UEFA Euro 2020. The city is also well known in the sporting world for football, particularly for the Old Firm rivalry.\\nGlasgow grew from a small rural settlement close to Glasgow Cathedral and descending to the River Clyde to become the largest seaport in Scotland, and tenth largest by tonnage in Britain. Expanding from the medieval bishopric and episcopal burgh (subsequently royal burgh), and the later establishment of the University of Glasgow in the 15th century, it became a major centre of the Scottish Enlightenment in the 18th century. From the 18th century onwards, the city also grew as one of Britain\\'s main hubs of oceanic trade with North America and the West Indies; soon followed by the Orient, India, and China. With the onset of the Industrial Revolution, the population and economy of Glasgow and the surrounding region expanded rapidly to become one of the world\\'s pre-eminent centres of chemicals, textiles and engineering; most notably in the shipbuilding and marine engineering industry, which produced many innovative and famous vessels. Glasgow was the \"Second City of the British Empire\" for much of the Victorian and Edwardian eras.In the late 19th and early 20th centuries, Glasgow\\'s population grew rapidly, reaching a peak of 1,127,825 people in 1938 (with a higher density and within a smaller territory than in subsequent decades). The population was greatly reduced following comprehensive urban renewal projects in the 1960s which resulted in large-scale relocation of people to designated new towns, such as Cumbernauld, Livingston, East Kilbride and peripheral suburbs, followed by successive boundary changes. Over 1,000,000 people live in the Greater Glasgow contiguous urban area, while the wider Glasgow City Region is home to over 1,800,000 people, equating to around 33% of Scotland\\'s population. The city has one of the highest densities of any locality in Scotland at 4,023/km2.'"
      ]
     },
     "execution_count": 16,
=======
       "'Glasgow (UK:  GLA(H)Z-goh, GLA(H)SS-; Scots: Glesca [ˈɡleskə] or Glesga [ˈɡlezɡə]; Scottish Gaelic: Glaschu [ˈkl̪ˠas̪əxu]) is the most populous city in Scotland, the third-most populous city in the United Kingdom, and the 27th-most populous city in Europe. In 2022, it had an estimated population as a defined locality of\\n632,350 and anchored an urban settlement of\\n1,028,220. Glasgow became a county in 1893, the city having previously been in the historic county of Lanarkshire, and later growing to also include settlements that were once part of Renfrewshire and Dunbartonshire. It now forms the Glasgow City Council area, one of the 32 council areas of Scotland, and is administered by Glasgow City Council.\\nThe city is a member of the Core Cities Group, having the largest economy in Scotland and the third-highest GDP per capita of any city in the UK. Glasgow\\'s major cultural institutions enjoy international reputations including The Royal Conservatoire of Scotland, Burrell Collection, Kelvingrove Art Gallery and Museum, Royal Scottish National Orchestra, BBC Scottish Symphony Orchestra, Scottish Ballet and Scottish Opera. The city was the European Capital of Culture in 1990 and is notable for its architecture, culture, media, music scene, sports clubs and transport connections. It is the fifth-most visited city in the United Kingdom. The city hosted the 2021 United Nations Climate Change Conference (COP26) at its main events venue, the SEC Centre. Glasgow hosted the 2014 Commonwealth Games and the first European Championships in 2018, was one of the host cities for UEFA Euro 2020, and will be a host city of the UEFA Euro 2028. The city is also well known in the sporting world for football, particularly for the Old Firm rivalry.\\nGlasgow grew from a small rural settlement close to Glasgow Cathedral and descending to the River Clyde to become the largest seaport in Scotland, and tenth largest by tonnage in Britain. Expanding from the medieval bishopric and episcopal burgh (subsequently royal burgh), and the later establishment of the University of Glasgow in the 15th century, it became a major centre of the Scottish Enlightenment in the 18th century. From the 18th century onwards, the city also grew as one of Britain\\'s main hubs of oceanic trade with North America and the West Indies; soon followed by the Orient, India, and China. With the onset of the Industrial Revolution, the population and economy of Glasgow and the surrounding region expanded rapidly to become one of the world\\'s pre-eminent centres of chemicals, textiles and engineering; most notably in the shipbuilding and marine engineering industry, which produced many innovative and famous vessels. Glasgow was the \"Second City of the British Empire\" for much of the Victorian and Edwardian eras.In the late 19th and early 20th centuries, Glasgow\\'s population grew rapidly, reaching a peak of 1,127,825 people in 1938 (with a higher density and within a smaller territory than in subsequent decades). The population was greatly reduced following comprehensive urban renewal projects in the 1960s which resulted in large-scale relocation of people to designated new towns, such as Cumbernauld, Livingston, East Kilbride and peripheral suburbs, followed by successive boundary changes. Over 1,000,000 people live in the Greater Glasgow contiguous urban area, while the wider Glasgow City Region is home to over 1,800,000 people, equating to around 33% of Scotland\\'s population. The city has one of the highest densities of any locality in Scotland at 4,023/km2.\\n\\n'"
      ]
     },
     "execution_count": 11,
>>>>>>> a77f96d0820c52c0cbe32d1d300a3d607231739f
     "metadata": {},
     "output_type": "execute_result"
    }
   ],
   "source": [
    "glasgow.summary"
   ]
  },
  {
   "cell_type": "code",
<<<<<<< HEAD
   "execution_count": 17,
=======
   "execution_count": 12,
>>>>>>> a77f96d0820c52c0cbe32d1d300a3d607231739f
   "metadata": {},
   "outputs": [],
   "source": [
    "# we'll need a function to remove anything inside brackets to avoid the pronounciation gunk\n",
    "def remove_parentheses(input_string):\n",
    "    result = \"\"\n",
    "    stack = []\n",
    "    for char in input_string:\n",
    "        if char in ['(', '[']:\n",
    "            stack.append(char)\n",
    "        elif char in [')', ']']:\n",
    "            if stack:\n",
    "                stack.pop()\n",
    "            else:\n",
    "                result += char\n",
    "        elif not stack:\n",
    "            result += char\n",
    "    \n",
    "    return result.replace('  ', ' ')"
   ]
  },
  {
   "cell_type": "code",
<<<<<<< HEAD
   "execution_count": 18,
=======
   "execution_count": 13,
>>>>>>> a77f96d0820c52c0cbe32d1d300a3d607231739f
   "metadata": {},
   "outputs": [
    {
     "name": "stdout",
     "output_type": "stream",
     "text": [
<<<<<<< HEAD
      "Glasgow is the most populous city in Scotland, and is the third-most populous city in the United Kingdom, as well as being the 27th largest city by population in Europe. In 2022, it had an estimated population as a defined locality of \n",
      "632,350 and anchored an urban settlement of \n",
      "1,028,220. Formed as a county of itself in 1893, the city had previously been in the historic county of Lanarkshire and has also grown to include settlements that were once part of Renfrewshire and Dunbartonshire . It now forms the Glasgow City Council area, one of the 32 council areas of Scotland, and is administered by Glasgow City Council. \n",
      "Glasgow has the largest economy in Scotland and the third-highest GDP per capita of any city in the UK. Glasgow's major cultural institutions enjoy international reputations including The Royal Conservatoire of Scotland, Burrell Collection, Kelvingrove Art Gallery and Museum, Royal Scottish National Orchestra, BBC Scottish Symphony Orchestra, Scottish Ballet and Scottish Opera. The city was the European Capital of Culture in 1990 and is notable for its architecture, culture, media, music scene, sports clubs and transport connections. It is the fifth-most visited city in the United Kingdom. The city hosted the 2021 United Nations Climate Change Conference at its main events venue, the SEC Centre. Glasgow hosted the 2014 Commonwealth Games and the first European Championships in 2018, and was one of the host cities for UEFA Euro 2020. The city is also well known in the sporting world for football, particularly for the Old Firm rivalry.\n",
      "Glasgow grew from a small rural settlement close to Glasgow Cathedral and descending to the River Clyde to become the largest seaport in Scotland, and tenth largest by tonnage in Britain. Expanding from the medieval bishopric and episcopal burgh , and the later establishment of the University of Glasgow in the 15th century, it became a major centre of the Scottish Enlightenment in the 18th century. From the 18th century onwards, the city also grew as one of Britain's main hubs of oceanic trade with North America and the West Indies; soon followed by the Orient, India, and China. With the onset of the Industrial Revolution, the population and economy of Glasgow and the surrounding region expanded rapidly to become one of the world's pre-eminent centres of chemicals, textiles and engineering; most notably in the shipbuilding and marine engineering industry, which produced many innovative and famous vessels. Glasgow was the \"Second City of the British Empire\" for much of the Victorian and Edwardian eras.In the late 19th and early 20th centuries, Glasgow's population grew rapidly, reaching a peak of 1,127,825 people in 1938 . The population was greatly reduced following comprehensive urban renewal projects in the 1960s which resulted in large-scale relocation of people to designated new towns, such as Cumbernauld, Livingston, East Kilbride and peripheral suburbs, followed by successive boundary changes. Over 1,000,000 people live in the Greater Glasgow contiguous urban area, while the wider Glasgow City Region is home to over 1,800,000 people, equating to around 33% of Scotland's population. The city has one of the highest densities of any locality in Scotland at 4,023/km2.\n"
=======
      "Glasgow is the most populous city in Scotland, the third-most populous city in the United Kingdom, and the 27th-most populous city in Europe. In 2022, it had an estimated population as a defined locality of\n",
      "632,350 and anchored an urban settlement of\n",
      "1,028,220. Glasgow became a county in 1893, the city having previously been in the historic county of Lanarkshire, and later growing to also include settlements that were once part of Renfrewshire and Dunbartonshire. It now forms the Glasgow City Council area, one of the 32 council areas of Scotland, and is administered by Glasgow City Council.\n",
      "The city is a member of the Core Cities Group, having the largest economy in Scotland and the third-highest GDP per capita of any city in the UK. Glasgow's major cultural institutions enjoy international reputations including The Royal Conservatoire of Scotland, Burrell Collection, Kelvingrove Art Gallery and Museum, Royal Scottish National Orchestra, BBC Scottish Symphony Orchestra, Scottish Ballet and Scottish Opera. The city was the European Capital of Culture in 1990 and is notable for its architecture, culture, media, music scene, sports clubs and transport connections. It is the fifth-most visited city in the United Kingdom. The city hosted the 2021 United Nations Climate Change Conference at its main events venue, the SEC Centre. Glasgow hosted the 2014 Commonwealth Games and the first European Championships in 2018, was one of the host cities for UEFA Euro 2020, and will be a host city of the UEFA Euro 2028. The city is also well known in the sporting world for football, particularly for the Old Firm rivalry.\n",
      "Glasgow grew from a small rural settlement close to Glasgow Cathedral and descending to the River Clyde to become the largest seaport in Scotland, and tenth largest by tonnage in Britain. Expanding from the medieval bishopric and episcopal burgh , and the later establishment of the University of Glasgow in the 15th century, it became a major centre of the Scottish Enlightenment in the 18th century. From the 18th century onwards, the city also grew as one of Britain's main hubs of oceanic trade with North America and the West Indies; soon followed by the Orient, India, and China. With the onset of the Industrial Revolution, the population and economy of Glasgow and the surrounding region expanded rapidly to become one of the world's pre-eminent centres of chemicals, textiles and engineering; most notably in the shipbuilding and marine engineering industry, which produced many innovative and famous vessels. Glasgow was the \"Second City of the British Empire\" for much of the Victorian and Edwardian eras.In the late 19th and early 20th centuries, Glasgow's population grew rapidly, reaching a peak of 1,127,825 people in 1938 . The population was greatly reduced following comprehensive urban renewal projects in the 1960s which resulted in large-scale relocation of people to designated new towns, such as Cumbernauld, Livingston, East Kilbride and peripheral suburbs, followed by successive boundary changes. Over 1,000,000 people live in the Greater Glasgow contiguous urban area, while the wider Glasgow City Region is home to over 1,800,000 people, equating to around 33% of Scotland's population. The city has one of the highest densities of any locality in Scotland at 4,023/km2.\n",
      "\n",
      "\n"
>>>>>>> a77f96d0820c52c0cbe32d1d300a3d607231739f
     ]
    }
   ],
   "source": [
    "out = remove_parentheses(glasgow.summary)\n",
    "print(out)"
   ]
  },
  {
   "cell_type": "code",
<<<<<<< HEAD
   "execution_count": 19,
=======
   "execution_count": 14,
>>>>>>> a77f96d0820c52c0cbe32d1d300a3d607231739f
   "metadata": {},
   "outputs": [
    {
     "name": "stderr",
     "output_type": "stream",
     "text": [
<<<<<<< HEAD
      "c:\\Users\\jws10y\\AppData\\Local\\anaconda3\\envs\\tensorflow-gpu\\lib\\site-packages\\wikipedia\\wikipedia.py:389: GuessedAtParserWarning: No parser was explicitly specified, so I'm using the best available HTML parser for this system (\"html.parser\"). This usually isn't a problem, but if you run this code on another system, or in a different virtual environment, it may use a different parser and behave differently.\n",
      "\n",
      "The code that caused this warning is on line 389 of the file c:\\Users\\jws10y\\AppData\\Local\\anaconda3\\envs\\tensorflow-gpu\\lib\\site-packages\\wikipedia\\wikipedia.py. To get rid of this warning, pass the additional argument 'features=\"html.parser\"' to the BeautifulSoup constructor.\n",
=======
      "c:\\Users\\jws10y\\AppData\\Local\\anaconda3\\envs\\tensorflow-gpu\\lib\\site-packages\\wikipedia\\wikipedia.py:389: GuessedAtParserWarning: No parser was explicitly specified, so I'm using the best available HTML parser for this system (\"lxml\"). This usually isn't a problem, but if you run this code on another system, or in a different virtual environment, it may use a different parser and behave differently.\n",
      "\n",
      "The code that caused this warning is on line 389 of the file c:\\Users\\jws10y\\AppData\\Local\\anaconda3\\envs\\tensorflow-gpu\\lib\\site-packages\\wikipedia\\wikipedia.py. To get rid of this warning, pass the additional argument 'features=\"lxml\"' to the BeautifulSoup constructor.\n",
>>>>>>> a77f96d0820c52c0cbe32d1d300a3d607231739f
      "\n",
      "  lis = BeautifulSoup(html).find_all('li')\n"
     ]
    },
    {
     "ename": "DisambiguationError",
     "evalue": "\"tall\" may refer to: \nheight\nhuman height\nTall, Semnan\nRiver Tall\nTall: The American Skyscraper and Louis Sullivan\nMr. Tall\nTall (surname)\nTell (archaeology)\nList of people known as the Tall\nTAL (disambiguation)\nTell (disambiguation)\nAll pages with titles beginning with tall\nAll pages with titles beginning with tallest\nAll pages with titles containing tall",
     "output_type": "error",
     "traceback": [
      "\u001b[1;31m---------------------------------------------------------------------------\u001b[0m",
      "\u001b[1;31mDisambiguationError\u001b[0m                       Traceback (most recent call last)",
<<<<<<< HEAD
      "Cell \u001b[1;32mIn[19], line 2\u001b[0m\n\u001b[0;32m      1\u001b[0m \u001b[38;5;66;03m# and lets look at where disambiguation pages land\u001b[39;00m\n\u001b[1;32m----> 2\u001b[0m hull \u001b[38;5;241m=\u001b[39m \u001b[43mwikipedia\u001b[49m\u001b[38;5;241;43m.\u001b[39;49m\u001b[43mpage\u001b[49m\u001b[43m(\u001b[49m\u001b[38;5;124;43m'\u001b[39;49m\u001b[38;5;124;43mHull\u001b[39;49m\u001b[38;5;124;43m'\u001b[39;49m\u001b[43m)\u001b[49m\n\u001b[0;32m      3\u001b[0m hull\u001b[38;5;241m.\u001b[39mcategories\n",
=======
      "Cell \u001b[1;32mIn[14], line 2\u001b[0m\n\u001b[0;32m      1\u001b[0m \u001b[38;5;66;03m# and lets look at where disambiguation pages land\u001b[39;00m\n\u001b[1;32m----> 2\u001b[0m hull \u001b[38;5;241m=\u001b[39m \u001b[43mwikipedia\u001b[49m\u001b[38;5;241;43m.\u001b[39;49m\u001b[43mpage\u001b[49m\u001b[43m(\u001b[49m\u001b[38;5;124;43m'\u001b[39;49m\u001b[38;5;124;43mHull\u001b[39;49m\u001b[38;5;124;43m'\u001b[39;49m\u001b[43m)\u001b[49m\n\u001b[0;32m      3\u001b[0m hull\u001b[38;5;241m.\u001b[39mcategories\n",
>>>>>>> a77f96d0820c52c0cbe32d1d300a3d607231739f
      "File \u001b[1;32mc:\\Users\\jws10y\\AppData\\Local\\anaconda3\\envs\\tensorflow-gpu\\lib\\site-packages\\wikipedia\\wikipedia.py:276\u001b[0m, in \u001b[0;36mpage\u001b[1;34m(title, pageid, auto_suggest, redirect, preload)\u001b[0m\n\u001b[0;32m    273\u001b[0m     \u001b[38;5;28;01mexcept\u001b[39;00m \u001b[38;5;167;01mIndexError\u001b[39;00m:\n\u001b[0;32m    274\u001b[0m       \u001b[38;5;66;03m# if there is no suggestion or search results, the page doesn't exist\u001b[39;00m\n\u001b[0;32m    275\u001b[0m       \u001b[38;5;28;01mraise\u001b[39;00m PageError(title)\n\u001b[1;32m--> 276\u001b[0m   \u001b[38;5;28;01mreturn\u001b[39;00m \u001b[43mWikipediaPage\u001b[49m\u001b[43m(\u001b[49m\u001b[43mtitle\u001b[49m\u001b[43m,\u001b[49m\u001b[43m \u001b[49m\u001b[43mredirect\u001b[49m\u001b[38;5;241;43m=\u001b[39;49m\u001b[43mredirect\u001b[49m\u001b[43m,\u001b[49m\u001b[43m \u001b[49m\u001b[43mpreload\u001b[49m\u001b[38;5;241;43m=\u001b[39;49m\u001b[43mpreload\u001b[49m\u001b[43m)\u001b[49m\n\u001b[0;32m    277\u001b[0m \u001b[38;5;28;01melif\u001b[39;00m pageid \u001b[38;5;129;01mis\u001b[39;00m \u001b[38;5;129;01mnot\u001b[39;00m \u001b[38;5;28;01mNone\u001b[39;00m:\n\u001b[0;32m    278\u001b[0m   \u001b[38;5;28;01mreturn\u001b[39;00m WikipediaPage(pageid\u001b[38;5;241m=\u001b[39mpageid, preload\u001b[38;5;241m=\u001b[39mpreload)\n",
      "File \u001b[1;32mc:\\Users\\jws10y\\AppData\\Local\\anaconda3\\envs\\tensorflow-gpu\\lib\\site-packages\\wikipedia\\wikipedia.py:299\u001b[0m, in \u001b[0;36mWikipediaPage.__init__\u001b[1;34m(self, title, pageid, redirect, preload, original_title)\u001b[0m\n\u001b[0;32m    296\u001b[0m \u001b[38;5;28;01melse\u001b[39;00m:\n\u001b[0;32m    297\u001b[0m   \u001b[38;5;28;01mraise\u001b[39;00m \u001b[38;5;167;01mValueError\u001b[39;00m(\u001b[38;5;124m\"\u001b[39m\u001b[38;5;124mEither a title or a pageid must be specified\u001b[39m\u001b[38;5;124m\"\u001b[39m)\n\u001b[1;32m--> 299\u001b[0m \u001b[38;5;28;43mself\u001b[39;49m\u001b[38;5;241;43m.\u001b[39;49m\u001b[43m__load\u001b[49m\u001b[43m(\u001b[49m\u001b[43mredirect\u001b[49m\u001b[38;5;241;43m=\u001b[39;49m\u001b[43mredirect\u001b[49m\u001b[43m,\u001b[49m\u001b[43m \u001b[49m\u001b[43mpreload\u001b[49m\u001b[38;5;241;43m=\u001b[39;49m\u001b[43mpreload\u001b[49m\u001b[43m)\u001b[49m\n\u001b[0;32m    301\u001b[0m \u001b[38;5;28;01mif\u001b[39;00m preload:\n\u001b[0;32m    302\u001b[0m   \u001b[38;5;28;01mfor\u001b[39;00m prop \u001b[38;5;129;01min\u001b[39;00m (\u001b[38;5;124m'\u001b[39m\u001b[38;5;124mcontent\u001b[39m\u001b[38;5;124m'\u001b[39m, \u001b[38;5;124m'\u001b[39m\u001b[38;5;124msummary\u001b[39m\u001b[38;5;124m'\u001b[39m, \u001b[38;5;124m'\u001b[39m\u001b[38;5;124mimages\u001b[39m\u001b[38;5;124m'\u001b[39m, \u001b[38;5;124m'\u001b[39m\u001b[38;5;124mreferences\u001b[39m\u001b[38;5;124m'\u001b[39m, \u001b[38;5;124m'\u001b[39m\u001b[38;5;124mlinks\u001b[39m\u001b[38;5;124m'\u001b[39m, \u001b[38;5;124m'\u001b[39m\u001b[38;5;124msections\u001b[39m\u001b[38;5;124m'\u001b[39m):\n",
      "File \u001b[1;32mc:\\Users\\jws10y\\AppData\\Local\\anaconda3\\envs\\tensorflow-gpu\\lib\\site-packages\\wikipedia\\wikipedia.py:393\u001b[0m, in \u001b[0;36mWikipediaPage.__load\u001b[1;34m(self, redirect, preload)\u001b[0m\n\u001b[0;32m    390\u001b[0m   filtered_lis \u001b[38;5;241m=\u001b[39m [li \u001b[38;5;28;01mfor\u001b[39;00m li \u001b[38;5;129;01min\u001b[39;00m lis \u001b[38;5;28;01mif\u001b[39;00m \u001b[38;5;129;01mnot\u001b[39;00m \u001b[38;5;124m'\u001b[39m\u001b[38;5;124mtocsection\u001b[39m\u001b[38;5;124m'\u001b[39m \u001b[38;5;129;01min\u001b[39;00m \u001b[38;5;124m'\u001b[39m\u001b[38;5;124m'\u001b[39m\u001b[38;5;241m.\u001b[39mjoin(li\u001b[38;5;241m.\u001b[39mget(\u001b[38;5;124m'\u001b[39m\u001b[38;5;124mclass\u001b[39m\u001b[38;5;124m'\u001b[39m, []))]\n\u001b[0;32m    391\u001b[0m   may_refer_to \u001b[38;5;241m=\u001b[39m [li\u001b[38;5;241m.\u001b[39ma\u001b[38;5;241m.\u001b[39mget_text() \u001b[38;5;28;01mfor\u001b[39;00m li \u001b[38;5;129;01min\u001b[39;00m filtered_lis \u001b[38;5;28;01mif\u001b[39;00m li\u001b[38;5;241m.\u001b[39ma]\n\u001b[1;32m--> 393\u001b[0m   \u001b[38;5;28;01mraise\u001b[39;00m DisambiguationError(\u001b[38;5;28mgetattr\u001b[39m(\u001b[38;5;28mself\u001b[39m, \u001b[38;5;124m'\u001b[39m\u001b[38;5;124mtitle\u001b[39m\u001b[38;5;124m'\u001b[39m, page[\u001b[38;5;124m'\u001b[39m\u001b[38;5;124mtitle\u001b[39m\u001b[38;5;124m'\u001b[39m]), may_refer_to)\n\u001b[0;32m    395\u001b[0m \u001b[38;5;28;01melse\u001b[39;00m:\n\u001b[0;32m    396\u001b[0m   \u001b[38;5;28mself\u001b[39m\u001b[38;5;241m.\u001b[39mpageid \u001b[38;5;241m=\u001b[39m pageid\n",
      "\u001b[1;31mDisambiguationError\u001b[0m: \"tall\" may refer to: \nheight\nhuman height\nTall, Semnan\nRiver Tall\nTall: The American Skyscraper and Louis Sullivan\nMr. Tall\nTall (surname)\nTell (archaeology)\nList of people known as the Tall\nTAL (disambiguation)\nTell (disambiguation)\nAll pages with titles beginning with tall\nAll pages with titles beginning with tallest\nAll pages with titles containing tall"
     ]
    }
   ],
   "source": [
    "# and lets look at where disambiguation pages land\n",
    "hull = wikipedia.page('Hull')\n",
    "hull.categories"
   ]
  },
  {
   "cell_type": "code",
<<<<<<< HEAD
   "execution_count": 20,
=======
   "execution_count": 15,
>>>>>>> a77f96d0820c52c0cbe32d1d300a3d607231739f
   "metadata": {},
   "outputs": [],
   "source": [
    "# all disambiguation pages lead to a page error, lets catch that \n",
    "def disamb_check(query):\n",
    "    try:\n",
    "        wikipedia.WikipediaPage(query)\n",
    "        return False\n",
    "    except (wikipedia.DisambiguationError, wikipedia.PageError):\n",
    "        return True\n"
   ]
  },
  {
   "cell_type": "code",
<<<<<<< HEAD
   "execution_count": 21,
=======
   "execution_count": 16,
>>>>>>> a77f96d0820c52c0cbe32d1d300a3d607231739f
   "metadata": {},
   "outputs": [
    {
     "data": {
      "text/plain": [
       "True"
      ]
     },
<<<<<<< HEAD
     "execution_count": 21,
=======
     "execution_count": 16,
>>>>>>> a77f96d0820c52c0cbe32d1d300a3d607231739f
     "metadata": {},
     "output_type": "execute_result"
    }
   ],
   "source": [
    "check = disamb_check('hull')\n",
    "check"
   ]
  },
  {
   "cell_type": "code",
<<<<<<< HEAD
   "execution_count": 22,
=======
   "execution_count": 17,
>>>>>>> a77f96d0820c52c0cbe32d1d300a3d607231739f
   "metadata": {},
   "outputs": [
    {
     "data": {
      "text/plain": [
       "False"
      ]
     },
<<<<<<< HEAD
     "execution_count": 22,
=======
     "execution_count": 17,
>>>>>>> a77f96d0820c52c0cbe32d1d300a3d607231739f
     "metadata": {},
     "output_type": "execute_result"
    }
   ],
   "source": [
    "check = disamb_check('glasgow')\n",
    "check"
   ]
  },
  {
   "cell_type": "markdown",
   "metadata": {},
   "source": [
    "We will also need a way to check that the found page refers to a city and not to something else. Unfortunately the wikipedia 'Location' category is not applied consistently enough to be suitable for this. Rather, we'll use a slightly hacky approach in which either use the coordinates provided on the iwkipedis page (if available), or other look for words related to locations within the first two sentences of the page.\n"
   ]
  },
  {
   "cell_type": "code",
<<<<<<< HEAD
   "execution_count": 23,
=======
   "execution_count": 18,
>>>>>>> a77f96d0820c52c0cbe32d1d300a3d607231739f
   "metadata": {},
   "outputs": [],
   "source": [
    "# first we should check if the coordinates are roughly correct\n",
    "def check_coordinates(page, true_coords, threshold=10):\n",
    "    if not page.coordinates:\n",
    "        return False\n",
    "    wiki_coords = page.coordinates\n",
    "    d = distance(true_coords, wiki_coords).km\n",
    "    return d <= threshold\n",
    "    \n",
    "    "
   ]
  },
  {
   "cell_type": "code",
<<<<<<< HEAD
   "execution_count": 26,
=======
   "execution_count": 19,
>>>>>>> a77f96d0820c52c0cbe32d1d300a3d607231739f
   "metadata": {},
   "outputs": [
    {
     "data": {
      "text/plain": [
       "False"
      ]
     },
<<<<<<< HEAD
     "execution_count": 26,
=======
     "execution_count": 19,
>>>>>>> a77f96d0820c52c0cbe32d1d300a3d607231739f
     "metadata": {},
     "output_type": "execute_result"
    }
   ],
   "source": [
    "# Lets test it with the coordinates for Birmingham Alabama\n",
    "page = wikipedia.WikipediaPage('Birmingham')\n",
    "true_coords = (33.52066, -86.80249)\n",
    "\n",
    "check_coordinates(page, true_coords)"
   ]
  },
  {
   "cell_type": "code",
<<<<<<< HEAD
   "execution_count": 27,
=======
   "execution_count": 20,
>>>>>>> a77f96d0820c52c0cbe32d1d300a3d607231739f
   "metadata": {},
   "outputs": [
    {
     "data": {
      "text/plain": [
       "True"
      ]
     },
<<<<<<< HEAD
     "execution_count": 27,
=======
     "execution_count": 20,
>>>>>>> a77f96d0820c52c0cbe32d1d300a3d607231739f
     "metadata": {},
     "output_type": "execute_result"
    }
   ],
   "source": [
    "page = wikipedia.WikipediaPage('Birmingham, AL')\n",
    "true_coords = (33.52066, -86.80249)\n",
    "\n",
    "check_coordinates(page, true_coords)"
   ]
  },
  {
   "cell_type": "code",
<<<<<<< HEAD
   "execution_count": 43,
=======
   "execution_count": 21,
>>>>>>> a77f96d0820c52c0cbe32d1d300a3d607231739f
   "metadata": {},
   "outputs": [],
   "source": [
    "# looking for words related to cities in the first sentence (usually X is a city in Y)\n",
    "city_words = ['city', 'town', 'village', 'township', 'commune', 'community', 'settlement', 'district', 'municipality', 'metropolis', 'conurbation']\n",
    "\n",
    "def check_is_city(page):\n",
    "    sentences = page.summary.split('.')\n",
    "    out = False\n",
    "    for word in city_words:\n",
    "        if word in sentences[0].lower():\n",
    "            out = True\n",
    "    return out"
   ]
  },
  {
   "cell_type": "code",
<<<<<<< HEAD
   "execution_count": 47,
=======
   "execution_count": 22,
>>>>>>> a77f96d0820c52c0cbe32d1d300a3d607231739f
   "metadata": {},
   "outputs": [],
   "source": [
    "# Looking for mentions of the country the city is situated in\n",
    "def check_correct_country(page, country):\n",
    "    sentences = page.summary.split('.')\n",
    "    for sentence in sentences[:3]:\n",
    "        if country in sentence:\n",
    "            return True\n",
    "    return False"
   ]
  },
  {
   "cell_type": "code",
<<<<<<< HEAD
   "execution_count": 48,
=======
   "execution_count": 23,
>>>>>>> a77f96d0820c52c0cbe32d1d300a3d607231739f
   "metadata": {},
   "outputs": [
    {
     "data": {
      "text/plain": [
       "False"
      ]
     },
<<<<<<< HEAD
     "execution_count": 48,
=======
     "execution_count": 23,
>>>>>>> a77f96d0820c52c0cbe32d1d300a3d607231739f
     "metadata": {},
     "output_type": "execute_result"
    }
   ],
   "source": [
    "# lets test this by looking for Paradise, California\n",
    "page = wikipedia.WikipediaPage('paradise')\n",
    "\n",
    "check_is_city(page)"
   ]
  },
  {
   "cell_type": "code",
<<<<<<< HEAD
   "execution_count": 49,
=======
   "execution_count": 24,
>>>>>>> a77f96d0820c52c0cbe32d1d300a3d607231739f
   "metadata": {},
   "outputs": [
    {
     "data": {
      "text/plain": [
       "True"
      ]
     },
<<<<<<< HEAD
     "execution_count": 49,
=======
     "execution_count": 24,
>>>>>>> a77f96d0820c52c0cbe32d1d300a3d607231739f
     "metadata": {},
     "output_type": "execute_result"
    }
   ],
   "source": [
    "page = wikipedia.WikipediaPage('paradise (California)')\n",
    "\n",
    "check_is_city(page)"
   ]
  },
  {
   "cell_type": "code",
<<<<<<< HEAD
   "execution_count": 55,
=======
   "execution_count": 25,
>>>>>>> a77f96d0820c52c0cbe32d1d300a3d607231739f
   "metadata": {},
   "outputs": [],
   "source": [
    "# And we need a check to see if the page exists at all.\n",
    "def check_page_exists(query):\n",
    "    try:\n",
    "        wikipedia.WikipediaPage(query)\n",
    "        return True\n",
    "    except wikipedia.PageError:\n",
    "        return False"
   ]
  },
  {
   "cell_type": "markdown",
   "metadata": {},
   "source": [
    "Some of the wikipedia summaries are formatted so that line breaks can appear as `<word>.<word>` in the summary. We need to put in a space after the period when this occurs"
   ]
  },
  {
   "cell_type": "code",
<<<<<<< HEAD
   "execution_count": 56,
=======
   "execution_count": 26,
>>>>>>> a77f96d0820c52c0cbe32d1d300a3d607231739f
   "metadata": {},
   "outputs": [],
   "source": [
    "def add_space_after_period(text):\n",
    "    pattern = r'([A-Za-z])\\.([A-Za-z])'\n",
    "    replacement = r'\\1. \\2'\n",
    "    result = re.sub(pattern, replacement, text)\n",
    "    return result"
   ]
  },
  {
   "cell_type": "markdown",
   "metadata": {},
   "source": [
    "finally, we'll need a function which can split a piece of text into full sentences, up to the `max_len` value in the model."
   ]
  },
  {
   "cell_type": "code",
<<<<<<< HEAD
   "execution_count": 57,
=======
   "execution_count": 27,
>>>>>>> a77f96d0820c52c0cbe32d1d300a3d607231739f
   "metadata": {},
   "outputs": [
    {
     "name": "stderr",
     "output_type": "stream",
     "text": [
      "[nltk_data] Downloading package punkt to\n",
      "[nltk_data]     C:\\Users\\jws10y\\AppData\\Roaming\\nltk_data...\n",
      "[nltk_data]   Package punkt is already up-to-date!\n"
     ]
    }
   ],
   "source": [
    "import nltk\n",
    "nltk.download('punkt')\n",
    "\n",
    "def split_into_sentences(text, max_words=60):\n",
    "    sentences = nltk.sent_tokenize(text)\n",
    "    result = []\n",
    "    current_sentence = \"\"\n",
    "\n",
    "    for sentence in sentences:\n",
    "        if len(current_sentence.split()) + len(sentence.split()) <= max_words:\n",
    "            current_sentence += \" \" + sentence\n",
    "        else:\n",
    "            result.append(current_sentence.strip())\n",
    "            current_sentence = sentence\n",
    "\n",
    "    # Add the last substring\n",
    "    if current_sentence:\n",
    "        result.append(current_sentence.strip())\n",
    "\n",
    "    return result"
   ]
  },
  {
   "cell_type": "code",
<<<<<<< HEAD
   "execution_count": 58,
=======
   "execution_count": 28,
>>>>>>> a77f96d0820c52c0cbe32d1d300a3d607231739f
   "metadata": {},
   "outputs": [
    {
     "data": {
      "text/plain": [
<<<<<<< HEAD
       "['Glasgow (UK:  GLA(H)Z-goh, GLA(H)SS-; Scots: Glesca [ˈɡleskə] or Glesga [ˈɡlezɡə]; Scottish Gaelic: Glaschu [ˈkl̪ˠas̪əxu]) is the most populous city in Scotland, and is the third-most populous city in the United Kingdom, as well as being the 27th largest city by population in Europe.',\n",
       " 'In 2022, it had an estimated population as a defined locality of \\n632,350 and anchored an urban settlement of \\n1,028,220. Formed as a county of itself in 1893, the city had previously been in the historic county of Lanarkshire (or Clydesdale) and has also grown to include settlements that were once part of Renfrewshire and Dunbartonshire (or the Lennox).',\n",
       " 'It now forms the Glasgow City Council area, one of the 32 council areas of Scotland, and is administered by Glasgow City Council. Glasgow has the largest economy in Scotland and the third-highest GDP per capita of any city in the UK.',\n",
       " \"Glasgow's major cultural institutions enjoy international reputations including The Royal Conservatoire of Scotland, Burrell Collection, Kelvingrove Art Gallery and Museum, Royal Scottish National Orchestra, BBC Scottish Symphony Orchestra, Scottish Ballet and Scottish Opera. The city was the European Capital of Culture in 1990 and is notable for its architecture, culture, media, music scene, sports clubs and transport connections.\",\n",
       " 'It is the fifth-most visited city in the United Kingdom. The city hosted the 2021 United Nations Climate Change Conference (COP26) at its main events venue, the SEC Centre. Glasgow hosted the 2014 Commonwealth Games and the first European Championships in 2018, and was one of the host cities for UEFA Euro 2020.',\n",
       " 'The city is also well known in the sporting world for football, particularly for the Old Firm rivalry. Glasgow grew from a small rural settlement close to Glasgow Cathedral and descending to the River Clyde to become the largest seaport in Scotland, and tenth largest by tonnage in Britain.',\n",
=======
       "['Glasgow (UK:  GLA(H)Z-goh, GLA(H)SS-; Scots: Glesca [ˈɡleskə] or Glesga [ˈɡlezɡə]; Scottish Gaelic: Glaschu [ˈkl̪ˠas̪əxu]) is the most populous city in Scotland, the third-most populous city in the United Kingdom, and the 27th-most populous city in Europe. In 2022, it had an estimated population as a defined locality of\\n632,350 and anchored an urban settlement of\\n1,028,220.',\n",
       " 'Glasgow became a county in 1893, the city having previously been in the historic county of Lanarkshire, and later growing to also include settlements that were once part of Renfrewshire and Dunbartonshire. It now forms the Glasgow City Council area, one of the 32 council areas of Scotland, and is administered by Glasgow City Council.',\n",
       " 'The city is a member of the Core Cities Group, having the largest economy in Scotland and the third-highest GDP per capita of any city in the UK.',\n",
       " \"Glasgow's major cultural institutions enjoy international reputations including The Royal Conservatoire of Scotland, Burrell Collection, Kelvingrove Art Gallery and Museum, Royal Scottish National Orchestra, BBC Scottish Symphony Orchestra, Scottish Ballet and Scottish Opera. The city was the European Capital of Culture in 1990 and is notable for its architecture, culture, media, music scene, sports clubs and transport connections.\",\n",
       " 'It is the fifth-most visited city in the United Kingdom. The city hosted the 2021 United Nations Climate Change Conference (COP26) at its main events venue, the SEC Centre.',\n",
       " 'Glasgow hosted the 2014 Commonwealth Games and the first European Championships in 2018, was one of the host cities for UEFA Euro 2020, and will be a host city of the UEFA Euro 2028. The city is also well known in the sporting world for football, particularly for the Old Firm rivalry.',\n",
       " 'Glasgow grew from a small rural settlement close to Glasgow Cathedral and descending to the River Clyde to become the largest seaport in Scotland, and tenth largest by tonnage in Britain.',\n",
>>>>>>> a77f96d0820c52c0cbe32d1d300a3d607231739f
       " 'Expanding from the medieval bishopric and episcopal burgh (subsequently royal burgh), and the later establishment of the University of Glasgow in the 15th century, it became a major centre of the Scottish Enlightenment in the 18th century.',\n",
       " \"From the 18th century onwards, the city also grew as one of Britain's main hubs of oceanic trade with North America and the West Indies; soon followed by the Orient, India, and China.\",\n",
       " \"With the onset of the Industrial Revolution, the population and economy of Glasgow and the surrounding region expanded rapidly to become one of the world's pre-eminent centres of chemicals, textiles and engineering; most notably in the shipbuilding and marine engineering industry, which produced many innovative and famous vessels.\",\n",
       " 'Glasgow was the \"Second City of the British Empire\" for much of the Victorian and Edwardian eras.In the late 19th and early 20th centuries, Glasgow\\'s population grew rapidly, reaching a peak of 1,127,825 people in 1938 (with a higher density and within a smaller territory than in subsequent decades).',\n",
       " 'The population was greatly reduced following comprehensive urban renewal projects in the 1960s which resulted in large-scale relocation of people to designated new towns, such as Cumbernauld, Livingston, East Kilbride and peripheral suburbs, followed by successive boundary changes.',\n",
       " \"Over 1,000,000 people live in the Greater Glasgow contiguous urban area, while the wider Glasgow City Region is home to over 1,800,000 people, equating to around 33% of Scotland's population. The city has one of the highest densities of any locality in Scotland at 4,023/km2.\"]"
      ]
     },
<<<<<<< HEAD
     "execution_count": 58,
=======
     "execution_count": 28,
>>>>>>> a77f96d0820c52c0cbe32d1d300a3d607231739f
     "metadata": {},
     "output_type": "execute_result"
    }
   ],
   "source": [
    "sentences = split_into_sentences(glasgow.summary)\n",
    "sentences"
   ]
  },
  {
   "cell_type": "code",
<<<<<<< HEAD
   "execution_count": 59,
=======
   "execution_count": 29,
>>>>>>> a77f96d0820c52c0cbe32d1d300a3d607231739f
   "metadata": {},
   "outputs": [],
   "source": [
    "# This function draws together each of the page processing functions. \n",
    "def process_page(page):\n",
    "    raw_summary = page.summary\n",
    "    p1_summary = remove_parentheses(raw_summary)\n",
    "    p2_summary = add_space_after_period(p1_summary)\n",
    "    sentences = split_into_sentences(p2_summary, 70)\n",
    "    return sentences"
   ]
  },
  {
   "cell_type": "markdown",
   "metadata": {},
   "source": [
    " We now have all the funcitons we need to scrape Wikpedia for the locations in the dataset. This takes a long time and can run into problems if an internet connection drops out. It took around 5 hours to complete for me."
   ]
  },
  {
   "cell_type": "code",
<<<<<<< HEAD
   "execution_count": null,
   "metadata": {},
   "outputs": [],
   "source": [
    "# we can now loop over each of our cities and find the wikipedia page associated with each\n",
=======
   "execution_count": 99,
   "metadata": {},
   "outputs": [
    {
     "name": "stderr",
     "output_type": "stream",
     "text": [
      "  0%|          | 9/18265 [00:26<13:10:25,  2.60s/it]c:\\Users\\jws10y\\AppData\\Local\\anaconda3\\envs\\tensorflow-gpu\\lib\\site-packages\\wikipedia\\wikipedia.py:389: GuessedAtParserWarning: No parser was explicitly specified, so I'm using the best available HTML parser for this system (\"lxml\"). This usually isn't a problem, but if you run this code on another system, or in a different virtual environment, it may use a different parser and behave differently.\n",
      "\n",
      "The code that caused this warning is on line 389 of the file c:\\Users\\jws10y\\AppData\\Local\\anaconda3\\envs\\tensorflow-gpu\\lib\\site-packages\\wikipedia\\wikipedia.py. To get rid of this warning, pass the additional argument 'features=\"lxml\"' to the BeautifulSoup constructor.\n",
      "\n",
      "  lis = BeautifulSoup(html).find_all('li')\n",
      "  0%|          | 11/18265 [00:33<15:24:13,  3.04s/it]\n"
     ]
    },
    {
     "ename": "KeyboardInterrupt",
     "evalue": "",
     "output_type": "error",
     "traceback": [
      "\u001b[1;31m---------------------------------------------------------------------------\u001b[0m",
      "\u001b[1;31mKeyboardInterrupt\u001b[0m                         Traceback (most recent call last)",
      "Cell \u001b[1;32mIn[99], line 26\u001b[0m\n\u001b[0;32m     23\u001b[0m     \u001b[38;5;28;01mcontinue\u001b[39;00m\n\u001b[0;32m     25\u001b[0m \u001b[38;5;66;03m# retrieve page\u001b[39;00m\n\u001b[1;32m---> 26\u001b[0m page \u001b[38;5;241m=\u001b[39m \u001b[43mwikipedia\u001b[49m\u001b[38;5;241;43m.\u001b[39;49m\u001b[43mWikipediaPage\u001b[49m\u001b[43m(\u001b[49m\u001b[43mlocation\u001b[49m\u001b[43m)\u001b[49m\n\u001b[0;32m     27\u001b[0m \u001b[38;5;66;03m# check if the page has coordinates:\u001b[39;00m\n\u001b[0;32m     28\u001b[0m \u001b[38;5;28;01mtry\u001b[39;00m:\n",
      "File \u001b[1;32mc:\\Users\\jws10y\\AppData\\Local\\anaconda3\\envs\\tensorflow-gpu\\lib\\site-packages\\wikipedia\\wikipedia.py:299\u001b[0m, in \u001b[0;36mWikipediaPage.__init__\u001b[1;34m(self, title, pageid, redirect, preload, original_title)\u001b[0m\n\u001b[0;32m    296\u001b[0m \u001b[38;5;28;01melse\u001b[39;00m:\n\u001b[0;32m    297\u001b[0m   \u001b[38;5;28;01mraise\u001b[39;00m \u001b[38;5;167;01mValueError\u001b[39;00m(\u001b[38;5;124m\"\u001b[39m\u001b[38;5;124mEither a title or a pageid must be specified\u001b[39m\u001b[38;5;124m\"\u001b[39m)\n\u001b[1;32m--> 299\u001b[0m \u001b[38;5;28;43mself\u001b[39;49m\u001b[38;5;241;43m.\u001b[39;49m\u001b[43m__load\u001b[49m\u001b[43m(\u001b[49m\u001b[43mredirect\u001b[49m\u001b[38;5;241;43m=\u001b[39;49m\u001b[43mredirect\u001b[49m\u001b[43m,\u001b[49m\u001b[43m \u001b[49m\u001b[43mpreload\u001b[49m\u001b[38;5;241;43m=\u001b[39;49m\u001b[43mpreload\u001b[49m\u001b[43m)\u001b[49m\n\u001b[0;32m    301\u001b[0m \u001b[38;5;28;01mif\u001b[39;00m preload:\n\u001b[0;32m    302\u001b[0m   \u001b[38;5;28;01mfor\u001b[39;00m prop \u001b[38;5;129;01min\u001b[39;00m (\u001b[38;5;124m'\u001b[39m\u001b[38;5;124mcontent\u001b[39m\u001b[38;5;124m'\u001b[39m, \u001b[38;5;124m'\u001b[39m\u001b[38;5;124msummary\u001b[39m\u001b[38;5;124m'\u001b[39m, \u001b[38;5;124m'\u001b[39m\u001b[38;5;124mimages\u001b[39m\u001b[38;5;124m'\u001b[39m, \u001b[38;5;124m'\u001b[39m\u001b[38;5;124mreferences\u001b[39m\u001b[38;5;124m'\u001b[39m, \u001b[38;5;124m'\u001b[39m\u001b[38;5;124mlinks\u001b[39m\u001b[38;5;124m'\u001b[39m, \u001b[38;5;124m'\u001b[39m\u001b[38;5;124msections\u001b[39m\u001b[38;5;124m'\u001b[39m):\n",
      "File \u001b[1;32mc:\\Users\\jws10y\\AppData\\Local\\anaconda3\\envs\\tensorflow-gpu\\lib\\site-packages\\wikipedia\\wikipedia.py:367\u001b[0m, in \u001b[0;36mWikipediaPage.__load\u001b[1;34m(self, redirect, preload)\u001b[0m\n\u001b[0;32m    364\u001b[0m   \u001b[38;5;28;01massert\u001b[39;00m redirects[\u001b[38;5;124m'\u001b[39m\u001b[38;5;124mfrom\u001b[39m\u001b[38;5;124m'\u001b[39m] \u001b[38;5;241m==\u001b[39m from_title, ODD_ERROR_MESSAGE\n\u001b[0;32m    366\u001b[0m   \u001b[38;5;66;03m# change the title and reload the whole object\u001b[39;00m\n\u001b[1;32m--> 367\u001b[0m   \u001b[38;5;28;43mself\u001b[39;49m\u001b[38;5;241;43m.\u001b[39;49m\u001b[38;5;21;43m__init__\u001b[39;49m\u001b[43m(\u001b[49m\u001b[43mredirects\u001b[49m\u001b[43m[\u001b[49m\u001b[38;5;124;43m'\u001b[39;49m\u001b[38;5;124;43mto\u001b[39;49m\u001b[38;5;124;43m'\u001b[39;49m\u001b[43m]\u001b[49m\u001b[43m,\u001b[49m\u001b[43m \u001b[49m\u001b[43mredirect\u001b[49m\u001b[38;5;241;43m=\u001b[39;49m\u001b[43mredirect\u001b[49m\u001b[43m,\u001b[49m\u001b[43m \u001b[49m\u001b[43mpreload\u001b[49m\u001b[38;5;241;43m=\u001b[39;49m\u001b[43mpreload\u001b[49m\u001b[43m)\u001b[49m\n\u001b[0;32m    369\u001b[0m \u001b[38;5;28;01melse\u001b[39;00m:\n\u001b[0;32m    370\u001b[0m   \u001b[38;5;28;01mraise\u001b[39;00m RedirectError(\u001b[38;5;28mgetattr\u001b[39m(\u001b[38;5;28mself\u001b[39m, \u001b[38;5;124m'\u001b[39m\u001b[38;5;124mtitle\u001b[39m\u001b[38;5;124m'\u001b[39m, page[\u001b[38;5;124m'\u001b[39m\u001b[38;5;124mtitle\u001b[39m\u001b[38;5;124m'\u001b[39m]))\n",
      "File \u001b[1;32mc:\\Users\\jws10y\\AppData\\Local\\anaconda3\\envs\\tensorflow-gpu\\lib\\site-packages\\wikipedia\\wikipedia.py:299\u001b[0m, in \u001b[0;36mWikipediaPage.__init__\u001b[1;34m(self, title, pageid, redirect, preload, original_title)\u001b[0m\n\u001b[0;32m    296\u001b[0m \u001b[38;5;28;01melse\u001b[39;00m:\n\u001b[0;32m    297\u001b[0m   \u001b[38;5;28;01mraise\u001b[39;00m \u001b[38;5;167;01mValueError\u001b[39;00m(\u001b[38;5;124m\"\u001b[39m\u001b[38;5;124mEither a title or a pageid must be specified\u001b[39m\u001b[38;5;124m\"\u001b[39m)\n\u001b[1;32m--> 299\u001b[0m \u001b[38;5;28;43mself\u001b[39;49m\u001b[38;5;241;43m.\u001b[39;49m\u001b[43m__load\u001b[49m\u001b[43m(\u001b[49m\u001b[43mredirect\u001b[49m\u001b[38;5;241;43m=\u001b[39;49m\u001b[43mredirect\u001b[49m\u001b[43m,\u001b[49m\u001b[43m \u001b[49m\u001b[43mpreload\u001b[49m\u001b[38;5;241;43m=\u001b[39;49m\u001b[43mpreload\u001b[49m\u001b[43m)\u001b[49m\n\u001b[0;32m    301\u001b[0m \u001b[38;5;28;01mif\u001b[39;00m preload:\n\u001b[0;32m    302\u001b[0m   \u001b[38;5;28;01mfor\u001b[39;00m prop \u001b[38;5;129;01min\u001b[39;00m (\u001b[38;5;124m'\u001b[39m\u001b[38;5;124mcontent\u001b[39m\u001b[38;5;124m'\u001b[39m, \u001b[38;5;124m'\u001b[39m\u001b[38;5;124msummary\u001b[39m\u001b[38;5;124m'\u001b[39m, \u001b[38;5;124m'\u001b[39m\u001b[38;5;124mimages\u001b[39m\u001b[38;5;124m'\u001b[39m, \u001b[38;5;124m'\u001b[39m\u001b[38;5;124mreferences\u001b[39m\u001b[38;5;124m'\u001b[39m, \u001b[38;5;124m'\u001b[39m\u001b[38;5;124mlinks\u001b[39m\u001b[38;5;124m'\u001b[39m, \u001b[38;5;124m'\u001b[39m\u001b[38;5;124msections\u001b[39m\u001b[38;5;124m'\u001b[39m):\n",
      "File \u001b[1;32mc:\\Users\\jws10y\\AppData\\Local\\anaconda3\\envs\\tensorflow-gpu\\lib\\site-packages\\wikipedia\\wikipedia.py:336\u001b[0m, in \u001b[0;36mWikipediaPage.__load\u001b[1;34m(self, redirect, preload)\u001b[0m\n\u001b[0;32m    333\u001b[0m \u001b[38;5;28;01melse\u001b[39;00m:\n\u001b[0;32m    334\u001b[0m   query_params[\u001b[38;5;124m'\u001b[39m\u001b[38;5;124mpageids\u001b[39m\u001b[38;5;124m'\u001b[39m] \u001b[38;5;241m=\u001b[39m \u001b[38;5;28mself\u001b[39m\u001b[38;5;241m.\u001b[39mpageid\n\u001b[1;32m--> 336\u001b[0m request \u001b[38;5;241m=\u001b[39m \u001b[43m_wiki_request\u001b[49m\u001b[43m(\u001b[49m\u001b[43mquery_params\u001b[49m\u001b[43m)\u001b[49m\n\u001b[0;32m    338\u001b[0m query \u001b[38;5;241m=\u001b[39m request[\u001b[38;5;124m'\u001b[39m\u001b[38;5;124mquery\u001b[39m\u001b[38;5;124m'\u001b[39m]\n\u001b[0;32m    339\u001b[0m pageid \u001b[38;5;241m=\u001b[39m \u001b[38;5;28mlist\u001b[39m(query[\u001b[38;5;124m'\u001b[39m\u001b[38;5;124mpages\u001b[39m\u001b[38;5;124m'\u001b[39m]\u001b[38;5;241m.\u001b[39mkeys())[\u001b[38;5;241m0\u001b[39m]\n",
      "File \u001b[1;32mc:\\Users\\jws10y\\AppData\\Local\\anaconda3\\envs\\tensorflow-gpu\\lib\\site-packages\\wikipedia\\wikipedia.py:737\u001b[0m, in \u001b[0;36m_wiki_request\u001b[1;34m(params)\u001b[0m\n\u001b[0;32m    734\u001b[0m   wait_time \u001b[38;5;241m=\u001b[39m (RATE_LIMIT_LAST_CALL \u001b[38;5;241m+\u001b[39m RATE_LIMIT_MIN_WAIT) \u001b[38;5;241m-\u001b[39m datetime\u001b[38;5;241m.\u001b[39mnow()\n\u001b[0;32m    735\u001b[0m   time\u001b[38;5;241m.\u001b[39msleep(\u001b[38;5;28mint\u001b[39m(wait_time\u001b[38;5;241m.\u001b[39mtotal_seconds()))\n\u001b[1;32m--> 737\u001b[0m r \u001b[38;5;241m=\u001b[39m \u001b[43mrequests\u001b[49m\u001b[38;5;241;43m.\u001b[39;49m\u001b[43mget\u001b[49m\u001b[43m(\u001b[49m\u001b[43mAPI_URL\u001b[49m\u001b[43m,\u001b[49m\u001b[43m \u001b[49m\u001b[43mparams\u001b[49m\u001b[38;5;241;43m=\u001b[39;49m\u001b[43mparams\u001b[49m\u001b[43m,\u001b[49m\u001b[43m \u001b[49m\u001b[43mheaders\u001b[49m\u001b[38;5;241;43m=\u001b[39;49m\u001b[43mheaders\u001b[49m\u001b[43m)\u001b[49m\n\u001b[0;32m    739\u001b[0m \u001b[38;5;28;01mif\u001b[39;00m RATE_LIMIT:\n\u001b[0;32m    740\u001b[0m   RATE_LIMIT_LAST_CALL \u001b[38;5;241m=\u001b[39m datetime\u001b[38;5;241m.\u001b[39mnow()\n",
      "File \u001b[1;32mc:\\Users\\jws10y\\AppData\\Local\\anaconda3\\envs\\tensorflow-gpu\\lib\\site-packages\\requests\\api.py:75\u001b[0m, in \u001b[0;36mget\u001b[1;34m(url, params, **kwargs)\u001b[0m\n\u001b[0;32m     64\u001b[0m \u001b[38;5;28;01mdef\u001b[39;00m \u001b[38;5;21mget\u001b[39m(url, params\u001b[38;5;241m=\u001b[39m\u001b[38;5;28;01mNone\u001b[39;00m, \u001b[38;5;241m*\u001b[39m\u001b[38;5;241m*\u001b[39mkwargs):\n\u001b[0;32m     65\u001b[0m \u001b[38;5;250m    \u001b[39m\u001b[38;5;124mr\u001b[39m\u001b[38;5;124;03m\"\"\"Sends a GET request.\u001b[39;00m\n\u001b[0;32m     66\u001b[0m \n\u001b[0;32m     67\u001b[0m \u001b[38;5;124;03m    :param url: URL for the new :class:`Request` object.\u001b[39;00m\n\u001b[1;32m   (...)\u001b[0m\n\u001b[0;32m     72\u001b[0m \u001b[38;5;124;03m    :rtype: requests.Response\u001b[39;00m\n\u001b[0;32m     73\u001b[0m \u001b[38;5;124;03m    \"\"\"\u001b[39;00m\n\u001b[1;32m---> 75\u001b[0m     \u001b[38;5;28;01mreturn\u001b[39;00m request(\u001b[38;5;124m'\u001b[39m\u001b[38;5;124mget\u001b[39m\u001b[38;5;124m'\u001b[39m, url, params\u001b[38;5;241m=\u001b[39mparams, \u001b[38;5;241m*\u001b[39m\u001b[38;5;241m*\u001b[39mkwargs)\n",
      "File \u001b[1;32mc:\\Users\\jws10y\\AppData\\Local\\anaconda3\\envs\\tensorflow-gpu\\lib\\site-packages\\requests\\api.py:61\u001b[0m, in \u001b[0;36mrequest\u001b[1;34m(method, url, **kwargs)\u001b[0m\n\u001b[0;32m     57\u001b[0m \u001b[38;5;66;03m# By using the 'with' statement we are sure the session is closed, thus we\u001b[39;00m\n\u001b[0;32m     58\u001b[0m \u001b[38;5;66;03m# avoid leaving sockets open which can trigger a ResourceWarning in some\u001b[39;00m\n\u001b[0;32m     59\u001b[0m \u001b[38;5;66;03m# cases, and look like a memory leak in others.\u001b[39;00m\n\u001b[0;32m     60\u001b[0m \u001b[38;5;28;01mwith\u001b[39;00m sessions\u001b[38;5;241m.\u001b[39mSession() \u001b[38;5;28;01mas\u001b[39;00m session:\n\u001b[1;32m---> 61\u001b[0m     \u001b[38;5;28;01mreturn\u001b[39;00m session\u001b[38;5;241m.\u001b[39mrequest(method\u001b[38;5;241m=\u001b[39mmethod, url\u001b[38;5;241m=\u001b[39murl, \u001b[38;5;241m*\u001b[39m\u001b[38;5;241m*\u001b[39mkwargs)\n",
      "File \u001b[1;32mc:\\Users\\jws10y\\AppData\\Local\\anaconda3\\envs\\tensorflow-gpu\\lib\\site-packages\\requests\\sessions.py:542\u001b[0m, in \u001b[0;36mSession.request\u001b[1;34m(self, method, url, params, data, headers, cookies, files, auth, timeout, allow_redirects, proxies, hooks, stream, verify, cert, json)\u001b[0m\n\u001b[0;32m    537\u001b[0m send_kwargs \u001b[38;5;241m=\u001b[39m {\n\u001b[0;32m    538\u001b[0m     \u001b[38;5;124m'\u001b[39m\u001b[38;5;124mtimeout\u001b[39m\u001b[38;5;124m'\u001b[39m: timeout,\n\u001b[0;32m    539\u001b[0m     \u001b[38;5;124m'\u001b[39m\u001b[38;5;124mallow_redirects\u001b[39m\u001b[38;5;124m'\u001b[39m: allow_redirects,\n\u001b[0;32m    540\u001b[0m }\n\u001b[0;32m    541\u001b[0m send_kwargs\u001b[38;5;241m.\u001b[39mupdate(settings)\n\u001b[1;32m--> 542\u001b[0m resp \u001b[38;5;241m=\u001b[39m \u001b[38;5;28mself\u001b[39m\u001b[38;5;241m.\u001b[39msend(prep, \u001b[38;5;241m*\u001b[39m\u001b[38;5;241m*\u001b[39msend_kwargs)\n\u001b[0;32m    544\u001b[0m \u001b[38;5;28;01mreturn\u001b[39;00m resp\n",
      "File \u001b[1;32mc:\\Users\\jws10y\\AppData\\Local\\anaconda3\\envs\\tensorflow-gpu\\lib\\site-packages\\requests\\sessions.py:677\u001b[0m, in \u001b[0;36mSession.send\u001b[1;34m(self, request, **kwargs)\u001b[0m\n\u001b[0;32m    674\u001b[0m \u001b[38;5;28;01mif\u001b[39;00m allow_redirects:\n\u001b[0;32m    675\u001b[0m     \u001b[38;5;66;03m# Redirect resolving generator.\u001b[39;00m\n\u001b[0;32m    676\u001b[0m     gen \u001b[38;5;241m=\u001b[39m \u001b[38;5;28mself\u001b[39m\u001b[38;5;241m.\u001b[39mresolve_redirects(r, request, \u001b[38;5;241m*\u001b[39m\u001b[38;5;241m*\u001b[39mkwargs)\n\u001b[1;32m--> 677\u001b[0m     history \u001b[38;5;241m=\u001b[39m [resp \u001b[38;5;28;01mfor\u001b[39;00m resp \u001b[38;5;129;01min\u001b[39;00m gen]\n\u001b[0;32m    678\u001b[0m \u001b[38;5;28;01melse\u001b[39;00m:\n\u001b[0;32m    679\u001b[0m     history \u001b[38;5;241m=\u001b[39m []\n",
      "File \u001b[1;32mc:\\Users\\jws10y\\AppData\\Local\\anaconda3\\envs\\tensorflow-gpu\\lib\\site-packages\\requests\\sessions.py:677\u001b[0m, in \u001b[0;36m<listcomp>\u001b[1;34m(.0)\u001b[0m\n\u001b[0;32m    674\u001b[0m \u001b[38;5;28;01mif\u001b[39;00m allow_redirects:\n\u001b[0;32m    675\u001b[0m     \u001b[38;5;66;03m# Redirect resolving generator.\u001b[39;00m\n\u001b[0;32m    676\u001b[0m     gen \u001b[38;5;241m=\u001b[39m \u001b[38;5;28mself\u001b[39m\u001b[38;5;241m.\u001b[39mresolve_redirects(r, request, \u001b[38;5;241m*\u001b[39m\u001b[38;5;241m*\u001b[39mkwargs)\n\u001b[1;32m--> 677\u001b[0m     history \u001b[38;5;241m=\u001b[39m [resp \u001b[38;5;28;01mfor\u001b[39;00m resp \u001b[38;5;129;01min\u001b[39;00m gen]\n\u001b[0;32m    678\u001b[0m \u001b[38;5;28;01melse\u001b[39;00m:\n\u001b[0;32m    679\u001b[0m     history \u001b[38;5;241m=\u001b[39m []\n",
      "File \u001b[1;32mc:\\Users\\jws10y\\AppData\\Local\\anaconda3\\envs\\tensorflow-gpu\\lib\\site-packages\\requests\\sessions.py:237\u001b[0m, in \u001b[0;36mSessionRedirectMixin.resolve_redirects\u001b[1;34m(self, resp, req, stream, timeout, verify, cert, proxies, yield_requests, **adapter_kwargs)\u001b[0m\n\u001b[0;32m    234\u001b[0m     \u001b[38;5;28;01myield\u001b[39;00m req\n\u001b[0;32m    235\u001b[0m \u001b[38;5;28;01melse\u001b[39;00m:\n\u001b[1;32m--> 237\u001b[0m     resp \u001b[38;5;241m=\u001b[39m \u001b[38;5;28mself\u001b[39m\u001b[38;5;241m.\u001b[39msend(\n\u001b[0;32m    238\u001b[0m         req,\n\u001b[0;32m    239\u001b[0m         stream\u001b[38;5;241m=\u001b[39mstream,\n\u001b[0;32m    240\u001b[0m         timeout\u001b[38;5;241m=\u001b[39mtimeout,\n\u001b[0;32m    241\u001b[0m         verify\u001b[38;5;241m=\u001b[39mverify,\n\u001b[0;32m    242\u001b[0m         cert\u001b[38;5;241m=\u001b[39mcert,\n\u001b[0;32m    243\u001b[0m         proxies\u001b[38;5;241m=\u001b[39mproxies,\n\u001b[0;32m    244\u001b[0m         allow_redirects\u001b[38;5;241m=\u001b[39m\u001b[38;5;28;01mFalse\u001b[39;00m,\n\u001b[0;32m    245\u001b[0m         \u001b[38;5;241m*\u001b[39m\u001b[38;5;241m*\u001b[39madapter_kwargs\n\u001b[0;32m    246\u001b[0m     )\n\u001b[0;32m    248\u001b[0m     extract_cookies_to_jar(\u001b[38;5;28mself\u001b[39m\u001b[38;5;241m.\u001b[39mcookies, prepared_request, resp\u001b[38;5;241m.\u001b[39mraw)\n\u001b[0;32m    250\u001b[0m     \u001b[38;5;66;03m# extract redirect url, if any, for the next loop\u001b[39;00m\n",
      "File \u001b[1;32mc:\\Users\\jws10y\\AppData\\Local\\anaconda3\\envs\\tensorflow-gpu\\lib\\site-packages\\requests\\sessions.py:655\u001b[0m, in \u001b[0;36mSession.send\u001b[1;34m(self, request, **kwargs)\u001b[0m\n\u001b[0;32m    652\u001b[0m start \u001b[38;5;241m=\u001b[39m preferred_clock()\n\u001b[0;32m    654\u001b[0m \u001b[38;5;66;03m# Send the request\u001b[39;00m\n\u001b[1;32m--> 655\u001b[0m r \u001b[38;5;241m=\u001b[39m adapter\u001b[38;5;241m.\u001b[39msend(request, \u001b[38;5;241m*\u001b[39m\u001b[38;5;241m*\u001b[39mkwargs)\n\u001b[0;32m    657\u001b[0m \u001b[38;5;66;03m# Total elapsed time of the request (approximately)\u001b[39;00m\n\u001b[0;32m    658\u001b[0m elapsed \u001b[38;5;241m=\u001b[39m preferred_clock() \u001b[38;5;241m-\u001b[39m start\n",
      "File \u001b[1;32mc:\\Users\\jws10y\\AppData\\Local\\anaconda3\\envs\\tensorflow-gpu\\lib\\site-packages\\requests\\adapters.py:439\u001b[0m, in \u001b[0;36mHTTPAdapter.send\u001b[1;34m(self, request, stream, timeout, verify, cert, proxies)\u001b[0m\n\u001b[0;32m    437\u001b[0m \u001b[38;5;28;01mtry\u001b[39;00m:\n\u001b[0;32m    438\u001b[0m     \u001b[38;5;28;01mif\u001b[39;00m \u001b[38;5;129;01mnot\u001b[39;00m chunked:\n\u001b[1;32m--> 439\u001b[0m         resp \u001b[38;5;241m=\u001b[39m \u001b[43mconn\u001b[49m\u001b[38;5;241;43m.\u001b[39;49m\u001b[43murlopen\u001b[49m\u001b[43m(\u001b[49m\n\u001b[0;32m    440\u001b[0m \u001b[43m            \u001b[49m\u001b[43mmethod\u001b[49m\u001b[38;5;241;43m=\u001b[39;49m\u001b[43mrequest\u001b[49m\u001b[38;5;241;43m.\u001b[39;49m\u001b[43mmethod\u001b[49m\u001b[43m,\u001b[49m\n\u001b[0;32m    441\u001b[0m \u001b[43m            \u001b[49m\u001b[43murl\u001b[49m\u001b[38;5;241;43m=\u001b[39;49m\u001b[43murl\u001b[49m\u001b[43m,\u001b[49m\n\u001b[0;32m    442\u001b[0m \u001b[43m            \u001b[49m\u001b[43mbody\u001b[49m\u001b[38;5;241;43m=\u001b[39;49m\u001b[43mrequest\u001b[49m\u001b[38;5;241;43m.\u001b[39;49m\u001b[43mbody\u001b[49m\u001b[43m,\u001b[49m\n\u001b[0;32m    443\u001b[0m \u001b[43m            \u001b[49m\u001b[43mheaders\u001b[49m\u001b[38;5;241;43m=\u001b[39;49m\u001b[43mrequest\u001b[49m\u001b[38;5;241;43m.\u001b[39;49m\u001b[43mheaders\u001b[49m\u001b[43m,\u001b[49m\n\u001b[0;32m    444\u001b[0m \u001b[43m            \u001b[49m\u001b[43mredirect\u001b[49m\u001b[38;5;241;43m=\u001b[39;49m\u001b[38;5;28;43;01mFalse\u001b[39;49;00m\u001b[43m,\u001b[49m\n\u001b[0;32m    445\u001b[0m \u001b[43m            \u001b[49m\u001b[43massert_same_host\u001b[49m\u001b[38;5;241;43m=\u001b[39;49m\u001b[38;5;28;43;01mFalse\u001b[39;49;00m\u001b[43m,\u001b[49m\n\u001b[0;32m    446\u001b[0m \u001b[43m            \u001b[49m\u001b[43mpreload_content\u001b[49m\u001b[38;5;241;43m=\u001b[39;49m\u001b[38;5;28;43;01mFalse\u001b[39;49;00m\u001b[43m,\u001b[49m\n\u001b[0;32m    447\u001b[0m \u001b[43m            \u001b[49m\u001b[43mdecode_content\u001b[49m\u001b[38;5;241;43m=\u001b[39;49m\u001b[38;5;28;43;01mFalse\u001b[39;49;00m\u001b[43m,\u001b[49m\n\u001b[0;32m    448\u001b[0m \u001b[43m            \u001b[49m\u001b[43mretries\u001b[49m\u001b[38;5;241;43m=\u001b[39;49m\u001b[38;5;28;43mself\u001b[39;49m\u001b[38;5;241;43m.\u001b[39;49m\u001b[43mmax_retries\u001b[49m\u001b[43m,\u001b[49m\n\u001b[0;32m    449\u001b[0m \u001b[43m            \u001b[49m\u001b[43mtimeout\u001b[49m\u001b[38;5;241;43m=\u001b[39;49m\u001b[43mtimeout\u001b[49m\n\u001b[0;32m    450\u001b[0m \u001b[43m        \u001b[49m\u001b[43m)\u001b[49m\n\u001b[0;32m    452\u001b[0m     \u001b[38;5;66;03m# Send the request.\u001b[39;00m\n\u001b[0;32m    453\u001b[0m     \u001b[38;5;28;01melse\u001b[39;00m:\n\u001b[0;32m    454\u001b[0m         \u001b[38;5;28;01mif\u001b[39;00m \u001b[38;5;28mhasattr\u001b[39m(conn, \u001b[38;5;124m'\u001b[39m\u001b[38;5;124mproxy_pool\u001b[39m\u001b[38;5;124m'\u001b[39m):\n",
      "File \u001b[1;32mc:\\Users\\jws10y\\AppData\\Local\\anaconda3\\envs\\tensorflow-gpu\\lib\\site-packages\\urllib3\\connectionpool.py:715\u001b[0m, in \u001b[0;36mHTTPConnectionPool.urlopen\u001b[1;34m(self, method, url, body, headers, retries, redirect, assert_same_host, timeout, pool_timeout, release_conn, chunked, body_pos, **response_kw)\u001b[0m\n\u001b[0;32m    712\u001b[0m     \u001b[38;5;28mself\u001b[39m\u001b[38;5;241m.\u001b[39m_prepare_proxy(conn)\n\u001b[0;32m    714\u001b[0m \u001b[38;5;66;03m# Make the request on the httplib connection object.\u001b[39;00m\n\u001b[1;32m--> 715\u001b[0m httplib_response \u001b[38;5;241m=\u001b[39m \u001b[38;5;28;43mself\u001b[39;49m\u001b[38;5;241;43m.\u001b[39;49m\u001b[43m_make_request\u001b[49m\u001b[43m(\u001b[49m\n\u001b[0;32m    716\u001b[0m \u001b[43m    \u001b[49m\u001b[43mconn\u001b[49m\u001b[43m,\u001b[49m\n\u001b[0;32m    717\u001b[0m \u001b[43m    \u001b[49m\u001b[43mmethod\u001b[49m\u001b[43m,\u001b[49m\n\u001b[0;32m    718\u001b[0m \u001b[43m    \u001b[49m\u001b[43murl\u001b[49m\u001b[43m,\u001b[49m\n\u001b[0;32m    719\u001b[0m \u001b[43m    \u001b[49m\u001b[43mtimeout\u001b[49m\u001b[38;5;241;43m=\u001b[39;49m\u001b[43mtimeout_obj\u001b[49m\u001b[43m,\u001b[49m\n\u001b[0;32m    720\u001b[0m \u001b[43m    \u001b[49m\u001b[43mbody\u001b[49m\u001b[38;5;241;43m=\u001b[39;49m\u001b[43mbody\u001b[49m\u001b[43m,\u001b[49m\n\u001b[0;32m    721\u001b[0m \u001b[43m    \u001b[49m\u001b[43mheaders\u001b[49m\u001b[38;5;241;43m=\u001b[39;49m\u001b[43mheaders\u001b[49m\u001b[43m,\u001b[49m\n\u001b[0;32m    722\u001b[0m \u001b[43m    \u001b[49m\u001b[43mchunked\u001b[49m\u001b[38;5;241;43m=\u001b[39;49m\u001b[43mchunked\u001b[49m\u001b[43m,\u001b[49m\n\u001b[0;32m    723\u001b[0m \u001b[43m\u001b[49m\u001b[43m)\u001b[49m\n\u001b[0;32m    725\u001b[0m \u001b[38;5;66;03m# If we're going to release the connection in ``finally:``, then\u001b[39;00m\n\u001b[0;32m    726\u001b[0m \u001b[38;5;66;03m# the response doesn't need to know about the connection. Otherwise\u001b[39;00m\n\u001b[0;32m    727\u001b[0m \u001b[38;5;66;03m# it will also try to release it and we'll have a double-release\u001b[39;00m\n\u001b[0;32m    728\u001b[0m \u001b[38;5;66;03m# mess.\u001b[39;00m\n\u001b[0;32m    729\u001b[0m response_conn \u001b[38;5;241m=\u001b[39m conn \u001b[38;5;28;01mif\u001b[39;00m \u001b[38;5;129;01mnot\u001b[39;00m release_conn \u001b[38;5;28;01melse\u001b[39;00m \u001b[38;5;28;01mNone\u001b[39;00m\n",
      "File \u001b[1;32mc:\\Users\\jws10y\\AppData\\Local\\anaconda3\\envs\\tensorflow-gpu\\lib\\site-packages\\urllib3\\connectionpool.py:404\u001b[0m, in \u001b[0;36mHTTPConnectionPool._make_request\u001b[1;34m(self, conn, method, url, timeout, chunked, **httplib_request_kw)\u001b[0m\n\u001b[0;32m    402\u001b[0m \u001b[38;5;66;03m# Trigger any extra validation we need to do.\u001b[39;00m\n\u001b[0;32m    403\u001b[0m \u001b[38;5;28;01mtry\u001b[39;00m:\n\u001b[1;32m--> 404\u001b[0m     \u001b[38;5;28;43mself\u001b[39;49m\u001b[38;5;241;43m.\u001b[39;49m\u001b[43m_validate_conn\u001b[49m\u001b[43m(\u001b[49m\u001b[43mconn\u001b[49m\u001b[43m)\u001b[49m\n\u001b[0;32m    405\u001b[0m \u001b[38;5;28;01mexcept\u001b[39;00m (SocketTimeout, BaseSSLError) \u001b[38;5;28;01mas\u001b[39;00m e:\n\u001b[0;32m    406\u001b[0m     \u001b[38;5;66;03m# Py2 raises this as a BaseSSLError, Py3 raises it as socket timeout.\u001b[39;00m\n\u001b[0;32m    407\u001b[0m     \u001b[38;5;28mself\u001b[39m\u001b[38;5;241m.\u001b[39m_raise_timeout(err\u001b[38;5;241m=\u001b[39me, url\u001b[38;5;241m=\u001b[39murl, timeout_value\u001b[38;5;241m=\u001b[39mconn\u001b[38;5;241m.\u001b[39mtimeout)\n",
      "File \u001b[1;32mc:\\Users\\jws10y\\AppData\\Local\\anaconda3\\envs\\tensorflow-gpu\\lib\\site-packages\\urllib3\\connectionpool.py:1058\u001b[0m, in \u001b[0;36mHTTPSConnectionPool._validate_conn\u001b[1;34m(self, conn)\u001b[0m\n\u001b[0;32m   1056\u001b[0m \u001b[38;5;66;03m# Force connect early to allow us to validate the connection.\u001b[39;00m\n\u001b[0;32m   1057\u001b[0m \u001b[38;5;28;01mif\u001b[39;00m \u001b[38;5;129;01mnot\u001b[39;00m \u001b[38;5;28mgetattr\u001b[39m(conn, \u001b[38;5;124m\"\u001b[39m\u001b[38;5;124msock\u001b[39m\u001b[38;5;124m\"\u001b[39m, \u001b[38;5;28;01mNone\u001b[39;00m):  \u001b[38;5;66;03m# AppEngine might not have  `.sock`\u001b[39;00m\n\u001b[1;32m-> 1058\u001b[0m     \u001b[43mconn\u001b[49m\u001b[38;5;241;43m.\u001b[39;49m\u001b[43mconnect\u001b[49m\u001b[43m(\u001b[49m\u001b[43m)\u001b[49m\n\u001b[0;32m   1060\u001b[0m \u001b[38;5;28;01mif\u001b[39;00m \u001b[38;5;129;01mnot\u001b[39;00m conn\u001b[38;5;241m.\u001b[39mis_verified:\n\u001b[0;32m   1061\u001b[0m     warnings\u001b[38;5;241m.\u001b[39mwarn(\n\u001b[0;32m   1062\u001b[0m         (\n\u001b[0;32m   1063\u001b[0m             \u001b[38;5;124m\"\u001b[39m\u001b[38;5;124mUnverified HTTPS request is being made to host \u001b[39m\u001b[38;5;124m'\u001b[39m\u001b[38;5;132;01m%s\u001b[39;00m\u001b[38;5;124m'\u001b[39m\u001b[38;5;124m. \u001b[39m\u001b[38;5;124m\"\u001b[39m\n\u001b[1;32m   (...)\u001b[0m\n\u001b[0;32m   1068\u001b[0m         InsecureRequestWarning,\n\u001b[0;32m   1069\u001b[0m     )\n",
      "File \u001b[1;32mc:\\Users\\jws10y\\AppData\\Local\\anaconda3\\envs\\tensorflow-gpu\\lib\\site-packages\\urllib3\\connection.py:419\u001b[0m, in \u001b[0;36mHTTPSConnection.connect\u001b[1;34m(self)\u001b[0m\n\u001b[0;32m    410\u001b[0m \u001b[38;5;28;01mif\u001b[39;00m (\n\u001b[0;32m    411\u001b[0m     \u001b[38;5;129;01mnot\u001b[39;00m \u001b[38;5;28mself\u001b[39m\u001b[38;5;241m.\u001b[39mca_certs\n\u001b[0;32m    412\u001b[0m     \u001b[38;5;129;01mand\u001b[39;00m \u001b[38;5;129;01mnot\u001b[39;00m \u001b[38;5;28mself\u001b[39m\u001b[38;5;241m.\u001b[39mca_cert_dir\n\u001b[1;32m   (...)\u001b[0m\n\u001b[0;32m    415\u001b[0m     \u001b[38;5;129;01mand\u001b[39;00m \u001b[38;5;28mhasattr\u001b[39m(context, \u001b[38;5;124m\"\u001b[39m\u001b[38;5;124mload_default_certs\u001b[39m\u001b[38;5;124m\"\u001b[39m)\n\u001b[0;32m    416\u001b[0m ):\n\u001b[0;32m    417\u001b[0m     context\u001b[38;5;241m.\u001b[39mload_default_certs()\n\u001b[1;32m--> 419\u001b[0m \u001b[38;5;28mself\u001b[39m\u001b[38;5;241m.\u001b[39msock \u001b[38;5;241m=\u001b[39m \u001b[43mssl_wrap_socket\u001b[49m\u001b[43m(\u001b[49m\n\u001b[0;32m    420\u001b[0m \u001b[43m    \u001b[49m\u001b[43msock\u001b[49m\u001b[38;5;241;43m=\u001b[39;49m\u001b[43mconn\u001b[49m\u001b[43m,\u001b[49m\n\u001b[0;32m    421\u001b[0m \u001b[43m    \u001b[49m\u001b[43mkeyfile\u001b[49m\u001b[38;5;241;43m=\u001b[39;49m\u001b[38;5;28;43mself\u001b[39;49m\u001b[38;5;241;43m.\u001b[39;49m\u001b[43mkey_file\u001b[49m\u001b[43m,\u001b[49m\n\u001b[0;32m    422\u001b[0m \u001b[43m    \u001b[49m\u001b[43mcertfile\u001b[49m\u001b[38;5;241;43m=\u001b[39;49m\u001b[38;5;28;43mself\u001b[39;49m\u001b[38;5;241;43m.\u001b[39;49m\u001b[43mcert_file\u001b[49m\u001b[43m,\u001b[49m\n\u001b[0;32m    423\u001b[0m \u001b[43m    \u001b[49m\u001b[43mkey_password\u001b[49m\u001b[38;5;241;43m=\u001b[39;49m\u001b[38;5;28;43mself\u001b[39;49m\u001b[38;5;241;43m.\u001b[39;49m\u001b[43mkey_password\u001b[49m\u001b[43m,\u001b[49m\n\u001b[0;32m    424\u001b[0m \u001b[43m    \u001b[49m\u001b[43mca_certs\u001b[49m\u001b[38;5;241;43m=\u001b[39;49m\u001b[38;5;28;43mself\u001b[39;49m\u001b[38;5;241;43m.\u001b[39;49m\u001b[43mca_certs\u001b[49m\u001b[43m,\u001b[49m\n\u001b[0;32m    425\u001b[0m \u001b[43m    \u001b[49m\u001b[43mca_cert_dir\u001b[49m\u001b[38;5;241;43m=\u001b[39;49m\u001b[38;5;28;43mself\u001b[39;49m\u001b[38;5;241;43m.\u001b[39;49m\u001b[43mca_cert_dir\u001b[49m\u001b[43m,\u001b[49m\n\u001b[0;32m    426\u001b[0m \u001b[43m    \u001b[49m\u001b[43mca_cert_data\u001b[49m\u001b[38;5;241;43m=\u001b[39;49m\u001b[38;5;28;43mself\u001b[39;49m\u001b[38;5;241;43m.\u001b[39;49m\u001b[43mca_cert_data\u001b[49m\u001b[43m,\u001b[49m\n\u001b[0;32m    427\u001b[0m \u001b[43m    \u001b[49m\u001b[43mserver_hostname\u001b[49m\u001b[38;5;241;43m=\u001b[39;49m\u001b[43mserver_hostname\u001b[49m\u001b[43m,\u001b[49m\n\u001b[0;32m    428\u001b[0m \u001b[43m    \u001b[49m\u001b[43mssl_context\u001b[49m\u001b[38;5;241;43m=\u001b[39;49m\u001b[43mcontext\u001b[49m\u001b[43m,\u001b[49m\n\u001b[0;32m    429\u001b[0m \u001b[43m    \u001b[49m\u001b[43mtls_in_tls\u001b[49m\u001b[38;5;241;43m=\u001b[39;49m\u001b[43mtls_in_tls\u001b[49m\u001b[43m,\u001b[49m\n\u001b[0;32m    430\u001b[0m \u001b[43m\u001b[49m\u001b[43m)\u001b[49m\n\u001b[0;32m    432\u001b[0m \u001b[38;5;66;03m# If we're using all defaults and the connection\u001b[39;00m\n\u001b[0;32m    433\u001b[0m \u001b[38;5;66;03m# is TLSv1 or TLSv1.1 we throw a DeprecationWarning\u001b[39;00m\n\u001b[0;32m    434\u001b[0m \u001b[38;5;66;03m# for the host.\u001b[39;00m\n\u001b[0;32m    435\u001b[0m \u001b[38;5;28;01mif\u001b[39;00m (\n\u001b[0;32m    436\u001b[0m     default_ssl_context\n\u001b[0;32m    437\u001b[0m     \u001b[38;5;129;01mand\u001b[39;00m \u001b[38;5;28mself\u001b[39m\u001b[38;5;241m.\u001b[39mssl_version \u001b[38;5;129;01mis\u001b[39;00m \u001b[38;5;28;01mNone\u001b[39;00m\n\u001b[0;32m    438\u001b[0m     \u001b[38;5;129;01mand\u001b[39;00m \u001b[38;5;28mhasattr\u001b[39m(\u001b[38;5;28mself\u001b[39m\u001b[38;5;241m.\u001b[39msock, \u001b[38;5;124m\"\u001b[39m\u001b[38;5;124mversion\u001b[39m\u001b[38;5;124m\"\u001b[39m)\n\u001b[0;32m    439\u001b[0m     \u001b[38;5;129;01mand\u001b[39;00m \u001b[38;5;28mself\u001b[39m\u001b[38;5;241m.\u001b[39msock\u001b[38;5;241m.\u001b[39mversion() \u001b[38;5;129;01min\u001b[39;00m {\u001b[38;5;124m\"\u001b[39m\u001b[38;5;124mTLSv1\u001b[39m\u001b[38;5;124m\"\u001b[39m, \u001b[38;5;124m\"\u001b[39m\u001b[38;5;124mTLSv1.1\u001b[39m\u001b[38;5;124m\"\u001b[39m}\n\u001b[0;32m    440\u001b[0m ):\n",
      "File \u001b[1;32mc:\\Users\\jws10y\\AppData\\Local\\anaconda3\\envs\\tensorflow-gpu\\lib\\site-packages\\urllib3\\util\\ssl_.py:402\u001b[0m, in \u001b[0;36mssl_wrap_socket\u001b[1;34m(sock, keyfile, certfile, cert_reqs, ca_certs, server_hostname, ssl_version, ciphers, ssl_context, ca_cert_dir, key_password, ca_cert_data, tls_in_tls)\u001b[0m\n\u001b[0;32m    400\u001b[0m \u001b[38;5;28;01mif\u001b[39;00m ca_certs \u001b[38;5;129;01mor\u001b[39;00m ca_cert_dir \u001b[38;5;129;01mor\u001b[39;00m ca_cert_data:\n\u001b[0;32m    401\u001b[0m     \u001b[38;5;28;01mtry\u001b[39;00m:\n\u001b[1;32m--> 402\u001b[0m         \u001b[43mcontext\u001b[49m\u001b[38;5;241;43m.\u001b[39;49m\u001b[43mload_verify_locations\u001b[49m\u001b[43m(\u001b[49m\u001b[43mca_certs\u001b[49m\u001b[43m,\u001b[49m\u001b[43m \u001b[49m\u001b[43mca_cert_dir\u001b[49m\u001b[43m,\u001b[49m\u001b[43m \u001b[49m\u001b[43mca_cert_data\u001b[49m\u001b[43m)\u001b[49m\n\u001b[0;32m    403\u001b[0m     \u001b[38;5;28;01mexcept\u001b[39;00m (\u001b[38;5;167;01mIOError\u001b[39;00m, \u001b[38;5;167;01mOSError\u001b[39;00m) \u001b[38;5;28;01mas\u001b[39;00m e:\n\u001b[0;32m    404\u001b[0m         \u001b[38;5;28;01mraise\u001b[39;00m SSLError(e)\n",
      "\u001b[1;31mKeyboardInterrupt\u001b[0m: "
     ]
    }
   ],
   "source": [
    "# we can now loop over each of our cities and find the wikipedia page associated with each\n",
    "poly_cities = pd.read_csv('../data/NB2/world_cities.csv')\n",
>>>>>>> a77f96d0820c52c0cbe32d1d300a3d607231739f
    "rows = []\n",
    "for idx, row in tqdm(poly_cities.iterrows(), total = len(poly_cities)):\n",
    "    location = row.city_ascii\n",
    "    state = row['Admin1 Code']\n",
    "    country = row.country\n",
    "    coords = (row.lat, row.lng)\n",
    "    \n",
    "    # check for disambiguation and add state/country if disamb reached\n",
    "    if disamb_check(location):\n",
    "        # pages for US locations work better if you add the state\n",
    "        if country == 'United States':\n",
    "            location += f' ({state})'\n",
    "        else:\n",
    "            location += f' ({country})'\n",
    "        # if the new location doesn't have a page then skip\n",
    "        if disamb_check(location):\n",
    "            continue\n",
    "    \n",
    "    ## check a page exists related to that location\n",
    "    if not check_page_exists(location):\n",
    "        continue\n",
    "    \n",
    "    # retrieve page\n",
    "    page = wikipedia.WikipediaPage(location)\n",
    "    # check if the page has coordinates:\n",
    "    try:\n",
    "        page.coordinates\n",
    "        has_coords = True\n",
    "    except KeyError:\n",
    "        has_coords = False\n",
    "        correct_coords = False\n",
    "    # check the coordinates match\n",
    "    if (has_coords) and not (check_coordinates(page, coords)):\n",
    "        if country == 'united_states':\n",
    "            location += state\n",
    "        else:\n",
    "            location += f'({country})'\n",
    "        # check a page exists, skip otherwise\n",
    "        if check_page_exists(location):  \n",
    "            page = wikipedia.page(location)\n",
    "            correct_coords = False\n",
    "            # check again with the new page, if still a miss then skip\n",
    "            if not check_coordinates(page, coords):\n",
    "                continue\n",
    "        else:\n",
    "            continue\n",
    "\n",
    "    elif (has_coords) and (check_coordinates(page, coords)):\n",
    "        correct_coords = True\n",
    "        \n",
    "    # check country is correct\n",
    "    if not (correct_coords) and not (check_correct_country(page, country)):\n",
    "        location += f'({country})'\n",
    "        # check a page exists, skip otherwise\n",
    "        if check_page_exists(location):  \n",
    "            page = wikipedia.page(location)\n",
    "        else:\n",
    "            continue\n",
    "    \n",
    "    # check this is a page for a city\n",
    "    if not (correct_coords) and not (check_is_city(page)):\n",
    "        continue \n",
    "    \n",
    "    # If it gets this far then the wikipedia page is confirmed as the correct one! \n",
    "    sentences = process_page(page)\n",
    "    for sentence in sentences:\n",
    "        row = {}\n",
    "        row['city'] = location\n",
    "        row['country'] = country\n",
    "        row['coordinates'] = coords\n",
    "        row['text'] = sentence\n",
    "        rows.append(row)\n",
    "        \n",
    "processed_wiki_cities = pd.DataFrame(rows)\n",
    "        \n",
    "processed_wiki_cities.to_csv('../data/NB2/wiki_cities_reference.csv', index=False)    "
   ]
  },
  {
   "cell_type": "markdown",
   "metadata": {},
   "source": [
    "## 2.3 Adding US Counties\n",
    "The current dataset is made mostly of towns and cities. As such, there is likely to be limited representation of [CHI] tags in the data. We will address this by adding US counties dataset. Once agian, we need to process these to ensure they can be associated to an OSM polygon and a valid Wikipedia page. This takes a couple of hours to run."
   ]
  },
  {
   "cell_type": "code",
<<<<<<< HEAD
   "execution_count": 72,
   "metadata": {},
   "outputs": [],
   "source": [
    "us_counties = pd.read_csv('../data/NB2/us_counties.csv', encoding='latin')\n",
    "us_counties.head()\n",
    "\n",
    "clean_latitude = lambda lat : float(lat[1:-1])\n",
    "clean_longitude = lambda lng : -float(lng[1:-1])\n",
    "\n",
    "us_counties['Latitude'] = us_counties['Latitude'].apply(clean_latitude)\n",
    "us_counties['Longitude'] = us_counties['Longitude'].apply(clean_longitude)\n",
    "us_counties = us_counties.rename(columns={'County [2]':'County'})"
=======
   "execution_count": 109,
   "metadata": {},
   "outputs": [
    {
     "data": {
      "text/html": [
       "<div>\n",
       "<style scoped>\n",
       "    .dataframe tbody tr th:only-of-type {\n",
       "        vertical-align: middle;\n",
       "    }\n",
       "\n",
       "    .dataframe tbody tr th {\n",
       "        vertical-align: top;\n",
       "    }\n",
       "\n",
       "    .dataframe thead th {\n",
       "        text-align: right;\n",
       "    }\n",
       "</style>\n",
       "<table border=\"1\" class=\"dataframe\">\n",
       "  <thead>\n",
       "    <tr style=\"text-align: right;\">\n",
       "      <th></th>\n",
       "      <th>county</th>\n",
       "      <th>county_ascii</th>\n",
       "      <th>county_full</th>\n",
       "      <th>county_fips</th>\n",
       "      <th>state_id</th>\n",
       "      <th>state_name</th>\n",
       "      <th>Latitude</th>\n",
       "      <th>Longitude</th>\n",
       "      <th>population</th>\n",
       "    </tr>\n",
       "  </thead>\n",
       "  <tbody>\n",
       "    <tr>\n",
       "      <th>0</th>\n",
       "      <td>Los Angeles</td>\n",
       "      <td>Los Angeles</td>\n",
       "      <td>Los Angeles County</td>\n",
       "      <td>6037</td>\n",
       "      <td>CA</td>\n",
       "      <td>California</td>\n",
       "      <td>34.3219</td>\n",
       "      <td>-118.2247</td>\n",
       "      <td>9936690</td>\n",
       "    </tr>\n",
       "    <tr>\n",
       "      <th>1</th>\n",
       "      <td>Cook</td>\n",
       "      <td>Cook</td>\n",
       "      <td>Cook County</td>\n",
       "      <td>17031</td>\n",
       "      <td>IL</td>\n",
       "      <td>Illinois</td>\n",
       "      <td>41.8401</td>\n",
       "      <td>-87.8168</td>\n",
       "      <td>5225367</td>\n",
       "    </tr>\n",
       "    <tr>\n",
       "      <th>2</th>\n",
       "      <td>Harris</td>\n",
       "      <td>Harris</td>\n",
       "      <td>Harris County</td>\n",
       "      <td>48201</td>\n",
       "      <td>TX</td>\n",
       "      <td>Texas</td>\n",
       "      <td>29.8578</td>\n",
       "      <td>-95.3938</td>\n",
       "      <td>4726177</td>\n",
       "    </tr>\n",
       "    <tr>\n",
       "      <th>3</th>\n",
       "      <td>Maricopa</td>\n",
       "      <td>Maricopa</td>\n",
       "      <td>Maricopa County</td>\n",
       "      <td>4013</td>\n",
       "      <td>AZ</td>\n",
       "      <td>Arizona</td>\n",
       "      <td>33.3490</td>\n",
       "      <td>-112.4915</td>\n",
       "      <td>4430871</td>\n",
       "    </tr>\n",
       "    <tr>\n",
       "      <th>4</th>\n",
       "      <td>San Diego</td>\n",
       "      <td>San Diego</td>\n",
       "      <td>San Diego County</td>\n",
       "      <td>6073</td>\n",
       "      <td>CA</td>\n",
       "      <td>California</td>\n",
       "      <td>33.0343</td>\n",
       "      <td>-116.7351</td>\n",
       "      <td>3289701</td>\n",
       "    </tr>\n",
       "  </tbody>\n",
       "</table>\n",
       "</div>"
      ],
      "text/plain": [
       "        county county_ascii         county_full  county_fips state_id  \\\n",
       "0  Los Angeles  Los Angeles  Los Angeles County         6037       CA   \n",
       "1         Cook         Cook         Cook County        17031       IL   \n",
       "2       Harris       Harris       Harris County        48201       TX   \n",
       "3     Maricopa     Maricopa     Maricopa County         4013       AZ   \n",
       "4    San Diego    San Diego    San Diego County         6073       CA   \n",
       "\n",
       "   state_name  Latitude  Longitude  population  \n",
       "0  California   34.3219  -118.2247     9936690  \n",
       "1    Illinois   41.8401   -87.8168     5225367  \n",
       "2       Texas   29.8578   -95.3938     4726177  \n",
       "3     Arizona   33.3490  -112.4915     4430871  \n",
       "4  California   33.0343  -116.7351     3289701  "
      ]
     },
     "execution_count": 109,
     "metadata": {},
     "output_type": "execute_result"
    }
   ],
   "source": [
    "us_counties = pd.read_csv('../data/NB2/us_counties.csv', encoding='latin')\n",
    "us_counties.head()\n"
>>>>>>> a77f96d0820c52c0cbe32d1d300a3d607231739f
   ]
  },
  {
   "cell_type": "code",
   "execution_count": 73,
   "metadata": {},
   "outputs": [
    {
     "data": {
      "text/html": [
       "<div>\n",
       "<style scoped>\n",
       "    .dataframe tbody tr th:only-of-type {\n",
       "        vertical-align: middle;\n",
       "    }\n",
       "\n",
       "    .dataframe tbody tr th {\n",
       "        vertical-align: top;\n",
       "    }\n",
       "\n",
       "    .dataframe thead th {\n",
       "        text-align: right;\n",
       "    }\n",
       "</style>\n",
       "<table border=\"1\" class=\"dataframe\">\n",
       "  <thead>\n",
       "    <tr style=\"text-align: right;\">\n",
       "      <th></th>\n",
       "      <th>Sort [1]</th>\n",
       "      <th>State</th>\n",
       "      <th>FIPS</th>\n",
       "      <th>County</th>\n",
       "      <th>County Seat(s) [3]</th>\n",
       "      <th>Population</th>\n",
       "      <th>Land Area</th>\n",
       "      <th>Land Area.1</th>\n",
       "      <th>Water Area</th>\n",
       "      <th>Water Area.1</th>\n",
       "      <th>Total Area</th>\n",
       "      <th>Total Area.1</th>\n",
       "      <th>Latitude</th>\n",
       "      <th>Longitude</th>\n",
       "    </tr>\n",
       "  </thead>\n",
       "  <tbody>\n",
       "    <tr>\n",
       "      <th>0</th>\n",
       "      <td>1</td>\n",
       "      <td>AL</td>\n",
       "      <td>1001</td>\n",
       "      <td>Autauga</td>\n",
       "      <td>Prattville</td>\n",
       "      <td>54,571</td>\n",
       "      <td>1,539.58</td>\n",
       "      <td>594.436</td>\n",
       "      <td>25.776</td>\n",
       "      <td>9.952</td>\n",
       "      <td>1,565.36</td>\n",
       "      <td>604.388</td>\n",
       "      <td>32.536382</td>\n",
       "      <td>-86.644490</td>\n",
       "    </tr>\n",
       "    <tr>\n",
       "      <th>1</th>\n",
       "      <td>2</td>\n",
       "      <td>AL</td>\n",
       "      <td>1003</td>\n",
       "      <td>Baldwin</td>\n",
       "      <td>Bay Minette</td>\n",
       "      <td>182,265</td>\n",
       "      <td>4,117.52</td>\n",
       "      <td>1,589.78</td>\n",
       "      <td>1,133.19</td>\n",
       "      <td>437.527</td>\n",
       "      <td>5,250.71</td>\n",
       "      <td>2,027.31</td>\n",
       "      <td>30.659218</td>\n",
       "      <td>-87.746067</td>\n",
       "    </tr>\n",
       "    <tr>\n",
       "      <th>2</th>\n",
       "      <td>3</td>\n",
       "      <td>AL</td>\n",
       "      <td>1005</td>\n",
       "      <td>Barbour</td>\n",
       "      <td>Clayton</td>\n",
       "      <td>27,457</td>\n",
       "      <td>2,291.82</td>\n",
       "      <td>884.876</td>\n",
       "      <td>50.865</td>\n",
       "      <td>19.639</td>\n",
       "      <td>2,342.68</td>\n",
       "      <td>904.515</td>\n",
       "      <td>31.870670</td>\n",
       "      <td>-85.405456</td>\n",
       "    </tr>\n",
       "    <tr>\n",
       "      <th>3</th>\n",
       "      <td>4</td>\n",
       "      <td>AL</td>\n",
       "      <td>1007</td>\n",
       "      <td>Bibb</td>\n",
       "      <td>Centreville</td>\n",
       "      <td>22,915</td>\n",
       "      <td>1,612.48</td>\n",
       "      <td>622.582</td>\n",
       "      <td>9.289</td>\n",
       "      <td>3.587</td>\n",
       "      <td>1,621.77</td>\n",
       "      <td>626.169</td>\n",
       "      <td>33.015893</td>\n",
       "      <td>-87.127148</td>\n",
       "    </tr>\n",
       "    <tr>\n",
       "      <th>4</th>\n",
       "      <td>5</td>\n",
       "      <td>AL</td>\n",
       "      <td>1009</td>\n",
       "      <td>Blount</td>\n",
       "      <td>Oneonta</td>\n",
       "      <td>57,322</td>\n",
       "      <td>1,669.96</td>\n",
       "      <td>644.776</td>\n",
       "      <td>15.157</td>\n",
       "      <td>5.852</td>\n",
       "      <td>1,685.12</td>\n",
       "      <td>650.628</td>\n",
       "      <td>33.977448</td>\n",
       "      <td>-86.567246</td>\n",
       "    </tr>\n",
       "    <tr>\n",
       "      <th>...</th>\n",
       "      <td>...</td>\n",
       "      <td>...</td>\n",
       "      <td>...</td>\n",
       "      <td>...</td>\n",
       "      <td>...</td>\n",
       "      <td>...</td>\n",
       "      <td>...</td>\n",
       "      <td>...</td>\n",
       "      <td>...</td>\n",
       "      <td>...</td>\n",
       "      <td>...</td>\n",
       "      <td>...</td>\n",
       "      <td>...</td>\n",
       "      <td>...</td>\n",
       "    </tr>\n",
       "    <tr>\n",
       "      <th>3138</th>\n",
       "      <td>3139</td>\n",
       "      <td>WY</td>\n",
       "      <td>56037</td>\n",
       "      <td>Sweetwater</td>\n",
       "      <td>Green River</td>\n",
       "      <td>43,806</td>\n",
       "      <td>27,004.90</td>\n",
       "      <td>10,426.65</td>\n",
       "      <td>166.887</td>\n",
       "      <td>64.436</td>\n",
       "      <td>27,171.78</td>\n",
       "      <td>10,491.09</td>\n",
       "      <td>41.660339</td>\n",
       "      <td>-108.875676</td>\n",
       "    </tr>\n",
       "    <tr>\n",
       "      <th>3139</th>\n",
       "      <td>3140</td>\n",
       "      <td>WY</td>\n",
       "      <td>56039</td>\n",
       "      <td>Teton</td>\n",
       "      <td>Jackson</td>\n",
       "      <td>21,294</td>\n",
       "      <td>10,347.98</td>\n",
       "      <td>3,995.38</td>\n",
       "      <td>572.266</td>\n",
       "      <td>220.953</td>\n",
       "      <td>10,920.25</td>\n",
       "      <td>4,216.33</td>\n",
       "      <td>44.049321</td>\n",
       "      <td>-110.588102</td>\n",
       "    </tr>\n",
       "    <tr>\n",
       "      <th>3140</th>\n",
       "      <td>3141</td>\n",
       "      <td>WY</td>\n",
       "      <td>56041</td>\n",
       "      <td>Uinta</td>\n",
       "      <td>Evanston</td>\n",
       "      <td>21,118</td>\n",
       "      <td>5,390.45</td>\n",
       "      <td>2,081.26</td>\n",
       "      <td>16.342</td>\n",
       "      <td>6.31</td>\n",
       "      <td>5,406.79</td>\n",
       "      <td>2,087.57</td>\n",
       "      <td>41.284726</td>\n",
       "      <td>-110.558947</td>\n",
       "    </tr>\n",
       "    <tr>\n",
       "      <th>3141</th>\n",
       "      <td>3142</td>\n",
       "      <td>WY</td>\n",
       "      <td>56043</td>\n",
       "      <td>Washakie</td>\n",
       "      <td>Worland</td>\n",
       "      <td>8,533</td>\n",
       "      <td>5,797.82</td>\n",
       "      <td>2,238.55</td>\n",
       "      <td>10.762</td>\n",
       "      <td>4.155</td>\n",
       "      <td>5,808.58</td>\n",
       "      <td>2,242.70</td>\n",
       "      <td>43.878831</td>\n",
       "      <td>-107.669052</td>\n",
       "    </tr>\n",
       "    <tr>\n",
       "      <th>3142</th>\n",
       "      <td>3143</td>\n",
       "      <td>WY</td>\n",
       "      <td>56045</td>\n",
       "      <td>Weston</td>\n",
       "      <td>Newcastle</td>\n",
       "      <td>7,208</td>\n",
       "      <td>6,211.02</td>\n",
       "      <td>2,398.09</td>\n",
       "      <td>5.002</td>\n",
       "      <td>1.931</td>\n",
       "      <td>6,216.02</td>\n",
       "      <td>2,400.02</td>\n",
       "      <td>43.846213</td>\n",
       "      <td>-104.570020</td>\n",
       "    </tr>\n",
       "  </tbody>\n",
       "</table>\n",
       "<p>3143 rows × 14 columns</p>\n",
       "</div>"
      ],
      "text/plain": [
       "      Sort [1] State   FIPS      County County Seat(s) [3] Population  \\\n",
       "0            1    AL   1001     Autauga         Prattville     54,571   \n",
       "1            2    AL   1003     Baldwin        Bay Minette    182,265   \n",
       "2            3    AL   1005     Barbour            Clayton     27,457   \n",
       "3            4    AL   1007        Bibb        Centreville     22,915   \n",
       "4            5    AL   1009      Blount            Oneonta     57,322   \n",
       "...        ...   ...    ...         ...                ...        ...   \n",
       "3138      3139    WY  56037  Sweetwater        Green River     43,806   \n",
       "3139      3140    WY  56039       Teton            Jackson     21,294   \n",
       "3140      3141    WY  56041       Uinta           Evanston     21,118   \n",
       "3141      3142    WY  56043    Washakie            Worland      8,533   \n",
       "3142      3143    WY  56045      Weston          Newcastle      7,208   \n",
       "\n",
       "      Land Area Land Area.1 Water Area Water Area.1 Total Area Total Area.1  \\\n",
       "0      1,539.58     594.436     25.776        9.952   1,565.36      604.388   \n",
       "1      4,117.52    1,589.78   1,133.19      437.527   5,250.71     2,027.31   \n",
       "2      2,291.82     884.876     50.865       19.639   2,342.68      904.515   \n",
       "3      1,612.48     622.582      9.289        3.587   1,621.77      626.169   \n",
       "4      1,669.96     644.776     15.157        5.852   1,685.12      650.628   \n",
       "...         ...         ...        ...          ...        ...          ...   \n",
       "3138  27,004.90   10,426.65    166.887       64.436  27,171.78    10,491.09   \n",
       "3139  10,347.98    3,995.38    572.266      220.953  10,920.25     4,216.33   \n",
       "3140   5,390.45    2,081.26     16.342         6.31   5,406.79     2,087.57   \n",
       "3141   5,797.82    2,238.55     10.762        4.155   5,808.58     2,242.70   \n",
       "3142   6,211.02    2,398.09      5.002        1.931   6,216.02     2,400.02   \n",
       "\n",
       "       Latitude   Longitude  \n",
       "0     32.536382  -86.644490  \n",
       "1     30.659218  -87.746067  \n",
       "2     31.870670  -85.405456  \n",
       "3     33.015893  -87.127148  \n",
       "4     33.977448  -86.567246  \n",
       "...         ...         ...  \n",
       "3138  41.660339 -108.875676  \n",
       "3139  44.049321 -110.588102  \n",
       "3140  41.284726 -110.558947  \n",
       "3141  43.878831 -107.669052  \n",
       "3142  43.846213 -104.570020  \n",
       "\n",
       "[3143 rows x 14 columns]"
      ]
     },
     "execution_count": 73,
     "metadata": {},
     "output_type": "execute_result"
    }
   ],
   "source": [
    "us_counties"
   ]
  },
  {
   "cell_type": "code",
<<<<<<< HEAD
   "execution_count": 74,
=======
   "execution_count": 128,
>>>>>>> a77f96d0820c52c0cbe32d1d300a3d607231739f
   "metadata": {},
   "outputs": [
    {
     "name": "stderr",
     "output_type": "stream",
     "text": [
<<<<<<< HEAD
      "  0%|          | 0/3143 [00:00<?, ?it/s]"
=======
      "  0%|          | 0/3144 [00:00<?, ?it/s]"
>>>>>>> a77f96d0820c52c0cbe32d1d300a3d607231739f
     ]
    },
    {
     "name": "stderr",
     "output_type": "stream",
     "text": [
<<<<<<< HEAD
      "100%|██████████| 3143/3143 [27:43<00:00,  1.89it/s] \n"
=======
      "  6%|▋         | 198/3144 [01:41<25:14,  1.94it/s]\n"
     ]
    },
    {
     "ename": "KeyboardInterrupt",
     "evalue": "",
     "output_type": "error",
     "traceback": [
      "\u001b[1;31m---------------------------------------------------------------------------\u001b[0m",
      "\u001b[1;31mKeyboardInterrupt\u001b[0m                         Traceback (most recent call last)",
      "Cell \u001b[1;32mIn[128], line 18\u001b[0m\n\u001b[0;32m     16\u001b[0m \u001b[38;5;28;01mif\u001b[39;00m \u001b[38;5;124m'\u001b[39m\u001b[38;5;124mPolygon\u001b[39m\u001b[38;5;124m'\u001b[39m \u001b[38;5;129;01mnot\u001b[39;00m \u001b[38;5;129;01min\u001b[39;00m match[\u001b[38;5;124m'\u001b[39m\u001b[38;5;124mgeojson\u001b[39m\u001b[38;5;124m'\u001b[39m][\u001b[38;5;124m'\u001b[39m\u001b[38;5;124mtype\u001b[39m\u001b[38;5;124m'\u001b[39m]:\n\u001b[0;32m     17\u001b[0m     \u001b[38;5;28;01mcontinue\u001b[39;00m\n\u001b[1;32m---> 18\u001b[0m \u001b[38;5;28;01mif\u001b[39;00m Point(coords)\u001b[38;5;241m.\u001b[39mwithin(\u001b[43mshape\u001b[49m\u001b[43m(\u001b[49m\u001b[43mmatch\u001b[49m\u001b[43m[\u001b[49m\u001b[38;5;124;43m'\u001b[39;49m\u001b[38;5;124;43mgeojson\u001b[39;49m\u001b[38;5;124;43m'\u001b[39;49m\u001b[43m]\u001b[49m\u001b[43m)\u001b[49m):\n\u001b[0;32m     19\u001b[0m     accepted_indices\u001b[38;5;241m.\u001b[39mappend(i)\n\u001b[0;32m     20\u001b[0m     \u001b[38;5;28;01mbreak\u001b[39;00m\n",
      "File \u001b[1;32mc:\\Users\\jws10y\\AppData\\Local\\anaconda3\\envs\\tensorflow-gpu\\lib\\site-packages\\shapely\\geometry\\geo.py:102\u001b[0m, in \u001b[0;36mshape\u001b[1;34m(context)\u001b[0m\n\u001b[0;32m    100\u001b[0m     \u001b[38;5;28;01mreturn\u001b[39;00m LinearRing(ob[\u001b[38;5;124m\"\u001b[39m\u001b[38;5;124mcoordinates\u001b[39m\u001b[38;5;124m\"\u001b[39m])\n\u001b[0;32m    101\u001b[0m \u001b[38;5;28;01melif\u001b[39;00m geom_type \u001b[38;5;241m==\u001b[39m \u001b[38;5;124m\"\u001b[39m\u001b[38;5;124mpolygon\u001b[39m\u001b[38;5;124m\"\u001b[39m:\n\u001b[1;32m--> 102\u001b[0m     \u001b[38;5;28;01mreturn\u001b[39;00m \u001b[43mPolygon\u001b[49m\u001b[43m(\u001b[49m\u001b[43mob\u001b[49m\u001b[43m[\u001b[49m\u001b[38;5;124;43m\"\u001b[39;49m\u001b[38;5;124;43mcoordinates\u001b[39;49m\u001b[38;5;124;43m\"\u001b[39;49m\u001b[43m]\u001b[49m\u001b[43m[\u001b[49m\u001b[38;5;241;43m0\u001b[39;49m\u001b[43m]\u001b[49m\u001b[43m,\u001b[49m\u001b[43m \u001b[49m\u001b[43mob\u001b[49m\u001b[43m[\u001b[49m\u001b[38;5;124;43m\"\u001b[39;49m\u001b[38;5;124;43mcoordinates\u001b[39;49m\u001b[38;5;124;43m\"\u001b[39;49m\u001b[43m]\u001b[49m\u001b[43m[\u001b[49m\u001b[38;5;241;43m1\u001b[39;49m\u001b[43m:\u001b[49m\u001b[43m]\u001b[49m\u001b[43m)\u001b[49m\n\u001b[0;32m    103\u001b[0m \u001b[38;5;28;01melif\u001b[39;00m geom_type \u001b[38;5;241m==\u001b[39m \u001b[38;5;124m\"\u001b[39m\u001b[38;5;124mmultipoint\u001b[39m\u001b[38;5;124m\"\u001b[39m:\n\u001b[0;32m    104\u001b[0m     \u001b[38;5;28;01mreturn\u001b[39;00m MultiPoint(ob[\u001b[38;5;124m\"\u001b[39m\u001b[38;5;124mcoordinates\u001b[39m\u001b[38;5;124m\"\u001b[39m])\n",
      "File \u001b[1;32mc:\\Users\\jws10y\\AppData\\Local\\anaconda3\\envs\\tensorflow-gpu\\lib\\site-packages\\shapely\\geometry\\polygon.py:230\u001b[0m, in \u001b[0;36mPolygon.__new__\u001b[1;34m(self, shell, holes)\u001b[0m\n\u001b[0;32m    228\u001b[0m     \u001b[38;5;28;01mreturn\u001b[39;00m shell\n\u001b[0;32m    229\u001b[0m \u001b[38;5;28;01melse\u001b[39;00m:\n\u001b[1;32m--> 230\u001b[0m     shell \u001b[38;5;241m=\u001b[39m \u001b[43mLinearRing\u001b[49m\u001b[43m(\u001b[49m\u001b[43mshell\u001b[49m\u001b[43m)\u001b[49m\n\u001b[0;32m    232\u001b[0m \u001b[38;5;28;01mif\u001b[39;00m holes \u001b[38;5;129;01mis\u001b[39;00m \u001b[38;5;129;01mnot\u001b[39;00m \u001b[38;5;28;01mNone\u001b[39;00m:\n\u001b[0;32m    233\u001b[0m     \u001b[38;5;28;01mif\u001b[39;00m \u001b[38;5;28mlen\u001b[39m(holes) \u001b[38;5;241m==\u001b[39m \u001b[38;5;241m0\u001b[39m:\n\u001b[0;32m    234\u001b[0m         \u001b[38;5;66;03m# shapely constructor cannot handle holes=[]\u001b[39;00m\n",
      "File \u001b[1;32mc:\\Users\\jws10y\\AppData\\Local\\anaconda3\\envs\\tensorflow-gpu\\lib\\site-packages\\shapely\\geometry\\polygon.py:104\u001b[0m, in \u001b[0;36mLinearRing.__new__\u001b[1;34m(self, coordinates)\u001b[0m\n\u001b[0;32m     99\u001b[0m \u001b[38;5;28;01mif\u001b[39;00m \u001b[38;5;28mlen\u001b[39m(coordinates) \u001b[38;5;241m==\u001b[39m \u001b[38;5;241m0\u001b[39m:\n\u001b[0;32m    100\u001b[0m     \u001b[38;5;66;03m# empty geometry\u001b[39;00m\n\u001b[0;32m    101\u001b[0m     \u001b[38;5;66;03m# TODO better constructor + should shapely.linearrings handle this?\u001b[39;00m\n\u001b[0;32m    102\u001b[0m     \u001b[38;5;28;01mreturn\u001b[39;00m shapely\u001b[38;5;241m.\u001b[39mfrom_wkt(\u001b[38;5;124m\"\u001b[39m\u001b[38;5;124mLINEARRING EMPTY\u001b[39m\u001b[38;5;124m\"\u001b[39m)\n\u001b[1;32m--> 104\u001b[0m geom \u001b[38;5;241m=\u001b[39m \u001b[43mshapely\u001b[49m\u001b[38;5;241;43m.\u001b[39;49m\u001b[43mlinearrings\u001b[49m\u001b[43m(\u001b[49m\u001b[43mcoordinates\u001b[49m\u001b[43m)\u001b[49m\n\u001b[0;32m    105\u001b[0m \u001b[38;5;28;01mif\u001b[39;00m \u001b[38;5;129;01mnot\u001b[39;00m \u001b[38;5;28misinstance\u001b[39m(geom, LinearRing):\n\u001b[0;32m    106\u001b[0m     \u001b[38;5;28;01mraise\u001b[39;00m \u001b[38;5;167;01mValueError\u001b[39;00m(\u001b[38;5;124m\"\u001b[39m\u001b[38;5;124mInvalid values passed to LinearRing constructor\u001b[39m\u001b[38;5;124m\"\u001b[39m)\n",
      "File \u001b[1;32mc:\\Users\\jws10y\\AppData\\Local\\anaconda3\\envs\\tensorflow-gpu\\lib\\site-packages\\shapely\\decorators.py:77\u001b[0m, in \u001b[0;36mmultithreading_enabled.<locals>.wrapped\u001b[1;34m(*args, **kwargs)\u001b[0m\n\u001b[0;32m     75\u001b[0m     \u001b[38;5;28;01mfor\u001b[39;00m arr \u001b[38;5;129;01min\u001b[39;00m array_args:\n\u001b[0;32m     76\u001b[0m         arr\u001b[38;5;241m.\u001b[39mflags\u001b[38;5;241m.\u001b[39mwriteable \u001b[38;5;241m=\u001b[39m \u001b[38;5;28;01mFalse\u001b[39;00m\n\u001b[1;32m---> 77\u001b[0m     \u001b[38;5;28;01mreturn\u001b[39;00m func(\u001b[38;5;241m*\u001b[39margs, \u001b[38;5;241m*\u001b[39m\u001b[38;5;241m*\u001b[39mkwargs)\n\u001b[0;32m     78\u001b[0m \u001b[38;5;28;01mfinally\u001b[39;00m:\n\u001b[0;32m     79\u001b[0m     \u001b[38;5;28;01mfor\u001b[39;00m arr, old_flag \u001b[38;5;129;01min\u001b[39;00m \u001b[38;5;28mzip\u001b[39m(array_args, old_flags):\n",
      "File \u001b[1;32mc:\\Users\\jws10y\\AppData\\Local\\anaconda3\\envs\\tensorflow-gpu\\lib\\site-packages\\shapely\\creation.py:173\u001b[0m, in \u001b[0;36mlinearrings\u001b[1;34m(coords, y, z, indices, out, **kwargs)\u001b[0m\n\u001b[0;32m    171\u001b[0m coords \u001b[38;5;241m=\u001b[39m _xyz_to_coords(coords, y, z)\n\u001b[0;32m    172\u001b[0m \u001b[38;5;28;01mif\u001b[39;00m indices \u001b[38;5;129;01mis\u001b[39;00m \u001b[38;5;28;01mNone\u001b[39;00m:\n\u001b[1;32m--> 173\u001b[0m     \u001b[38;5;28;01mreturn\u001b[39;00m lib\u001b[38;5;241m.\u001b[39mlinearrings(coords, out\u001b[38;5;241m=\u001b[39mout, \u001b[38;5;241m*\u001b[39m\u001b[38;5;241m*\u001b[39mkwargs)\n\u001b[0;32m    174\u001b[0m \u001b[38;5;28;01melse\u001b[39;00m:\n\u001b[0;32m    175\u001b[0m     \u001b[38;5;28;01mreturn\u001b[39;00m simple_geometries_1d(coords, indices, GeometryType\u001b[38;5;241m.\u001b[39mLINEARRING, out\u001b[38;5;241m=\u001b[39mout)\n",
      "\u001b[1;31mKeyboardInterrupt\u001b[0m: "
>>>>>>> a77f96d0820c52c0cbe32d1d300a3d607231739f
     ]
    }
   ],
   "source": [
    "from shapely.geometry import shape\n",
    "# We're again going to use the gazetteer to limit these to counties with OSM polygons\n",
    "gazetteer = Gazetteer(polygon=True, addressdetails=False)\n",
    "accepted_indices = []\n",
    "for i, county in tqdm(us_counties.iterrows(), total=len(us_counties)):\n",
<<<<<<< HEAD
    "    name = county.County\n",
    "    coords = (float(county.Longitude), float(county.Latitude))\n",
    "    state = county.State\n",
=======
    "    name = county.county_full\n",
    "    coords = (float(county.Longitude), float(county.Latitude))\n",
    "    state = county.state_id\n",
>>>>>>> a77f96d0820c52c0cbe32d1d300a3d607231739f
    "    try:\n",
    "        matches = gazetteer.query(name).json()\n",
    "    except TypeError:\n",
    "        continue\n",
    "    for match in matches:\n",
    "        if 'geojson' not in match.keys():\n",
    "            continue\n",
    "        if 'Polygon' not in match['geojson']['type']:\n",
    "            continue\n",
    "        if Point(coords).within(shape(match['geojson'])):\n",
    "            accepted_indices.append(i)\n",
    "            break"
   ]
  },
  {
   "cell_type": "code",
<<<<<<< HEAD
   "execution_count": 75,
=======
   "execution_count": 125,
>>>>>>> a77f96d0820c52c0cbe32d1d300a3d607231739f
   "metadata": {},
   "outputs": [],
   "source": [
    "location = 'Autauga County'\n",
    "if disamb_check(location):\n",
    "    new_location = location + f', {state}'\n",
    "    \n",
    "    # if the new location doesn't have a page then skip\n",
    "    if disamb_check(new_location):\n",
    "        print(f'\"{location}\" leads to disambiguation')"
   ]
  },
  {
   "cell_type": "code",
<<<<<<< HEAD
   "execution_count": 76,
=======
   "execution_count": 126,
>>>>>>> a77f96d0820c52c0cbe32d1d300a3d607231739f
   "metadata": {},
   "outputs": [
    {
     "data": {
      "text/plain": [
       "<WikipediaPage 'Autauga County, Alabama'>"
      ]
     },
<<<<<<< HEAD
     "execution_count": 76,
=======
     "execution_count": 126,
>>>>>>> a77f96d0820c52c0cbe32d1d300a3d607231739f
     "metadata": {},
     "output_type": "execute_result"
    }
   ],
   "source": [
    "wikipedia.WikipediaPage('Autauga County, AL')"
   ]
  },
  {
   "cell_type": "code",
<<<<<<< HEAD
   "execution_count": 77,
   "metadata": {},
   "outputs": [],
=======
   "execution_count": 127,
   "metadata": {},
   "outputs": [
    {
     "ename": "KeyError",
     "evalue": "'[65539, 32772, 65556, 32789, 32795, 32796, 65564, 32801, 65569, 32806, 32807, 65576, 65577, 65578, 65583, 65584, 65585, 65587, 32856, 32889, 32892, 65708, 65710, 65713, 65715, 65718, 65721, 65725, 65726, 65734, 65736, 65739, 98511, 131286, 131288, 131290, 65756, 131292, 131296, 65766, 98535, 131305, 65774, 65775, 98544, 131312, 131317, 65782, 65783, 98554, 65788, 98556, 65792, 65807, 98608, 98613, 131397, 98635, 131405, 98642, 98643, 98647, 98649, 131417, 98654, 98657, 33127, 131432, 33133, 131447, 98687, 98690, 33155, 98694, 98695, 33166, 33195, 33200, 33213, 98752, 33220, 33227, 33222, 98763, 98766, 131537, 98774, 33241, 98780, 33245, 33246, 98783, 131550, 98785, 131551, 131554, 98788, 131556, 98790, 98792, 66025, 131559, 98795, 131562, 131566, 66033, 131569, 131570, 131571, 131573, 66038, 131574, 66041, 66042, 33275, 66043, 98811, 131578, 131581, 66049, 98817, 131587, 98820, 131588, 131589, 66056, 98825, 98826, 131595, 33292, 66062, 131599, 131601, 131606, 131609, 131616, 33316, 131623, 98860, 131629, 98866, 131632, 131635, 98870, 98871, 33342, 131646, 66115, 131651, 131652, 33352, 131657, 66124, 66133, 131670, 131671, 66136, 131675, 98908, 66141, 33374, 98911, 131678, 131679, 131681, 66147, 131682, 131683, 98921, 66157, 66161, 66162, 33395, 131698, 33397, 33399, 33400, 33401, 66171, 98942, 98943, 131712, 66177, 66179, 33413, 33415, 33418, 98959, 33425, 33428, 33433, 98975, 98983, 98991, 98993, 98995, 99002, 99003, 99007, 99008, 33473, 33475, 99014, 99015, 33481, 33483, 33493, 66261, 66273, 131828, 131835, 131836, 131841, 131851, 131852, 131853, 131854, 131856, 131858, 131863, 66334, 33570, 33578, 131887, 33588, 33590, 131900, 33598, 131901, 99136, 99140, 99141, 131912, 99149, 99151, 99155, 33620, 33623, 99159, 99167, 33632, 99182, 99185, 99195, 33660, 33662, 99197, 33664, 99200, 99214, 33688, 99225, 99233, 99244, 99257, 33722, 33729, 132033, 132034, 132038, 132047, 99280, 132052, 33751, 132056, 132064, 132069, 33766, 132074, 33774, 66541, 66542, 132080, 132083, 66550, 66551, 132088, 66553, 99322, 66558, 66559, 33793, 66560, 99329, 66565, 132096, 66570, 132107, 99340, 66574, 99352, 66587, 66590, 66592, 99359, 66598, 66601, 66607, 66609, 66613, 66614, 99382, 66616, 99387, 66620, 99389, 99402, 66638, 66639, 66640, 66641, 66642, 66643, 99407, 99416, 33882, 66652, 66653, 99418, 66655, 99419, 66658, 66660, 99428, 33898, 66667, 99439, 66672, 33910, 99446, 99449, 33914, 66682, 66685, 33918, 33928, 33932, 33936, 99472, 33939, 66708, 33943, 33944, 66717, 33959, 99496, 33966, 33971, 99511, 33991, 33992, 66761, 33994, 33995, 66762, 66763, 66765, 66767, 99527, 99534, 66770, 99538, 66772, 99541, 66776, 34016, 99552, 66788, 99569, 99571, 99575, 99576, 132353, 132355, 99589, 34062, 132369, 132370, 99603, 34068, 132371, 99606, 99607, 132375, 99611, 132380, 99613, 66846, 99614, 99616, 132381, 132390, 132393, 132394, 132396, 99632, 99633, 132403, 132404, 132405, 99638, 34103, 99640, 66873, 99641, 132406, 132407, 132409, 99646, 132413, 66883, 132420, 99653, 34118, 34119, 66887, 99655, 34122, 34123, 99659, 34125, 99660, 34127, 99662, 99666, 99667, 99668, 99677, 132446, 99680, 34145, 132452, 99685, 132453, 99689, 132458, 132460, 34159, 132465, 99699, 66932, 132467, 132468, 99705, 99706, 66941, 99709, 132479, 132480, 66945, 132481, 99715, 132487, 132489, 99726, 99728, 132498, 99732, 132501, 99734, 34199, 132502, 132504, 132508, 132515, 99748, 99750, 99755, 99757, 99759, 132528, 132530, 132531, 34230, 132535, 132538, 67006, 99777, 99778, 67012, 99782, 132550, 132551, 34251, 132558, 99791, 132560, 34258, 99794, 132565, 34262, 99801, 132569, 34267, 99803, 99805, 132571, 99812, 132580, 34282, 34287, 34289, 99827, 34294, 34293, 34297, 99830, 99833, 99835, 34303, 34312, 34314, 34327, 34329, 34332, 34337, 34355, 99900, 99902, 99905, 132676, 99910, 99914, 99915, 99918, 99919, 99921, 99924, 99925, 99927, 99928, 132696, 99934, 99936, 99950, 132718, 99952, 99956, 99959, 34425, 34427, 99975, 99983, 99984, 99995, 34460, 100009, 100014, 100015, 100020, 100021, 100023, 34489, 34491, 34492, 100032, 34501, 34504, 100047, 100048, 34513, 100051, 100053, 132818, 100057, 100058, 132830, 100065, 132834, 34532, 100069, 34534, 132836, 34537, 132838, 100076, 34541, 34545, 34548, 34550, 100087, 34556, 100097, 100098, 100100, 100101, 100102, 132873, 34576, 100112, 34580, 132890, 34590, 100131, 100136, 132904, 100138, 132907, 100141, 132922, 132923, 100157, 132924, 100160, 100167, 100172, 100173, 100176, 100181, 34650, 100186, 67421, 67425, 67426, 67427, 100198, 67433, 100202, 100209, 100211, 100212, 67446, 67447, 100216, 67452, 100221, 100227, 100228, 100234, 34702, 100241, 100242, 100244, 100250, 100254, 34720, 67488, 100261, 34726, 34730, 100266, 34734, 100277, 67523, 100291, 100298, 100300, 100304, 100305, 34770, 100307, 100309, 100319, 100320, 100321, 34786, 67554, 34788, 34790, 100322, 100324, 100331, 100333, 34802, 100335, 100336, 100339, 100341, 100342, 100343, 100344, 100346, 100349, 100352, 100353, 133116, 100358, 133120, 34844, 133149, 133150, 133151, 133152, 100387, 34852, 34854, 34855, 100390, 100392, 100394, 133165, 34865, 100402, 34869, 100407, 100408, 100412, 34879, 133183, 34881, 34882, 100418, 100420, 133186, 100422, 34887, 100424, 133189, 100427, 34894, 100430, 100431, 100435, 133204, 34901, 100438, 34903, 34908, 100447, 100448, 34917, 34919, 100452, 100453, 34928, 133233, 34933, 133236, 34936, 34946, 133251, 34948, 34950, 34952, 34953, 34955, 34956, 133262, 34959, 34962, 34965, 34966, 34971, 34972, 34977, 34979, 100517, 100520, 34992, 133298, 133299, 35005, 35019, 35021, 35025, 133332, 35034, 35036, 133343, 35044, 35045, 35054, 35057, 35058, 100600, 100604, 100605, 35070, 133381, 35078, 35084, 35085, 100618, 100619, 100621, 100627, 133388, 133391, 100633, 35100, 35103, 35105, 35106, 35108, 67878, 100647, 35115, 67883, 35117, 100650, 100651, 100653, 100659, 67893, 67896, 100660, 100666, 67899, 35134, 35136, 67902, 67908, 100670, 100671, 100673, 35145, 67913, 100677, 100680, 133452, 133455, 35153, 35154, 67922, 67925, 100696, 35162, 35164, 35166, 133471, 35168, 67938, 67939, 35177, 133481, 67948, 133488, 133491, 67957, 133492, 133494, 133495, 35195, 67963, 133501, 35200, 67969, 67976, 67978, 67987, 67993, 133540, 68008, 68022, 68026, 68029, 68031, 68043, 68081, 68088, 100921, 35386, 35388, 35390, 35391, 100926, 100934, 100941, 35408, 100944, 35410, 35412, 100949, 133717, 100953, 100955, 100956, 133724, 133731, 35431, 35451, 35455, 35469, 35478, 133786, 133796, 133799, 133807, 133809, 133815, 133817, 133818, 133819, 133841, 133851, 133858, 133860, 101094, 133862, 101098, 133867, 101101, 133868, 133869, 133870, 133876, 133889, 133890, 133892, 133935, 133945, 133953, 133958, 133960, 133964, 133976, 133978, 133979, 35688, 35689, 133992, 133998, 35697, 35698, 101234, 134004, 101237, 101242, 101243, 101244, 134010, 101246, 101254, 101255, 134030, 101276, 101277, 101280, 101281, 101282, 101283, 134048, 101285, 101289, 35775, 35779, 134090, 35789, 35792, 134101, 35805, 35806, 35809, 134117, 35817, 35819, 35822, 35825, 134134, 134138, 134143, 35844, 35847, 101410, 101411, 101413, 101418, 101421, 101425, 101426, 101432, 101464, 101472, 101476, 134245, 134252, 68735, 68738, 68743, 134281, 68760, 134297, 68766, 68768, 68769, 68773, 68777, 68783, 68791, 68795, 68799, 68808, 68810, 68812, 68815, 68816, 68818, 68820, 134358, 3288, 3289, 134362, 68829, 68833, 101602, 68836, 134374, 68840, 3305, 134379, 3310, 3312, 134387, 134388, 68854, 68855, 3321, 68859, 134395, 134397, 101630, 134399, 3328, 3330, 3332, 68868, 101638, 68872, 134409, 68874, 3340, 134412, 68879, 68880, 3345, 68883, 68884, 3349, 101652, 68887, 134423, 101657, 68890, 68892, 3357, 68893, 68895, 134433, 3362, 134439, 134443, 101676, 3374, 68911, 134447, 134449, 134451, 101684, 68918, 101686, 134460, 101693, 101694, 68928, 3393, 101696, 134466, 68932, 134470, 134471, 3403, 68947, 68952, 134490, 134497, 134499, 68969, 68970, 68972, 68990, 68992, 68994, 134539, 134543, 134544, 69010, 69014, 69020, 134579, 134580, 134587, 134589, 101824, 69074, 134618, 134620, 69086, 69087, 69088, 101856, 101857, 69094, 101867, 134641, 36339, 36342, 36343, 134646, 69114, 69115, 101891, 134660, 36358, 69127, 36360, 69129, 134666, 69133, 69134, 36367, 69136, 101905, 69138, 36373, 36375, 69152, 69153, 69157, 134705, 69170, 134707, 69172, 36405, 69173, 101943, 134708, 134711, 101946, 134713, 134714, 134719, 36419, 69188, 134724, 36425, 69193, 69197, 69199, 101971, 69209, 101979, 69212, 69215, 101983, 69227, 69236, 102005, 102007, 36475, 69247, 69251, 69264, 102033, 36502, 69271, 36504, 69277, 69283, 69284, 69311, 69317, 3783, 3784, 69319, 3788, 69325, 3798, 69334, 69339, 3806, 3808, 3809, 3810, 69360, 69364, 134901, 134904, 69370, 134909, 69374, 69375, 69376, 134910, 69378, 134912, 69381, 134917, 69383, 69385, 134924, 134925, 134927, 134929, 69398, 69401, 3866, 3870, 3871, 134942, 134944, 69410, 69411, 134945, 3877, 102184, 69417, 69419, 69421, 134957, 134959, 134960, 3889, 3891, 134965, 3894, 69431, 134969, 102204, 69438, 69441, 69443, 3911, 134983, 134985, 36682, 69452, 3917, 69454, 134988, 102224, 69457, 134993, 3923, 36692, 69460, 36694, 3927, 69464, 69465, 102234, 134997, 3932, 3933, 135002, 3935, 135005, 3937, 135006, 135009, 69476, 3941, 3942, 135012, 135013, 102249, 69482, 102251, 3949, 69485, 135023, 3954, 102258, 135027, 135028, 3966, 135039, 3968, 36736, 135042, 3971, 3973, 135046, 102279, 102281, 102282, 102283, 36750, 102287, 69520, 102288, 102290, 3990, 36758, 102294, 135062, 102299, 3996, 3998, 102303, 69537, 102307, 102308, 102310, 69543, 4009, 102314, 102315, 4012, 69550, 102320, 102321, 102322, 135089, 102324, 4021, 4022, 135090, 135099, 135100, 102333, 135101, 135103, 69568, 102338, 69573, 69579, 135115, 135116, 135117, 69591, 135127, 135128, 135129, 69595, 102365, 135133, 135134, 102368, 135135, 135137, 135138, 135140, 102374, 135142, 135144, 102377, 135146, 69614, 135152, 69617, 69619, 102392, 102393, 69630, 102400, 102402, 36867, 69637, 69638, 69641, 36876, 36877, 102415, 102416, 69649, 102418, 4126, 69663, 102431, 102436, 4138, 69675, 4140, 4141, 4142, 36911, 102446, 102447, 102451, 36916, 36917, 36918, 4151, 36919, 36921, 69689, 102452, 102462, 36928, 36929, 69696, 69697, 102465, 4165, 36935, 36936, 36937, 69703, 69706, 36940, 69708, 4174, 135241, 69712, 135245, 102487, 4184, 102489, 102490, 135256, 4190, 69726, 36963, 36964, 36965, 69734, 36967, 102500, 102505, 135271, 102507, 36972, 36973, 102508, 4207, 36975, 135272, 102514, 135275, 135276, 102517, 69750, 102518, 135280, 135286, 135289, 135291, 135292, 102525, 36992, 102529, 36995, 102531, 135306, 4235, 135307, 135314, 37011, 135315, 4248, 37016, 37018, 37019, 37021, 135325, 135326, 102560, 37025, 37026, 4259, 135327, 37029, 37030, 37031, 102566, 37033, 102568, 37035, 69807, 69808, 37041, 37048, 37072, 37084, 37103, 37104, 37106, 37111, 37115, 37116, 37119, 37121, 37125, 37126, 37127, 37133, 37134, 37135, 37136, 37138, 37147, 37150, 37212, 37225, 37226, 37230, 37232, 37234, 37236, 37240, 37241, 70010, 37244, 37245, 4483, 4484, 70020, 37255, 135561, 4492, 102796, 4494, 37262, 102797, 102798, 135568, 70035, 135571, 135572, 135573, 37271, 37276, 102814, 102816, 37282, 37285, 70054, 37289, 102828, 102832, 70066, 37299, 102836, 102837, 37303, 70073, 102841, 37307, 102842, 37312, 37313, 70080, 37315, 37316, 70085, 102851, 37321, 102857, 70091, 102860, 70093, 4560, 102866, 102867, 37332, 70103, 102871, 70107, 4573, 102880, 102881, 37346, 37347, 4581, 102886, 4584, 102888, 37354, 102892, 37359, 37361, 102897, 4596, 102901, 37368, 37369, 4604, 70140, 70141, 70143, 102913, 37382, 37387, 37388, 37389, 4623, 70160, 37393, 102927, 102928, 70164, 37400, 102940, 37405, 70174, 37408, 102944, 102945, 102946, 37412, 37414, 70184, 70185, 102952, 102955, 37420, 37421, 102958, 102959, 37424, 37431, 70200, 102971, 37437, 37438, 102974, 102975, 70209, 37442, 70211, 70212, 70213, 102980, 102982, 37448, 70217, 37450, 102986, 102987, 102990, 102991, 37456, 37458, 102995, 37460, 37471, 37472, 37474, 37476, 37479, 37482, 37485, 37487, 70261, 70262, 37499, 70267, 37506, 70274, 135814, 37511, 70280, 103060, 103067, 135837, 70302, 135843, 135844, 70309, 135848, 70313, 135850, 135851, 135852, 135854, 70319, 135855, 70321, 135858, 135860, 135861, 135863, 135865, 70331, 135868, 70335, 103105, 135877, 70342, 135878, 135886, 135888, 135892, 70358, 37596, 37598, 37603, 37604, 135908, 135910, 135911, 135913, 135918, 135926, 135927, 135930, 135932, 37631, 37635, 135944, 37644, 135950, 70416, 135953, 135956, 135958, 135960, 70425, 37659, 70427, 37662, 37663, 37664, 135971, 37670, 70440, 37678, 70451, 135990, 70455, 136000, 136002, 70468, 37701, 37702, 70469, 37705, 37706, 37708, 37709, 70476, 136013, 70483, 70487, 136025, 37722, 70490, 37724, 70491, 70493, 70494, 136028, 136034, 136038, 70508, 70509, 70511, 136051, 136057, 136059, 136061, 4992, 70529, 136064, 70532, 136070, 136072, 70537, 137765, 70546, 70548, 5018, 136104, 5034, 70574, 136114, 136118, 136124, 70591, 136132, 136133, 136134, 136136, 136137, 70604, 136142, 70609, 70611, 136150, 136151, 136156, 70622, 5088, 5089, 70624, 70629, 70630, 103431, 103435, 103436, 103443, 103446, 137793, 103451, 103456, 137795, 137796, 103471, 137798, 137799, 137801, 70736, 70743, 37976, 5216, 5217, 37985, 5219, 5220, 5223, 37997, 5229, 5231, 5232, 38002, 38004, 38005, 38006, 5237, 5238, 5241, 5243, 38012, 5245, 5246, 38014, 5248, 5249, 5251, 38023, 38031, 5270, 38039, 5276, 5285, 103606, 5303, 70840, 70843, 70845, 70846, 103614, 137826, 70850, 70851, 70854, 70855, 103624, 103626, 70859, 70861, 70864, 103632, 70867, 70868, 70870, 70872, 70873, 70875, 70877, 70878, 103654, 70896, 70899, 70902, 103671, 70904, 103674, 70910, 70912, 70913, 70914, 70916, 70918, 103687, 103690, 70923, 103700, 70933, 103701, 70939, 70940, 70941, 70942, 70943, 70946, 70947, 70951, 70962, 70964, 70967, 70969, 70974, 70975, 70977, 70980, 70981, 70984, 70986, 70987, 70990, 70991, 70995, 70998, 71009, 71011, 71037, 71039, 71060, 71061, 71065, 71068, 71069, 71074, 71076, 71077, 71080, 71081, 71085, 71090, 71091, 71092, 71093, 71094, 71096, 71097, 5568, 5569, 71104, 71106, 71107, 5573, 71109, 71111, 71112, 5578, 5580, 71116, 5582, 5590, 71132, 5599, 5601, 103906, 71141, 71143, 71144, 71153, 71156, 71161, 71162, 71170, 71174, 71185, 103956, 103957, 103960, 103962, 103963, 103965, 103968, 103970, 103971, 103972, 103977, 103978, 103980, 103981, 103982, 103987, 5705, 104012, 104018, 104021, 104025, 71258, 104028, 5729, 104046, 104049, 104051, 104052, 104065, 104072, 104079, 104080, 104082, 104087, 104092, 104093, 104097, 104098, 104106, 104136, 104138, 104139, 104140, 104142, 104143, 104147, 104153, 104154, 104166, 136938, 104174, 104175, 104177, 104178, 104180, 104184, 104185, 104189, 38654, 38656, 104193, 104197, 104198, 104199, 104201, 104203, 104205, 71439, 104207, 104209, 104211, 71453, 104222, 104223, 71456, 104225, 38690, 104227, 136993, 104229, 136994, 38695, 136997, 38698, 38699, 137002, 38701, 137003, 5937, 38707, 71475, 104244, 137013, 38711, 5944, 104248, 5946, 71482, 71484, 5949, 104252, 5951, 137016, 5953, 137017, 137022, 137028, 5957, 104261, 104263, 137032, 104265, 137042, 104282, 5986, 104290, 6000, 6002, 6003, 104308, 6005, 6020, 104333, 104337, 6061, 38835, 38838, 38841, 38842, 38848, 6083, 38854, 6087, 6089, 6091, 6094, 104401, 71642, 71647, 6112, 6113, 6116, 71652, 38886, 71655, 104422, 6121, 71658, 6128, 104432, 6130, 6131, 6132, 104435, 104438, 71671, 71674, 104442, 71681, 71682, 71683, 104453, 6150, 71704, 6170, 71706, 104476, 6173, 104480, 6181, 71718, 104486, 71720, 104489, 104490, 71725, 104493, 71729, 6208, 6210, 104516, 6214, 104525, 104529, 6231, 104545, 137014, 104565, 6279, 104588, 6288, 6293, 6305, 6325, 6331, 137408, 137411, 137419, 6348, 6359, 6362, 6371, 39139, 137443, 137446, 39145, 6380, 39152, 39153, 71924, 39157, 39160, 39161, 39162, 39179, 39180, 6429, 6434, 6447, 6474, 104779, 6476, 39248, 104790, 6488, 104796, 6494, 6495, 104801, 6498, 6500, 6501, 137575, 137578, 6507, 137583, 104816, 104817, 137584, 137585, 137590, 137592, 72057, 6522, 104826, 72060, 104828, 39294, 39295, 104831, 39297, 72065, 104833, 137598, 137599, 137602, 137603, 137604, 39305, 72074, 104843, 137606, 137611, 6542, 6543, 72079, 72080, 72081, 39315, 72082, 104848, 104854, 137619, 6552, 6553, 72088, 72089, 72091, 6557, 72092, 72095, 104857, 137625, 137628, 137631, 137634, 72103, 137640, 72106, 72107, 137642, 137643, 137645, 72111, 6577, 104882, 104885, 72118, 104887, 137655, 72121, 137656, 137660, 72125, 137661, 72128, 72129, 137666, 6596, 104901, 137669, 6599, 72135, 104903, 6602, 6603, 137672, 6606, 72143, 72144, 137678, 137680, 72147, 104917, 6614, 137686, 104922, 104923, 137690, 104925, 104928, 6625, 6626, 104929, 137698, 72165, 104933, 137699, 72168, 72170, 104939, 137706, 137709, 6639, 39407, 6641, 104944, 6643, 137713, 6645, 6646, 6647, 72182, 72185, 72187, 6653, 72190, 72192, 137728, 72195, 39428, 72196, 72197, 6666, 104971, 39436, 137744, 137745, 72210, 72213, 72214, 72215, 6682, 137756, 6685, 6686, 72222, 104992, 6689, 137757, 72227, 72228, 137760, 137761, 104999, 105000, 137762, 137763, 105003, 137764, 6701, 105006, 137772, 105008, 72241, 105010, 137773, 6708, 137774, 137776, 72247, 105015, 6713, 137780, 6715, 105020, 137786, 6718, 72254, 72255, 105024, 137788, 72259, 137790, 6725, 72262, 105029, 105030, 72265, 105031, 137794, 72268, 72269, 6734, 105038, 105039, 137800, 105042, 137806, 137807, 6741, 137808, 72279, 137809, 137812, 72283, 137819, 6749, 6750, 137820, 137823, 137824, 6754, 137825, 6756, 6757, 72292, 105063, 6760, 72297, 6762, 72299, 6764, 6767, 72303, 72305, 72306, 72309, 6775, 105079, 6777, 6779, 6780, 105084, 72319, 6786, 72324, 72325, 72326, 6791, 6792, 72329, 39562, 6795, 72330, 6797, 6798, 39565, 39567, 39569, 72334, 72337, 6804, 39574, 39575, 72344, 6809, 39579, 6812, 6813, 6814, 39582, 72352, 39585, 6818, 6821, 72357, 39591, 72360, 72362, 39596, 39599, 72368, 6837, 39605, 72374, 39608, 6841, 39610, 6843, 39611, 72375, 105144, 105151, 72387, 105157, 39623, 72392, 39625, 39631, 72401, 39636, 6869, 72404, 72409, 6876, 6877, 39644, 39647, 39648, 72414, 72415, 72418, 105188, 39653, 72421, 39656, 39660, 105203, 72444, 39682, 39684, 72455, 39690, 39693, 72461, 72462, 39699, 138007, 138008, 72476, 39719, 39722, 39723, 138027, 39727, 39728, 138033, 39731, 39732, 72499, 72501, 138040, 138044, 138045, 72512, 72515, 72516, 72517, 72521, 138059, 72525, 72532, 72535, 138072, 72537, 138074, 72540, 72542, 72543, 105311, 72545, 72546, 138078, 72548, 72549, 138082, 72552, 72553, 72554, 72555, 72556, 138090, 72558, 138093, 138096, 105329, 72563, 72564, 105335, 72568, 105336, 105338, 105339, 138110, 72575, 72576, 105343, 105344, 72580, 105351, 138119, 105353, 105354, 7051, 72587, 105355, 7054, 138128, 138131, 7064, 138137, 7071, 7075, 138159, 72624, 72625, 138165, 7094, 72630, 7096, 72634, 138170, 138173, 7103, 7105, 7108, 7112, 138185, 105420, 105421, 138196, 7126, 7127, 7130, 7131, 105435, 138210, 138212, 105445, 105448, 105453, 138223, 39923, 105460, 7157, 105461, 138230, 7160, 39931, 7165, 138239, 39936, 138240, 105479, 138248, 39946, 105482, 105488, 105492, 138263, 105499, 105502, 105503, 105505, 105508, 105515, 105517, 138292, 105530, 138306, 138316, 105550, 72790, 72795, 72800, 105581, 72819, 105587, 105588, 105589, 138360, 138361, 72826, 72829, 105598, 105601, 105605, 72838, 72844, 72845, 138388, 138391, 7320, 7321, 138396, 72863, 7337, 7339, 72875, 7342, 7350, 7351, 72888, 7360, 72904, 7370, 7371, 7378, 7380, 7382, 72922, 72923, 72924, 72925, 72926, 7391, 7392, 7393, 7398, 7402, 72941, 72948, 7415, 7420, 72959, 79631, 72965, 72967, 7434, 7436, 105748, 105753, 72987, 72991, 105764, 72999, 105769, 73003, 105771, 105773, 105776, 105778, 105780, 105781, 105782, 73015, 105783, 105784, 105786, 105788, 105790, 73026, 73027, 105794, 105796, 105799, 105800, 105801, 105803, 105806, 7504, 7506, 7507, 40275, 73052, 105820, 40290, 105827, 138594, 40293, 138600, 7529, 40298, 73066, 40300, 105834, 73070, 105837, 47088, 105843, 105844, 138614, 138615, 7545, 105849, 7551, 40319, 138624, 138626, 138629, 105862, 105863, 138632, 40329, 105866, 40333, 105870, 40336, 40337, 40339, 7572, 7573, 105876, 40343, 7576, 105878, 73114, 138647, 138648, 40349, 7584, 7585, 73121, 7587, 105891, 40358, 40361, 7594, 7595, 105897, 138667, 138670, 105905, 105906, 7603, 73142, 105910, 7609, 105919, 138689, 105923, 138694, 40396, 40397, 40402, 40403, 73172, 138708, 138712, 73182, 73188, 138730, 105965, 105967, 138736, 73201, 138737, 138739, 138741, 73206, 138743, 138746, 105979, 138747, 138750, 105985, 138753, 105987, 105988, 105990, 105991, 138760, 73225, 105994, 73227, 138767, 138768, 73235, 73239, 73241, 106009, 73244, 73247, 106017, 40485, 73255, 73256, 138793, 73258, 73261, 7731, 73268, 40503, 40504, 73272, 7740, 40508, 73276, 7744, 73282, 138827, 40526, 7759, 40528, 40534, 138839, 138840, 40538, 73313, 138850, 138852, 138853, 40550, 40552, 7785, 40557, 73327, 138865, 7794, 7799, 138872, 73341, 7806, 40577, 138881, 138885, 7815, 73352, 7817, 7819, 73356, 7825, 138902, 138903, 138904, 7834, 7835, 73370, 73373, 7838, 7839, 73374, 138912, 138913, 7843, 7845, 40613, 7847, 73381, 40617, 7850, 7851, 73383, 73387, 40637, 73407, 40640, 40643, 40645, 73415, 73418, 138957, 40654, 138961, 40660, 138968, 7899, 40668, 40674, 7907, 7912, 7916, 138989, 7918, 7924, 40693, 73463, 139002, 139011, 73476, 73479, 73481, 40714, 139017, 40717, 73487, 73490, 139028, 7957, 73493, 73496, 7966, 7973, 40742, 73512, 7978, 40747, 73514, 139050, 40751, 73519, 7985, 40754, 7992, 7993, 8002, 8003, 40770, 40777, 139081, 40779, 8018, 40786, 40787, 8022, 8025, 8026, 40803, 8037, 8038, 8039, 40805, 40808, 40818, 40819, 40822, 40830, 8067, 8069, 40837, 73611, 8078, 8080, 8082, 73626, 73627, 73629, 73630, 139165, 73635, 73638, 40879, 73653, 73658, 73660, 40895, 139201, 40898, 40900, 139205, 40902, 73670, 73675, 40908, 139211, 73678, 139217, 73683, 139219, 40917, 40920, 40921, 139224, 40923, 73692, 139226, 139228, 139231, 40928, 40931, 40933, 40934, 40938, 40942, 40943, 40945, 40991, 139295, 139297, 41003, 139308, 41013, 139318, 139321, 139336, 139347, 41053, 8288, 8289, 41057, 139372, 41069, 139376, 106610, 139389, 41086, 41087, 106626, 139400, 41100, 139404, 106640, 106641, 139408, 41107, 106644, 106645, 139412, 106649, 139417, 139418, 41116, 41119, 41121, 41122, 139425, 106660, 139429, 41126, 41127, 41128, 106663, 106666, 106667, 139430, 106669, 139433, 41135, 139436, 139437, 139442, 41140, 41141, 139447, 41146, 41147, 41148, 139456, 139457, 139458, 41156, 41157, 139460, 139468, 41167, 139472, 106709, 41174, 41175, 106710, 41180, 41185, 41186, 8420, 8421, 106726, 106727, 139493, 41193, 41194, 106730, 8430, 139503, 8432, 106737, 106738, 8437, 8438, 8439, 8440, 41210, 8445, 106751, 8448, 41216, 8450, 106757, 8454, 41223, 8456, 41225, 8458, 41226, 41227, 8461, 41229, 106762, 106768, 41234, 8468, 8471, 41240, 41242, 106780, 106784, 41250, 8483, 41251, 106789, 41254, 8487, 106791, 8490, 8491, 8492, 41259, 106797, 106799, 41265, 106801, 106803, 8500, 8504, 8505, 41273, 106808, 41276, 8509, 41277, 8511, 41278, 106811, 106812, 106813, 8516, 106815, 8518, 41287, 41289, 41291, 41294, 41295, 8531, 41299, 41303, 41304, 41307, 8541, 8545, 41313, 41314, 41318, 79854, 41322, 139627, 139628, 8557, 8558, 8559, 106868, 106870, 139641, 106880, 8579, 106886, 8585, 106891, 106893, 139665, 8594, 139670, 106903, 8600, 106905, 139673, 139677, 8608, 139682, 139683, 139685, 139688, 8617, 139689, 139691, 139693, 8626, 74163, 106933, 8631, 74167, 106937, 139706, 74173, 8642, 8648, 8650, 8653, 139728, 8659, 74195, 8661, 74196, 106965, 106966, 8665, 8666, 139735, 106973, 8670, 8674, 8675, 74212, 8682, 8683, 41451, 74220, 8686, 8687, 74225, 41458, 41460, 74230, 41489, 8736, 8741, 8742, 8746, 8751, 8763, 8767, 8773, 8777, 8779, 8791, 139863, 8793, 139866, 8795, 8797, 8802, 139883, 139886, 8815, 139892, 139898, 74366, 74375, 74378, 139918, 139922, 74388, 139949, 139961, 139962, 107245, 107246, 107247, 107254, 107256, 107275, 107276, 107277, 107278, 107279, 107282, 107289, 107294, 107295, 107303, 107318, 107320, 107325, 107331, 107333, 107341, 107343, 107344, 107346, 107349, 107351, 107353, 107361, 107364, 107365, 107380, 107387, 107390, 107391, 107393, 107395, 107399, 107413, 107416, 140192, 140198, 140199, 140201, 140202, 107436, 140208, 140213, 107446, 140217, 140218, 9153, 107460, 9163, 9164, 107467, 9167, 107475, 9172, 9173, 107476, 107481, 107482, 107484, 107485, 41950, 107486, 107492, 107493, 107496, 107497, 9194, 41963, 107498, 107500, 107501, 107502, 9200, 107504, 9202, 107505, 107507, 9205, 107508, 107510, 107512, 107513, 107514, 41979, 41980, 41981, 107518, 41983, 41984, 107519, 41986, 41987, 107523, 41989, 107526, 140316, 140326, 140350, 107609, 107610, 140377, 107613, 107618, 140386, 107625, 107632, 107634, 107637, 107638, 107639, 107640, 107644, 107645, 107646, 107648, 107649, 140417, 140418, 74885, 74886, 107653, 74888, 107655, 107656, 107661, 107664, 107667, 107674, 107679, 107684, 74933, 74934, 107706, 74940, 74942, 74943, 140479, 107714, 74947, 107716, 140482, 140483, 140487, 107720, 107722, 74958, 107726, 107731, 74964, 107733, 140501, 140503, 107736, 107737, 140505, 140506, 140509, 140510, 107746, 107747, 107752, 140522, 107758, 107759, 140528, 74993, 107761, 107762, 74996, 75001, 140540, 140542, 140543, 140544, 140545, 140549, 42251, 107789, 42254, 107790, 140563, 140564, 42264, 140570, 42268, 42269, 140572, 140575, 140576, 42275, 42277, 107813, 42281, 140585, 140586, 42284, 107823, 107824, 42290, 107826, 140597, 107830, 107831, 140598, 140599, 140600, 140603, 107840, 42307, 42309, 107845, 42311, 107848, 107849, 42314, 140615, 140617, 140620, 140622, 42319, 107855, 107856, 42325, 107862, 42327, 107865, 42331, 42332, 107868, 107870, 107876, 107877, 140647, 107881, 140655, 140656, 107890, 107891, 107892, 107895, 107896, 107897, 42365, 42367, 107906, 42371, 42375, 9609, 42377, 42379, 107914, 9613, 9617, 42387, 42388, 42389, 107924, 9623, 9626, 9627, 9629, 107934, 107935, 112633, 9633, 75171, 107940, 75174, 75179, 9644, 9645, 107948, 9647, 9648, 75184, 107950, 9651, 107954, 140718, 75191, 9658, 9659, 140730, 140731, 9665, 107971, 107972, 9669, 9670, 9673, 107977, 107978, 107981, 107983, 9683, 75223, 42457, 107994, 9691, 9692, 9693, 9694, 75228, 9696, 9697, 9698, 9699, 75230, 9701, 75235, 9707, 9708, 75244, 75246, 75247, 75248, 9716, 9718, 9720, 9721, 108027, 108028, 9726, 108030, 9738, 9740, 75277, 108045, 9744, 75281, 9747, 75284, 9749, 9750, 75285, 75286, 75288, 75291, 75292, 108061, 75294, 108063, 108069, 108072, 75305, 9780, 108085, 9785, 108096, 42561, 9795, 108101, 9799, 9801, 42570, 42571, 9804, 42573, 9805, 9806, 9807, 42577, 9809, 9810, 9811, 9812, 42581, 42582, 108121, 42586, 42587, 42588, 9820, 9821, 42591, 42592, 9823, 9825, 9827, 9828, 42597, 9829, 108129, 9832, 42600, 9834, 9835, 42601, 42602, 9838, 42606, 42611, 42613, 42615, 42622, 42631, 140935, 42635, 75411, 140949, 42646, 140950, 42654, 42656, 42657, 75424, 75432, 42666, 42667, 42668, 42669, 75439, 75451, 42685, 42688, 75456, 42691, 9928, 75464, 75467, 75468, 42701, 9934, 42703, 9939, 9945, 141017, 9948, 42717, 9950, 141020, 141024, 75489, 42724, 42725, 42727, 141032, 75497, 75507, 141044, 141045, 75510, 42746, 75515, 9980, 141050, 9982, 42751, 141055, 141056, 9986, 141057, 141060, 141061, 141062, 9992, 75530, 9995, 9996, 42764, 141068, 42773, 141079, 10008, 141085, 42782, 75550, 42785, 42788, 42790, 42792, 42795, 141100, 42797, 42798, 42799, 141102, 141108, 108344, 141114, 42811, 141118, 141119, 42816, 141122, 42819, 141126, 141132, 141135, 42832, 141142, 141143, 42840, 141149, 42846, 141150, 42848, 141153, 42854, 42865, 141169, 141170, 42868, 141173, 141178, 42875, 141184, 108417, 108419, 108422, 108424, 108425, 42890, 42891, 42892, 108433, 42899, 108436, 42901, 42903, 108440, 108441, 42906, 42907, 108443, 42909, 108445, 141207, 141216, 141217, 108450, 42915, 108452, 141218, 42918, 75686, 42920, 42921, 75689, 42923, 42924, 75693, 108459, 141224, 42928, 141231, 141232, 75699, 42932, 42933, 141233, 75703, 141235, 42937, 42938, 141237, 75708, 75709, 75710, 141239, 10176, 141241, 75714, 10179, 10180, 42947, 75717, 75720, 141263, 75728, 10193, 42963, 75731, 10197, 75734, 10199, 42970, 75738, 42972, 75740, 42974, 75743, 75745, 42979, 75748, 141286, 42984, 75754, 42987, 42993, 42995, 10228, 42996, 42998, 10231, 42999, 43000, 43001, 75763, 141305, 10238, 43006, 10240, 43007, 43009, 43011, 43012, 141310, 141314, 141317, 43016, 141318, 43022, 141327, 141328, 43025, 43029, 43030, 43031, 141336, 43035, 141348, 43046, 10279, 141350, 141352, 141356, 43055, 43057, 43062, 43064, 10297, 43065, 43072, 43073, 10306, 10307, 10308, 43076, 10310, 43081, 43083, 43085, 141390, 141391, 141395, 43092, 43098, 43099, 43100, 141406, 10338, 43108, 141412, 141413, 43113, 141417, 10347, 141419, 43117, 10351, 43120, 10354, 10356, 10364, 10365, 10371, 10385, 10387, 10388, 10391, 10392, 10393, 10401, 10410, 10419, 43197, 43199, 43201, 10437, 43212, 10447, 43219, 43222, 10459, 75996, 43232, 43235, 43242, 10476, 76013, 43246, 76015, 43249, 43259, 10492, 10497, 10498, 108803, 10501, 108806, 108809, 10512, 108820, 10519, 10527, 10528, 10529, 10537, 10538, 10540, 108845, 10545, 10550, 10551, 10563, 10566, 10567, 10568, 10573, 76151, 43391, 76162, 43395, 43396, 43401, 43403, 43404, 43406, 10641, 43412, 76181, 43414, 76182, 43416, 10649, 43418, 76188, 76189, 76190, 76196, 10661, 43429, 76197, 10664, 10666, 10667, 10668, 10669, 76203, 10678, 76215, 10682, 43450, 10692, 10693, 10696, 10726, 10779, 43556, 10797, 43573, 10811, 43591, 43593, 43596, 43603, 10839, 43610, 43612, 10848, 10849, 43618, 43619, 10853, 43624, 10859, 10860, 10862, 141934, 43633, 109169, 141941, 141945, 43642, 10875, 109179, 141947, 10878, 141949, 10880, 10881, 141953, 10883, 109187, 109189, 132421, 141955, 141960, 132422, 10890, 109194, 141961, 10893, 141962, 141966, 141967, 109202, 141970, 109204, 141971, 141972, 141973, 141974, 141975, 109210, 10907, 141979, 109213, 141981, 109216, 141984, 109218, 109219, 109222, 109223, 10922, 141995, 10924, 109232, 109234, 142002, 142003, 10933, 142007, 10940, 109244, 142018, 142021, 109254, 142022, 109256, 109258, 142026, 109268, 10967, 109272, 109273, 10977, 109284, 10985, 10998, 11000, 109308, 109324, 76618, 76624, 76625, 76627, 76631, 76633, 76634, 76635, 76636, 76637, 11102, 76638, 76641, 11107, 76643, 76644, 76648, 76651, 76653, 76656, 43890, 43891, 43892, 76661, 11132, 11133, 43900, 11136, 43904, 43905, 76672, 76674, 11141, 11142, 43910, 76677, 43914, 11147, 43917, 43921, 76692, 11157, 76695, 76697, 76707, 76725, 76729, 76730, 76739, 76745, 76748, 11215, 11216, 11220, 76759, 76764, 76765, 11233, 11246, 76782, 11248, 11251, 76787, 76790, 76793, 76794, 76795, 11260, 76797, 44033, 76803, 11268, 76804, 76806, 11271, 44043, 76812, 76813, 11278, 76815, 11280, 44056, 76827, 11292, 11294, 76831, 11296, 11297, 11298, 11328, 11340, 11347, 44128, 44129, 44141, 44160, 44165, 44170, 44189, 44190, 44194, 44202, 77010, 77011, 77012, 77015, 77026, 77027, 77029, 77040, 77044, 77062, 11531, 11533, 77069, 11544, 77082, 77084, 77086, 77090, 77098, 77101, 77108, 77110, 77111, 109894, 11592, 11600, 11606, 109914, 11612, 11621, 11623, 77159, 77160, 77161, 11627, 44396, 11630, 11631, 77169, 77173, 11641, 11644, 109949, 11646, 44463, 110022, 110023, 110024, 110027, 77261, 77270, 110040, 110047, 77285, 77294, 110063, 110087, 77321, 77324, 110093, 77337, 77349, 77354, 110124, 77359, 110129, 110132, 77375, 77381, 110149, 110150, 77385, 11872, 44645, 110183, 44658, 110199, 110203, 110204, 110207, 44672, 110209, 110211, 44690, 44710, 44712, 110252, 110255, 110264, 110265, 110272, 44744, 110282, 110292, 110296, 44762, 110303, 110305, 110310, 110326, 12056, 110362, 12060, 77597, 12062, 77598, 110364, 12073, 12079, 110391, 12094, 12098, 12106, 12121, 12125, 77662, 77663, 77665, 12147, 12160, 12161, 12164, 12170, 12174, 12175, 77719, 77726, 77728, 77744, 77745, 77757, 77766, 77767, 77775, 77790, 77793, 77794, 77799, 77813, 77818, 110598, 77832, 110603, 45069, 45072, 110609, 110611, 110612, 110615, 45084, 77852, 110625, 45094, 110633, 110635, 110641, 45107, 77875, 110652, 110656, 77893, 45131, 110669, 45138, 45140, 110677, 77911, 110682, 77915, 110686, 77922, 77926, 110698, 45165, 45166, 110704, 77937, 110708, 110709, 77951, 77952, 77955, 77957, 45198, 77968, 110737, 110738, 45203, 45208, 45211, 110749, 110751, 110759, 45225, 77997, 78000, 78001, 78002, 110785, 110798, 110799, 110810, 110815, 110816, 110828, 110829, 110834, 110837, 110838, 110851, 45322, 110868, 110869, 45350, 45351, 45358, 45359, 110895, 45372, 12606, 110914, 110919, 110924, 110933, 110936, 110937, 110939, 12651, 12656, 110961, 110967, 12666, 45435, 110978, 12675, 110980, 12684, 12686, 12690, 110995, 12693, 12700, 12704, 12706, 12707, 12709, 12715, 12717, 12718, 12719, 45488, 12722, 12723, 111031, 12732, 45503, 45508, 12741, 45510, 45514, 45515, 45522, 45529, 12764, 12765, 45533, 12767, 78305, 78306, 12771, 12772, 12773, 78308, 12775, 78309, 45545, 12778, 12779, 45546, 45555, 45558, 45566, 45600, 45604, 45605, 45606, 45615, 45616, 45620, 45624, 111191, 111199, 111202, 111216, 111217, 111221, 111222, 78497, 111282, 78520, 78525, 78530, 111301, 111309, 111315, 78548, 78550, 78555, 111323, 111325, 111327, 78560, 111328, 111332, 111336, 78580, 78583, 111364, 111366, 78611, 111379, 111381, 78627, 78629, 111400, 13099, 111406, 111413, 13110, 111421, 111423, 13127, 13130, 111438, 13137, 13139, 111443, 111445, 111447, 111449, 111454, 111457, 111461, 111466, 111469, 111488, 111495, 45969, 111511, 45979, 45981, 111520, 111521, 111523, 111524, 111528, 111531, 46004, 111543, 46010, 111546, 111549, 111552, 111559, 111561, 111565, 111566, 111568, 111570, 111574, 78833, 111605, 78838, 111612, 111615, 111619, 111622, 111624, 111627, 111628, 78866, 111634, 111636, 111637, 111639, 111640, 111641, 78874, 111643, 111644, 111645, 111646, 111650, 78886, 78887, 78894, 78896, 78901, 78902, 13374, 13375, 13381, 13384, 13386, 13393, 13396, 13399, 13402, 13403, 13404, 13405, 13407, 13410, 78948, 46181, 46186, 46190, 13423, 46192, 13424, 13425, 13426, 78961, 13430, 46200, 78970, 46205, 111742, 13439, 111744, 46209, 111750, 78984, 13449, 46217, 46218, 78986, 13453, 78988, 46223, 111759, 13457, 111762, 13459, 13460, 46227, 111763, 111767, 13466, 13467, 46235, 79004, 111771, 111774, 111781, 13478, 13480, 79020, 13485, 13486, 79022, 111788, 111790, 111791, 13491, 111792, 111793, 111797, 13495, 111799, 111801, 111803, 13502, 13503, 111806, 111809, 111815, 13514, 13515, 79050, 111818, 111820, 111821, 13520, 79057, 111823, 111828, 13526, 13531, 79069, 79072, 79074, 13540, 79078, 13546, 13549, 13551, 79089, 13554, 13559, 111864, 111866, 111869, 79102, 13568, 111876, 13573, 111877, 13575, 111879, 111882, 79116, 79121, 79122, 79123, 13588, 79125, 111890, 111893, 13595, 13596, 111899, 79137, 13602, 13605, 13606, 13607, 111912, 111919, 111922, 111931, 111968, 111973, 111983, 111984, 111985, 111986, 13688, 13689, 13717, 79255, 13720, 13721, 79257, 79259, 13724, 79265, 13732, 13734, 79270, 79272, 13738, 13739, 79275, 79277, 79278, 126476, 13744, 79280, 79281, 13752, 79290, 13764, 13772, 79308, 13779, 79318, 13784, 13794, 13796, 13800, 13801, 13804, 13807, 13808, 13809, 13811, 13813, 13815, 13817, 13824, 13825, 13826, 13837, 13839, 13844, 13846, 13849, 13854, 46622, 46625, 13858, 46628, 13862, 46634, 13867, 13868, 13870, 46638, 46640, 46648, 46650, 13883, 13888, 13890, 13892, 46661, 46665, 13898, 46666, 46667, 46668, 46671, 13906, 46677, 46678, 79447, 79448, 79449, 112215, 13917, 13918, 79454, 13925, 46693, 79461, 13928, 13929, 46696, 13931, 46698, 13933, 46702, 79469, 13938, 13940, 79477, 13943, 13946, 79482, 13948, 13949, 46717, 46719, 46720, 13953, 79487, 13956, 13958, 46726, 13960, 13961, 13962, 13963, 46732, 79495, 13966, 13967, 46736, 79496, 79504, 79505, 13972, 79507, 79509, 46743, 46744, 79510, 46747, 79515, 46749, 79517, 46756, 79526, 112295, 46760, 46763, 79532, 46767, 112303, 79537, 79541, 46774, 46775, 79542, 79543, 112310, 46779, 112311, 112312, 79550, 112316, 79554, 79555, 112326, 79559, 79560, 46793, 112330, 46796, 79565, 112334, 112336, 79570, 79574, 14039, 46808, 79578, 46812, 14045, 14049, 14050, 46819, 112354, 46822, 14055, 46824, 46825, 79590, 79593, 14065, 14069, 14070, 46839, 14072, 14074, 14075, 46844, 46845, 14079, 79617, 14082, 14085, 46855, 46859, 46861, 14094, 46862, 14096, 46863, 46864, 46865, 46866, 46868, 46869, 46871, 46872, 46874, 46877, 46879, 14112, 14113, 46880, 79647, 79652, 46886, 46889, 79657, 46893, 46894, 46895, 79661, 46898, 46906, 46908, 79683, 79687, 46920, 46923, 46925, 79694, 46931, 46935, 46938, 79712, 46952, 79720, 79723, 46957, 46959, 46969, 46975, 46976, 46985, 79756, 46991, 79761, 46995, 46997, 46998, 47000, 47006, 47010, 79781, 79785, 14263, 79799, 79800, 14268, 47044, 47051, 79822, 47058, 79828, 47061, 47062, 14297, 47069, 14304, 79843, 14309, 47079, 47080, 14313, 14314, 79850, 79851, 47086, 47087, 14320, 14321, 14322, 47090, 47091, 47092, 47093, 47095, 14327, 47094, 79866, 47099, 112627, 47101, 47102, 47103, 14336, 47104, 47106, 47107, 14340, 47109, 47110, 47111, 14345, 47123, 47124, 47125, 47127, 47138, 47139, 47141, 47154, 47161, 47162, 47163, 47166, 47168, 47170, 47173, 47174, 47175, 47183, 47186, 47194, 47196, 47217, 47223, 47230, 47232, 47234, 14473, 14474, 47242, 14476, 14477, 14481, 47249, 47250, 14484, 47255, 14488, 47257, 112795, 14497, 14498, 14500, 112804, 112813, 14521, 14533, 112839, 14537, 112850, 14551, 112855, 112865, 112866, 14566, 112873, 112875, 112879, 80115, 80116, 112884, 80121, 80123, 112897, 80133, 112901, 80138, 112912, 112920, 47387, 47390, 47392, 47396, 47402, 47403, 47412, 47414, 47416, 47418, 47420, 47421, 47423, 47424, 47426, 80223, 47457, 47461, 47471, 80244, 47587, 14820, 14826, 47596, 14830, 14835, 14836, 47607, 80375, 47612, 80380, 14846, 80391, 14856, 80395, 47628, 80396, 47630, 14863, 14864, 14866, 47635, 14868, 80405, 80406, 14871, 80408, 80410, 14882, 80418, 14892, 80428, 80429, 80434, 80439, 80441, 80443, 80446, 14911, 14912, 14914, 80452, 14919, 14920, 14924, 80466, 14931, 80469, 14934, 80472, 80473, 80475, 80476, 80478, 80479, 80480, 80481, 14946, 80482, 80484, 14953, 80491, 80494, 14959, 14962, 80499, 80500, 80506, 14972, 80508, 80510, 80512, 14978, 80515, 14980, 14981, 14982, 80516, 113288, 80522, 80523, 14988, 80524, 80527, 80529, 14994, 47762, 100674, 80535, 15001, 80537, 80539, 80540, 80542, 15007, 80543, 80545, 80546, 15011, 80548, 80550, 80552, 47794, 47795, 80564, 80565, 80577, 80579, 80582, 80588, 80592, 80593, 80601, 80607, 80608, 80612, 80613, 80615, 80618, 80621, 80624, 80632, 80633, 80634, 80636, 80644, 80645, 80648, 80653, 80656, 113425, 80664, 80666, 80682, 80690, 113461, 47930, 80701, 80702, 80703, 113470, 113475, 80708, 113480, 80716, 47950, 80719, 113486, 113489, 113495, 47961, 113497, 80731, 80732, 47966, 80734, 80735, 47973, 47974, 80742, 80745, 80746, 80749, 47983, 80751, 80754, 80755, 47990, 80759, 80763, 80764, 80767, 80768, 80770, 80771, 80773, 80776, 80780, 113604, 113605, 113606, 113613, 113617, 113619, 113625, 113626, 113627, 113630, 113632, 113635, 80869, 80870, 113639, 113640, 113643, 15340, 113644, 113645, 113647, 80880, 113648, 113650, 80883, 80884, 80885, 15350, 80888, 80895, 15362, 80899, 15364, 80900, 113667, 15367, 15371, 80907, 113677, 113680, 15377, 15378, 80915, 15381, 80917, 80920, 113688, 15386, 15387, 15388, 15389, 15390, 48156, 113698, 80931, 15396, 113699, 80935, 15406, 15407, 48175, 80943, 48181, 15414, 15417, 15426, 15435, 15445, 15449, 15450, 15451, 15452, 15453, 15457, 15459, 15465, 15469, 15471, 15472, 15475, 15479, 15494, 15499, 81035, 15505, 15508, 81047, 15515, 81057, 15523, 15532, 15533, 15536, 15538, 15547, 81086, 15555, 15557, 81093, 48329, 48330, 15564, 15570, 15571, 81106, 48342, 48343, 15576, 15577, 48346, 15579, 48350, 48351, 15585, 15587, 48364, 15600, 15614, 113918, 48386, 15619, 48389, 113925, 15623, 15624, 48391, 15626, 113926, 113931, 48397, 81167, 15632, 81175, 15641, 113945, 113947, 113951, 81184, 113955, 113956, 113957, 113958, 113959, 81192, 15657, 48427, 15662, 48435, 81203, 81205, 81212, 15677, 15678, 15679, 15681, 81223, 81229, 15698, 15702, 15705, 81243, 15708, 81256, 15724, 81262, 15728, 15738, 81286, 15753, 81289, 15760, 81298, 15763, 81300, 15765, 15767, 81303, 15769, 81304, 15772, 15773, 15774, 15775, 15781, 15784, 15786, 15787, 15788, 15795, 114101, 15798, 15799, 114103, 15804, 15808, 114128, 48648, 48649, 48650, 114186, 15885, 15886, 15896, 114204, 114206, 15904, 15906, 114213, 114218, 15925, 15926, 114232, 133424, 15937, 114248, 114253, 15953, 114257, 15956, 15959, 114264, 114269, 15970, 15972, 15973, 15988, 114297, 114305, 114314, 114321, 16036, 16037, 114342, 16050, 114361, 16060, 114366, 16065, 114371, 114375, 16073, 114379, 16082, 114389, 16088, 16091, 114403, 16100, 114404, 16105, 114416, 16114, 16119, 16123, 114432, 16133, 16134, 114438, 81676, 114445, 81680, 81685, 81689, 81691, 81692, 81697, 16165, 114471, 16168, 16173, 16174, 81710, 16176, 114480, 16178, 114481, 16180, 16181, 16183, 81719, 81720, 81722, 48955, 81723, 48963, 114499, 114511, 114533, 114546, 114547, 114556, 114558, 114566, 114567, 114575, 114577, 114585, 114589, 114592, 114595, 114596, 114637, 114652, 114655, 114657, 114658, 114660, 114663, 114664, 114665, 114668, 49133, 49135, 114674, 114675, 114680, 49145, 114689, 114691, 49156, 49164, 114700, 114701, 49174, 49180, 49183, 49184, 49185, 81958, 81964, 49198, 49202, 49203, 81970, 81972, 81974, 81975, 81976, 81977, 114738, 114748, 49214, 49215, 49216, 81985, 114752, 49220, 81989, 49223, 81992, 81995, 81998, 81999, 82000, 114769, 82016, 82025, 82027, 114796, 82029, 82030, 82032, 114803, 49270, 82038, 82046, 82047, 82048, 49281, 49282, 49285, 82054, 114821, 114824, 82058, 82059, 82060, 114826, 82065, 82067, 82073, 82077, 114847, 82080, 82081, 16547, 16548, 82086, 16556, 82099, 114867, 114869, 16566, 82102, 16576, 82112, 82113, 114880, 114887, 82120, 114889, 82122, 82128, 114896, 114898, 82132, 82137, 82142, 82154, 82155, 82161, 49396, 114932, 114936, 82171, 82173, 114944, 82179, 114948, 114950, 82184, 114952, 49418, 49419, 82191, 49424, 114963, 49429, 49432, 82200, 49435, 114979, 114980, 82213, 114981, 114982, 82219, 82220, 82221, 114990, 114998, 115000, 16708, 16710, 16712, 115017, 16720, 82262, 115030, 115031, 16729, 16730, 82267, 16732, 16733, 16734, 16735, 82270, 115032, 115037, 115041, 16741, 82280, 115049, 82283, 16750, 82286, 115056, 16753, 115057, 82295, 49528, 49529, 49530, 49531, 49532, 82297, 82298, 115071, 82304, 16776, 49544, 115084, 16785, 115092, 16789, 16790, 115094, 16792, 49560, 16797, 49566, 16799, 115103, 115105, 49572, 16805, 49574, 16807, 16809, 115115, 115119, 16819, 49588, 115125, 115130, 115131, 115137, 115138, 49609, 49612, 115153, 115155, 115156, 115159, 115160, 115162, 115165, 115174, 115175, 49660, 49666, 49672, 49686, 49692, 49700, 49707, 49709, 115264, 49731, 115268, 115271, 115278, 115297, 49767, 49768, 115308, 115310, 115319, 115321, 115322, 49788, 49797, 49799, 17035, 82580, 82582, 82585, 49818, 82588, 49821, 17054, 49826, 82594, 82596, 49829, 82597, 82599, 82600, 49839, 115376, 115378, 82611, 49845, 115383, 82616, 82617, 49850, 49853, 49854, 115389, 115391, 82625, 49859, 82627, 49861, 82628, 115399, 82633, 82634, 115403, 49876, 49878, 115414, 82648, 115415, 115417, 82651, 82652, 82653, 82654, 82656, 82657, 82658, 49895, 49899, 49900, 49904, 82672, 17140, 17142, 82681, 17147, 49916, 82685, 49918, 17153, 82690, 82691, 49925, 17158, 49928, 82696, 49930, 82697, 82698, 82701, 49934, 49935, 82703, 82704, 17174, 17179, 82715, 82717, 17191, 82731, 82748, 82756, 82757, 82758, 82760, 49994, 82762, 49996, 82764, 49998, 82765, 50000, 82768, 50002, 82769, 50006, 82775, 50008, 50009, 82784, 115553, 115555, 82788, 82789, 82790, 82791, 82792, 115561, 82797, 50030, 82799, 115565, 115571, 115575, 82808, 115578, 50046, 115591, 115592, 50058, 82827, 82828, 115594, 82833, 82834, 82835, 82845, 82846, 82847, 82852, 82859, 50092, 82864, 82867, 82880, 82882, 82887, 82893, 82922, 82924, 82931, 50165, 82933, 82935, 50171, 50176, 50209, 50215, 83007, 83008, 50245, 83021, 50259, 50262, 83039, 83043, 83044, 83051, 83055, 83061, 83064, 83065, 83070, 83074, 50313, 50317, 50321, 50322, 50333, 50338, 50339, 83108, 50342, 50347, 83116, 83118, 50351, 83122, 83126, 50362, 50365, 83135, 50369, 115915, 50382, 83153, 50386, 115921, 115925, 50395, 115932, 83165, 50398, 115934, 83172, 83174, 50407, 50409, 83181, 83182, 50422, 50423, 115958, 83197, 115972, 83205, 115974, 115975, 115976, 83211, 115979, 83216, 83220, 115989, 83222, 83223, 115990, 115993, 83230, 83237, 116010, 50477, 50485, 83254, 50493, 50495, 50501, 83275, 116043, 116045, 50512, 116048, 116053, 116054, 116060, 83295, 50532, 116068, 83303, 50538, 50548, 83316, 50557, 17791, 50559, 50562, 17799, 50568, 50570, 17803, 17804, 50571, 50574, 83339, 50577, 17812, 17814, 50583, 83352, 17817, 50587, 50588, 83355, 83357, 50600, 83368, 83369, 17838, 17839, 50627, 83406, 50641, 83411, 83414, 83421, 83429, 83433, 83434, 17943, 17949, 17951, 17960, 17966, 17967, 116288, 17991, 116297, 17994, 116299, 116302, 116303, 18000, 116306, 116308, 116309, 116311, 116312, 116315, 116317, 18019, 18021, 116325, 116326, 116327, 116329, 18028, 116341, 116342, 83578, 83580, 83582, 83583, 83585, 83586, 116353, 116354, 116356, 83592, 116364, 83606, 116375, 83608, 116377, 83610, 83611, 83612, 83614, 83615, 116384, 83620, 116389, 116390, 116392, 116394, 116399, 116400, 83640, 83647, 83650, 116418, 83653, 83655, 116423, 116431, 116433, 83668, 116441, 116448, 116452, 116453, 83691, 83692, 83699, 116469, 116470, 83707, 116476, 116477, 83715, 116492, 116495, 116496, 116497, 116501, 116503, 116504, 116506, 116509, 116510, 116515, 116516, 116521, 116522, 116524, 116528, 116529, 116535, 51007, 51008, 83775, 116547, 83781, 51017, 83785, 83786, 116555, 51021, 116557, 51023, 83792, 116560, 116561, 83801, 83802, 83805, 83808, 51044, 83814, 83815, 51049, 51052, 83820, 18286, 18287, 83825, 83832, 18297, 83834, 51071, 83841, 51074, 18307, 83845, 18310, 18316, 51086, 18320, 18325, 83864, 83873, 18339, 83876, 83878, 18350, 51127, 51129, 51131, 116669, 83904, 51137, 116673, 51139, 83908, 116674, 51143, 51144, 116684, 51152, 116688, 51154, 51155, 116691, 116694, 116696, 51163, 51164, 116699, 116700, 51167, 51168, 116701, 116702, 83940, 51175, 51188, 51192, 51194, 83963, 51201, 51209, 116745, 116748, 83981, 116750, 51223, 116761, 51251, 51273, 51287, 51305, 51313, 51314, 51317, 18550, 18551, 51324, 51333, 18568, 18571, 18572, 84109, 18574, 51343, 84113, 51346, 84115, 51348, 51350, 18585, 18589, 51362, 84130, 84134, 18601, 18603, 51371, 51372, 18606, 51376, 51377, 84144, 84147, 51381, 84149, 18615, 84150, 51386, 18619, 18623, 18624, 51391, 84162, 84163, 51396, 84165, 116935, 51400, 84169, 84171, 84172, 116940, 51411, 51412, 51413, 51416, 51419, 116956, 18655, 51426, 116964, 51431, 51433, 51434, 51436, 51437, 116972, 51439, 116975, 116978, 51444, 116981, 18678, 116984, 116985, 116988, 116989, 116993, 51466, 117004, 18701, 117005, 117008, 18709, 18712, 51483, 18716, 18729, 18738, 18741, 51512, 18748, 18751, 84288, 84289, 51522, 84292, 51526, 51529, 84303, 84305, 51538, 18771, 51544, 51545, 84314, 84316, 18781, 51551, 84319, 84320, 84322, 51555, 117087, 84325, 117090, 84328, 18793, 117099, 51567, 117105, 18805, 51578, 117115, 18812, 51583, 18818, 117126, 18825, 117129, 18827, 51597, 18847, 51622, 18855, 18863, 18874, 18881, 51658, 18892, 51661, 51667, 51669, 51673, 51674, 18907, 18912, 18913, 18915, 84476, 117244, 117250, 84485, 84487, 84495, 84500, 84504, 84509, 84514, 117284, 84520, 84524, 84542, 84546, 84553, 84558, 84559, 84569, 84571, 84573, 84574, 19041, 84578, 84581, 84582, 19050, 84587, 19059, 84600, 19067, 84605, 84608, 84609, 84610, 84619, 84622, 84623, 19088, 19090, 19092, 19095, 51863, 84641, 19107, 84647, 84648, 84650, 51883, 84652, 51885, 84653, 19120, 84657, 19122, 84659, 19125, 19126, 117430, 117434, 19131, 19132, 84668, 19136, 51904, 51906, 19140, 84679, 117451, 19148, 19151, 117455, 19153, 19154, 19155, 51922, 51928, 51929, 84697, 117467, 51932, 51933, 51934, 117469, 19169, 51938, 117479, 51948, 117492, 84725, 117493, 51970, 51971, 51980, 51983, 51993, 84763, 84766, 19241, 84778, 117545, 19248, 19251, 19253, 19266, 19268, 19269, 117577, 117588, 19291, 117595, 52063, 19296, 19297, 19299, 19302, 19305, 19306, 117609, 52080, 52084, 117621, 19318, 52092, 52093, 52094, 117633, 52099, 52102, 117644, 19351, 19355, 19359, 52128, 117665, 117669, 19372, 117677, 117684, 19381, 19382, 117686, 19384, 117690, 117699, 52171, 117707, 52173, 52174, 117710, 19410, 52178, 52182, 117723, 117724, 19421, 52189, 117727, 52195, 52197, 52199, 117735, 52201, 117740, 52206, 52207, 52208, 117744, 84990, 117761, 117763, 117764, 117765, 19462, 52232, 52233, 85001, 52236, 117772, 52238, 117775, 117777, 52242, 52244, 117781, 19478, 19480, 117786, 117790, 117792, 117795, 52260, 117808, 117810, 117811, 52276, 52277, 117816, 19516, 52284, 19520, 19523, 52292, 19526, 52295, 52296, 52297, 117831, 117850, 117852, 52317, 117854, 52320, 52322, 52323, 52326, 52327, 52328, 117866, 117883, 117898, 117903, 117917, 117921, 117924, 117930, 117948, 117962, 117965, 117975, 117984, 117985, 117991, 19691, 117998, 19698, 19704, 19709, 118013, 108124, 118016, 19725, 19733, 118043, 19740, 108130, 19744, 19746, 108131, 19750, 118056, 19757, 118076, 85309, 118077, 118080, 118081, 19784, 118099, 118101, 118103, 118104, 118106, 118107, 118110, 118111, 118116, 118118, 118120, 118128, 118133, 118138, 118146, 118150, 118155, 118157, 118158, 118163, 52631, 118169, 52634, 118170, 118171, 52639, 118178, 118179, 118180, 52647, 118185, 52653, 19886, 52654, 52655, 52661, 52662, 52663, 52666, 118203, 52670, 19904, 52673, 52674, 52683, 52685, 52688, 52693, 118229, 118231, 52700, 52701, 118238, 118240, 52707, 118245, 52712, 52713, 118250, 118251, 52716, 52718, 52724, 52725, 118262, 118263, 52732, 118270, 52735, 85505, 118275, 52744, 52745, 118281, 52747, 19980, 118286, 19984, 19985, 118288, 52756, 118292, 85527, 52760, 52762, 52765, 85533, 19999, 85535, 118304, 52770, 52771, 118308, 20007, 20008, 118312, 118316, 118319, 85553, 52786, 20019, 118322, 20022, 85559, 118327, 52793, 52794, 52796, 20029, 52800, 118336, 20034, 20035, 52805, 20038, 85574, 85576, 20041, 20045, 20047, 52816, 85583, 85584, 118353, 20053, 52821, 20056, 20057, 52825, 52827, 118366, 118367, 52832, 52833, 20066, 118372, 52838, 85606, 20072, 52842, 118381, 52846, 52847, 52848, 20081, 118382, 52852, 20085, 20086, 52854, 52858, 20095, 52863, 20098, 20100, 52868, 52871, 118407, 20106, 52875, 20108, 52883, 118419, 20119, 52887, 52889, 118423, 20123, 52892, 52893, 20126, 52894, 20128, 118428, 20130, 52898, 52899, 52902, 52903, 52906, 20143, 52911, 20145, 52914, 20154, 20155, 52923, 52925, 20159, 52928, 52929, 20163, 52933, 52934, 52941, 85712, 20177, 52946, 20180, 20181, 20182, 52950, 20185, 52954, 52955, 52956, 20191, 52959, 20193, 52963, 20198, 20199, 20202, 52973, 52974, 52979, 52980, 52983, 52984, 85754, 52994, 20227, 85762, 85765, 85767, 53001, 85769, 85770, 85777, 85778, 85779, 20252, 53020, 20255, 53028, 20262, 20263, 53035, 20272, 53049, 53052, 53057, 53061, 53065, 53067, 53071, 53072, 53073, 20306, 53074, 53075, 53076, 53077, 53079, 118616, 20314, 20315, 53087, 53089, 20322, 53091, 118625, 118626, 118627, 118628, 118633, 53098, 20334, 20336, 118644, 118647, 20347, 20352, 20354, 20356, 85898, 85910, 85919, 85921, 85926, 85938, 85946, 53182, 85950, 53186, 85955, 53189, 85959, 53198, 53199, 85973, 53208, 85977, 53210, 53211, 85978, 53214, 53215, 53218, 85989, 53231, 86001, 20472, 53240, 53242, 53244, 20478, 53246, 53247, 53252, 53254, 20488, 20489, 86031, 53264, 53265, 118802, 20499, 53267, 53268, 53269, 118806, 118809, 118810, 118811, 86046, 118816, 53283, 118822, 86055, 53289, 53292, 53293, 53294, 86061, 86063, 118830, 20530, 86066, 118831, 53301, 53304, 53308, 20543, 53312, 53313, 118852, 53317, 118857, 118858, 118859, 53334, 118871, 53341, 118879, 53344, 118882, 53354, 118890, 118895, 118897, 53366, 118902, 53370, 53371, 118907, 53373, 118910, 118915, 118920, 53390, 118928, 118931, 53396, 53397, 118933, 118935, 118939, 118941, 118943, 118944, 118953, 53423, 118960, 53431, 53432, 86204, 118972, 118980, 86216, 118986, 86219, 118991, 86224, 86225, 118998, 118999, 119000, 119002, 119004, 86238, 119006, 86240, 119007, 119008, 119012, 119013, 119014, 119015, 86248, 119017, 119018, 119019, 119021, 119022, 119024, 119026, 119029, 119033, 20772, 20780, 20783, 20784, 20791, 20798, 20799, 86341, 20808, 20809, 20810, 86344, 119113, 119114, 119115, 119125, 119126, 119127, 119136, 20833, 20834, 86369, 119142, 119147, 20845, 20846, 119150, 119152, 20850, 119155, 119156, 20854, 119158, 119160, 53635, 86430, 86432, 86433, 86434, 86436, 86438, 86440, 20952, 20962, 20967, 53739, 53746, 53747, 20982, 20983, 53753, 86558, 86561, 86565, 86569, 86572, 86579, 86580, 21045, 86581, 86583, 21049, 86586, 86589, 86591, 86592, 86593, 21058, 86594, 86595, 86598, 86599, 21065, 86613, 86616, 21084, 21086, 119390, 21088, 21091, 21094, 119398, 119403, 119405, 119406, 21103, 21105, 21106, 21113, 21114, 119417, 119424, 21124, 21126, 21129, 21135, 119440, 119443, 21140, 119446, 21143, 21144, 21149, 21152, 21155, 21168, 21172, 119477, 119478, 21178, 21188, 119492, 119493, 21191, 21195, 21197, 21206, 21207, 21211, 21215, 86762, 86764, 86770, 86776, 86790, 86799, 86802, 86803, 86810, 86813, 86817, 86818, 86819, 86821, 86833, 86834, 86835, 86837, 86838, 86839, 86841, 86843, 21350, 86904, 86905, 86908, 86914, 86921, 86923, 86924, 86925, 86936, 86939, 86942, 86948, 86952, 21427, 21428, 21429, 21430, 86966, 86967, 21437, 86977, 21455, 21456, 86997, 87003, 87007, 87010, 87011, 87013, 21478, 87014, 21482, 21489, 87026, 87035, 21528, 87067, 21534, 21539, 119852, 87085, 87104, 87109, 119883, 87118, 21583, 21585, 87122, 21587, 119893, 21591, 21593, 87129, 21595, 119898, 87133, 119903, 119908, 21606, 87145, 119913, 87147, 119914, 21613, 119915, 119919, 21616, 21617, 119920, 21622, 87161, 87163, 54399, 54401, 21633, 21641, 54412, 54413, 54423, 21656, 54424, 21666, 54440, 54443, 54444, 21682, 54450, 54452, 54454, 54462, 21695, 21698, 21699, 21702, 54471, 54472, 54475, 54477, 54482, 21723, 21726, 21750, 120057, 54522, 21755, 54524, 54528, 120065, 120066, 54533, 87305, 87306, 54539, 120074, 120076, 87310, 54543, 54545, 87316, 54549, 120087, 87320, 120092, 21790, 87327, 21792, 120094, 120097, 120106, 120112, 120113, 120117, 87352, 87353, 87355, 87357, 120125, 87361, 120145, 87378, 120147, 87383, 87388, 120156, 87391, 87396, 87397, 87400, 87401, 87402, 120168, 87404, 120170, 87408, 120180, 87414, 54649, 120186, 87419, 120191, 87425, 87426, 54659, 87427, 54665, 87435, 87436, 120205, 87439, 54672, 87441, 54674, 54676, 87445, 54678, 120216, 54681, 54689, 54690, 120225, 87460, 120228, 87462, 54704, 87476, 87480, 87481, 87485, 87487, 87488, 87491, 87500, 87501, 87506, 87517, 120285, 54751, 54753, 120289, 87525, 54759, 87527, 87532, 54765, 87533, 87535, 22001, 54771, 54775, 22009, 22011, 87548, 22014, 87550, 22016, 87552, 54786, 54787, 87554, 54789, 87556, 54792, 87561, 54798, 22034, 54802, 54808, 54809, 54810, 87576, 87580, 22046, 22052, 22055, 22056, 54823, 87600, 54833, 54842, 22075, 54855, 87630, 87633, 22098, 22099, 22100, 54871, 22106, 54874, 22110, 22117, 54888, 120427, 120428, 87661, 54896, 22129, 22130, 87668, 22133, 22134, 87673, 87678, 87680, 54923, 87696, 22161, 87698, 54938, 54945, 87714, 22194, 22195, 22196, 54962, 87730, 87740, 22213, 120519, 22216, 54984, 120523, 22222, 54991, 87759, 120526, 22226, 87769, 55002, 22235, 120538, 87773, 87776, 22244, 87784, 120552, 120554, 120555, 22253, 120557, 120559, 87792, 120562, 120564, 120566, 22263, 120568, 22265, 120571, 22272, 120576, 22275, 87812, 120579, 120581, 87818, 120587, 120590, 120592, 22292, 87833, 120602, 22304, 87846, 120615, 22312, 120616, 120620, 120624, 87861, 120631, 22328, 120634, 87867, 120639, 22337, 120641, 55107, 55108, 87876, 87878, 120646, 120648, 87881, 55114, 120649, 55116, 120651, 55118, 120658, 55123, 22356, 22357, 22358, 120659, 55132, 55133, 55134, 87903, 120669, 120670, 120673, 87908, 55141, 55142, 120676, 22377, 55146, 120682, 22380, 22381, 55149, 120685, 120686, 55154, 120690, 120692, 141221, 120701, 120703, 120705, 22403, 55175, 55182, 120722, 22420, 120729, 22427, 120731, 120733, 120734, 120735, 120737, 55202, 120740, 120742, 120752, 120754, 120756, 120758, 120762, 22460, 120765, 120767, 22466, 120771, 22470, 22475, 22480, 120784, 22516, 120825, 120827, 22524, 120835, 120837, 120841, 22544, 120852, 22550, 120854, 22552, 88088, 120858, 88091, 120860, 120862, 22561, 22570, 88113, 22582, 22596, 22598, 22601, 22603, 88153, 88157, 88158, 88176, 55422, 88191, 88192, 88198, 88207, 88208, 88215, 88218, 88225, 88231, 88246, 88249, 55488, 88263, 55500, 55502, 88271, 55507, 55509, 55510, 88280, 55515, 55516, 55518, 88286, 22752, 55522, 88291, 22757, 55527, 22762, 55530, 88300, 22765, 55533, 22768, 22769, 22771, 22772, 88307, 22775, 55543, 88311, 88315, 88318, 88322, 55555, 55563, 88331, 88338, 55572, 55575, 88345, 55579, 55581, 55588, 88356, 22824, 22825, 55592, 22829, 22833, 55603, 55604, 55607, 55608, 55609, 55612, 55617, 55619, 55630, 55633, 22867, 55636, 22869, 55639, 22875, 55643, 55645, 55644, 22879, 22881, 55650, 22883, 55652, 22885, 22886, 55657, 55662, 22895, 22898, 55667, 55671, 55673, 22906, 55675, 22908, 55676, 22910, 22911, 55677, 22915, 22916, 55684, 55686, 22929, 55701, 55702, 88473, 55713, 88487, 55722, 55724, 121263, 55729, 55731, 121269, 55736, 55739, 88509, 55743, 88516, 55750, 88519, 121289, 88522, 55757, 55758, 55759, 55761, 55762, 88529, 121298, 55770, 55772, 55773, 55776, 121315, 55780, 55781, 55783, 55784, 55788, 55795, 121338, 88573, 88575, 55808, 88580, 55814, 88584, 121357, 121359, 55829, 55831, 55833, 121377, 121378, 88611, 55844, 121380, 121381, 88619, 88621, 88626, 88629, 55865, 55870, 55874, 55875, 55877, 88646, 55879, 55880, 88654, 55887, 88658, 55891, 88659, 55893, 55894, 55897, 55898, 88667, 88668, 55902, 88670, 88671, 88679, 55914, 88682, 88690, 88695, 88696, 88703, 88704, 88707, 88713, 88715, 55951, 55958, 55959, 55964, 55974, 55977, 55978, 55982, 55983, 55992, 88776, 88779, 88783, 88784, 88789, 88790, 88791, 88796, 88797, 88822, 88823, 121617, 121619, 121626, 121639, 121640, 121642, 121643, 121644, 121645, 88878, 88882, 121652, 88885, 121653, 121656, 56122, 121658, 121659, 56125, 56128, 56131, 56135, 23368, 56141, 23375, 56145, 56147, 88916, 56149, 88919, 23389, 23390, 23392, 88931, 23396, 88932, 88933, 23411, 56184, 88954, 88959, 23425, 23430, 88969, 88975, 88979, 23461, 89016, 89018, 23485, 23486, 89021, 89022, 23489, 89026, 23491, 23492, 89027, 89029, 89030, 89031, 56270, 89040, 89044, 89045, 56279, 56292, 56294, 56295, 56297, 56298, 56308, 56318, 56328, 56330, 56333, 56339, 56341, 56344, 56367, 56372, 56382, 56387, 56396, 56406, 56408, 56424, 56436, 56439, 23681, 56451, 56461, 23694, 23696, 89233, 23698, 56469, 56476, 89250, 89251, 23717, 89257, 23731, 23733, 23735, 89273, 23742, 89284, 23749, 23750, 23751, 23752, 89286, 23756, 89293, 23758, 23759, 23760, 89297, 23765, 23774, 89311, 23777, 89313, 89321, 23792, 23793, 23899, 23901, 23904, 23906, 23907, 56674, 23917, 23918, 23923, 23927, 23928, 23953, 23957, 23967, 23983, 56758, 56761, 89529, 56764, 56768, 56770, 122309, 122315, 122321, 56786, 56788, 56792, 122333, 56798, 89569, 89572, 122340, 56809, 89577, 122348, 56817, 56821, 122357, 122365, 122366, 56831, 89600, 122369, 89603, 89605, 89606, 89608, 122380, 89613, 122382, 89619, 122389, 89624, 122392, 122393, 122404, 122405, 122433, 122436, 122438, 122439, 122445, 122452, 122453, 24209, 24211, 24212, 24216, 24232, 24241, 24244, 24247, 57085, 57087, 57093, 57094, 57095, 122634, 57099, 57101, 122639, 122640, 57105, 57108, 57109, 57114, 57115, 57116, 122652, 122655, 122656, 57122, 57124, 122661, 122663, 57129, 122666, 57132, 24364, 57134, 122673, 24370, 122680, 57146, 122684, 57149, 57153, 57154, 122696, 57161, 122698, 122705, 57170, 57171, 57172, 122709, 57175, 57177, 57178, 122714, 122715, 122716, 57182, 122717, 57184, 122720, 122721, 57190, 57191, 57192, 57193, 122727, 57195, 57196, 122728, 57198, 57199, 122733, 57201, 122739, 57208, 57209, 122745, 24444, 57213, 122748, 24448, 24449, 57216, 57219, 24452, 57220, 122757, 57223, 57224, 57225, 122760, 122761, 57231, 24464, 57232, 122767, 122769, 57239, 122776, 122778, 24476, 24480, 122785, 57256, 24489, 122792, 122796, 122797, 57268, 122804, 57270, 122809, 24507, 122811, 57277, 57278, 57281, 24514, 57283, 122820, 24517, 57285, 122821, 122824, 24521, 122826, 24523, 57291, 57292, 57294, 122828, 57298, 57299, 122834, 57301, 57302, 57303, 57304, 57305, 122835, 57307, 57308, 122837, 122845, 122846, 122849, 57317, 57319, 57320, 57326, 57329, 57332, 57333, 57335, 57341, 57343, 57344, 57345, 57346, 57347, 57348, 57359, 57370, 57373, 57382, 57387, 57388, 57389, 57392, 57398, 57401, 57406, 57434, 57436, 57437, 57440, 122977, 122979, 57452, 122989, 122991, 122993, 123002, 123003, 57468, 57470, 123012, 57479, 57485, 57497, 57504, 90274, 57512, 24747, 57515, 24749, 57522, 24757, 24758, 57530, 57541, 57547, 57562, 123102, 123104, 57569, 123105, 123106, 123108, 123111, 123112, 123119, 123120, 123121, 123123, 123125, 123127, 57593, 123129, 24829, 24830, 24832, 123143, 123146, 123150, 123157, 123158, 123160, 90394, 123164, 123165, 123168, 57634, 90402, 123173, 123174, 90407, 90411, 123181, 123182, 123184, 123185, 57652, 90422, 123195, 57660, 90428, 90429, 90432, 123200, 90435, 90436, 57670, 123207, 123209, 57675, 123211, 57678, 57679, 57681, 57682, 57685, 123222, 123225, 57692, 57698, 123235, 123237, 123242, 123255, 57722, 57725, 123269, 123288, 123290, 123299, 123301, 25007, 123320, 123323, 25020, 123324, 123325, 25023, 123326, 123327, 123328, 123329, 123330, 123331, 123333, 123334, 25033, 123337, 123338, 123340, 123342, 25039, 123344, 123345, 25043, 123347, 123349, 123350, 123351, 123353, 25050, 25052, 25056, 123360, 25081, 25085, 25096, 123423, 25124, 90660, 123428, 90670, 57905, 90673, 90674, 123443, 123444, 123447, 90682, 90683, 123455, 57920, 90688, 90691, 57924, 57925, 90692, 90693, 90694, 90697, 90699, 123468, 57934, 90702, 123470, 57941, 90710, 90712, 90715, 123487, 57957, 57964, 90734, 90742, 57977, 90745, 57979, 90746, 90748, 57984, 57990, 90760, 57993, 90761, 25229, 25232, 25233, 58000, 90771, 90772, 58012, 58013, 90782, 58015, 90785, 90786, 135277, 25254, 90791, 25256, 25260, 25263, 58031, 90801, 58041, 25274, 25275, 90811, 25278, 58046, 90816, 25281, 25284, 58052, 58053, 90820, 90823, 90824, 58058, 90828, 58061, 123596, 58063, 58064, 58065, 123597, 123599, 58068, 90837, 123603, 58071, 25306, 90843, 123610, 123611, 123613, 123614, 25312, 58082, 90851, 58084, 90853, 123618, 123623, 25323, 25324, 90860, 25330, 25331, 90867, 90868, 90870, 123634, 123636, 90873, 123638, 123640, 123646, 90880, 25345, 123650, 123652, 90886, 25353, 123657, 90891, 58124, 25358, 25359, 90896, 123663, 25362, 90899, 25364, 90901, 123666, 123672, 90905, 123674, 123675, 25375, 90912, 90913, 25378, 90915, 90916, 58150, 58151, 90923, 90927, 90928, 90929, 90931, 90932, 90934, 58169, 90937, 90938, 90939, 58182, 90950, 90955, 90958, 58191, 58192, 123730, 90965, 58199, 90968, 123736, 123739, 90974, 123744, 123745, 90980, 123750, 58220, 90992, 58225, 123760, 123761, 123762, 90998, 91006, 123775, 123776, 91010, 123783, 123798, 91034, 58268, 58269, 91036, 123805, 123807, 91051, 58284, 91057, 58290, 91061, 91062, 91063, 91064, 91067, 58303, 123841, 91075, 91077, 91081, 91082, 91084, 123852, 91086, 91087, 91089, 91090, 91091, 91094, 91096, 58367, 58375, 123961, 123963, 91199, 91200, 123970, 91204, 91205, 91206, 123980, 91214, 91216, 91225, 91227, 91228, 91230, 91233, 91234, 91237, 91238, 91247, 25714, 25733, 25738, 25743, 25744, 25745, 25748, 25795, 25805, 25814, 124120, 124130, 58602, 124149, 58614, 124152, 124154, 58625, 124172, 124174, 58641, 124179, 58644, 58645, 124182, 124183, 124187, 58664, 58666, 58669, 124206, 124208, 124209, 124212, 58677, 124214, 58679, 25912, 124215, 25914, 124216, 25916, 124228, 25933, 25934, 124237, 124238, 124239, 124240, 25939, 25945, 124258, 25960, 25966, 124270, 25978, 25988, 25990, 124294, 26005, 26011, 124320, 124321, 26025, 26031, 26032, 124342, 26039, 124344, 26041, 124345, 26047, 26052, 26058, 26060, 124365, 26066, 26069, 26070, 26078, 26080, 124386, 26083, 26087, 124391, 124392, 124393, 26092, 26097, 26098, 26100, 26105, 91642, 91643, 26108, 124414, 26111, 26112, 91656, 26121, 91657, 26125, 91661, 26141, 26143, 26146, 26147, 26149, 91685, 26151, 91687, 91688, 124457, 26156, 26158, 26162, 26165, 26166, 26170, 26173, 124484, 26184, 26187, 26188, 26190, 58960, 26194, 124500, 26198, 124502, 124507, 124511, 124515, 26214, 58988, 58989, 124527, 124528, 26228, 26229, 58999, 59000, 124536, 26234, 26236, 59005, 26238, 124540, 124543, 124544, 124546, 124547, 26246, 26248, 26249, 124556, 124557, 124559, 124560, 124561, 124563, 124565, 26262, 26266, 124571, 124573, 124577, 26275, 124580, 124581, 124585, 124588, 124589, 124591, 26289, 124595, 26302, 26303, 26304, 124610, 26307, 124617, 26315, 124619, 26320, 124624, 26323, 26324, 124629, 26331, 26343, 26345, 124653, 26352, 26360, 26361, 124664, 124667, 26365, 124675, 26373, 26374, 91910, 26376, 26377, 124678, 124681, 91916, 91917, 124682, 26383, 124685, 26385, 26386, 91923, 26388, 26389, 91925, 124690, 124696, 124697, 26394, 91931, 26396, 26397, 26398, 124701, 124702, 91939, 26404, 26405, 91941, 91943, 124708, 26409, 26411, 26412, 91947, 91949, 26416, 26417, 26419, 26420, 59189, 26422, 91955, 91956, 124725, 124726, 124730, 124739, 124741, 124746, 59232, 92038, 26510, 26511, 26512, 92046, 26529, 26536, 26539, 26541, 26546, 92088, 26558, 26559, 124881, 124883, 124884, 124889, 124909, 124912, 124913, 124914, 124918, 124946, 124947, 92208, 124977, 124982, 92218, 92219, 92220, 124988, 92226, 92231, 92232, 92235, 92236, 92244, 92245, 92248, 92251, 92258, 92263, 92264, 92268, 92271, 92273, 92274, 92276, 26741, 92278, 26754, 26756, 92293, 92294, 26772, 92312, 26779, 92316, 26781, 26782, 26784, 92320, 92321, 26791, 26795, 26796, 92336, 26801, 92341, 92344, 92349, 92360, 92361, 92362, 92363, 92364, 92375, 59610, 92378, 92379, 59615, 59617, 92386, 92393, 92395, 59634, 92404, 92412, 92413, 92415, 59648, 26881, 26882, 59651, 59652, 26884, 59653, 92417, 92418, 92419, 92421, 92428, 92434, 92435, 92442, 92449, 92451, 92452, 92462, 92466, 125234, 125235, 92471, 92472, 92474, 92475, 92476, 92478, 92479, 92482, 125252, 125256, 92492, 92495, 92497, 92498, 26963, 92499, 92501, 125265, 125268, 125270, 92519, 92531, 92535, 27003, 27007, 27008, 27012, 59781, 92549, 92552, 92555, 92556, 92560, 92561, 59797, 59798, 27031, 27032, 92567, 92570, 92571, 59804, 59805, 92573, 27042, 27045, 92585, 59819, 27052, 59821, 27055, 27060, 92597, 27065, 92602, 27071, 92608, 59841, 92609, 59850, 92618, 125401, 59866, 59868, 92637, 92638, 59871, 125404, 92641, 59879, 92650, 92652, 59892, 59897, 59898, 92665, 92670, 92673, 92674, 92675, 92677, 92678, 92679, 92680, 92682, 92683, 92687, 92692, 92693, 92695, 59929, 59930, 59932, 92700, 92701, 59935, 92706, 92710, 59944, 59947, 92717, 59951, 59958, 92727, 92728, 92739, 59974, 92742, 59976, 92747, 125515, 125518, 125519, 92754, 125522, 125523, 125524, 125526, 92759, 92762, 60004, 125542, 60007, 60008, 60011, 92780, 92782, 125550, 60016, 92788, 92789, 60023, 60024, 60026, 60028, 92800, 92801, 125569, 92803, 125570, 60038, 125575, 125577, 92812, 92816, 60049, 92818, 125584, 60055, 60056, 92824, 125593, 60061, 125599, 60066, 92834, 60073, 92845, 60081, 60096, 60098, 60099, 60100, 60106, 92874, 92878, 60114, 92883, 92885, 125654, 60120, 92888, 92891, 60131, 92899, 92906, 92908, 60143, 60144, 92914, 92915, 60148, 60150, 92923, 92929, 60162, 60165, 60168, 60172, 60179, 60183, 92953, 60194, 60199, 92970, 92971, 60204, 60211, 92996, 93005, 93013, 93030, 93031, 125800, 93038, 93040, 93043, 125811, 93064, 60314, 60315, 93083, 60321, 60323, 93092, 60325, 60326, 60327, 125860, 125864, 125865, 93107, 60340, 60343, 60344, 60345, 60347, 60354, 60356, 60359, 60360, 60361, 60363, 60376, 60380, 60389, 60390, 60409, 60417, 60420, 60422, 60423, 60427, 60428, 60431, 60436, 60439, 60440, 60446, 60453, 60455, 60462, 60467, 60468, 60471, 60478, 60490, 60494, 60497, 60499, 60505, 60506, 60510, 27744, 60515, 27747, 27749, 126052, 27752, 27753, 126057, 126059, 27756, 27759, 60529, 27762, 126066, 27765, 60535, 60536, 27769, 60539, 60540, 60541, 27774, 60545, 60546, 27779, 60548, 27784, 60553, 27786, 27787, 27794, 27804, 126115, 27817, 27822, 27828, 27830, 27833, 27835, 27838, 126143, 27844, 126152, 27851, 27854, 27858, 126167, 27867, 27874, 27883, 27886, 27888, 27900, 27910, 27912, 27913, 27915, 27916, 27918, 27919, 27926, 27930, 27936, 27941, 27945, 27947, 27950, 27954, 27956, 27966, 27977, 27983, 27989, 27991, 27993, 27994, 93563, 126335, 93574, 93575, 93581, 93583, 93590, 93593, 126361, 126362, 93597, 126369, 93610, 126379, 93614, 93624, 28091, 28094, 28098, 93635, 28101, 28108, 28110, 93648, 28117, 60885, 93654, 126425, 126427, 60897, 93666, 126433, 93668, 28133, 60901, 93670, 126436, 126438, 60906, 93674, 126446, 126454, 60919, 28153, 60925, 126462, 60928, 126465, 126468, 60936, 60937, 60938, 28169, 93704, 93706, 93707, 28175, 60944, 28177, 93708, 93712, 28180, 60948, 93714, 60951, 93722, 60955, 93728, 93731, 60966, 60971, 93743, 28210, 28212, 93748, 93750, 93751, 60985, 126525, 93758, 28224, 28226, 28229, 60997, 93765, 61000, 126536, 126539, 93773, 61007, 93775, 28242, 93778, 93779, 93781, 93782, 126549, 126550, 126553, 93787, 28253, 61021, 93789, 93791, 61026, 93794, 126568, 126569, 28273, 61044, 126581, 61054, 61055, 126603, 126605, 28303, 61073, 126610, 61078, 61080, 61081, 61088, 126628, 61093, 28328, 126633, 28330, 61101, 126637, 126639, 126641, 126643, 126644, 126645, 126647, 28344, 126648, 126650, 126651, 93884, 126654, 126655, 126659, 93893, 93894, 126661, 93897, 28362, 93900, 93902, 93903, 93906, 93908, 28374, 28376, 126689, 126690, 126691, 126692, 28389, 126693, 126699, 28397, 28398, 126705, 126707, 28405, 28408, 126712, 126717, 126718, 28420, 28425, 28427, 126734, 126736, 28435, 126740, 126741, 28439, 126744, 28442, 28443, 28444, 126749, 126753, 126754, 28452, 28454, 28455, 126761, 28464, 28466, 126779, 28477, 126781, 61249, 61251, 61253, 61255, 126794, 126795, 126796, 126797, 61262, 126799, 61266, 126810, 126812, 94046, 94051, 94052, 94053, 61288, 61289, 126827, 28524, 61293, 94060, 28527, 94061, 94062, 28530, 61298, 94063, 28534, 94072, 94074, 126846, 28543, 94079, 126847, 28546, 28550, 94086, 126854, 28553, 28555, 126860, 126861, 126862, 94095, 94097, 28562, 28563, 126865, 28565, 126868, 126871, 94106, 126875, 61343, 61344, 94111, 126882, 94115, 61348, 61349, 28582, 126884, 126886, 126889, 61354, 126890, 126891, 126893, 28592, 126897, 126898, 126899, 28597, 28599, 28602, 126915, 28622, 126926, 126929, 28629, 28630, 28631, 126940, 28642, 28644, 126951, 28648, 126970, 126971, 126975, 126986, 28688, 126993, 127001, 127005, 127008, 127015, 94249, 94254, 127022, 94256, 28723, 28725, 127032, 94270, 94293, 94296, 28761, 28762, 94298, 94302, 28772, 28773, 28774, 94311, 94316, 28784, 94321, 94325, 28790, 94339, 28805, 28807, 28821, 28830, 28834, 28838, 28853, 28855, 28859, 28862, 28864, 28865, 28868, 28870, 28871, 28872, 28873, 28875, 28877, 28878, 28879, 28885, 28898, 28904, 28914, 28916, 28920, 28923, 127232, 28929, 127233, 28932, 28933, 28935, 28943, 94479, 28945, 127252, 94485, 94490, 94491, 28956, 94495, 28964, 28968, 94505, 28971, 28973, 28979, 28987, 94558, 94564, 94569, 94576, 94578, 94580, 94620, 94628, 94641, 94656, 94661, 94670, 94682, 94691, 94697, 94709, 94712, 94727, 29199, 29206, 29207, 29208, 29212, 29215, 29219, 94756, 94759, 29231, 29234, 29236, 29237, 29238, 94782, 94784, 94785, 94791, 94793, 94796, 94799, 94801, 94804, 94805, 94807, 94810, 62044, 94825, 94828, 94829, 94831, 94836, 62073, 94844, 94849, 94850, 94851, 62084, 94859, 94860, 62094, 94863, 62097, 94866, 94871, 94873, 94875, 94883, 94884, 94885, 29359, 29360, 29362, 29363, 29365, 94902, 94903, 94907, 29374, 29375, 29376, 94911, 29379, 94915, 29382, 94918, 94919, 29386, 29390, 29391, 94926, 94934, 94938, 29403, 29404, 62175, 94944, 94947, 94949, 94955, 94956, 29421, 94962, 94964, 29429, 29431, 29432, 94969, 29436, 29437, 94974, 94977, 29447, 94983, 29449, 29450, 94984, 94985, 29454, 29457, 29459, 94998, 95002, 29471, 95008, 95010, 29475, 29479, 95023, 29490, 29494, 29495, 95031, 29507, 127812, 127819, 127822, 29523, 127828, 29525, 127829, 127831, 29538, 29544, 29553, 29554, 29561, 29566, 29568, 29569, 29573, 29574, 62346, 29582, 62350, 29584, 62352, 62401, 127955, 127956, 127957, 127963, 127964, 29664, 29666, 127970, 127971, 29669, 127973, 127981, 29690, 29697, 29698, 128002, 29700, 95236, 128006, 29704, 29706, 29708, 62476, 95246, 29711, 95258, 29723, 62493, 29726, 95261, 95263, 95266, 62503, 62509, 62521, 95299, 62533, 95302, 95303, 29774, 95319, 29784, 29785, 95321, 62556, 95325, 95333, 95341, 62575, 95344, 62579, 95348, 128118, 62583, 128119, 128121, 62590, 128126, 128145, 128147, 128149, 128150, 128161, 128162, 128164, 128167, 128169, 128173, 128183, 128184, 128198, 128199, 128201, 128202, 128203, 128204, 128213, 62686, 62689, 62692, 62696, 128250, 95483, 62718, 95486, 62721, 95489, 95490, 95492, 29959, 29961, 95498, 29963, 95507, 95510, 29975, 95511, 95514, 95516, 95521, 29987, 95524, 95528, 29993, 29997, 30002, 95541, 95543, 95552, 30017, 30021, 95561, 30029, 30049, 95585, 95591, 95593, 30059, 95597, 30063, 95603, 30072, 128380, 128383, 128384, 128386, 95620, 128392, 128396, 30097, 128401, 30110, 128414, 30112, 128415, 30114, 30117, 30118, 30119, 95658, 95660, 95661, 128436, 62901, 62902, 128442, 62908, 128444, 62910, 62915, 62916, 62917, 95685, 128453, 62920, 95688, 128454, 128459, 95693, 128462, 95695, 95700, 62941, 128479, 62944, 128481, 62951, 62958, 30208, 30211, 30218, 30219, 30221, 30224, 30226, 30230, 30231, 128537, 30237, 30238, 30240, 128544, 128575, 128576, 128578, 30278, 128582, 128583, 30281, 30282, 95819, 128588, 95824, 128593, 95831, 128599, 128603, 95836, 128608, 128610, 30307, 128611, 128612, 128614, 128615, 30321, 30331, 30332, 30337, 30345, 30348, 30349, 30359, 30368, 30374, 95919, 30386, 30388, 95925, 95926, 95928, 95929, 30394, 95932, 30403, 128730, 95969, 30434, 30435, 30436, 128743, 30446, 95984, 95988, 128759, 128764, 128765, 30464, 30465, 96001, 128768, 30468, 128769, 128770, 96007, 128771, 128772, 128773, 96011, 128774, 128775, 30480, 30485, 30487, 30489, 30491, 96031, 30496, 128806, 96042, 128812, 30510, 96047, 128819, 96054, 128822, 128825, 128827, 96061, 128831, 96065, 128836, 128837, 128842, 96076, 30546, 128854, 63327, 63328, 63329, 128866, 30563, 63331, 63334, 128871, 128875, 128877, 128881, 30578, 63347, 63349, 128887, 63352, 128890, 63357, 63360, 128897, 128898, 63368, 30605, 63374, 30608, 63376, 63379, 128916, 30613, 30614, 128918, 30617, 128922, 30623, 30624, 128928, 128930, 63395, 63396, 128936, 63401, 128938, 128941, 63407, 30640, 128944, 128948, 63414, 30649, 128953, 30652, 128956, 63424, 63425, 63427, 30660, 30661, 128968, 30667, 30670, 63447, 30686, 63462, 129006, 30707, 129012, 129015, 129017, 30720, 63489, 129026, 63491, 129028, 30727, 63497, 63498, 129033, 129034, 129036, 96270, 129037, 129038, 129042, 63507, 63511, 63515, 30755, 30756, 129065, 129066, 63533, 63534, 63539, 63549, 96455, 96461, 96462, 96474, 96496, 96497, 63738, 63740, 63745, 63750, 63758, 63762, 63768, 63770, 63772, 63774, 63801, 63809, 63813, 63817, 63819, 63826, 63830, 63835, 63842, 63844, 63846, 63848, 63851, 63861, 63868, 96638, 96643, 63879, 63881, 63883, 96651, 96652, 96658, 63891, 96663, 96669, 129437, 63909, 63917, 96687, 129455, 63927, 63928, 63932, 96704, 96706, 129475, 96711, 129479, 129481, 31180, 31181, 31185, 96726, 96727, 31194, 31195, 31196, 31197, 96730, 31199, 31200, 31201, 63970, 31206, 31207, 63977, 96748, 31219, 63987, 31221, 63988, 63990, 31224, 63994, 31230, 64011, 64013, 64015, 64017, 31252, 64025, 31259, 64027, 64030, 31265, 64035, 31269, 31271, 31274, 31279, 31290, 64058, 31292, 64059, 64061, 64062, 31296, 129596, 129597, 31299, 31300, 31302, 129607, 31308, 129613, 31311, 64080, 129615, 64082, 31315, 31318, 129629, 31328, 31329, 64097, 64099, 31333, 64106, 64108, 31344, 129652, 31352, 64121, 64125, 31367, 129671, 129674, 64139, 129676, 31373, 64141, 64151, 31387, 129692, 31391, 64161, 31398, 31403, 129710, 31410, 64178, 64181, 64184, 129721, 31420, 64190, 64191, 64193, 129729, 64196, 31429, 129732, 31432, 64200, 64201, 129736, 31436, 31438, 129744, 31442, 64212, 129748, 64214, 129752, 129759, 64224, 129760, 129769, 64236, 64237, 129776, 64241, 129783, 129790, 64258, 64260, 129803, 64270, 64271, 129806, 64279, 64280, 129816, 129820, 64285, 129826, 64291, 64292, 31526, 64295, 31529, 64297, 64298, 129834, 64301, 129835, 31539, 64308, 31541, 64309, 31544, 31552, 64322, 31555, 64324, 31558, 64329, 129869, 129873, 129887, 129888, 64361, 129899, 129902, 64370, 64371, 64374, 64375, 64380, 64399, 64400, 129945, 129946, 64416, 97190, 97195, 64432, 97206, 97208, 64446, 64447, 97214, 64465, 97233, 97237, 31704, 31705, 31706, 64474, 31710, 31713, 97249, 97258, 31724, 31725, 64493, 64496, 97264, 97269, 31736, 97272, 64506, 31739, 97276, 31741, 31742, 97279, 64512, 31748, 31752, 31756, 31764, 64533, 97303, 97304, 97306, 97308, 31773, 97310, 31775, 31776, 31778, 97318, 31792, 31797, 130102, 31800, 31804, 31806, 130111, 130115, 64580, 31815, 31817, 31819, 64587, 31821, 64589, 31825, 31829, 130133, 64601, 31845, 130154, 64619, 31858, 31866, 130173, 31870, 31872, 64645, 64648, 31882, 130187, 31887, 64655, 31891, 97428, 64662, 130199, 97432, 31897, 31898, 130200, 31900, 97436, 31902, 97437, 31904, 64672, 31906, 97439, 97443, 31909, 97444, 97446, 97448, 130208, 130216, 31915, 31916, 31917, 97453, 97454, 31920, 64692, 97461, 64695, 97469, 130238, 64703, 97471, 64705, 130243, 130246, 64714, 97485, 97492, 97493, 97495, 64734, 64748, 64749, 64753, 64759, 64764, 64765, 64780, 64781, 64794, 64795, 64796, 64797, 32042, 130358, 32060, 32061, 32064, 32065, 32066, 32069, 32071, 64841, 64843, 64849, 64851, 32084, 64857, 64858, 130394, 130397, 64862, 32095, 130398, 32099, 64867, 64870, 130407, 130408, 64874, 64875, 130415, 130417, 64882, 130419, 130426, 130427, 130431, 130435, 130436, 64901, 130438, 64904, 64906, 64907, 130445, 130451, 130460, 32168, 32169, 32171, 32173, 32174, 130479, 64956, 64969, 64970, 32204, 32207, 64976, 32209, 64977, 64981, 130518, 32217, 64986, 32219, 32221, 130527, 130534, 130536, 130537, 130538, 130540, 65006, 130544, 32242, 32245, 32246, 32247, 130551, 32249, 32251, 130556, 65021, 65026, 130562, 130566, 65039, 130587, 130592, 32290, 65063, 130600, 32298, 32300, 130604, 32302, 130607, 65079, 65081, 32316, 130634, 32346, 130651, 32351, 32352, 130673, 32370, 130674, 32373, 32375, 32379, 32385, 32386, 32405, 130718, 130726, 32423, 32427, 130731, 32430, 130739, 32445, 32457, 32458, 65225, 130761, 32461, 65232, 130770, 130773, 65241, 130779, 32476, 130783, 65249, 65250, 65251, 130785, 98023, 98024, 32489, 65257, 65259, 65263, 130800, 32499, 65269, 32509, 65282, 130820, 130821, 32518, 65287, 65289, 65290, 32535, 65304, 130841, 65307, 130843, 130846, 130849, 32547, 65317, 130853, 65323, 32558, 32559, 32560, 32565, 65339, 65343, 130886, 130888, 130889, 130891, 32590, 65359, 130894, 130895, 130898, 32599, 65373, 65374, 32613, 32617, 65392, 65396, 65397, 65398, 65404, 65417, 65426, 65429, 98197, 65436, 32672, 32674, 32678, 32680, 98222, 65455, 65457, 65458, 32691, 98225, 98227, 32694, 32695, 98232, 65465, 65466, 65467, 65468, 98236, 65470, 32703, 32704, 98239, 65475, 65476, 65478, 98249, 65484, 32718, 65487, 98255, 65493, 65495, 32731, 32732, 65500, 98269, 65503, 98273, 65508, 65509, 98277, 98279, 98280, 98289, 65522, 65523, 65524, 98290, 65529, 98298] not in index'",
     "output_type": "error",
     "traceback": [
      "\u001b[1;31m---------------------------------------------------------------------------\u001b[0m",
      "\u001b[1;31mKeyError\u001b[0m                                  Traceback (most recent call last)",
      "Cell \u001b[1;32mIn[127], line 1\u001b[0m\n\u001b[1;32m----> 1\u001b[0m poly_counties \u001b[38;5;241m=\u001b[39m \u001b[43mus_counties\u001b[49m\u001b[38;5;241;43m.\u001b[39;49m\u001b[43mloc\u001b[49m\u001b[43m[\u001b[49m\u001b[38;5;28;43mlist\u001b[39;49m\u001b[43m(\u001b[49m\u001b[38;5;28;43mset\u001b[39;49m\u001b[43m(\u001b[49m\u001b[43maccepted_indices\u001b[49m\u001b[43m)\u001b[49m\u001b[43m)\u001b[49m\u001b[43m]\u001b[49m\n",
      "File \u001b[1;32mc:\\Users\\jws10y\\AppData\\Local\\anaconda3\\envs\\tensorflow-gpu\\lib\\site-packages\\pandas\\core\\indexing.py:1103\u001b[0m, in \u001b[0;36m_LocationIndexer.__getitem__\u001b[1;34m(self, key)\u001b[0m\n\u001b[0;32m   1100\u001b[0m axis \u001b[38;5;241m=\u001b[39m \u001b[38;5;28mself\u001b[39m\u001b[38;5;241m.\u001b[39maxis \u001b[38;5;129;01mor\u001b[39;00m \u001b[38;5;241m0\u001b[39m\n\u001b[0;32m   1102\u001b[0m maybe_callable \u001b[38;5;241m=\u001b[39m com\u001b[38;5;241m.\u001b[39mapply_if_callable(key, \u001b[38;5;28mself\u001b[39m\u001b[38;5;241m.\u001b[39mobj)\n\u001b[1;32m-> 1103\u001b[0m \u001b[38;5;28;01mreturn\u001b[39;00m \u001b[38;5;28;43mself\u001b[39;49m\u001b[38;5;241;43m.\u001b[39;49m\u001b[43m_getitem_axis\u001b[49m\u001b[43m(\u001b[49m\u001b[43mmaybe_callable\u001b[49m\u001b[43m,\u001b[49m\u001b[43m \u001b[49m\u001b[43maxis\u001b[49m\u001b[38;5;241;43m=\u001b[39;49m\u001b[43maxis\u001b[49m\u001b[43m)\u001b[49m\n",
      "File \u001b[1;32mc:\\Users\\jws10y\\AppData\\Local\\anaconda3\\envs\\tensorflow-gpu\\lib\\site-packages\\pandas\\core\\indexing.py:1332\u001b[0m, in \u001b[0;36m_LocIndexer._getitem_axis\u001b[1;34m(self, key, axis)\u001b[0m\n\u001b[0;32m   1329\u001b[0m     \u001b[38;5;28;01mif\u001b[39;00m \u001b[38;5;28mhasattr\u001b[39m(key, \u001b[38;5;124m\"\u001b[39m\u001b[38;5;124mndim\u001b[39m\u001b[38;5;124m\"\u001b[39m) \u001b[38;5;129;01mand\u001b[39;00m key\u001b[38;5;241m.\u001b[39mndim \u001b[38;5;241m>\u001b[39m \u001b[38;5;241m1\u001b[39m:\n\u001b[0;32m   1330\u001b[0m         \u001b[38;5;28;01mraise\u001b[39;00m \u001b[38;5;167;01mValueError\u001b[39;00m(\u001b[38;5;124m\"\u001b[39m\u001b[38;5;124mCannot index with multidimensional key\u001b[39m\u001b[38;5;124m\"\u001b[39m)\n\u001b[1;32m-> 1332\u001b[0m     \u001b[38;5;28;01mreturn\u001b[39;00m \u001b[38;5;28;43mself\u001b[39;49m\u001b[38;5;241;43m.\u001b[39;49m\u001b[43m_getitem_iterable\u001b[49m\u001b[43m(\u001b[49m\u001b[43mkey\u001b[49m\u001b[43m,\u001b[49m\u001b[43m \u001b[49m\u001b[43maxis\u001b[49m\u001b[38;5;241;43m=\u001b[39;49m\u001b[43maxis\u001b[49m\u001b[43m)\u001b[49m\n\u001b[0;32m   1334\u001b[0m \u001b[38;5;66;03m# nested tuple slicing\u001b[39;00m\n\u001b[0;32m   1335\u001b[0m \u001b[38;5;28;01mif\u001b[39;00m is_nested_tuple(key, labels):\n",
      "File \u001b[1;32mc:\\Users\\jws10y\\AppData\\Local\\anaconda3\\envs\\tensorflow-gpu\\lib\\site-packages\\pandas\\core\\indexing.py:1272\u001b[0m, in \u001b[0;36m_LocIndexer._getitem_iterable\u001b[1;34m(self, key, axis)\u001b[0m\n\u001b[0;32m   1269\u001b[0m \u001b[38;5;28mself\u001b[39m\u001b[38;5;241m.\u001b[39m_validate_key(key, axis)\n\u001b[0;32m   1271\u001b[0m \u001b[38;5;66;03m# A collection of keys\u001b[39;00m\n\u001b[1;32m-> 1272\u001b[0m keyarr, indexer \u001b[38;5;241m=\u001b[39m \u001b[38;5;28;43mself\u001b[39;49m\u001b[38;5;241;43m.\u001b[39;49m\u001b[43m_get_listlike_indexer\u001b[49m\u001b[43m(\u001b[49m\u001b[43mkey\u001b[49m\u001b[43m,\u001b[49m\u001b[43m \u001b[49m\u001b[43maxis\u001b[49m\u001b[43m)\u001b[49m\n\u001b[0;32m   1273\u001b[0m \u001b[38;5;28;01mreturn\u001b[39;00m \u001b[38;5;28mself\u001b[39m\u001b[38;5;241m.\u001b[39mobj\u001b[38;5;241m.\u001b[39m_reindex_with_indexers(\n\u001b[0;32m   1274\u001b[0m     {axis: [keyarr, indexer]}, copy\u001b[38;5;241m=\u001b[39m\u001b[38;5;28;01mTrue\u001b[39;00m, allow_dups\u001b[38;5;241m=\u001b[39m\u001b[38;5;28;01mTrue\u001b[39;00m\n\u001b[0;32m   1275\u001b[0m )\n",
      "File \u001b[1;32mc:\\Users\\jws10y\\AppData\\Local\\anaconda3\\envs\\tensorflow-gpu\\lib\\site-packages\\pandas\\core\\indexing.py:1462\u001b[0m, in \u001b[0;36m_LocIndexer._get_listlike_indexer\u001b[1;34m(self, key, axis)\u001b[0m\n\u001b[0;32m   1459\u001b[0m ax \u001b[38;5;241m=\u001b[39m \u001b[38;5;28mself\u001b[39m\u001b[38;5;241m.\u001b[39mobj\u001b[38;5;241m.\u001b[39m_get_axis(axis)\n\u001b[0;32m   1460\u001b[0m axis_name \u001b[38;5;241m=\u001b[39m \u001b[38;5;28mself\u001b[39m\u001b[38;5;241m.\u001b[39mobj\u001b[38;5;241m.\u001b[39m_get_axis_name(axis)\n\u001b[1;32m-> 1462\u001b[0m keyarr, indexer \u001b[38;5;241m=\u001b[39m \u001b[43max\u001b[49m\u001b[38;5;241;43m.\u001b[39;49m\u001b[43m_get_indexer_strict\u001b[49m\u001b[43m(\u001b[49m\u001b[43mkey\u001b[49m\u001b[43m,\u001b[49m\u001b[43m \u001b[49m\u001b[43maxis_name\u001b[49m\u001b[43m)\u001b[49m\n\u001b[0;32m   1464\u001b[0m \u001b[38;5;28;01mreturn\u001b[39;00m keyarr, indexer\n",
      "File \u001b[1;32mc:\\Users\\jws10y\\AppData\\Local\\anaconda3\\envs\\tensorflow-gpu\\lib\\site-packages\\pandas\\core\\indexes\\base.py:5877\u001b[0m, in \u001b[0;36mIndex._get_indexer_strict\u001b[1;34m(self, key, axis_name)\u001b[0m\n\u001b[0;32m   5874\u001b[0m \u001b[38;5;28;01melse\u001b[39;00m:\n\u001b[0;32m   5875\u001b[0m     keyarr, indexer, new_indexer \u001b[38;5;241m=\u001b[39m \u001b[38;5;28mself\u001b[39m\u001b[38;5;241m.\u001b[39m_reindex_non_unique(keyarr)\n\u001b[1;32m-> 5877\u001b[0m \u001b[38;5;28;43mself\u001b[39;49m\u001b[38;5;241;43m.\u001b[39;49m\u001b[43m_raise_if_missing\u001b[49m\u001b[43m(\u001b[49m\u001b[43mkeyarr\u001b[49m\u001b[43m,\u001b[49m\u001b[43m \u001b[49m\u001b[43mindexer\u001b[49m\u001b[43m,\u001b[49m\u001b[43m \u001b[49m\u001b[43maxis_name\u001b[49m\u001b[43m)\u001b[49m\n\u001b[0;32m   5879\u001b[0m keyarr \u001b[38;5;241m=\u001b[39m \u001b[38;5;28mself\u001b[39m\u001b[38;5;241m.\u001b[39mtake(indexer)\n\u001b[0;32m   5880\u001b[0m \u001b[38;5;28;01mif\u001b[39;00m \u001b[38;5;28misinstance\u001b[39m(key, Index):\n\u001b[0;32m   5881\u001b[0m     \u001b[38;5;66;03m# GH 42790 - Preserve name from an Index\u001b[39;00m\n",
      "File \u001b[1;32mc:\\Users\\jws10y\\AppData\\Local\\anaconda3\\envs\\tensorflow-gpu\\lib\\site-packages\\pandas\\core\\indexes\\base.py:5941\u001b[0m, in \u001b[0;36mIndex._raise_if_missing\u001b[1;34m(self, key, indexer, axis_name)\u001b[0m\n\u001b[0;32m   5938\u001b[0m     \u001b[38;5;28;01mraise\u001b[39;00m \u001b[38;5;167;01mKeyError\u001b[39;00m(\u001b[38;5;124mf\u001b[39m\u001b[38;5;124m\"\u001b[39m\u001b[38;5;124mNone of [\u001b[39m\u001b[38;5;132;01m{\u001b[39;00mkey\u001b[38;5;132;01m}\u001b[39;00m\u001b[38;5;124m] are in the [\u001b[39m\u001b[38;5;132;01m{\u001b[39;00maxis_name\u001b[38;5;132;01m}\u001b[39;00m\u001b[38;5;124m]\u001b[39m\u001b[38;5;124m\"\u001b[39m)\n\u001b[0;32m   5940\u001b[0m not_found \u001b[38;5;241m=\u001b[39m \u001b[38;5;28mlist\u001b[39m(ensure_index(key)[missing_mask\u001b[38;5;241m.\u001b[39mnonzero()[\u001b[38;5;241m0\u001b[39m]]\u001b[38;5;241m.\u001b[39munique())\n\u001b[1;32m-> 5941\u001b[0m \u001b[38;5;28;01mraise\u001b[39;00m \u001b[38;5;167;01mKeyError\u001b[39;00m(\u001b[38;5;124mf\u001b[39m\u001b[38;5;124m\"\u001b[39m\u001b[38;5;132;01m{\u001b[39;00mnot_found\u001b[38;5;132;01m}\u001b[39;00m\u001b[38;5;124m not in index\u001b[39m\u001b[38;5;124m\"\u001b[39m)\n",
      "\u001b[1;31mKeyError\u001b[0m: '[65539, 32772, 65556, 32789, 32795, 32796, 65564, 32801, 65569, 32806, 32807, 65576, 65577, 65578, 65583, 65584, 65585, 65587, 32856, 32889, 32892, 65708, 65710, 65713, 65715, 65718, 65721, 65725, 65726, 65734, 65736, 65739, 98511, 131286, 131288, 131290, 65756, 131292, 131296, 65766, 98535, 131305, 65774, 65775, 98544, 131312, 131317, 65782, 65783, 98554, 65788, 98556, 65792, 65807, 98608, 98613, 131397, 98635, 131405, 98642, 98643, 98647, 98649, 131417, 98654, 98657, 33127, 131432, 33133, 131447, 98687, 98690, 33155, 98694, 98695, 33166, 33195, 33200, 33213, 98752, 33220, 33227, 33222, 98763, 98766, 131537, 98774, 33241, 98780, 33245, 33246, 98783, 131550, 98785, 131551, 131554, 98788, 131556, 98790, 98792, 66025, 131559, 98795, 131562, 131566, 66033, 131569, 131570, 131571, 131573, 66038, 131574, 66041, 66042, 33275, 66043, 98811, 131578, 131581, 66049, 98817, 131587, 98820, 131588, 131589, 66056, 98825, 98826, 131595, 33292, 66062, 131599, 131601, 131606, 131609, 131616, 33316, 131623, 98860, 131629, 98866, 131632, 131635, 98870, 98871, 33342, 131646, 66115, 131651, 131652, 33352, 131657, 66124, 66133, 131670, 131671, 66136, 131675, 98908, 66141, 33374, 98911, 131678, 131679, 131681, 66147, 131682, 131683, 98921, 66157, 66161, 66162, 33395, 131698, 33397, 33399, 33400, 33401, 66171, 98942, 98943, 131712, 66177, 66179, 33413, 33415, 33418, 98959, 33425, 33428, 33433, 98975, 98983, 98991, 98993, 98995, 99002, 99003, 99007, 99008, 33473, 33475, 99014, 99015, 33481, 33483, 33493, 66261, 66273, 131828, 131835, 131836, 131841, 131851, 131852, 131853, 131854, 131856, 131858, 131863, 66334, 33570, 33578, 131887, 33588, 33590, 131900, 33598, 131901, 99136, 99140, 99141, 131912, 99149, 99151, 99155, 33620, 33623, 99159, 99167, 33632, 99182, 99185, 99195, 33660, 33662, 99197, 33664, 99200, 99214, 33688, 99225, 99233, 99244, 99257, 33722, 33729, 132033, 132034, 132038, 132047, 99280, 132052, 33751, 132056, 132064, 132069, 33766, 132074, 33774, 66541, 66542, 132080, 132083, 66550, 66551, 132088, 66553, 99322, 66558, 66559, 33793, 66560, 99329, 66565, 132096, 66570, 132107, 99340, 66574, 99352, 66587, 66590, 66592, 99359, 66598, 66601, 66607, 66609, 66613, 66614, 99382, 66616, 99387, 66620, 99389, 99402, 66638, 66639, 66640, 66641, 66642, 66643, 99407, 99416, 33882, 66652, 66653, 99418, 66655, 99419, 66658, 66660, 99428, 33898, 66667, 99439, 66672, 33910, 99446, 99449, 33914, 66682, 66685, 33918, 33928, 33932, 33936, 99472, 33939, 66708, 33943, 33944, 66717, 33959, 99496, 33966, 33971, 99511, 33991, 33992, 66761, 33994, 33995, 66762, 66763, 66765, 66767, 99527, 99534, 66770, 99538, 66772, 99541, 66776, 34016, 99552, 66788, 99569, 99571, 99575, 99576, 132353, 132355, 99589, 34062, 132369, 132370, 99603, 34068, 132371, 99606, 99607, 132375, 99611, 132380, 99613, 66846, 99614, 99616, 132381, 132390, 132393, 132394, 132396, 99632, 99633, 132403, 132404, 132405, 99638, 34103, 99640, 66873, 99641, 132406, 132407, 132409, 99646, 132413, 66883, 132420, 99653, 34118, 34119, 66887, 99655, 34122, 34123, 99659, 34125, 99660, 34127, 99662, 99666, 99667, 99668, 99677, 132446, 99680, 34145, 132452, 99685, 132453, 99689, 132458, 132460, 34159, 132465, 99699, 66932, 132467, 132468, 99705, 99706, 66941, 99709, 132479, 132480, 66945, 132481, 99715, 132487, 132489, 99726, 99728, 132498, 99732, 132501, 99734, 34199, 132502, 132504, 132508, 132515, 99748, 99750, 99755, 99757, 99759, 132528, 132530, 132531, 34230, 132535, 132538, 67006, 99777, 99778, 67012, 99782, 132550, 132551, 34251, 132558, 99791, 132560, 34258, 99794, 132565, 34262, 99801, 132569, 34267, 99803, 99805, 132571, 99812, 132580, 34282, 34287, 34289, 99827, 34294, 34293, 34297, 99830, 99833, 99835, 34303, 34312, 34314, 34327, 34329, 34332, 34337, 34355, 99900, 99902, 99905, 132676, 99910, 99914, 99915, 99918, 99919, 99921, 99924, 99925, 99927, 99928, 132696, 99934, 99936, 99950, 132718, 99952, 99956, 99959, 34425, 34427, 99975, 99983, 99984, 99995, 34460, 100009, 100014, 100015, 100020, 100021, 100023, 34489, 34491, 34492, 100032, 34501, 34504, 100047, 100048, 34513, 100051, 100053, 132818, 100057, 100058, 132830, 100065, 132834, 34532, 100069, 34534, 132836, 34537, 132838, 100076, 34541, 34545, 34548, 34550, 100087, 34556, 100097, 100098, 100100, 100101, 100102, 132873, 34576, 100112, 34580, 132890, 34590, 100131, 100136, 132904, 100138, 132907, 100141, 132922, 132923, 100157, 132924, 100160, 100167, 100172, 100173, 100176, 100181, 34650, 100186, 67421, 67425, 67426, 67427, 100198, 67433, 100202, 100209, 100211, 100212, 67446, 67447, 100216, 67452, 100221, 100227, 100228, 100234, 34702, 100241, 100242, 100244, 100250, 100254, 34720, 67488, 100261, 34726, 34730, 100266, 34734, 100277, 67523, 100291, 100298, 100300, 100304, 100305, 34770, 100307, 100309, 100319, 100320, 100321, 34786, 67554, 34788, 34790, 100322, 100324, 100331, 100333, 34802, 100335, 100336, 100339, 100341, 100342, 100343, 100344, 100346, 100349, 100352, 100353, 133116, 100358, 133120, 34844, 133149, 133150, 133151, 133152, 100387, 34852, 34854, 34855, 100390, 100392, 100394, 133165, 34865, 100402, 34869, 100407, 100408, 100412, 34879, 133183, 34881, 34882, 100418, 100420, 133186, 100422, 34887, 100424, 133189, 100427, 34894, 100430, 100431, 100435, 133204, 34901, 100438, 34903, 34908, 100447, 100448, 34917, 34919, 100452, 100453, 34928, 133233, 34933, 133236, 34936, 34946, 133251, 34948, 34950, 34952, 34953, 34955, 34956, 133262, 34959, 34962, 34965, 34966, 34971, 34972, 34977, 34979, 100517, 100520, 34992, 133298, 133299, 35005, 35019, 35021, 35025, 133332, 35034, 35036, 133343, 35044, 35045, 35054, 35057, 35058, 100600, 100604, 100605, 35070, 133381, 35078, 35084, 35085, 100618, 100619, 100621, 100627, 133388, 133391, 100633, 35100, 35103, 35105, 35106, 35108, 67878, 100647, 35115, 67883, 35117, 100650, 100651, 100653, 100659, 67893, 67896, 100660, 100666, 67899, 35134, 35136, 67902, 67908, 100670, 100671, 100673, 35145, 67913, 100677, 100680, 133452, 133455, 35153, 35154, 67922, 67925, 100696, 35162, 35164, 35166, 133471, 35168, 67938, 67939, 35177, 133481, 67948, 133488, 133491, 67957, 133492, 133494, 133495, 35195, 67963, 133501, 35200, 67969, 67976, 67978, 67987, 67993, 133540, 68008, 68022, 68026, 68029, 68031, 68043, 68081, 68088, 100921, 35386, 35388, 35390, 35391, 100926, 100934, 100941, 35408, 100944, 35410, 35412, 100949, 133717, 100953, 100955, 100956, 133724, 133731, 35431, 35451, 35455, 35469, 35478, 133786, 133796, 133799, 133807, 133809, 133815, 133817, 133818, 133819, 133841, 133851, 133858, 133860, 101094, 133862, 101098, 133867, 101101, 133868, 133869, 133870, 133876, 133889, 133890, 133892, 133935, 133945, 133953, 133958, 133960, 133964, 133976, 133978, 133979, 35688, 35689, 133992, 133998, 35697, 35698, 101234, 134004, 101237, 101242, 101243, 101244, 134010, 101246, 101254, 101255, 134030, 101276, 101277, 101280, 101281, 101282, 101283, 134048, 101285, 101289, 35775, 35779, 134090, 35789, 35792, 134101, 35805, 35806, 35809, 134117, 35817, 35819, 35822, 35825, 134134, 134138, 134143, 35844, 35847, 101410, 101411, 101413, 101418, 101421, 101425, 101426, 101432, 101464, 101472, 101476, 134245, 134252, 68735, 68738, 68743, 134281, 68760, 134297, 68766, 68768, 68769, 68773, 68777, 68783, 68791, 68795, 68799, 68808, 68810, 68812, 68815, 68816, 68818, 68820, 134358, 3288, 3289, 134362, 68829, 68833, 101602, 68836, 134374, 68840, 3305, 134379, 3310, 3312, 134387, 134388, 68854, 68855, 3321, 68859, 134395, 134397, 101630, 134399, 3328, 3330, 3332, 68868, 101638, 68872, 134409, 68874, 3340, 134412, 68879, 68880, 3345, 68883, 68884, 3349, 101652, 68887, 134423, 101657, 68890, 68892, 3357, 68893, 68895, 134433, 3362, 134439, 134443, 101676, 3374, 68911, 134447, 134449, 134451, 101684, 68918, 101686, 134460, 101693, 101694, 68928, 3393, 101696, 134466, 68932, 134470, 134471, 3403, 68947, 68952, 134490, 134497, 134499, 68969, 68970, 68972, 68990, 68992, 68994, 134539, 134543, 134544, 69010, 69014, 69020, 134579, 134580, 134587, 134589, 101824, 69074, 134618, 134620, 69086, 69087, 69088, 101856, 101857, 69094, 101867, 134641, 36339, 36342, 36343, 134646, 69114, 69115, 101891, 134660, 36358, 69127, 36360, 69129, 134666, 69133, 69134, 36367, 69136, 101905, 69138, 36373, 36375, 69152, 69153, 69157, 134705, 69170, 134707, 69172, 36405, 69173, 101943, 134708, 134711, 101946, 134713, 134714, 134719, 36419, 69188, 134724, 36425, 69193, 69197, 69199, 101971, 69209, 101979, 69212, 69215, 101983, 69227, 69236, 102005, 102007, 36475, 69247, 69251, 69264, 102033, 36502, 69271, 36504, 69277, 69283, 69284, 69311, 69317, 3783, 3784, 69319, 3788, 69325, 3798, 69334, 69339, 3806, 3808, 3809, 3810, 69360, 69364, 134901, 134904, 69370, 134909, 69374, 69375, 69376, 134910, 69378, 134912, 69381, 134917, 69383, 69385, 134924, 134925, 134927, 134929, 69398, 69401, 3866, 3870, 3871, 134942, 134944, 69410, 69411, 134945, 3877, 102184, 69417, 69419, 69421, 134957, 134959, 134960, 3889, 3891, 134965, 3894, 69431, 134969, 102204, 69438, 69441, 69443, 3911, 134983, 134985, 36682, 69452, 3917, 69454, 134988, 102224, 69457, 134993, 3923, 36692, 69460, 36694, 3927, 69464, 69465, 102234, 134997, 3932, 3933, 135002, 3935, 135005, 3937, 135006, 135009, 69476, 3941, 3942, 135012, 135013, 102249, 69482, 102251, 3949, 69485, 135023, 3954, 102258, 135027, 135028, 3966, 135039, 3968, 36736, 135042, 3971, 3973, 135046, 102279, 102281, 102282, 102283, 36750, 102287, 69520, 102288, 102290, 3990, 36758, 102294, 135062, 102299, 3996, 3998, 102303, 69537, 102307, 102308, 102310, 69543, 4009, 102314, 102315, 4012, 69550, 102320, 102321, 102322, 135089, 102324, 4021, 4022, 135090, 135099, 135100, 102333, 135101, 135103, 69568, 102338, 69573, 69579, 135115, 135116, 135117, 69591, 135127, 135128, 135129, 69595, 102365, 135133, 135134, 102368, 135135, 135137, 135138, 135140, 102374, 135142, 135144, 102377, 135146, 69614, 135152, 69617, 69619, 102392, 102393, 69630, 102400, 102402, 36867, 69637, 69638, 69641, 36876, 36877, 102415, 102416, 69649, 102418, 4126, 69663, 102431, 102436, 4138, 69675, 4140, 4141, 4142, 36911, 102446, 102447, 102451, 36916, 36917, 36918, 4151, 36919, 36921, 69689, 102452, 102462, 36928, 36929, 69696, 69697, 102465, 4165, 36935, 36936, 36937, 69703, 69706, 36940, 69708, 4174, 135241, 69712, 135245, 102487, 4184, 102489, 102490, 135256, 4190, 69726, 36963, 36964, 36965, 69734, 36967, 102500, 102505, 135271, 102507, 36972, 36973, 102508, 4207, 36975, 135272, 102514, 135275, 135276, 102517, 69750, 102518, 135280, 135286, 135289, 135291, 135292, 102525, 36992, 102529, 36995, 102531, 135306, 4235, 135307, 135314, 37011, 135315, 4248, 37016, 37018, 37019, 37021, 135325, 135326, 102560, 37025, 37026, 4259, 135327, 37029, 37030, 37031, 102566, 37033, 102568, 37035, 69807, 69808, 37041, 37048, 37072, 37084, 37103, 37104, 37106, 37111, 37115, 37116, 37119, 37121, 37125, 37126, 37127, 37133, 37134, 37135, 37136, 37138, 37147, 37150, 37212, 37225, 37226, 37230, 37232, 37234, 37236, 37240, 37241, 70010, 37244, 37245, 4483, 4484, 70020, 37255, 135561, 4492, 102796, 4494, 37262, 102797, 102798, 135568, 70035, 135571, 135572, 135573, 37271, 37276, 102814, 102816, 37282, 37285, 70054, 37289, 102828, 102832, 70066, 37299, 102836, 102837, 37303, 70073, 102841, 37307, 102842, 37312, 37313, 70080, 37315, 37316, 70085, 102851, 37321, 102857, 70091, 102860, 70093, 4560, 102866, 102867, 37332, 70103, 102871, 70107, 4573, 102880, 102881, 37346, 37347, 4581, 102886, 4584, 102888, 37354, 102892, 37359, 37361, 102897, 4596, 102901, 37368, 37369, 4604, 70140, 70141, 70143, 102913, 37382, 37387, 37388, 37389, 4623, 70160, 37393, 102927, 102928, 70164, 37400, 102940, 37405, 70174, 37408, 102944, 102945, 102946, 37412, 37414, 70184, 70185, 102952, 102955, 37420, 37421, 102958, 102959, 37424, 37431, 70200, 102971, 37437, 37438, 102974, 102975, 70209, 37442, 70211, 70212, 70213, 102980, 102982, 37448, 70217, 37450, 102986, 102987, 102990, 102991, 37456, 37458, 102995, 37460, 37471, 37472, 37474, 37476, 37479, 37482, 37485, 37487, 70261, 70262, 37499, 70267, 37506, 70274, 135814, 37511, 70280, 103060, 103067, 135837, 70302, 135843, 135844, 70309, 135848, 70313, 135850, 135851, 135852, 135854, 70319, 135855, 70321, 135858, 135860, 135861, 135863, 135865, 70331, 135868, 70335, 103105, 135877, 70342, 135878, 135886, 135888, 135892, 70358, 37596, 37598, 37603, 37604, 135908, 135910, 135911, 135913, 135918, 135926, 135927, 135930, 135932, 37631, 37635, 135944, 37644, 135950, 70416, 135953, 135956, 135958, 135960, 70425, 37659, 70427, 37662, 37663, 37664, 135971, 37670, 70440, 37678, 70451, 135990, 70455, 136000, 136002, 70468, 37701, 37702, 70469, 37705, 37706, 37708, 37709, 70476, 136013, 70483, 70487, 136025, 37722, 70490, 37724, 70491, 70493, 70494, 136028, 136034, 136038, 70508, 70509, 70511, 136051, 136057, 136059, 136061, 4992, 70529, 136064, 70532, 136070, 136072, 70537, 137765, 70546, 70548, 5018, 136104, 5034, 70574, 136114, 136118, 136124, 70591, 136132, 136133, 136134, 136136, 136137, 70604, 136142, 70609, 70611, 136150, 136151, 136156, 70622, 5088, 5089, 70624, 70629, 70630, 103431, 103435, 103436, 103443, 103446, 137793, 103451, 103456, 137795, 137796, 103471, 137798, 137799, 137801, 70736, 70743, 37976, 5216, 5217, 37985, 5219, 5220, 5223, 37997, 5229, 5231, 5232, 38002, 38004, 38005, 38006, 5237, 5238, 5241, 5243, 38012, 5245, 5246, 38014, 5248, 5249, 5251, 38023, 38031, 5270, 38039, 5276, 5285, 103606, 5303, 70840, 70843, 70845, 70846, 103614, 137826, 70850, 70851, 70854, 70855, 103624, 103626, 70859, 70861, 70864, 103632, 70867, 70868, 70870, 70872, 70873, 70875, 70877, 70878, 103654, 70896, 70899, 70902, 103671, 70904, 103674, 70910, 70912, 70913, 70914, 70916, 70918, 103687, 103690, 70923, 103700, 70933, 103701, 70939, 70940, 70941, 70942, 70943, 70946, 70947, 70951, 70962, 70964, 70967, 70969, 70974, 70975, 70977, 70980, 70981, 70984, 70986, 70987, 70990, 70991, 70995, 70998, 71009, 71011, 71037, 71039, 71060, 71061, 71065, 71068, 71069, 71074, 71076, 71077, 71080, 71081, 71085, 71090, 71091, 71092, 71093, 71094, 71096, 71097, 5568, 5569, 71104, 71106, 71107, 5573, 71109, 71111, 71112, 5578, 5580, 71116, 5582, 5590, 71132, 5599, 5601, 103906, 71141, 71143, 71144, 71153, 71156, 71161, 71162, 71170, 71174, 71185, 103956, 103957, 103960, 103962, 103963, 103965, 103968, 103970, 103971, 103972, 103977, 103978, 103980, 103981, 103982, 103987, 5705, 104012, 104018, 104021, 104025, 71258, 104028, 5729, 104046, 104049, 104051, 104052, 104065, 104072, 104079, 104080, 104082, 104087, 104092, 104093, 104097, 104098, 104106, 104136, 104138, 104139, 104140, 104142, 104143, 104147, 104153, 104154, 104166, 136938, 104174, 104175, 104177, 104178, 104180, 104184, 104185, 104189, 38654, 38656, 104193, 104197, 104198, 104199, 104201, 104203, 104205, 71439, 104207, 104209, 104211, 71453, 104222, 104223, 71456, 104225, 38690, 104227, 136993, 104229, 136994, 38695, 136997, 38698, 38699, 137002, 38701, 137003, 5937, 38707, 71475, 104244, 137013, 38711, 5944, 104248, 5946, 71482, 71484, 5949, 104252, 5951, 137016, 5953, 137017, 137022, 137028, 5957, 104261, 104263, 137032, 104265, 137042, 104282, 5986, 104290, 6000, 6002, 6003, 104308, 6005, 6020, 104333, 104337, 6061, 38835, 38838, 38841, 38842, 38848, 6083, 38854, 6087, 6089, 6091, 6094, 104401, 71642, 71647, 6112, 6113, 6116, 71652, 38886, 71655, 104422, 6121, 71658, 6128, 104432, 6130, 6131, 6132, 104435, 104438, 71671, 71674, 104442, 71681, 71682, 71683, 104453, 6150, 71704, 6170, 71706, 104476, 6173, 104480, 6181, 71718, 104486, 71720, 104489, 104490, 71725, 104493, 71729, 6208, 6210, 104516, 6214, 104525, 104529, 6231, 104545, 137014, 104565, 6279, 104588, 6288, 6293, 6305, 6325, 6331, 137408, 137411, 137419, 6348, 6359, 6362, 6371, 39139, 137443, 137446, 39145, 6380, 39152, 39153, 71924, 39157, 39160, 39161, 39162, 39179, 39180, 6429, 6434, 6447, 6474, 104779, 6476, 39248, 104790, 6488, 104796, 6494, 6495, 104801, 6498, 6500, 6501, 137575, 137578, 6507, 137583, 104816, 104817, 137584, 137585, 137590, 137592, 72057, 6522, 104826, 72060, 104828, 39294, 39295, 104831, 39297, 72065, 104833, 137598, 137599, 137602, 137603, 137604, 39305, 72074, 104843, 137606, 137611, 6542, 6543, 72079, 72080, 72081, 39315, 72082, 104848, 104854, 137619, 6552, 6553, 72088, 72089, 72091, 6557, 72092, 72095, 104857, 137625, 137628, 137631, 137634, 72103, 137640, 72106, 72107, 137642, 137643, 137645, 72111, 6577, 104882, 104885, 72118, 104887, 137655, 72121, 137656, 137660, 72125, 137661, 72128, 72129, 137666, 6596, 104901, 137669, 6599, 72135, 104903, 6602, 6603, 137672, 6606, 72143, 72144, 137678, 137680, 72147, 104917, 6614, 137686, 104922, 104923, 137690, 104925, 104928, 6625, 6626, 104929, 137698, 72165, 104933, 137699, 72168, 72170, 104939, 137706, 137709, 6639, 39407, 6641, 104944, 6643, 137713, 6645, 6646, 6647, 72182, 72185, 72187, 6653, 72190, 72192, 137728, 72195, 39428, 72196, 72197, 6666, 104971, 39436, 137744, 137745, 72210, 72213, 72214, 72215, 6682, 137756, 6685, 6686, 72222, 104992, 6689, 137757, 72227, 72228, 137760, 137761, 104999, 105000, 137762, 137763, 105003, 137764, 6701, 105006, 137772, 105008, 72241, 105010, 137773, 6708, 137774, 137776, 72247, 105015, 6713, 137780, 6715, 105020, 137786, 6718, 72254, 72255, 105024, 137788, 72259, 137790, 6725, 72262, 105029, 105030, 72265, 105031, 137794, 72268, 72269, 6734, 105038, 105039, 137800, 105042, 137806, 137807, 6741, 137808, 72279, 137809, 137812, 72283, 137819, 6749, 6750, 137820, 137823, 137824, 6754, 137825, 6756, 6757, 72292, 105063, 6760, 72297, 6762, 72299, 6764, 6767, 72303, 72305, 72306, 72309, 6775, 105079, 6777, 6779, 6780, 105084, 72319, 6786, 72324, 72325, 72326, 6791, 6792, 72329, 39562, 6795, 72330, 6797, 6798, 39565, 39567, 39569, 72334, 72337, 6804, 39574, 39575, 72344, 6809, 39579, 6812, 6813, 6814, 39582, 72352, 39585, 6818, 6821, 72357, 39591, 72360, 72362, 39596, 39599, 72368, 6837, 39605, 72374, 39608, 6841, 39610, 6843, 39611, 72375, 105144, 105151, 72387, 105157, 39623, 72392, 39625, 39631, 72401, 39636, 6869, 72404, 72409, 6876, 6877, 39644, 39647, 39648, 72414, 72415, 72418, 105188, 39653, 72421, 39656, 39660, 105203, 72444, 39682, 39684, 72455, 39690, 39693, 72461, 72462, 39699, 138007, 138008, 72476, 39719, 39722, 39723, 138027, 39727, 39728, 138033, 39731, 39732, 72499, 72501, 138040, 138044, 138045, 72512, 72515, 72516, 72517, 72521, 138059, 72525, 72532, 72535, 138072, 72537, 138074, 72540, 72542, 72543, 105311, 72545, 72546, 138078, 72548, 72549, 138082, 72552, 72553, 72554, 72555, 72556, 138090, 72558, 138093, 138096, 105329, 72563, 72564, 105335, 72568, 105336, 105338, 105339, 138110, 72575, 72576, 105343, 105344, 72580, 105351, 138119, 105353, 105354, 7051, 72587, 105355, 7054, 138128, 138131, 7064, 138137, 7071, 7075, 138159, 72624, 72625, 138165, 7094, 72630, 7096, 72634, 138170, 138173, 7103, 7105, 7108, 7112, 138185, 105420, 105421, 138196, 7126, 7127, 7130, 7131, 105435, 138210, 138212, 105445, 105448, 105453, 138223, 39923, 105460, 7157, 105461, 138230, 7160, 39931, 7165, 138239, 39936, 138240, 105479, 138248, 39946, 105482, 105488, 105492, 138263, 105499, 105502, 105503, 105505, 105508, 105515, 105517, 138292, 105530, 138306, 138316, 105550, 72790, 72795, 72800, 105581, 72819, 105587, 105588, 105589, 138360, 138361, 72826, 72829, 105598, 105601, 105605, 72838, 72844, 72845, 138388, 138391, 7320, 7321, 138396, 72863, 7337, 7339, 72875, 7342, 7350, 7351, 72888, 7360, 72904, 7370, 7371, 7378, 7380, 7382, 72922, 72923, 72924, 72925, 72926, 7391, 7392, 7393, 7398, 7402, 72941, 72948, 7415, 7420, 72959, 79631, 72965, 72967, 7434, 7436, 105748, 105753, 72987, 72991, 105764, 72999, 105769, 73003, 105771, 105773, 105776, 105778, 105780, 105781, 105782, 73015, 105783, 105784, 105786, 105788, 105790, 73026, 73027, 105794, 105796, 105799, 105800, 105801, 105803, 105806, 7504, 7506, 7507, 40275, 73052, 105820, 40290, 105827, 138594, 40293, 138600, 7529, 40298, 73066, 40300, 105834, 73070, 105837, 47088, 105843, 105844, 138614, 138615, 7545, 105849, 7551, 40319, 138624, 138626, 138629, 105862, 105863, 138632, 40329, 105866, 40333, 105870, 40336, 40337, 40339, 7572, 7573, 105876, 40343, 7576, 105878, 73114, 138647, 138648, 40349, 7584, 7585, 73121, 7587, 105891, 40358, 40361, 7594, 7595, 105897, 138667, 138670, 105905, 105906, 7603, 73142, 105910, 7609, 105919, 138689, 105923, 138694, 40396, 40397, 40402, 40403, 73172, 138708, 138712, 73182, 73188, 138730, 105965, 105967, 138736, 73201, 138737, 138739, 138741, 73206, 138743, 138746, 105979, 138747, 138750, 105985, 138753, 105987, 105988, 105990, 105991, 138760, 73225, 105994, 73227, 138767, 138768, 73235, 73239, 73241, 106009, 73244, 73247, 106017, 40485, 73255, 73256, 138793, 73258, 73261, 7731, 73268, 40503, 40504, 73272, 7740, 40508, 73276, 7744, 73282, 138827, 40526, 7759, 40528, 40534, 138839, 138840, 40538, 73313, 138850, 138852, 138853, 40550, 40552, 7785, 40557, 73327, 138865, 7794, 7799, 138872, 73341, 7806, 40577, 138881, 138885, 7815, 73352, 7817, 7819, 73356, 7825, 138902, 138903, 138904, 7834, 7835, 73370, 73373, 7838, 7839, 73374, 138912, 138913, 7843, 7845, 40613, 7847, 73381, 40617, 7850, 7851, 73383, 73387, 40637, 73407, 40640, 40643, 40645, 73415, 73418, 138957, 40654, 138961, 40660, 138968, 7899, 40668, 40674, 7907, 7912, 7916, 138989, 7918, 7924, 40693, 73463, 139002, 139011, 73476, 73479, 73481, 40714, 139017, 40717, 73487, 73490, 139028, 7957, 73493, 73496, 7966, 7973, 40742, 73512, 7978, 40747, 73514, 139050, 40751, 73519, 7985, 40754, 7992, 7993, 8002, 8003, 40770, 40777, 139081, 40779, 8018, 40786, 40787, 8022, 8025, 8026, 40803, 8037, 8038, 8039, 40805, 40808, 40818, 40819, 40822, 40830, 8067, 8069, 40837, 73611, 8078, 8080, 8082, 73626, 73627, 73629, 73630, 139165, 73635, 73638, 40879, 73653, 73658, 73660, 40895, 139201, 40898, 40900, 139205, 40902, 73670, 73675, 40908, 139211, 73678, 139217, 73683, 139219, 40917, 40920, 40921, 139224, 40923, 73692, 139226, 139228, 139231, 40928, 40931, 40933, 40934, 40938, 40942, 40943, 40945, 40991, 139295, 139297, 41003, 139308, 41013, 139318, 139321, 139336, 139347, 41053, 8288, 8289, 41057, 139372, 41069, 139376, 106610, 139389, 41086, 41087, 106626, 139400, 41100, 139404, 106640, 106641, 139408, 41107, 106644, 106645, 139412, 106649, 139417, 139418, 41116, 41119, 41121, 41122, 139425, 106660, 139429, 41126, 41127, 41128, 106663, 106666, 106667, 139430, 106669, 139433, 41135, 139436, 139437, 139442, 41140, 41141, 139447, 41146, 41147, 41148, 139456, 139457, 139458, 41156, 41157, 139460, 139468, 41167, 139472, 106709, 41174, 41175, 106710, 41180, 41185, 41186, 8420, 8421, 106726, 106727, 139493, 41193, 41194, 106730, 8430, 139503, 8432, 106737, 106738, 8437, 8438, 8439, 8440, 41210, 8445, 106751, 8448, 41216, 8450, 106757, 8454, 41223, 8456, 41225, 8458, 41226, 41227, 8461, 41229, 106762, 106768, 41234, 8468, 8471, 41240, 41242, 106780, 106784, 41250, 8483, 41251, 106789, 41254, 8487, 106791, 8490, 8491, 8492, 41259, 106797, 106799, 41265, 106801, 106803, 8500, 8504, 8505, 41273, 106808, 41276, 8509, 41277, 8511, 41278, 106811, 106812, 106813, 8516, 106815, 8518, 41287, 41289, 41291, 41294, 41295, 8531, 41299, 41303, 41304, 41307, 8541, 8545, 41313, 41314, 41318, 79854, 41322, 139627, 139628, 8557, 8558, 8559, 106868, 106870, 139641, 106880, 8579, 106886, 8585, 106891, 106893, 139665, 8594, 139670, 106903, 8600, 106905, 139673, 139677, 8608, 139682, 139683, 139685, 139688, 8617, 139689, 139691, 139693, 8626, 74163, 106933, 8631, 74167, 106937, 139706, 74173, 8642, 8648, 8650, 8653, 139728, 8659, 74195, 8661, 74196, 106965, 106966, 8665, 8666, 139735, 106973, 8670, 8674, 8675, 74212, 8682, 8683, 41451, 74220, 8686, 8687, 74225, 41458, 41460, 74230, 41489, 8736, 8741, 8742, 8746, 8751, 8763, 8767, 8773, 8777, 8779, 8791, 139863, 8793, 139866, 8795, 8797, 8802, 139883, 139886, 8815, 139892, 139898, 74366, 74375, 74378, 139918, 139922, 74388, 139949, 139961, 139962, 107245, 107246, 107247, 107254, 107256, 107275, 107276, 107277, 107278, 107279, 107282, 107289, 107294, 107295, 107303, 107318, 107320, 107325, 107331, 107333, 107341, 107343, 107344, 107346, 107349, 107351, 107353, 107361, 107364, 107365, 107380, 107387, 107390, 107391, 107393, 107395, 107399, 107413, 107416, 140192, 140198, 140199, 140201, 140202, 107436, 140208, 140213, 107446, 140217, 140218, 9153, 107460, 9163, 9164, 107467, 9167, 107475, 9172, 9173, 107476, 107481, 107482, 107484, 107485, 41950, 107486, 107492, 107493, 107496, 107497, 9194, 41963, 107498, 107500, 107501, 107502, 9200, 107504, 9202, 107505, 107507, 9205, 107508, 107510, 107512, 107513, 107514, 41979, 41980, 41981, 107518, 41983, 41984, 107519, 41986, 41987, 107523, 41989, 107526, 140316, 140326, 140350, 107609, 107610, 140377, 107613, 107618, 140386, 107625, 107632, 107634, 107637, 107638, 107639, 107640, 107644, 107645, 107646, 107648, 107649, 140417, 140418, 74885, 74886, 107653, 74888, 107655, 107656, 107661, 107664, 107667, 107674, 107679, 107684, 74933, 74934, 107706, 74940, 74942, 74943, 140479, 107714, 74947, 107716, 140482, 140483, 140487, 107720, 107722, 74958, 107726, 107731, 74964, 107733, 140501, 140503, 107736, 107737, 140505, 140506, 140509, 140510, 107746, 107747, 107752, 140522, 107758, 107759, 140528, 74993, 107761, 107762, 74996, 75001, 140540, 140542, 140543, 140544, 140545, 140549, 42251, 107789, 42254, 107790, 140563, 140564, 42264, 140570, 42268, 42269, 140572, 140575, 140576, 42275, 42277, 107813, 42281, 140585, 140586, 42284, 107823, 107824, 42290, 107826, 140597, 107830, 107831, 140598, 140599, 140600, 140603, 107840, 42307, 42309, 107845, 42311, 107848, 107849, 42314, 140615, 140617, 140620, 140622, 42319, 107855, 107856, 42325, 107862, 42327, 107865, 42331, 42332, 107868, 107870, 107876, 107877, 140647, 107881, 140655, 140656, 107890, 107891, 107892, 107895, 107896, 107897, 42365, 42367, 107906, 42371, 42375, 9609, 42377, 42379, 107914, 9613, 9617, 42387, 42388, 42389, 107924, 9623, 9626, 9627, 9629, 107934, 107935, 112633, 9633, 75171, 107940, 75174, 75179, 9644, 9645, 107948, 9647, 9648, 75184, 107950, 9651, 107954, 140718, 75191, 9658, 9659, 140730, 140731, 9665, 107971, 107972, 9669, 9670, 9673, 107977, 107978, 107981, 107983, 9683, 75223, 42457, 107994, 9691, 9692, 9693, 9694, 75228, 9696, 9697, 9698, 9699, 75230, 9701, 75235, 9707, 9708, 75244, 75246, 75247, 75248, 9716, 9718, 9720, 9721, 108027, 108028, 9726, 108030, 9738, 9740, 75277, 108045, 9744, 75281, 9747, 75284, 9749, 9750, 75285, 75286, 75288, 75291, 75292, 108061, 75294, 108063, 108069, 108072, 75305, 9780, 108085, 9785, 108096, 42561, 9795, 108101, 9799, 9801, 42570, 42571, 9804, 42573, 9805, 9806, 9807, 42577, 9809, 9810, 9811, 9812, 42581, 42582, 108121, 42586, 42587, 42588, 9820, 9821, 42591, 42592, 9823, 9825, 9827, 9828, 42597, 9829, 108129, 9832, 42600, 9834, 9835, 42601, 42602, 9838, 42606, 42611, 42613, 42615, 42622, 42631, 140935, 42635, 75411, 140949, 42646, 140950, 42654, 42656, 42657, 75424, 75432, 42666, 42667, 42668, 42669, 75439, 75451, 42685, 42688, 75456, 42691, 9928, 75464, 75467, 75468, 42701, 9934, 42703, 9939, 9945, 141017, 9948, 42717, 9950, 141020, 141024, 75489, 42724, 42725, 42727, 141032, 75497, 75507, 141044, 141045, 75510, 42746, 75515, 9980, 141050, 9982, 42751, 141055, 141056, 9986, 141057, 141060, 141061, 141062, 9992, 75530, 9995, 9996, 42764, 141068, 42773, 141079, 10008, 141085, 42782, 75550, 42785, 42788, 42790, 42792, 42795, 141100, 42797, 42798, 42799, 141102, 141108, 108344, 141114, 42811, 141118, 141119, 42816, 141122, 42819, 141126, 141132, 141135, 42832, 141142, 141143, 42840, 141149, 42846, 141150, 42848, 141153, 42854, 42865, 141169, 141170, 42868, 141173, 141178, 42875, 141184, 108417, 108419, 108422, 108424, 108425, 42890, 42891, 42892, 108433, 42899, 108436, 42901, 42903, 108440, 108441, 42906, 42907, 108443, 42909, 108445, 141207, 141216, 141217, 108450, 42915, 108452, 141218, 42918, 75686, 42920, 42921, 75689, 42923, 42924, 75693, 108459, 141224, 42928, 141231, 141232, 75699, 42932, 42933, 141233, 75703, 141235, 42937, 42938, 141237, 75708, 75709, 75710, 141239, 10176, 141241, 75714, 10179, 10180, 42947, 75717, 75720, 141263, 75728, 10193, 42963, 75731, 10197, 75734, 10199, 42970, 75738, 42972, 75740, 42974, 75743, 75745, 42979, 75748, 141286, 42984, 75754, 42987, 42993, 42995, 10228, 42996, 42998, 10231, 42999, 43000, 43001, 75763, 141305, 10238, 43006, 10240, 43007, 43009, 43011, 43012, 141310, 141314, 141317, 43016, 141318, 43022, 141327, 141328, 43025, 43029, 43030, 43031, 141336, 43035, 141348, 43046, 10279, 141350, 141352, 141356, 43055, 43057, 43062, 43064, 10297, 43065, 43072, 43073, 10306, 10307, 10308, 43076, 10310, 43081, 43083, 43085, 141390, 141391, 141395, 43092, 43098, 43099, 43100, 141406, 10338, 43108, 141412, 141413, 43113, 141417, 10347, 141419, 43117, 10351, 43120, 10354, 10356, 10364, 10365, 10371, 10385, 10387, 10388, 10391, 10392, 10393, 10401, 10410, 10419, 43197, 43199, 43201, 10437, 43212, 10447, 43219, 43222, 10459, 75996, 43232, 43235, 43242, 10476, 76013, 43246, 76015, 43249, 43259, 10492, 10497, 10498, 108803, 10501, 108806, 108809, 10512, 108820, 10519, 10527, 10528, 10529, 10537, 10538, 10540, 108845, 10545, 10550, 10551, 10563, 10566, 10567, 10568, 10573, 76151, 43391, 76162, 43395, 43396, 43401, 43403, 43404, 43406, 10641, 43412, 76181, 43414, 76182, 43416, 10649, 43418, 76188, 76189, 76190, 76196, 10661, 43429, 76197, 10664, 10666, 10667, 10668, 10669, 76203, 10678, 76215, 10682, 43450, 10692, 10693, 10696, 10726, 10779, 43556, 10797, 43573, 10811, 43591, 43593, 43596, 43603, 10839, 43610, 43612, 10848, 10849, 43618, 43619, 10853, 43624, 10859, 10860, 10862, 141934, 43633, 109169, 141941, 141945, 43642, 10875, 109179, 141947, 10878, 141949, 10880, 10881, 141953, 10883, 109187, 109189, 132421, 141955, 141960, 132422, 10890, 109194, 141961, 10893, 141962, 141966, 141967, 109202, 141970, 109204, 141971, 141972, 141973, 141974, 141975, 109210, 10907, 141979, 109213, 141981, 109216, 141984, 109218, 109219, 109222, 109223, 10922, 141995, 10924, 109232, 109234, 142002, 142003, 10933, 142007, 10940, 109244, 142018, 142021, 109254, 142022, 109256, 109258, 142026, 109268, 10967, 109272, 109273, 10977, 109284, 10985, 10998, 11000, 109308, 109324, 76618, 76624, 76625, 76627, 76631, 76633, 76634, 76635, 76636, 76637, 11102, 76638, 76641, 11107, 76643, 76644, 76648, 76651, 76653, 76656, 43890, 43891, 43892, 76661, 11132, 11133, 43900, 11136, 43904, 43905, 76672, 76674, 11141, 11142, 43910, 76677, 43914, 11147, 43917, 43921, 76692, 11157, 76695, 76697, 76707, 76725, 76729, 76730, 76739, 76745, 76748, 11215, 11216, 11220, 76759, 76764, 76765, 11233, 11246, 76782, 11248, 11251, 76787, 76790, 76793, 76794, 76795, 11260, 76797, 44033, 76803, 11268, 76804, 76806, 11271, 44043, 76812, 76813, 11278, 76815, 11280, 44056, 76827, 11292, 11294, 76831, 11296, 11297, 11298, 11328, 11340, 11347, 44128, 44129, 44141, 44160, 44165, 44170, 44189, 44190, 44194, 44202, 77010, 77011, 77012, 77015, 77026, 77027, 77029, 77040, 77044, 77062, 11531, 11533, 77069, 11544, 77082, 77084, 77086, 77090, 77098, 77101, 77108, 77110, 77111, 109894, 11592, 11600, 11606, 109914, 11612, 11621, 11623, 77159, 77160, 77161, 11627, 44396, 11630, 11631, 77169, 77173, 11641, 11644, 109949, 11646, 44463, 110022, 110023, 110024, 110027, 77261, 77270, 110040, 110047, 77285, 77294, 110063, 110087, 77321, 77324, 110093, 77337, 77349, 77354, 110124, 77359, 110129, 110132, 77375, 77381, 110149, 110150, 77385, 11872, 44645, 110183, 44658, 110199, 110203, 110204, 110207, 44672, 110209, 110211, 44690, 44710, 44712, 110252, 110255, 110264, 110265, 110272, 44744, 110282, 110292, 110296, 44762, 110303, 110305, 110310, 110326, 12056, 110362, 12060, 77597, 12062, 77598, 110364, 12073, 12079, 110391, 12094, 12098, 12106, 12121, 12125, 77662, 77663, 77665, 12147, 12160, 12161, 12164, 12170, 12174, 12175, 77719, 77726, 77728, 77744, 77745, 77757, 77766, 77767, 77775, 77790, 77793, 77794, 77799, 77813, 77818, 110598, 77832, 110603, 45069, 45072, 110609, 110611, 110612, 110615, 45084, 77852, 110625, 45094, 110633, 110635, 110641, 45107, 77875, 110652, 110656, 77893, 45131, 110669, 45138, 45140, 110677, 77911, 110682, 77915, 110686, 77922, 77926, 110698, 45165, 45166, 110704, 77937, 110708, 110709, 77951, 77952, 77955, 77957, 45198, 77968, 110737, 110738, 45203, 45208, 45211, 110749, 110751, 110759, 45225, 77997, 78000, 78001, 78002, 110785, 110798, 110799, 110810, 110815, 110816, 110828, 110829, 110834, 110837, 110838, 110851, 45322, 110868, 110869, 45350, 45351, 45358, 45359, 110895, 45372, 12606, 110914, 110919, 110924, 110933, 110936, 110937, 110939, 12651, 12656, 110961, 110967, 12666, 45435, 110978, 12675, 110980, 12684, 12686, 12690, 110995, 12693, 12700, 12704, 12706, 12707, 12709, 12715, 12717, 12718, 12719, 45488, 12722, 12723, 111031, 12732, 45503, 45508, 12741, 45510, 45514, 45515, 45522, 45529, 12764, 12765, 45533, 12767, 78305, 78306, 12771, 12772, 12773, 78308, 12775, 78309, 45545, 12778, 12779, 45546, 45555, 45558, 45566, 45600, 45604, 45605, 45606, 45615, 45616, 45620, 45624, 111191, 111199, 111202, 111216, 111217, 111221, 111222, 78497, 111282, 78520, 78525, 78530, 111301, 111309, 111315, 78548, 78550, 78555, 111323, 111325, 111327, 78560, 111328, 111332, 111336, 78580, 78583, 111364, 111366, 78611, 111379, 111381, 78627, 78629, 111400, 13099, 111406, 111413, 13110, 111421, 111423, 13127, 13130, 111438, 13137, 13139, 111443, 111445, 111447, 111449, 111454, 111457, 111461, 111466, 111469, 111488, 111495, 45969, 111511, 45979, 45981, 111520, 111521, 111523, 111524, 111528, 111531, 46004, 111543, 46010, 111546, 111549, 111552, 111559, 111561, 111565, 111566, 111568, 111570, 111574, 78833, 111605, 78838, 111612, 111615, 111619, 111622, 111624, 111627, 111628, 78866, 111634, 111636, 111637, 111639, 111640, 111641, 78874, 111643, 111644, 111645, 111646, 111650, 78886, 78887, 78894, 78896, 78901, 78902, 13374, 13375, 13381, 13384, 13386, 13393, 13396, 13399, 13402, 13403, 13404, 13405, 13407, 13410, 78948, 46181, 46186, 46190, 13423, 46192, 13424, 13425, 13426, 78961, 13430, 46200, 78970, 46205, 111742, 13439, 111744, 46209, 111750, 78984, 13449, 46217, 46218, 78986, 13453, 78988, 46223, 111759, 13457, 111762, 13459, 13460, 46227, 111763, 111767, 13466, 13467, 46235, 79004, 111771, 111774, 111781, 13478, 13480, 79020, 13485, 13486, 79022, 111788, 111790, 111791, 13491, 111792, 111793, 111797, 13495, 111799, 111801, 111803, 13502, 13503, 111806, 111809, 111815, 13514, 13515, 79050, 111818, 111820, 111821, 13520, 79057, 111823, 111828, 13526, 13531, 79069, 79072, 79074, 13540, 79078, 13546, 13549, 13551, 79089, 13554, 13559, 111864, 111866, 111869, 79102, 13568, 111876, 13573, 111877, 13575, 111879, 111882, 79116, 79121, 79122, 79123, 13588, 79125, 111890, 111893, 13595, 13596, 111899, 79137, 13602, 13605, 13606, 13607, 111912, 111919, 111922, 111931, 111968, 111973, 111983, 111984, 111985, 111986, 13688, 13689, 13717, 79255, 13720, 13721, 79257, 79259, 13724, 79265, 13732, 13734, 79270, 79272, 13738, 13739, 79275, 79277, 79278, 126476, 13744, 79280, 79281, 13752, 79290, 13764, 13772, 79308, 13779, 79318, 13784, 13794, 13796, 13800, 13801, 13804, 13807, 13808, 13809, 13811, 13813, 13815, 13817, 13824, 13825, 13826, 13837, 13839, 13844, 13846, 13849, 13854, 46622, 46625, 13858, 46628, 13862, 46634, 13867, 13868, 13870, 46638, 46640, 46648, 46650, 13883, 13888, 13890, 13892, 46661, 46665, 13898, 46666, 46667, 46668, 46671, 13906, 46677, 46678, 79447, 79448, 79449, 112215, 13917, 13918, 79454, 13925, 46693, 79461, 13928, 13929, 46696, 13931, 46698, 13933, 46702, 79469, 13938, 13940, 79477, 13943, 13946, 79482, 13948, 13949, 46717, 46719, 46720, 13953, 79487, 13956, 13958, 46726, 13960, 13961, 13962, 13963, 46732, 79495, 13966, 13967, 46736, 79496, 79504, 79505, 13972, 79507, 79509, 46743, 46744, 79510, 46747, 79515, 46749, 79517, 46756, 79526, 112295, 46760, 46763, 79532, 46767, 112303, 79537, 79541, 46774, 46775, 79542, 79543, 112310, 46779, 112311, 112312, 79550, 112316, 79554, 79555, 112326, 79559, 79560, 46793, 112330, 46796, 79565, 112334, 112336, 79570, 79574, 14039, 46808, 79578, 46812, 14045, 14049, 14050, 46819, 112354, 46822, 14055, 46824, 46825, 79590, 79593, 14065, 14069, 14070, 46839, 14072, 14074, 14075, 46844, 46845, 14079, 79617, 14082, 14085, 46855, 46859, 46861, 14094, 46862, 14096, 46863, 46864, 46865, 46866, 46868, 46869, 46871, 46872, 46874, 46877, 46879, 14112, 14113, 46880, 79647, 79652, 46886, 46889, 79657, 46893, 46894, 46895, 79661, 46898, 46906, 46908, 79683, 79687, 46920, 46923, 46925, 79694, 46931, 46935, 46938, 79712, 46952, 79720, 79723, 46957, 46959, 46969, 46975, 46976, 46985, 79756, 46991, 79761, 46995, 46997, 46998, 47000, 47006, 47010, 79781, 79785, 14263, 79799, 79800, 14268, 47044, 47051, 79822, 47058, 79828, 47061, 47062, 14297, 47069, 14304, 79843, 14309, 47079, 47080, 14313, 14314, 79850, 79851, 47086, 47087, 14320, 14321, 14322, 47090, 47091, 47092, 47093, 47095, 14327, 47094, 79866, 47099, 112627, 47101, 47102, 47103, 14336, 47104, 47106, 47107, 14340, 47109, 47110, 47111, 14345, 47123, 47124, 47125, 47127, 47138, 47139, 47141, 47154, 47161, 47162, 47163, 47166, 47168, 47170, 47173, 47174, 47175, 47183, 47186, 47194, 47196, 47217, 47223, 47230, 47232, 47234, 14473, 14474, 47242, 14476, 14477, 14481, 47249, 47250, 14484, 47255, 14488, 47257, 112795, 14497, 14498, 14500, 112804, 112813, 14521, 14533, 112839, 14537, 112850, 14551, 112855, 112865, 112866, 14566, 112873, 112875, 112879, 80115, 80116, 112884, 80121, 80123, 112897, 80133, 112901, 80138, 112912, 112920, 47387, 47390, 47392, 47396, 47402, 47403, 47412, 47414, 47416, 47418, 47420, 47421, 47423, 47424, 47426, 80223, 47457, 47461, 47471, 80244, 47587, 14820, 14826, 47596, 14830, 14835, 14836, 47607, 80375, 47612, 80380, 14846, 80391, 14856, 80395, 47628, 80396, 47630, 14863, 14864, 14866, 47635, 14868, 80405, 80406, 14871, 80408, 80410, 14882, 80418, 14892, 80428, 80429, 80434, 80439, 80441, 80443, 80446, 14911, 14912, 14914, 80452, 14919, 14920, 14924, 80466, 14931, 80469, 14934, 80472, 80473, 80475, 80476, 80478, 80479, 80480, 80481, 14946, 80482, 80484, 14953, 80491, 80494, 14959, 14962, 80499, 80500, 80506, 14972, 80508, 80510, 80512, 14978, 80515, 14980, 14981, 14982, 80516, 113288, 80522, 80523, 14988, 80524, 80527, 80529, 14994, 47762, 100674, 80535, 15001, 80537, 80539, 80540, 80542, 15007, 80543, 80545, 80546, 15011, 80548, 80550, 80552, 47794, 47795, 80564, 80565, 80577, 80579, 80582, 80588, 80592, 80593, 80601, 80607, 80608, 80612, 80613, 80615, 80618, 80621, 80624, 80632, 80633, 80634, 80636, 80644, 80645, 80648, 80653, 80656, 113425, 80664, 80666, 80682, 80690, 113461, 47930, 80701, 80702, 80703, 113470, 113475, 80708, 113480, 80716, 47950, 80719, 113486, 113489, 113495, 47961, 113497, 80731, 80732, 47966, 80734, 80735, 47973, 47974, 80742, 80745, 80746, 80749, 47983, 80751, 80754, 80755, 47990, 80759, 80763, 80764, 80767, 80768, 80770, 80771, 80773, 80776, 80780, 113604, 113605, 113606, 113613, 113617, 113619, 113625, 113626, 113627, 113630, 113632, 113635, 80869, 80870, 113639, 113640, 113643, 15340, 113644, 113645, 113647, 80880, 113648, 113650, 80883, 80884, 80885, 15350, 80888, 80895, 15362, 80899, 15364, 80900, 113667, 15367, 15371, 80907, 113677, 113680, 15377, 15378, 80915, 15381, 80917, 80920, 113688, 15386, 15387, 15388, 15389, 15390, 48156, 113698, 80931, 15396, 113699, 80935, 15406, 15407, 48175, 80943, 48181, 15414, 15417, 15426, 15435, 15445, 15449, 15450, 15451, 15452, 15453, 15457, 15459, 15465, 15469, 15471, 15472, 15475, 15479, 15494, 15499, 81035, 15505, 15508, 81047, 15515, 81057, 15523, 15532, 15533, 15536, 15538, 15547, 81086, 15555, 15557, 81093, 48329, 48330, 15564, 15570, 15571, 81106, 48342, 48343, 15576, 15577, 48346, 15579, 48350, 48351, 15585, 15587, 48364, 15600, 15614, 113918, 48386, 15619, 48389, 113925, 15623, 15624, 48391, 15626, 113926, 113931, 48397, 81167, 15632, 81175, 15641, 113945, 113947, 113951, 81184, 113955, 113956, 113957, 113958, 113959, 81192, 15657, 48427, 15662, 48435, 81203, 81205, 81212, 15677, 15678, 15679, 15681, 81223, 81229, 15698, 15702, 15705, 81243, 15708, 81256, 15724, 81262, 15728, 15738, 81286, 15753, 81289, 15760, 81298, 15763, 81300, 15765, 15767, 81303, 15769, 81304, 15772, 15773, 15774, 15775, 15781, 15784, 15786, 15787, 15788, 15795, 114101, 15798, 15799, 114103, 15804, 15808, 114128, 48648, 48649, 48650, 114186, 15885, 15886, 15896, 114204, 114206, 15904, 15906, 114213, 114218, 15925, 15926, 114232, 133424, 15937, 114248, 114253, 15953, 114257, 15956, 15959, 114264, 114269, 15970, 15972, 15973, 15988, 114297, 114305, 114314, 114321, 16036, 16037, 114342, 16050, 114361, 16060, 114366, 16065, 114371, 114375, 16073, 114379, 16082, 114389, 16088, 16091, 114403, 16100, 114404, 16105, 114416, 16114, 16119, 16123, 114432, 16133, 16134, 114438, 81676, 114445, 81680, 81685, 81689, 81691, 81692, 81697, 16165, 114471, 16168, 16173, 16174, 81710, 16176, 114480, 16178, 114481, 16180, 16181, 16183, 81719, 81720, 81722, 48955, 81723, 48963, 114499, 114511, 114533, 114546, 114547, 114556, 114558, 114566, 114567, 114575, 114577, 114585, 114589, 114592, 114595, 114596, 114637, 114652, 114655, 114657, 114658, 114660, 114663, 114664, 114665, 114668, 49133, 49135, 114674, 114675, 114680, 49145, 114689, 114691, 49156, 49164, 114700, 114701, 49174, 49180, 49183, 49184, 49185, 81958, 81964, 49198, 49202, 49203, 81970, 81972, 81974, 81975, 81976, 81977, 114738, 114748, 49214, 49215, 49216, 81985, 114752, 49220, 81989, 49223, 81992, 81995, 81998, 81999, 82000, 114769, 82016, 82025, 82027, 114796, 82029, 82030, 82032, 114803, 49270, 82038, 82046, 82047, 82048, 49281, 49282, 49285, 82054, 114821, 114824, 82058, 82059, 82060, 114826, 82065, 82067, 82073, 82077, 114847, 82080, 82081, 16547, 16548, 82086, 16556, 82099, 114867, 114869, 16566, 82102, 16576, 82112, 82113, 114880, 114887, 82120, 114889, 82122, 82128, 114896, 114898, 82132, 82137, 82142, 82154, 82155, 82161, 49396, 114932, 114936, 82171, 82173, 114944, 82179, 114948, 114950, 82184, 114952, 49418, 49419, 82191, 49424, 114963, 49429, 49432, 82200, 49435, 114979, 114980, 82213, 114981, 114982, 82219, 82220, 82221, 114990, 114998, 115000, 16708, 16710, 16712, 115017, 16720, 82262, 115030, 115031, 16729, 16730, 82267, 16732, 16733, 16734, 16735, 82270, 115032, 115037, 115041, 16741, 82280, 115049, 82283, 16750, 82286, 115056, 16753, 115057, 82295, 49528, 49529, 49530, 49531, 49532, 82297, 82298, 115071, 82304, 16776, 49544, 115084, 16785, 115092, 16789, 16790, 115094, 16792, 49560, 16797, 49566, 16799, 115103, 115105, 49572, 16805, 49574, 16807, 16809, 115115, 115119, 16819, 49588, 115125, 115130, 115131, 115137, 115138, 49609, 49612, 115153, 115155, 115156, 115159, 115160, 115162, 115165, 115174, 115175, 49660, 49666, 49672, 49686, 49692, 49700, 49707, 49709, 115264, 49731, 115268, 115271, 115278, 115297, 49767, 49768, 115308, 115310, 115319, 115321, 115322, 49788, 49797, 49799, 17035, 82580, 82582, 82585, 49818, 82588, 49821, 17054, 49826, 82594, 82596, 49829, 82597, 82599, 82600, 49839, 115376, 115378, 82611, 49845, 115383, 82616, 82617, 49850, 49853, 49854, 115389, 115391, 82625, 49859, 82627, 49861, 82628, 115399, 82633, 82634, 115403, 49876, 49878, 115414, 82648, 115415, 115417, 82651, 82652, 82653, 82654, 82656, 82657, 82658, 49895, 49899, 49900, 49904, 82672, 17140, 17142, 82681, 17147, 49916, 82685, 49918, 17153, 82690, 82691, 49925, 17158, 49928, 82696, 49930, 82697, 82698, 82701, 49934, 49935, 82703, 82704, 17174, 17179, 82715, 82717, 17191, 82731, 82748, 82756, 82757, 82758, 82760, 49994, 82762, 49996, 82764, 49998, 82765, 50000, 82768, 50002, 82769, 50006, 82775, 50008, 50009, 82784, 115553, 115555, 82788, 82789, 82790, 82791, 82792, 115561, 82797, 50030, 82799, 115565, 115571, 115575, 82808, 115578, 50046, 115591, 115592, 50058, 82827, 82828, 115594, 82833, 82834, 82835, 82845, 82846, 82847, 82852, 82859, 50092, 82864, 82867, 82880, 82882, 82887, 82893, 82922, 82924, 82931, 50165, 82933, 82935, 50171, 50176, 50209, 50215, 83007, 83008, 50245, 83021, 50259, 50262, 83039, 83043, 83044, 83051, 83055, 83061, 83064, 83065, 83070, 83074, 50313, 50317, 50321, 50322, 50333, 50338, 50339, 83108, 50342, 50347, 83116, 83118, 50351, 83122, 83126, 50362, 50365, 83135, 50369, 115915, 50382, 83153, 50386, 115921, 115925, 50395, 115932, 83165, 50398, 115934, 83172, 83174, 50407, 50409, 83181, 83182, 50422, 50423, 115958, 83197, 115972, 83205, 115974, 115975, 115976, 83211, 115979, 83216, 83220, 115989, 83222, 83223, 115990, 115993, 83230, 83237, 116010, 50477, 50485, 83254, 50493, 50495, 50501, 83275, 116043, 116045, 50512, 116048, 116053, 116054, 116060, 83295, 50532, 116068, 83303, 50538, 50548, 83316, 50557, 17791, 50559, 50562, 17799, 50568, 50570, 17803, 17804, 50571, 50574, 83339, 50577, 17812, 17814, 50583, 83352, 17817, 50587, 50588, 83355, 83357, 50600, 83368, 83369, 17838, 17839, 50627, 83406, 50641, 83411, 83414, 83421, 83429, 83433, 83434, 17943, 17949, 17951, 17960, 17966, 17967, 116288, 17991, 116297, 17994, 116299, 116302, 116303, 18000, 116306, 116308, 116309, 116311, 116312, 116315, 116317, 18019, 18021, 116325, 116326, 116327, 116329, 18028, 116341, 116342, 83578, 83580, 83582, 83583, 83585, 83586, 116353, 116354, 116356, 83592, 116364, 83606, 116375, 83608, 116377, 83610, 83611, 83612, 83614, 83615, 116384, 83620, 116389, 116390, 116392, 116394, 116399, 116400, 83640, 83647, 83650, 116418, 83653, 83655, 116423, 116431, 116433, 83668, 116441, 116448, 116452, 116453, 83691, 83692, 83699, 116469, 116470, 83707, 116476, 116477, 83715, 116492, 116495, 116496, 116497, 116501, 116503, 116504, 116506, 116509, 116510, 116515, 116516, 116521, 116522, 116524, 116528, 116529, 116535, 51007, 51008, 83775, 116547, 83781, 51017, 83785, 83786, 116555, 51021, 116557, 51023, 83792, 116560, 116561, 83801, 83802, 83805, 83808, 51044, 83814, 83815, 51049, 51052, 83820, 18286, 18287, 83825, 83832, 18297, 83834, 51071, 83841, 51074, 18307, 83845, 18310, 18316, 51086, 18320, 18325, 83864, 83873, 18339, 83876, 83878, 18350, 51127, 51129, 51131, 116669, 83904, 51137, 116673, 51139, 83908, 116674, 51143, 51144, 116684, 51152, 116688, 51154, 51155, 116691, 116694, 116696, 51163, 51164, 116699, 116700, 51167, 51168, 116701, 116702, 83940, 51175, 51188, 51192, 51194, 83963, 51201, 51209, 116745, 116748, 83981, 116750, 51223, 116761, 51251, 51273, 51287, 51305, 51313, 51314, 51317, 18550, 18551, 51324, 51333, 18568, 18571, 18572, 84109, 18574, 51343, 84113, 51346, 84115, 51348, 51350, 18585, 18589, 51362, 84130, 84134, 18601, 18603, 51371, 51372, 18606, 51376, 51377, 84144, 84147, 51381, 84149, 18615, 84150, 51386, 18619, 18623, 18624, 51391, 84162, 84163, 51396, 84165, 116935, 51400, 84169, 84171, 84172, 116940, 51411, 51412, 51413, 51416, 51419, 116956, 18655, 51426, 116964, 51431, 51433, 51434, 51436, 51437, 116972, 51439, 116975, 116978, 51444, 116981, 18678, 116984, 116985, 116988, 116989, 116993, 51466, 117004, 18701, 117005, 117008, 18709, 18712, 51483, 18716, 18729, 18738, 18741, 51512, 18748, 18751, 84288, 84289, 51522, 84292, 51526, 51529, 84303, 84305, 51538, 18771, 51544, 51545, 84314, 84316, 18781, 51551, 84319, 84320, 84322, 51555, 117087, 84325, 117090, 84328, 18793, 117099, 51567, 117105, 18805, 51578, 117115, 18812, 51583, 18818, 117126, 18825, 117129, 18827, 51597, 18847, 51622, 18855, 18863, 18874, 18881, 51658, 18892, 51661, 51667, 51669, 51673, 51674, 18907, 18912, 18913, 18915, 84476, 117244, 117250, 84485, 84487, 84495, 84500, 84504, 84509, 84514, 117284, 84520, 84524, 84542, 84546, 84553, 84558, 84559, 84569, 84571, 84573, 84574, 19041, 84578, 84581, 84582, 19050, 84587, 19059, 84600, 19067, 84605, 84608, 84609, 84610, 84619, 84622, 84623, 19088, 19090, 19092, 19095, 51863, 84641, 19107, 84647, 84648, 84650, 51883, 84652, 51885, 84653, 19120, 84657, 19122, 84659, 19125, 19126, 117430, 117434, 19131, 19132, 84668, 19136, 51904, 51906, 19140, 84679, 117451, 19148, 19151, 117455, 19153, 19154, 19155, 51922, 51928, 51929, 84697, 117467, 51932, 51933, 51934, 117469, 19169, 51938, 117479, 51948, 117492, 84725, 117493, 51970, 51971, 51980, 51983, 51993, 84763, 84766, 19241, 84778, 117545, 19248, 19251, 19253, 19266, 19268, 19269, 117577, 117588, 19291, 117595, 52063, 19296, 19297, 19299, 19302, 19305, 19306, 117609, 52080, 52084, 117621, 19318, 52092, 52093, 52094, 117633, 52099, 52102, 117644, 19351, 19355, 19359, 52128, 117665, 117669, 19372, 117677, 117684, 19381, 19382, 117686, 19384, 117690, 117699, 52171, 117707, 52173, 52174, 117710, 19410, 52178, 52182, 117723, 117724, 19421, 52189, 117727, 52195, 52197, 52199, 117735, 52201, 117740, 52206, 52207, 52208, 117744, 84990, 117761, 117763, 117764, 117765, 19462, 52232, 52233, 85001, 52236, 117772, 52238, 117775, 117777, 52242, 52244, 117781, 19478, 19480, 117786, 117790, 117792, 117795, 52260, 117808, 117810, 117811, 52276, 52277, 117816, 19516, 52284, 19520, 19523, 52292, 19526, 52295, 52296, 52297, 117831, 117850, 117852, 52317, 117854, 52320, 52322, 52323, 52326, 52327, 52328, 117866, 117883, 117898, 117903, 117917, 117921, 117924, 117930, 117948, 117962, 117965, 117975, 117984, 117985, 117991, 19691, 117998, 19698, 19704, 19709, 118013, 108124, 118016, 19725, 19733, 118043, 19740, 108130, 19744, 19746, 108131, 19750, 118056, 19757, 118076, 85309, 118077, 118080, 118081, 19784, 118099, 118101, 118103, 118104, 118106, 118107, 118110, 118111, 118116, 118118, 118120, 118128, 118133, 118138, 118146, 118150, 118155, 118157, 118158, 118163, 52631, 118169, 52634, 118170, 118171, 52639, 118178, 118179, 118180, 52647, 118185, 52653, 19886, 52654, 52655, 52661, 52662, 52663, 52666, 118203, 52670, 19904, 52673, 52674, 52683, 52685, 52688, 52693, 118229, 118231, 52700, 52701, 118238, 118240, 52707, 118245, 52712, 52713, 118250, 118251, 52716, 52718, 52724, 52725, 118262, 118263, 52732, 118270, 52735, 85505, 118275, 52744, 52745, 118281, 52747, 19980, 118286, 19984, 19985, 118288, 52756, 118292, 85527, 52760, 52762, 52765, 85533, 19999, 85535, 118304, 52770, 52771, 118308, 20007, 20008, 118312, 118316, 118319, 85553, 52786, 20019, 118322, 20022, 85559, 118327, 52793, 52794, 52796, 20029, 52800, 118336, 20034, 20035, 52805, 20038, 85574, 85576, 20041, 20045, 20047, 52816, 85583, 85584, 118353, 20053, 52821, 20056, 20057, 52825, 52827, 118366, 118367, 52832, 52833, 20066, 118372, 52838, 85606, 20072, 52842, 118381, 52846, 52847, 52848, 20081, 118382, 52852, 20085, 20086, 52854, 52858, 20095, 52863, 20098, 20100, 52868, 52871, 118407, 20106, 52875, 20108, 52883, 118419, 20119, 52887, 52889, 118423, 20123, 52892, 52893, 20126, 52894, 20128, 118428, 20130, 52898, 52899, 52902, 52903, 52906, 20143, 52911, 20145, 52914, 20154, 20155, 52923, 52925, 20159, 52928, 52929, 20163, 52933, 52934, 52941, 85712, 20177, 52946, 20180, 20181, 20182, 52950, 20185, 52954, 52955, 52956, 20191, 52959, 20193, 52963, 20198, 20199, 20202, 52973, 52974, 52979, 52980, 52983, 52984, 85754, 52994, 20227, 85762, 85765, 85767, 53001, 85769, 85770, 85777, 85778, 85779, 20252, 53020, 20255, 53028, 20262, 20263, 53035, 20272, 53049, 53052, 53057, 53061, 53065, 53067, 53071, 53072, 53073, 20306, 53074, 53075, 53076, 53077, 53079, 118616, 20314, 20315, 53087, 53089, 20322, 53091, 118625, 118626, 118627, 118628, 118633, 53098, 20334, 20336, 118644, 118647, 20347, 20352, 20354, 20356, 85898, 85910, 85919, 85921, 85926, 85938, 85946, 53182, 85950, 53186, 85955, 53189, 85959, 53198, 53199, 85973, 53208, 85977, 53210, 53211, 85978, 53214, 53215, 53218, 85989, 53231, 86001, 20472, 53240, 53242, 53244, 20478, 53246, 53247, 53252, 53254, 20488, 20489, 86031, 53264, 53265, 118802, 20499, 53267, 53268, 53269, 118806, 118809, 118810, 118811, 86046, 118816, 53283, 118822, 86055, 53289, 53292, 53293, 53294, 86061, 86063, 118830, 20530, 86066, 118831, 53301, 53304, 53308, 20543, 53312, 53313, 118852, 53317, 118857, 118858, 118859, 53334, 118871, 53341, 118879, 53344, 118882, 53354, 118890, 118895, 118897, 53366, 118902, 53370, 53371, 118907, 53373, 118910, 118915, 118920, 53390, 118928, 118931, 53396, 53397, 118933, 118935, 118939, 118941, 118943, 118944, 118953, 53423, 118960, 53431, 53432, 86204, 118972, 118980, 86216, 118986, 86219, 118991, 86224, 86225, 118998, 118999, 119000, 119002, 119004, 86238, 119006, 86240, 119007, 119008, 119012, 119013, 119014, 119015, 86248, 119017, 119018, 119019, 119021, 119022, 119024, 119026, 119029, 119033, 20772, 20780, 20783, 20784, 20791, 20798, 20799, 86341, 20808, 20809, 20810, 86344, 119113, 119114, 119115, 119125, 119126, 119127, 119136, 20833, 20834, 86369, 119142, 119147, 20845, 20846, 119150, 119152, 20850, 119155, 119156, 20854, 119158, 119160, 53635, 86430, 86432, 86433, 86434, 86436, 86438, 86440, 20952, 20962, 20967, 53739, 53746, 53747, 20982, 20983, 53753, 86558, 86561, 86565, 86569, 86572, 86579, 86580, 21045, 86581, 86583, 21049, 86586, 86589, 86591, 86592, 86593, 21058, 86594, 86595, 86598, 86599, 21065, 86613, 86616, 21084, 21086, 119390, 21088, 21091, 21094, 119398, 119403, 119405, 119406, 21103, 21105, 21106, 21113, 21114, 119417, 119424, 21124, 21126, 21129, 21135, 119440, 119443, 21140, 119446, 21143, 21144, 21149, 21152, 21155, 21168, 21172, 119477, 119478, 21178, 21188, 119492, 119493, 21191, 21195, 21197, 21206, 21207, 21211, 21215, 86762, 86764, 86770, 86776, 86790, 86799, 86802, 86803, 86810, 86813, 86817, 86818, 86819, 86821, 86833, 86834, 86835, 86837, 86838, 86839, 86841, 86843, 21350, 86904, 86905, 86908, 86914, 86921, 86923, 86924, 86925, 86936, 86939, 86942, 86948, 86952, 21427, 21428, 21429, 21430, 86966, 86967, 21437, 86977, 21455, 21456, 86997, 87003, 87007, 87010, 87011, 87013, 21478, 87014, 21482, 21489, 87026, 87035, 21528, 87067, 21534, 21539, 119852, 87085, 87104, 87109, 119883, 87118, 21583, 21585, 87122, 21587, 119893, 21591, 21593, 87129, 21595, 119898, 87133, 119903, 119908, 21606, 87145, 119913, 87147, 119914, 21613, 119915, 119919, 21616, 21617, 119920, 21622, 87161, 87163, 54399, 54401, 21633, 21641, 54412, 54413, 54423, 21656, 54424, 21666, 54440, 54443, 54444, 21682, 54450, 54452, 54454, 54462, 21695, 21698, 21699, 21702, 54471, 54472, 54475, 54477, 54482, 21723, 21726, 21750, 120057, 54522, 21755, 54524, 54528, 120065, 120066, 54533, 87305, 87306, 54539, 120074, 120076, 87310, 54543, 54545, 87316, 54549, 120087, 87320, 120092, 21790, 87327, 21792, 120094, 120097, 120106, 120112, 120113, 120117, 87352, 87353, 87355, 87357, 120125, 87361, 120145, 87378, 120147, 87383, 87388, 120156, 87391, 87396, 87397, 87400, 87401, 87402, 120168, 87404, 120170, 87408, 120180, 87414, 54649, 120186, 87419, 120191, 87425, 87426, 54659, 87427, 54665, 87435, 87436, 120205, 87439, 54672, 87441, 54674, 54676, 87445, 54678, 120216, 54681, 54689, 54690, 120225, 87460, 120228, 87462, 54704, 87476, 87480, 87481, 87485, 87487, 87488, 87491, 87500, 87501, 87506, 87517, 120285, 54751, 54753, 120289, 87525, 54759, 87527, 87532, 54765, 87533, 87535, 22001, 54771, 54775, 22009, 22011, 87548, 22014, 87550, 22016, 87552, 54786, 54787, 87554, 54789, 87556, 54792, 87561, 54798, 22034, 54802, 54808, 54809, 54810, 87576, 87580, 22046, 22052, 22055, 22056, 54823, 87600, 54833, 54842, 22075, 54855, 87630, 87633, 22098, 22099, 22100, 54871, 22106, 54874, 22110, 22117, 54888, 120427, 120428, 87661, 54896, 22129, 22130, 87668, 22133, 22134, 87673, 87678, 87680, 54923, 87696, 22161, 87698, 54938, 54945, 87714, 22194, 22195, 22196, 54962, 87730, 87740, 22213, 120519, 22216, 54984, 120523, 22222, 54991, 87759, 120526, 22226, 87769, 55002, 22235, 120538, 87773, 87776, 22244, 87784, 120552, 120554, 120555, 22253, 120557, 120559, 87792, 120562, 120564, 120566, 22263, 120568, 22265, 120571, 22272, 120576, 22275, 87812, 120579, 120581, 87818, 120587, 120590, 120592, 22292, 87833, 120602, 22304, 87846, 120615, 22312, 120616, 120620, 120624, 87861, 120631, 22328, 120634, 87867, 120639, 22337, 120641, 55107, 55108, 87876, 87878, 120646, 120648, 87881, 55114, 120649, 55116, 120651, 55118, 120658, 55123, 22356, 22357, 22358, 120659, 55132, 55133, 55134, 87903, 120669, 120670, 120673, 87908, 55141, 55142, 120676, 22377, 55146, 120682, 22380, 22381, 55149, 120685, 120686, 55154, 120690, 120692, 141221, 120701, 120703, 120705, 22403, 55175, 55182, 120722, 22420, 120729, 22427, 120731, 120733, 120734, 120735, 120737, 55202, 120740, 120742, 120752, 120754, 120756, 120758, 120762, 22460, 120765, 120767, 22466, 120771, 22470, 22475, 22480, 120784, 22516, 120825, 120827, 22524, 120835, 120837, 120841, 22544, 120852, 22550, 120854, 22552, 88088, 120858, 88091, 120860, 120862, 22561, 22570, 88113, 22582, 22596, 22598, 22601, 22603, 88153, 88157, 88158, 88176, 55422, 88191, 88192, 88198, 88207, 88208, 88215, 88218, 88225, 88231, 88246, 88249, 55488, 88263, 55500, 55502, 88271, 55507, 55509, 55510, 88280, 55515, 55516, 55518, 88286, 22752, 55522, 88291, 22757, 55527, 22762, 55530, 88300, 22765, 55533, 22768, 22769, 22771, 22772, 88307, 22775, 55543, 88311, 88315, 88318, 88322, 55555, 55563, 88331, 88338, 55572, 55575, 88345, 55579, 55581, 55588, 88356, 22824, 22825, 55592, 22829, 22833, 55603, 55604, 55607, 55608, 55609, 55612, 55617, 55619, 55630, 55633, 22867, 55636, 22869, 55639, 22875, 55643, 55645, 55644, 22879, 22881, 55650, 22883, 55652, 22885, 22886, 55657, 55662, 22895, 22898, 55667, 55671, 55673, 22906, 55675, 22908, 55676, 22910, 22911, 55677, 22915, 22916, 55684, 55686, 22929, 55701, 55702, 88473, 55713, 88487, 55722, 55724, 121263, 55729, 55731, 121269, 55736, 55739, 88509, 55743, 88516, 55750, 88519, 121289, 88522, 55757, 55758, 55759, 55761, 55762, 88529, 121298, 55770, 55772, 55773, 55776, 121315, 55780, 55781, 55783, 55784, 55788, 55795, 121338, 88573, 88575, 55808, 88580, 55814, 88584, 121357, 121359, 55829, 55831, 55833, 121377, 121378, 88611, 55844, 121380, 121381, 88619, 88621, 88626, 88629, 55865, 55870, 55874, 55875, 55877, 88646, 55879, 55880, 88654, 55887, 88658, 55891, 88659, 55893, 55894, 55897, 55898, 88667, 88668, 55902, 88670, 88671, 88679, 55914, 88682, 88690, 88695, 88696, 88703, 88704, 88707, 88713, 88715, 55951, 55958, 55959, 55964, 55974, 55977, 55978, 55982, 55983, 55992, 88776, 88779, 88783, 88784, 88789, 88790, 88791, 88796, 88797, 88822, 88823, 121617, 121619, 121626, 121639, 121640, 121642, 121643, 121644, 121645, 88878, 88882, 121652, 88885, 121653, 121656, 56122, 121658, 121659, 56125, 56128, 56131, 56135, 23368, 56141, 23375, 56145, 56147, 88916, 56149, 88919, 23389, 23390, 23392, 88931, 23396, 88932, 88933, 23411, 56184, 88954, 88959, 23425, 23430, 88969, 88975, 88979, 23461, 89016, 89018, 23485, 23486, 89021, 89022, 23489, 89026, 23491, 23492, 89027, 89029, 89030, 89031, 56270, 89040, 89044, 89045, 56279, 56292, 56294, 56295, 56297, 56298, 56308, 56318, 56328, 56330, 56333, 56339, 56341, 56344, 56367, 56372, 56382, 56387, 56396, 56406, 56408, 56424, 56436, 56439, 23681, 56451, 56461, 23694, 23696, 89233, 23698, 56469, 56476, 89250, 89251, 23717, 89257, 23731, 23733, 23735, 89273, 23742, 89284, 23749, 23750, 23751, 23752, 89286, 23756, 89293, 23758, 23759, 23760, 89297, 23765, 23774, 89311, 23777, 89313, 89321, 23792, 23793, 23899, 23901, 23904, 23906, 23907, 56674, 23917, 23918, 23923, 23927, 23928, 23953, 23957, 23967, 23983, 56758, 56761, 89529, 56764, 56768, 56770, 122309, 122315, 122321, 56786, 56788, 56792, 122333, 56798, 89569, 89572, 122340, 56809, 89577, 122348, 56817, 56821, 122357, 122365, 122366, 56831, 89600, 122369, 89603, 89605, 89606, 89608, 122380, 89613, 122382, 89619, 122389, 89624, 122392, 122393, 122404, 122405, 122433, 122436, 122438, 122439, 122445, 122452, 122453, 24209, 24211, 24212, 24216, 24232, 24241, 24244, 24247, 57085, 57087, 57093, 57094, 57095, 122634, 57099, 57101, 122639, 122640, 57105, 57108, 57109, 57114, 57115, 57116, 122652, 122655, 122656, 57122, 57124, 122661, 122663, 57129, 122666, 57132, 24364, 57134, 122673, 24370, 122680, 57146, 122684, 57149, 57153, 57154, 122696, 57161, 122698, 122705, 57170, 57171, 57172, 122709, 57175, 57177, 57178, 122714, 122715, 122716, 57182, 122717, 57184, 122720, 122721, 57190, 57191, 57192, 57193, 122727, 57195, 57196, 122728, 57198, 57199, 122733, 57201, 122739, 57208, 57209, 122745, 24444, 57213, 122748, 24448, 24449, 57216, 57219, 24452, 57220, 122757, 57223, 57224, 57225, 122760, 122761, 57231, 24464, 57232, 122767, 122769, 57239, 122776, 122778, 24476, 24480, 122785, 57256, 24489, 122792, 122796, 122797, 57268, 122804, 57270, 122809, 24507, 122811, 57277, 57278, 57281, 24514, 57283, 122820, 24517, 57285, 122821, 122824, 24521, 122826, 24523, 57291, 57292, 57294, 122828, 57298, 57299, 122834, 57301, 57302, 57303, 57304, 57305, 122835, 57307, 57308, 122837, 122845, 122846, 122849, 57317, 57319, 57320, 57326, 57329, 57332, 57333, 57335, 57341, 57343, 57344, 57345, 57346, 57347, 57348, 57359, 57370, 57373, 57382, 57387, 57388, 57389, 57392, 57398, 57401, 57406, 57434, 57436, 57437, 57440, 122977, 122979, 57452, 122989, 122991, 122993, 123002, 123003, 57468, 57470, 123012, 57479, 57485, 57497, 57504, 90274, 57512, 24747, 57515, 24749, 57522, 24757, 24758, 57530, 57541, 57547, 57562, 123102, 123104, 57569, 123105, 123106, 123108, 123111, 123112, 123119, 123120, 123121, 123123, 123125, 123127, 57593, 123129, 24829, 24830, 24832, 123143, 123146, 123150, 123157, 123158, 123160, 90394, 123164, 123165, 123168, 57634, 90402, 123173, 123174, 90407, 90411, 123181, 123182, 123184, 123185, 57652, 90422, 123195, 57660, 90428, 90429, 90432, 123200, 90435, 90436, 57670, 123207, 123209, 57675, 123211, 57678, 57679, 57681, 57682, 57685, 123222, 123225, 57692, 57698, 123235, 123237, 123242, 123255, 57722, 57725, 123269, 123288, 123290, 123299, 123301, 25007, 123320, 123323, 25020, 123324, 123325, 25023, 123326, 123327, 123328, 123329, 123330, 123331, 123333, 123334, 25033, 123337, 123338, 123340, 123342, 25039, 123344, 123345, 25043, 123347, 123349, 123350, 123351, 123353, 25050, 25052, 25056, 123360, 25081, 25085, 25096, 123423, 25124, 90660, 123428, 90670, 57905, 90673, 90674, 123443, 123444, 123447, 90682, 90683, 123455, 57920, 90688, 90691, 57924, 57925, 90692, 90693, 90694, 90697, 90699, 123468, 57934, 90702, 123470, 57941, 90710, 90712, 90715, 123487, 57957, 57964, 90734, 90742, 57977, 90745, 57979, 90746, 90748, 57984, 57990, 90760, 57993, 90761, 25229, 25232, 25233, 58000, 90771, 90772, 58012, 58013, 90782, 58015, 90785, 90786, 135277, 25254, 90791, 25256, 25260, 25263, 58031, 90801, 58041, 25274, 25275, 90811, 25278, 58046, 90816, 25281, 25284, 58052, 58053, 90820, 90823, 90824, 58058, 90828, 58061, 123596, 58063, 58064, 58065, 123597, 123599, 58068, 90837, 123603, 58071, 25306, 90843, 123610, 123611, 123613, 123614, 25312, 58082, 90851, 58084, 90853, 123618, 123623, 25323, 25324, 90860, 25330, 25331, 90867, 90868, 90870, 123634, 123636, 90873, 123638, 123640, 123646, 90880, 25345, 123650, 123652, 90886, 25353, 123657, 90891, 58124, 25358, 25359, 90896, 123663, 25362, 90899, 25364, 90901, 123666, 123672, 90905, 123674, 123675, 25375, 90912, 90913, 25378, 90915, 90916, 58150, 58151, 90923, 90927, 90928, 90929, 90931, 90932, 90934, 58169, 90937, 90938, 90939, 58182, 90950, 90955, 90958, 58191, 58192, 123730, 90965, 58199, 90968, 123736, 123739, 90974, 123744, 123745, 90980, 123750, 58220, 90992, 58225, 123760, 123761, 123762, 90998, 91006, 123775, 123776, 91010, 123783, 123798, 91034, 58268, 58269, 91036, 123805, 123807, 91051, 58284, 91057, 58290, 91061, 91062, 91063, 91064, 91067, 58303, 123841, 91075, 91077, 91081, 91082, 91084, 123852, 91086, 91087, 91089, 91090, 91091, 91094, 91096, 58367, 58375, 123961, 123963, 91199, 91200, 123970, 91204, 91205, 91206, 123980, 91214, 91216, 91225, 91227, 91228, 91230, 91233, 91234, 91237, 91238, 91247, 25714, 25733, 25738, 25743, 25744, 25745, 25748, 25795, 25805, 25814, 124120, 124130, 58602, 124149, 58614, 124152, 124154, 58625, 124172, 124174, 58641, 124179, 58644, 58645, 124182, 124183, 124187, 58664, 58666, 58669, 124206, 124208, 124209, 124212, 58677, 124214, 58679, 25912, 124215, 25914, 124216, 25916, 124228, 25933, 25934, 124237, 124238, 124239, 124240, 25939, 25945, 124258, 25960, 25966, 124270, 25978, 25988, 25990, 124294, 26005, 26011, 124320, 124321, 26025, 26031, 26032, 124342, 26039, 124344, 26041, 124345, 26047, 26052, 26058, 26060, 124365, 26066, 26069, 26070, 26078, 26080, 124386, 26083, 26087, 124391, 124392, 124393, 26092, 26097, 26098, 26100, 26105, 91642, 91643, 26108, 124414, 26111, 26112, 91656, 26121, 91657, 26125, 91661, 26141, 26143, 26146, 26147, 26149, 91685, 26151, 91687, 91688, 124457, 26156, 26158, 26162, 26165, 26166, 26170, 26173, 124484, 26184, 26187, 26188, 26190, 58960, 26194, 124500, 26198, 124502, 124507, 124511, 124515, 26214, 58988, 58989, 124527, 124528, 26228, 26229, 58999, 59000, 124536, 26234, 26236, 59005, 26238, 124540, 124543, 124544, 124546, 124547, 26246, 26248, 26249, 124556, 124557, 124559, 124560, 124561, 124563, 124565, 26262, 26266, 124571, 124573, 124577, 26275, 124580, 124581, 124585, 124588, 124589, 124591, 26289, 124595, 26302, 26303, 26304, 124610, 26307, 124617, 26315, 124619, 26320, 124624, 26323, 26324, 124629, 26331, 26343, 26345, 124653, 26352, 26360, 26361, 124664, 124667, 26365, 124675, 26373, 26374, 91910, 26376, 26377, 124678, 124681, 91916, 91917, 124682, 26383, 124685, 26385, 26386, 91923, 26388, 26389, 91925, 124690, 124696, 124697, 26394, 91931, 26396, 26397, 26398, 124701, 124702, 91939, 26404, 26405, 91941, 91943, 124708, 26409, 26411, 26412, 91947, 91949, 26416, 26417, 26419, 26420, 59189, 26422, 91955, 91956, 124725, 124726, 124730, 124739, 124741, 124746, 59232, 92038, 26510, 26511, 26512, 92046, 26529, 26536, 26539, 26541, 26546, 92088, 26558, 26559, 124881, 124883, 124884, 124889, 124909, 124912, 124913, 124914, 124918, 124946, 124947, 92208, 124977, 124982, 92218, 92219, 92220, 124988, 92226, 92231, 92232, 92235, 92236, 92244, 92245, 92248, 92251, 92258, 92263, 92264, 92268, 92271, 92273, 92274, 92276, 26741, 92278, 26754, 26756, 92293, 92294, 26772, 92312, 26779, 92316, 26781, 26782, 26784, 92320, 92321, 26791, 26795, 26796, 92336, 26801, 92341, 92344, 92349, 92360, 92361, 92362, 92363, 92364, 92375, 59610, 92378, 92379, 59615, 59617, 92386, 92393, 92395, 59634, 92404, 92412, 92413, 92415, 59648, 26881, 26882, 59651, 59652, 26884, 59653, 92417, 92418, 92419, 92421, 92428, 92434, 92435, 92442, 92449, 92451, 92452, 92462, 92466, 125234, 125235, 92471, 92472, 92474, 92475, 92476, 92478, 92479, 92482, 125252, 125256, 92492, 92495, 92497, 92498, 26963, 92499, 92501, 125265, 125268, 125270, 92519, 92531, 92535, 27003, 27007, 27008, 27012, 59781, 92549, 92552, 92555, 92556, 92560, 92561, 59797, 59798, 27031, 27032, 92567, 92570, 92571, 59804, 59805, 92573, 27042, 27045, 92585, 59819, 27052, 59821, 27055, 27060, 92597, 27065, 92602, 27071, 92608, 59841, 92609, 59850, 92618, 125401, 59866, 59868, 92637, 92638, 59871, 125404, 92641, 59879, 92650, 92652, 59892, 59897, 59898, 92665, 92670, 92673, 92674, 92675, 92677, 92678, 92679, 92680, 92682, 92683, 92687, 92692, 92693, 92695, 59929, 59930, 59932, 92700, 92701, 59935, 92706, 92710, 59944, 59947, 92717, 59951, 59958, 92727, 92728, 92739, 59974, 92742, 59976, 92747, 125515, 125518, 125519, 92754, 125522, 125523, 125524, 125526, 92759, 92762, 60004, 125542, 60007, 60008, 60011, 92780, 92782, 125550, 60016, 92788, 92789, 60023, 60024, 60026, 60028, 92800, 92801, 125569, 92803, 125570, 60038, 125575, 125577, 92812, 92816, 60049, 92818, 125584, 60055, 60056, 92824, 125593, 60061, 125599, 60066, 92834, 60073, 92845, 60081, 60096, 60098, 60099, 60100, 60106, 92874, 92878, 60114, 92883, 92885, 125654, 60120, 92888, 92891, 60131, 92899, 92906, 92908, 60143, 60144, 92914, 92915, 60148, 60150, 92923, 92929, 60162, 60165, 60168, 60172, 60179, 60183, 92953, 60194, 60199, 92970, 92971, 60204, 60211, 92996, 93005, 93013, 93030, 93031, 125800, 93038, 93040, 93043, 125811, 93064, 60314, 60315, 93083, 60321, 60323, 93092, 60325, 60326, 60327, 125860, 125864, 125865, 93107, 60340, 60343, 60344, 60345, 60347, 60354, 60356, 60359, 60360, 60361, 60363, 60376, 60380, 60389, 60390, 60409, 60417, 60420, 60422, 60423, 60427, 60428, 60431, 60436, 60439, 60440, 60446, 60453, 60455, 60462, 60467, 60468, 60471, 60478, 60490, 60494, 60497, 60499, 60505, 60506, 60510, 27744, 60515, 27747, 27749, 126052, 27752, 27753, 126057, 126059, 27756, 27759, 60529, 27762, 126066, 27765, 60535, 60536, 27769, 60539, 60540, 60541, 27774, 60545, 60546, 27779, 60548, 27784, 60553, 27786, 27787, 27794, 27804, 126115, 27817, 27822, 27828, 27830, 27833, 27835, 27838, 126143, 27844, 126152, 27851, 27854, 27858, 126167, 27867, 27874, 27883, 27886, 27888, 27900, 27910, 27912, 27913, 27915, 27916, 27918, 27919, 27926, 27930, 27936, 27941, 27945, 27947, 27950, 27954, 27956, 27966, 27977, 27983, 27989, 27991, 27993, 27994, 93563, 126335, 93574, 93575, 93581, 93583, 93590, 93593, 126361, 126362, 93597, 126369, 93610, 126379, 93614, 93624, 28091, 28094, 28098, 93635, 28101, 28108, 28110, 93648, 28117, 60885, 93654, 126425, 126427, 60897, 93666, 126433, 93668, 28133, 60901, 93670, 126436, 126438, 60906, 93674, 126446, 126454, 60919, 28153, 60925, 126462, 60928, 126465, 126468, 60936, 60937, 60938, 28169, 93704, 93706, 93707, 28175, 60944, 28177, 93708, 93712, 28180, 60948, 93714, 60951, 93722, 60955, 93728, 93731, 60966, 60971, 93743, 28210, 28212, 93748, 93750, 93751, 60985, 126525, 93758, 28224, 28226, 28229, 60997, 93765, 61000, 126536, 126539, 93773, 61007, 93775, 28242, 93778, 93779, 93781, 93782, 126549, 126550, 126553, 93787, 28253, 61021, 93789, 93791, 61026, 93794, 126568, 126569, 28273, 61044, 126581, 61054, 61055, 126603, 126605, 28303, 61073, 126610, 61078, 61080, 61081, 61088, 126628, 61093, 28328, 126633, 28330, 61101, 126637, 126639, 126641, 126643, 126644, 126645, 126647, 28344, 126648, 126650, 126651, 93884, 126654, 126655, 126659, 93893, 93894, 126661, 93897, 28362, 93900, 93902, 93903, 93906, 93908, 28374, 28376, 126689, 126690, 126691, 126692, 28389, 126693, 126699, 28397, 28398, 126705, 126707, 28405, 28408, 126712, 126717, 126718, 28420, 28425, 28427, 126734, 126736, 28435, 126740, 126741, 28439, 126744, 28442, 28443, 28444, 126749, 126753, 126754, 28452, 28454, 28455, 126761, 28464, 28466, 126779, 28477, 126781, 61249, 61251, 61253, 61255, 126794, 126795, 126796, 126797, 61262, 126799, 61266, 126810, 126812, 94046, 94051, 94052, 94053, 61288, 61289, 126827, 28524, 61293, 94060, 28527, 94061, 94062, 28530, 61298, 94063, 28534, 94072, 94074, 126846, 28543, 94079, 126847, 28546, 28550, 94086, 126854, 28553, 28555, 126860, 126861, 126862, 94095, 94097, 28562, 28563, 126865, 28565, 126868, 126871, 94106, 126875, 61343, 61344, 94111, 126882, 94115, 61348, 61349, 28582, 126884, 126886, 126889, 61354, 126890, 126891, 126893, 28592, 126897, 126898, 126899, 28597, 28599, 28602, 126915, 28622, 126926, 126929, 28629, 28630, 28631, 126940, 28642, 28644, 126951, 28648, 126970, 126971, 126975, 126986, 28688, 126993, 127001, 127005, 127008, 127015, 94249, 94254, 127022, 94256, 28723, 28725, 127032, 94270, 94293, 94296, 28761, 28762, 94298, 94302, 28772, 28773, 28774, 94311, 94316, 28784, 94321, 94325, 28790, 94339, 28805, 28807, 28821, 28830, 28834, 28838, 28853, 28855, 28859, 28862, 28864, 28865, 28868, 28870, 28871, 28872, 28873, 28875, 28877, 28878, 28879, 28885, 28898, 28904, 28914, 28916, 28920, 28923, 127232, 28929, 127233, 28932, 28933, 28935, 28943, 94479, 28945, 127252, 94485, 94490, 94491, 28956, 94495, 28964, 28968, 94505, 28971, 28973, 28979, 28987, 94558, 94564, 94569, 94576, 94578, 94580, 94620, 94628, 94641, 94656, 94661, 94670, 94682, 94691, 94697, 94709, 94712, 94727, 29199, 29206, 29207, 29208, 29212, 29215, 29219, 94756, 94759, 29231, 29234, 29236, 29237, 29238, 94782, 94784, 94785, 94791, 94793, 94796, 94799, 94801, 94804, 94805, 94807, 94810, 62044, 94825, 94828, 94829, 94831, 94836, 62073, 94844, 94849, 94850, 94851, 62084, 94859, 94860, 62094, 94863, 62097, 94866, 94871, 94873, 94875, 94883, 94884, 94885, 29359, 29360, 29362, 29363, 29365, 94902, 94903, 94907, 29374, 29375, 29376, 94911, 29379, 94915, 29382, 94918, 94919, 29386, 29390, 29391, 94926, 94934, 94938, 29403, 29404, 62175, 94944, 94947, 94949, 94955, 94956, 29421, 94962, 94964, 29429, 29431, 29432, 94969, 29436, 29437, 94974, 94977, 29447, 94983, 29449, 29450, 94984, 94985, 29454, 29457, 29459, 94998, 95002, 29471, 95008, 95010, 29475, 29479, 95023, 29490, 29494, 29495, 95031, 29507, 127812, 127819, 127822, 29523, 127828, 29525, 127829, 127831, 29538, 29544, 29553, 29554, 29561, 29566, 29568, 29569, 29573, 29574, 62346, 29582, 62350, 29584, 62352, 62401, 127955, 127956, 127957, 127963, 127964, 29664, 29666, 127970, 127971, 29669, 127973, 127981, 29690, 29697, 29698, 128002, 29700, 95236, 128006, 29704, 29706, 29708, 62476, 95246, 29711, 95258, 29723, 62493, 29726, 95261, 95263, 95266, 62503, 62509, 62521, 95299, 62533, 95302, 95303, 29774, 95319, 29784, 29785, 95321, 62556, 95325, 95333, 95341, 62575, 95344, 62579, 95348, 128118, 62583, 128119, 128121, 62590, 128126, 128145, 128147, 128149, 128150, 128161, 128162, 128164, 128167, 128169, 128173, 128183, 128184, 128198, 128199, 128201, 128202, 128203, 128204, 128213, 62686, 62689, 62692, 62696, 128250, 95483, 62718, 95486, 62721, 95489, 95490, 95492, 29959, 29961, 95498, 29963, 95507, 95510, 29975, 95511, 95514, 95516, 95521, 29987, 95524, 95528, 29993, 29997, 30002, 95541, 95543, 95552, 30017, 30021, 95561, 30029, 30049, 95585, 95591, 95593, 30059, 95597, 30063, 95603, 30072, 128380, 128383, 128384, 128386, 95620, 128392, 128396, 30097, 128401, 30110, 128414, 30112, 128415, 30114, 30117, 30118, 30119, 95658, 95660, 95661, 128436, 62901, 62902, 128442, 62908, 128444, 62910, 62915, 62916, 62917, 95685, 128453, 62920, 95688, 128454, 128459, 95693, 128462, 95695, 95700, 62941, 128479, 62944, 128481, 62951, 62958, 30208, 30211, 30218, 30219, 30221, 30224, 30226, 30230, 30231, 128537, 30237, 30238, 30240, 128544, 128575, 128576, 128578, 30278, 128582, 128583, 30281, 30282, 95819, 128588, 95824, 128593, 95831, 128599, 128603, 95836, 128608, 128610, 30307, 128611, 128612, 128614, 128615, 30321, 30331, 30332, 30337, 30345, 30348, 30349, 30359, 30368, 30374, 95919, 30386, 30388, 95925, 95926, 95928, 95929, 30394, 95932, 30403, 128730, 95969, 30434, 30435, 30436, 128743, 30446, 95984, 95988, 128759, 128764, 128765, 30464, 30465, 96001, 128768, 30468, 128769, 128770, 96007, 128771, 128772, 128773, 96011, 128774, 128775, 30480, 30485, 30487, 30489, 30491, 96031, 30496, 128806, 96042, 128812, 30510, 96047, 128819, 96054, 128822, 128825, 128827, 96061, 128831, 96065, 128836, 128837, 128842, 96076, 30546, 128854, 63327, 63328, 63329, 128866, 30563, 63331, 63334, 128871, 128875, 128877, 128881, 30578, 63347, 63349, 128887, 63352, 128890, 63357, 63360, 128897, 128898, 63368, 30605, 63374, 30608, 63376, 63379, 128916, 30613, 30614, 128918, 30617, 128922, 30623, 30624, 128928, 128930, 63395, 63396, 128936, 63401, 128938, 128941, 63407, 30640, 128944, 128948, 63414, 30649, 128953, 30652, 128956, 63424, 63425, 63427, 30660, 30661, 128968, 30667, 30670, 63447, 30686, 63462, 129006, 30707, 129012, 129015, 129017, 30720, 63489, 129026, 63491, 129028, 30727, 63497, 63498, 129033, 129034, 129036, 96270, 129037, 129038, 129042, 63507, 63511, 63515, 30755, 30756, 129065, 129066, 63533, 63534, 63539, 63549, 96455, 96461, 96462, 96474, 96496, 96497, 63738, 63740, 63745, 63750, 63758, 63762, 63768, 63770, 63772, 63774, 63801, 63809, 63813, 63817, 63819, 63826, 63830, 63835, 63842, 63844, 63846, 63848, 63851, 63861, 63868, 96638, 96643, 63879, 63881, 63883, 96651, 96652, 96658, 63891, 96663, 96669, 129437, 63909, 63917, 96687, 129455, 63927, 63928, 63932, 96704, 96706, 129475, 96711, 129479, 129481, 31180, 31181, 31185, 96726, 96727, 31194, 31195, 31196, 31197, 96730, 31199, 31200, 31201, 63970, 31206, 31207, 63977, 96748, 31219, 63987, 31221, 63988, 63990, 31224, 63994, 31230, 64011, 64013, 64015, 64017, 31252, 64025, 31259, 64027, 64030, 31265, 64035, 31269, 31271, 31274, 31279, 31290, 64058, 31292, 64059, 64061, 64062, 31296, 129596, 129597, 31299, 31300, 31302, 129607, 31308, 129613, 31311, 64080, 129615, 64082, 31315, 31318, 129629, 31328, 31329, 64097, 64099, 31333, 64106, 64108, 31344, 129652, 31352, 64121, 64125, 31367, 129671, 129674, 64139, 129676, 31373, 64141, 64151, 31387, 129692, 31391, 64161, 31398, 31403, 129710, 31410, 64178, 64181, 64184, 129721, 31420, 64190, 64191, 64193, 129729, 64196, 31429, 129732, 31432, 64200, 64201, 129736, 31436, 31438, 129744, 31442, 64212, 129748, 64214, 129752, 129759, 64224, 129760, 129769, 64236, 64237, 129776, 64241, 129783, 129790, 64258, 64260, 129803, 64270, 64271, 129806, 64279, 64280, 129816, 129820, 64285, 129826, 64291, 64292, 31526, 64295, 31529, 64297, 64298, 129834, 64301, 129835, 31539, 64308, 31541, 64309, 31544, 31552, 64322, 31555, 64324, 31558, 64329, 129869, 129873, 129887, 129888, 64361, 129899, 129902, 64370, 64371, 64374, 64375, 64380, 64399, 64400, 129945, 129946, 64416, 97190, 97195, 64432, 97206, 97208, 64446, 64447, 97214, 64465, 97233, 97237, 31704, 31705, 31706, 64474, 31710, 31713, 97249, 97258, 31724, 31725, 64493, 64496, 97264, 97269, 31736, 97272, 64506, 31739, 97276, 31741, 31742, 97279, 64512, 31748, 31752, 31756, 31764, 64533, 97303, 97304, 97306, 97308, 31773, 97310, 31775, 31776, 31778, 97318, 31792, 31797, 130102, 31800, 31804, 31806, 130111, 130115, 64580, 31815, 31817, 31819, 64587, 31821, 64589, 31825, 31829, 130133, 64601, 31845, 130154, 64619, 31858, 31866, 130173, 31870, 31872, 64645, 64648, 31882, 130187, 31887, 64655, 31891, 97428, 64662, 130199, 97432, 31897, 31898, 130200, 31900, 97436, 31902, 97437, 31904, 64672, 31906, 97439, 97443, 31909, 97444, 97446, 97448, 130208, 130216, 31915, 31916, 31917, 97453, 97454, 31920, 64692, 97461, 64695, 97469, 130238, 64703, 97471, 64705, 130243, 130246, 64714, 97485, 97492, 97493, 97495, 64734, 64748, 64749, 64753, 64759, 64764, 64765, 64780, 64781, 64794, 64795, 64796, 64797, 32042, 130358, 32060, 32061, 32064, 32065, 32066, 32069, 32071, 64841, 64843, 64849, 64851, 32084, 64857, 64858, 130394, 130397, 64862, 32095, 130398, 32099, 64867, 64870, 130407, 130408, 64874, 64875, 130415, 130417, 64882, 130419, 130426, 130427, 130431, 130435, 130436, 64901, 130438, 64904, 64906, 64907, 130445, 130451, 130460, 32168, 32169, 32171, 32173, 32174, 130479, 64956, 64969, 64970, 32204, 32207, 64976, 32209, 64977, 64981, 130518, 32217, 64986, 32219, 32221, 130527, 130534, 130536, 130537, 130538, 130540, 65006, 130544, 32242, 32245, 32246, 32247, 130551, 32249, 32251, 130556, 65021, 65026, 130562, 130566, 65039, 130587, 130592, 32290, 65063, 130600, 32298, 32300, 130604, 32302, 130607, 65079, 65081, 32316, 130634, 32346, 130651, 32351, 32352, 130673, 32370, 130674, 32373, 32375, 32379, 32385, 32386, 32405, 130718, 130726, 32423, 32427, 130731, 32430, 130739, 32445, 32457, 32458, 65225, 130761, 32461, 65232, 130770, 130773, 65241, 130779, 32476, 130783, 65249, 65250, 65251, 130785, 98023, 98024, 32489, 65257, 65259, 65263, 130800, 32499, 65269, 32509, 65282, 130820, 130821, 32518, 65287, 65289, 65290, 32535, 65304, 130841, 65307, 130843, 130846, 130849, 32547, 65317, 130853, 65323, 32558, 32559, 32560, 32565, 65339, 65343, 130886, 130888, 130889, 130891, 32590, 65359, 130894, 130895, 130898, 32599, 65373, 65374, 32613, 32617, 65392, 65396, 65397, 65398, 65404, 65417, 65426, 65429, 98197, 65436, 32672, 32674, 32678, 32680, 98222, 65455, 65457, 65458, 32691, 98225, 98227, 32694, 32695, 98232, 65465, 65466, 65467, 65468, 98236, 65470, 32703, 32704, 98239, 65475, 65476, 65478, 98249, 65484, 32718, 65487, 98255, 65493, 65495, 32731, 32732, 65500, 98269, 65503, 98273, 65508, 65509, 98277, 98279, 98280, 98289, 65522, 65523, 65524, 98290, 65529, 98298] not in index'"
     ]
    }
   ],
>>>>>>> a77f96d0820c52c0cbe32d1d300a3d607231739f
   "source": [
    "poly_counties = us_counties.loc[list(set(accepted_indices))]"
   ]
  },
  {
   "cell_type": "code",
   "execution_count": 78,
   "metadata": {},
   "outputs": [
    {
     "name": "stderr",
     "output_type": "stream",
     "text": [
      "  2%|▏         | 62/2817 [02:20<1:20:22,  1.75s/it]"
     ]
    },
    {
     "name": "stdout",
     "output_type": "stream",
     "text": [
      "Page for \"Aleutians East County, AK\" cannot be disambiguated and/or found.\n"
     ]
    },
    {
     "name": "stderr",
     "output_type": "stream",
     "text": [
      "  2%|▏         | 63/2817 [02:21<1:02:10,  1.35s/it]"
     ]
    },
    {
     "name": "stdout",
     "output_type": "stream",
     "text": [
      "Page for \"Anchorage County, AK\" cannot be disambiguated and/or found.\n"
     ]
    },
    {
     "name": "stderr",
     "output_type": "stream",
     "text": [
      "  2%|▏         | 64/2817 [02:21<49:44,  1.08s/it]  "
     ]
    },
    {
     "name": "stdout",
     "output_type": "stream",
     "text": [
      "Page for \"Bristol Bay County, AK\" cannot be disambiguated and/or found.\n"
     ]
    },
    {
     "name": "stderr",
     "output_type": "stream",
     "text": [
      "  2%|▏         | 65/2817 [02:22<40:56,  1.12it/s]"
     ]
    },
    {
     "name": "stdout",
     "output_type": "stream",
     "text": [
      "Page for \"Denali County, AK\" cannot be disambiguated and/or found.\n"
     ]
    },
    {
     "name": "stderr",
     "output_type": "stream",
     "text": [
      "  2%|▏         | 66/2817 [02:22<34:48,  1.32it/s]"
     ]
    },
    {
     "name": "stdout",
     "output_type": "stream",
     "text": [
      "Page for \"Fairbanks North Star County, AK\" cannot be disambiguated and/or found.\n"
     ]
    },
    {
     "name": "stderr",
     "output_type": "stream",
     "text": [
      "  2%|▏         | 67/2817 [02:22<30:34,  1.50it/s]"
     ]
    },
    {
     "name": "stdout",
     "output_type": "stream",
     "text": [
      "Page for \"Haines County, AK\" cannot be disambiguated and/or found.\n"
     ]
    },
    {
     "name": "stderr",
     "output_type": "stream",
     "text": [
      "  2%|▏         | 68/2817 [02:23<27:34,  1.66it/s]"
     ]
    },
    {
     "name": "stdout",
     "output_type": "stream",
     "text": [
      "Page for \"Juneau County, AK\" cannot be disambiguated and/or found.\n"
     ]
    },
    {
     "name": "stderr",
     "output_type": "stream",
     "text": [
      "  2%|▏         | 69/2817 [02:23<25:29,  1.80it/s]"
     ]
    },
    {
     "name": "stdout",
     "output_type": "stream",
     "text": [
      "Page for \"Kenai Peninsula County, AK\" cannot be disambiguated and/or found.\n"
     ]
    },
    {
     "name": "stderr",
     "output_type": "stream",
     "text": [
      "  2%|▏         | 70/2817 [02:24<23:57,  1.91it/s]"
     ]
    },
    {
     "name": "stdout",
     "output_type": "stream",
     "text": [
      "Page for \"Ketchikan Gateway County, AK\" cannot be disambiguated and/or found.\n"
     ]
    },
    {
     "name": "stderr",
     "output_type": "stream",
     "text": [
      "  3%|▎         | 71/2817 [02:24<22:58,  1.99it/s]"
     ]
    },
    {
     "name": "stdout",
     "output_type": "stream",
     "text": [
      "Page for \"Kodiak Island County, AK\" cannot be disambiguated and/or found.\n"
     ]
    },
    {
     "name": "stderr",
     "output_type": "stream",
     "text": [
      "  3%|▎         | 72/2817 [02:25<22:13,  2.06it/s]"
     ]
    },
    {
     "name": "stdout",
     "output_type": "stream",
     "text": [
      "Page for \"Lake and Peninsula County, AK\" cannot be disambiguated and/or found.\n"
     ]
    },
    {
     "name": "stderr",
     "output_type": "stream",
     "text": [
      "  3%|▎         | 73/2817 [02:25<21:32,  2.12it/s]"
     ]
    },
    {
     "name": "stdout",
     "output_type": "stream",
     "text": [
      "Page for \"Matanuska-Susitna County, AK\" cannot be disambiguated and/or found.\n"
     ]
    },
    {
     "name": "stderr",
     "output_type": "stream",
     "text": [
      "  3%|▎         | 74/2817 [02:26<21:35,  2.12it/s]"
     ]
    },
    {
     "name": "stdout",
     "output_type": "stream",
     "text": [
      "Page for \"North Slope County, AK\" cannot be disambiguated and/or found.\n"
     ]
    },
    {
     "name": "stderr",
     "output_type": "stream",
     "text": [
      "  3%|▎         | 75/2817 [02:26<21:27,  2.13it/s]"
     ]
    },
    {
     "name": "stdout",
     "output_type": "stream",
     "text": [
      "Page for \"Northwest Arctic County, AK\" cannot be disambiguated and/or found.\n"
     ]
    },
    {
     "name": "stderr",
     "output_type": "stream",
     "text": [
      "  3%|▎         | 76/2817 [02:27<20:53,  2.19it/s]"
     ]
    },
    {
     "name": "stdout",
     "output_type": "stream",
     "text": [
      "Page for \"Sitka County, AK\" cannot be disambiguated and/or found.\n"
     ]
    },
    {
     "name": "stderr",
     "output_type": "stream",
     "text": [
      "  3%|▎         | 77/2817 [02:27<21:05,  2.17it/s]"
     ]
    },
    {
     "name": "stdout",
     "output_type": "stream",
     "text": [
      "Page for \"Skagway County, AK\" cannot be disambiguated and/or found.\n"
     ]
    },
    {
     "name": "stderr",
     "output_type": "stream",
     "text": [
      "  3%|▎         | 78/2817 [02:27<21:03,  2.17it/s]"
     ]
    },
    {
     "name": "stdout",
     "output_type": "stream",
     "text": [
      "Page for \"Wrangell County, AK\" cannot be disambiguated and/or found.\n"
     ]
    },
    {
     "name": "stderr",
     "output_type": "stream",
     "text": [
      "  3%|▎         | 79/2817 [02:28<20:42,  2.20it/s]"
     ]
    },
    {
     "name": "stdout",
     "output_type": "stream",
     "text": [
      "Page for \"Yakutat County, AK\" cannot be disambiguated and/or found.\n"
     ]
    },
    {
     "name": "stderr",
     "output_type": "stream",
     "text": [
      " 18%|█▊        | 496/2817 [19:02<1:06:50,  1.73s/it]"
     ]
    },
    {
     "name": "stdout",
     "output_type": "stream",
     "text": [
      "Page for \"Hawai?i County, HI\" cannot be disambiguated and/or found.\n"
     ]
    },
    {
     "name": "stderr",
     "output_type": "stream",
     "text": [
      " 18%|█▊        | 520/2817 [19:55<1:05:48,  1.72s/it]"
     ]
    },
    {
     "name": "stdout",
     "output_type": "stream",
     "text": [
      "Page for \"Idaho County, ID\" cannot be disambiguated and/or found.\n"
     ]
    },
    {
     "name": "stderr",
     "output_type": "stream",
     "text": [
      " 36%|███▌      | 1020/2817 [38:59<52:43,  1.76s/it]  "
     ]
    },
    {
     "name": "stdout",
     "output_type": "stream",
     "text": [
      "Page for \"Acadia County, LA\" cannot be disambiguated and/or found.\n"
     ]
    },
    {
     "name": "stderr",
     "output_type": "stream",
     "text": [
      " 36%|███▌      | 1021/2817 [38:59<40:49,  1.36s/it]"
     ]
    },
    {
     "name": "stdout",
     "output_type": "stream",
     "text": [
      "Page for \"Allen County, LA\" cannot be disambiguated and/or found.\n"
     ]
    },
    {
     "name": "stderr",
     "output_type": "stream",
     "text": [
      " 36%|███▋      | 1022/2817 [39:00<32:41,  1.09s/it]"
     ]
    },
    {
     "name": "stdout",
     "output_type": "stream",
     "text": [
      "Page for \"Ascension County, LA\" cannot be disambiguated and/or found.\n"
     ]
    },
    {
     "name": "stderr",
     "output_type": "stream",
     "text": [
      " 36%|███▋      | 1023/2817 [39:00<26:49,  1.11it/s]"
     ]
    },
    {
     "name": "stdout",
     "output_type": "stream",
     "text": [
      "Page for \"Assumption County, LA\" cannot be disambiguated and/or found.\n"
     ]
    },
    {
     "name": "stderr",
     "output_type": "stream",
     "text": [
      " 36%|███▋      | 1024/2817 [39:00<22:44,  1.31it/s]"
     ]
    },
    {
     "name": "stdout",
     "output_type": "stream",
     "text": [
      "Page for \"Avoyelles County, LA\" cannot be disambiguated and/or found.\n"
     ]
    },
    {
     "name": "stderr",
     "output_type": "stream",
     "text": [
      " 36%|███▋      | 1025/2817 [39:01<19:59,  1.49it/s]"
     ]
    },
    {
     "name": "stdout",
     "output_type": "stream",
     "text": [
      "Page for \"Beauregard County, LA\" cannot be disambiguated and/or found.\n"
     ]
    },
    {
     "name": "stderr",
     "output_type": "stream",
     "text": [
      " 36%|███▋      | 1026/2817 [39:01<18:09,  1.64it/s]"
     ]
    },
    {
     "name": "stdout",
     "output_type": "stream",
     "text": [
      "Page for \"Bienville County, LA\" cannot be disambiguated and/or found.\n"
     ]
    },
    {
     "name": "stderr",
     "output_type": "stream",
     "text": [
      " 36%|███▋      | 1027/2817 [39:02<16:41,  1.79it/s]"
     ]
    },
    {
     "name": "stdout",
     "output_type": "stream",
     "text": [
      "Page for \"Bossier County, LA\" cannot be disambiguated and/or found.\n"
     ]
    },
    {
     "name": "stderr",
     "output_type": "stream",
     "text": [
      " 36%|███▋      | 1028/2817 [39:02<15:41,  1.90it/s]"
     ]
    },
    {
     "name": "stdout",
     "output_type": "stream",
     "text": [
      "Page for \"Caddo County, LA\" cannot be disambiguated and/or found.\n"
     ]
    },
    {
     "name": "stderr",
     "output_type": "stream",
     "text": [
      " 37%|███▋      | 1029/2817 [39:03<14:55,  2.00it/s]"
     ]
    },
    {
     "name": "stdout",
     "output_type": "stream",
     "text": [
      "Page for \"Calcasieu County, LA\" cannot be disambiguated and/or found.\n"
     ]
    },
    {
     "name": "stderr",
     "output_type": "stream",
     "text": [
      " 37%|███▋      | 1030/2817 [39:03<14:27,  2.06it/s]"
     ]
    },
    {
     "name": "stdout",
     "output_type": "stream",
     "text": [
      "Page for \"Caldwell County, LA\" cannot be disambiguated and/or found.\n"
     ]
    },
    {
     "name": "stderr",
     "output_type": "stream",
     "text": [
      " 37%|███▋      | 1031/2817 [39:04<14:08,  2.11it/s]"
     ]
    },
    {
     "name": "stdout",
     "output_type": "stream",
     "text": [
      "Page for \"Catahoula County, LA\" cannot be disambiguated and/or found.\n"
     ]
    },
    {
     "name": "stderr",
     "output_type": "stream",
     "text": [
      " 37%|███▋      | 1032/2817 [39:04<14:08,  2.10it/s]"
     ]
    },
    {
     "name": "stdout",
     "output_type": "stream",
     "text": [
      "Page for \"Claiborne County, LA\" cannot be disambiguated and/or found.\n"
     ]
    },
    {
     "name": "stderr",
     "output_type": "stream",
     "text": [
      " 37%|███▋      | 1033/2817 [39:05<13:50,  2.15it/s]"
     ]
    },
    {
     "name": "stdout",
     "output_type": "stream",
     "text": [
      "Page for \"Concordia County, LA\" cannot be disambiguated and/or found.\n"
     ]
    },
    {
     "name": "stderr",
     "output_type": "stream",
     "text": [
      " 37%|███▋      | 1034/2817 [39:05<13:48,  2.15it/s]"
     ]
    },
    {
     "name": "stdout",
     "output_type": "stream",
     "text": [
      "Page for \"De Soto County, LA\" cannot be disambiguated and/or found.\n"
     ]
    },
    {
     "name": "stderr",
     "output_type": "stream",
     "text": [
      " 37%|███▋      | 1035/2817 [39:05<13:47,  2.15it/s]"
     ]
    },
    {
     "name": "stdout",
     "output_type": "stream",
     "text": [
      "Page for \"East Carroll County, LA\" cannot be disambiguated and/or found.\n"
     ]
    },
    {
     "name": "stderr",
     "output_type": "stream",
     "text": [
      " 37%|███▋      | 1036/2817 [39:06<13:38,  2.18it/s]"
     ]
    },
    {
     "name": "stdout",
     "output_type": "stream",
     "text": [
      "Page for \"East Feliciana County, LA\" cannot be disambiguated and/or found.\n"
     ]
    },
    {
     "name": "stderr",
     "output_type": "stream",
     "text": [
      " 37%|███▋      | 1037/2817 [39:06<13:30,  2.20it/s]"
     ]
    },
    {
     "name": "stdout",
     "output_type": "stream",
     "text": [
      "Page for \"Evangeline County, LA\" cannot be disambiguated and/or found.\n"
     ]
    },
    {
     "name": "stderr",
     "output_type": "stream",
     "text": [
      " 37%|███▋      | 1038/2817 [39:07<13:43,  2.16it/s]"
     ]
    },
    {
     "name": "stdout",
     "output_type": "stream",
     "text": [
      "Page for \"Iberia County, LA\" cannot be disambiguated and/or found.\n"
     ]
    },
    {
     "name": "stderr",
     "output_type": "stream",
     "text": [
      " 37%|███▋      | 1039/2817 [39:07<13:30,  2.19it/s]"
     ]
    },
    {
     "name": "stdout",
     "output_type": "stream",
     "text": [
      "Page for \"Iberville County, LA\" cannot be disambiguated and/or found.\n"
     ]
    },
    {
     "name": "stderr",
     "output_type": "stream",
     "text": [
      " 37%|███▋      | 1040/2817 [39:08<13:27,  2.20it/s]"
     ]
    },
    {
     "name": "stdout",
     "output_type": "stream",
     "text": [
      "Page for \"Jefferson Davis County, LA\" cannot be disambiguated and/or found.\n"
     ]
    },
    {
     "name": "stderr",
     "output_type": "stream",
     "text": [
      " 37%|███▋      | 1041/2817 [39:08<13:19,  2.22it/s]"
     ]
    },
    {
     "name": "stdout",
     "output_type": "stream",
     "text": [
      "Page for \"Lafayette County, LA\" cannot be disambiguated and/or found.\n"
     ]
    },
    {
     "name": "stderr",
     "output_type": "stream",
     "text": [
      " 37%|███▋      | 1042/2817 [39:09<13:15,  2.23it/s]"
     ]
    },
    {
     "name": "stdout",
     "output_type": "stream",
     "text": [
      "Page for \"Lafourche County, LA\" cannot be disambiguated and/or found.\n"
     ]
    },
    {
     "name": "stderr",
     "output_type": "stream",
     "text": [
      " 37%|███▋      | 1043/2817 [39:09<13:15,  2.23it/s]"
     ]
    },
    {
     "name": "stdout",
     "output_type": "stream",
     "text": [
      "Page for \"La Salle County, LA\" cannot be disambiguated and/or found.\n"
     ]
    },
    {
     "name": "stderr",
     "output_type": "stream",
     "text": [
      " 37%|███▋      | 1044/2817 [39:09<13:16,  2.23it/s]"
     ]
    },
    {
     "name": "stdout",
     "output_type": "stream",
     "text": [
      "Page for \"Livingston County, LA\" cannot be disambiguated and/or found.\n"
     ]
    },
    {
     "name": "stderr",
     "output_type": "stream",
     "text": [
      " 37%|███▋      | 1045/2817 [39:10<13:27,  2.20it/s]"
     ]
    },
    {
     "name": "stdout",
     "output_type": "stream",
     "text": [
      "Page for \"Morehouse County, LA\" cannot be disambiguated and/or found.\n"
     ]
    },
    {
     "name": "stderr",
     "output_type": "stream",
     "text": [
      " 37%|███▋      | 1046/2817 [39:10<13:21,  2.21it/s]"
     ]
    },
    {
     "name": "stdout",
     "output_type": "stream",
     "text": [
      "Page for \"Natchitoches County, LA\" cannot be disambiguated and/or found.\n"
     ]
    },
    {
     "name": "stderr",
     "output_type": "stream",
     "text": [
      " 37%|███▋      | 1047/2817 [39:11<13:14,  2.23it/s]"
     ]
    },
    {
     "name": "stdout",
     "output_type": "stream",
     "text": [
      "Page for \"Ouachita County, LA\" cannot be disambiguated and/or found.\n"
     ]
    },
    {
     "name": "stderr",
     "output_type": "stream",
     "text": [
      " 37%|███▋      | 1048/2817 [39:11<13:14,  2.23it/s]"
     ]
    },
    {
     "name": "stdout",
     "output_type": "stream",
     "text": [
      "Page for \"Plaquemines County, LA\" cannot be disambiguated and/or found.\n"
     ]
    },
    {
     "name": "stderr",
     "output_type": "stream",
     "text": [
      " 37%|███▋      | 1049/2817 [39:12<13:14,  2.23it/s]"
     ]
    },
    {
     "name": "stdout",
     "output_type": "stream",
     "text": [
      "Page for \"Pointe Coupee County, LA\" cannot be disambiguated and/or found.\n"
     ]
    },
    {
     "name": "stderr",
     "output_type": "stream",
     "text": [
      " 37%|███▋      | 1050/2817 [39:12<13:14,  2.22it/s]"
     ]
    },
    {
     "name": "stdout",
     "output_type": "stream",
     "text": [
      "Page for \"Rapides County, LA\" cannot be disambiguated and/or found.\n"
     ]
    },
    {
     "name": "stderr",
     "output_type": "stream",
     "text": [
      " 37%|███▋      | 1051/2817 [39:13<13:14,  2.22it/s]"
     ]
    },
    {
     "name": "stdout",
     "output_type": "stream",
     "text": [
      "Page for \"Red River County, LA\" cannot be disambiguated and/or found.\n"
     ]
    },
    {
     "name": "stderr",
     "output_type": "stream",
     "text": [
      " 37%|███▋      | 1052/2817 [39:13<13:14,  2.22it/s]"
     ]
    },
    {
     "name": "stdout",
     "output_type": "stream",
     "text": [
      "Page for \"Richland County, LA\" cannot be disambiguated and/or found.\n"
     ]
    },
    {
     "name": "stderr",
     "output_type": "stream",
     "text": [
      " 37%|███▋      | 1053/2817 [39:14<13:09,  2.23it/s]"
     ]
    },
    {
     "name": "stdout",
     "output_type": "stream",
     "text": [
      "Page for \"Sabine County, LA\" cannot be disambiguated and/or found.\n"
     ]
    },
    {
     "name": "stderr",
     "output_type": "stream",
     "text": [
      " 37%|███▋      | 1054/2817 [39:14<14:29,  2.03it/s]"
     ]
    },
    {
     "name": "stdout",
     "output_type": "stream",
     "text": [
      "Page for \"St. Bernard County, LA\" cannot be disambiguated and/or found.\n"
     ]
    },
    {
     "name": "stderr",
     "output_type": "stream",
     "text": [
      " 37%|███▋      | 1055/2817 [39:15<13:59,  2.10it/s]"
     ]
    },
    {
     "name": "stdout",
     "output_type": "stream",
     "text": [
      "Page for \"St. Charles County, LA\" cannot be disambiguated and/or found.\n"
     ]
    },
    {
     "name": "stderr",
     "output_type": "stream",
     "text": [
      " 37%|███▋      | 1056/2817 [39:15<14:09,  2.07it/s]"
     ]
    },
    {
     "name": "stdout",
     "output_type": "stream",
     "text": [
      "Page for \"St. John the Baptist County, LA\" cannot be disambiguated and/or found.\n"
     ]
    },
    {
     "name": "stderr",
     "output_type": "stream",
     "text": [
      " 38%|███▊      | 1057/2817 [39:16<13:48,  2.12it/s]"
     ]
    },
    {
     "name": "stdout",
     "output_type": "stream",
     "text": [
      "Page for \"St. Landry County, LA\" cannot be disambiguated and/or found.\n"
     ]
    },
    {
     "name": "stderr",
     "output_type": "stream",
     "text": [
      " 38%|███▊      | 1058/2817 [39:16<13:40,  2.14it/s]"
     ]
    },
    {
     "name": "stdout",
     "output_type": "stream",
     "text": [
      "Page for \"St. Mary County, LA\" cannot be disambiguated and/or found.\n"
     ]
    },
    {
     "name": "stderr",
     "output_type": "stream",
     "text": [
      " 38%|███▊      | 1059/2817 [39:16<13:28,  2.18it/s]"
     ]
    },
    {
     "name": "stdout",
     "output_type": "stream",
     "text": [
      "Page for \"St. Tammany County, LA\" cannot be disambiguated and/or found.\n"
     ]
    },
    {
     "name": "stderr",
     "output_type": "stream",
     "text": [
      " 38%|███▊      | 1060/2817 [39:17<13:38,  2.15it/s]"
     ]
    },
    {
     "name": "stdout",
     "output_type": "stream",
     "text": [
      "Page for \"Tangipahoa County, LA\" cannot be disambiguated and/or found.\n"
     ]
    },
    {
     "name": "stderr",
     "output_type": "stream",
     "text": [
      " 38%|███▊      | 1061/2817 [39:17<13:34,  2.16it/s]"
     ]
    },
    {
     "name": "stdout",
     "output_type": "stream",
     "text": [
      "Page for \"Tensas County, LA\" cannot be disambiguated and/or found.\n"
     ]
    },
    {
     "name": "stderr",
     "output_type": "stream",
     "text": [
      " 38%|███▊      | 1062/2817 [39:18<13:26,  2.18it/s]"
     ]
    },
    {
     "name": "stdout",
     "output_type": "stream",
     "text": [
      "Page for \"Terrebonne County, LA\" cannot be disambiguated and/or found.\n"
     ]
    },
    {
     "name": "stderr",
     "output_type": "stream",
     "text": [
      " 38%|███▊      | 1063/2817 [39:18<13:22,  2.19it/s]"
     ]
    },
    {
     "name": "stdout",
     "output_type": "stream",
     "text": [
      "Page for \"Vermilion County, LA\" cannot be disambiguated and/or found.\n"
     ]
    },
    {
     "name": "stderr",
     "output_type": "stream",
     "text": [
      " 38%|███▊      | 1064/2817 [39:19<13:16,  2.20it/s]"
     ]
    },
    {
     "name": "stdout",
     "output_type": "stream",
     "text": [
      "Page for \"Vernon County, LA\" cannot be disambiguated and/or found.\n"
     ]
    },
    {
     "name": "stderr",
     "output_type": "stream",
     "text": [
      " 38%|███▊      | 1065/2817 [39:19<13:14,  2.21it/s]"
     ]
    },
    {
     "name": "stdout",
     "output_type": "stream",
     "text": [
      "Page for \"Webster County, LA\" cannot be disambiguated and/or found.\n"
     ]
    },
    {
     "name": "stderr",
     "output_type": "stream",
     "text": [
      " 38%|███▊      | 1066/2817 [39:20<13:11,  2.21it/s]"
     ]
    },
    {
     "name": "stdout",
     "output_type": "stream",
     "text": [
      "Page for \"West Baton Rouge County, LA\" cannot be disambiguated and/or found.\n"
     ]
    },
    {
     "name": "stderr",
     "output_type": "stream",
     "text": [
      " 38%|███▊      | 1067/2817 [39:20<13:10,  2.21it/s]"
     ]
    },
    {
     "name": "stdout",
     "output_type": "stream",
     "text": [
      "Page for \"West Carroll County, LA\" cannot be disambiguated and/or found.\n"
     ]
    },
    {
     "name": "stderr",
     "output_type": "stream",
     "text": [
      " 38%|███▊      | 1068/2817 [39:21<13:09,  2.22it/s]"
     ]
    },
    {
     "name": "stdout",
     "output_type": "stream",
     "text": [
      "Page for \"West Feliciana County, LA\" cannot be disambiguated and/or found.\n"
     ]
    },
    {
     "name": "stderr",
     "output_type": "stream",
     "text": [
      " 38%|███▊      | 1069/2817 [39:21<13:02,  2.23it/s]"
     ]
    },
    {
     "name": "stdout",
     "output_type": "stream",
     "text": [
      "Page for \"Winn County, LA\" cannot be disambiguated and/or found.\n"
     ]
    },
    {
     "name": "stderr",
     "output_type": "stream",
     "text": [
      " 57%|█████▋    | 1597/2817 [59:39<35:56,  1.77s/it]  "
     ]
    },
    {
     "name": "stdout",
     "output_type": "stream",
     "text": [
      "Page for \"Carson City County, NV\" cannot be disambiguated and/or found.\n"
     ]
    },
    {
     "name": "stderr",
     "output_type": "stream",
     "text": [
      " 94%|█████████▍| 2652/2817 [1:40:50<04:45,  1.73s/it]"
     ]
    },
    {
     "name": "stdout",
     "output_type": "stream",
     "text": [
      "Page for \"Charlottesville County, VA\" cannot be disambiguated and/or found.\n"
     ]
    },
    {
     "name": "stderr",
     "output_type": "stream",
     "text": [
      " 94%|█████████▍| 2653/2817 [1:40:50<03:41,  1.35s/it]"
     ]
    },
    {
     "name": "stdout",
     "output_type": "stream",
     "text": [
      "Page for \"Falls Church County, VA\" cannot be disambiguated and/or found.\n"
     ]
    },
    {
     "name": "stderr",
     "output_type": "stream",
     "text": [
      " 94%|█████████▍| 2654/2817 [1:40:51<02:55,  1.08s/it]"
     ]
    },
    {
     "name": "stdout",
     "output_type": "stream",
     "text": [
      "Page for \"Harrisonburg County, VA\" cannot be disambiguated and/or found.\n"
     ]
    },
    {
     "name": "stderr",
     "output_type": "stream",
     "text": [
      " 94%|█████████▍| 2655/2817 [1:40:51<02:24,  1.12it/s]"
     ]
    },
    {
     "name": "stdout",
     "output_type": "stream",
     "text": [
      "Page for \"Manassas Park County, VA\" cannot be disambiguated and/or found.\n"
     ]
    },
    {
     "name": "stderr",
     "output_type": "stream",
     "text": [
      " 94%|█████████▍| 2656/2817 [1:40:52<02:01,  1.32it/s]"
     ]
    },
    {
     "name": "stdout",
     "output_type": "stream",
     "text": [
      "Page for \"Martinsville County, VA\" cannot be disambiguated and/or found.\n"
     ]
    },
    {
     "name": "stderr",
     "output_type": "stream",
     "text": [
      " 94%|█████████▍| 2657/2817 [1:40:52<01:46,  1.50it/s]"
     ]
    },
    {
     "name": "stdout",
     "output_type": "stream",
     "text": [
      "Page for \"Poquoson County, VA\" cannot be disambiguated and/or found.\n"
     ]
    },
    {
     "name": "stderr",
     "output_type": "stream",
     "text": [
      " 94%|█████████▍| 2658/2817 [1:40:52<01:37,  1.62it/s]"
     ]
    },
    {
     "name": "stdout",
     "output_type": "stream",
     "text": [
      "Page for \"Virginia Beach County, VA\" cannot be disambiguated and/or found.\n"
     ]
    },
    {
     "name": "stderr",
     "output_type": "stream",
     "text": [
      "100%|██████████| 2817/2817 [1:47:05<00:00,  2.28s/it]\n"
     ]
    }
   ],
   "source": [
    "rows = []\n",
    "for idx, row in tqdm(poly_counties.iterrows(), total = len(poly_counties)):\n",
    "    location = remove_parentheses(row.County + ' County')\n",
    "    state = row['State']\n",
    "    country = 'United States'\n",
    "    coords = (row.Latitude, row.Longitude)\n",
    "    \n",
    "    location += f', {state}'\n",
    "    # check for disambiguation and add state/country if disamb reached\n",
    "    if disamb_check(location):\n",
    "        print(f'Page for \"{location}\" cannot be disambiguated and/or found.')\n",
    "        continue\n",
    "    # retrieve page\n",
    "    page = wikipedia.WikipediaPage(location)   \n",
    "    sentences = process_page(page)\n",
    "    for sentence in sentences:\n",
    "        row = {}\n",
    "        row['city'] = location\n",
    "        row['country'] = country\n",
    "        row['coordinates'] = coords\n",
    "        row['text'] = sentence\n",
    "        rows.append(row)\n",
    "        \n",
    "processed_wiki_counties = pd.DataFrame(rows)"
   ]
  },
  {
   "cell_type": "code",
   "execution_count": 79,
   "metadata": {},
   "outputs": [],
   "source": [
    "processed_wiki_counties.to_csv('../data/NB2/wiki_counties_reference.csv', index = False)"
   ]
  },
  {
   "cell_type": "markdown",
   "metadata": {},
   "source": [
    "## 2.4 Tagging locations in the datasets\n",
    "Finally, we need to use our trained TopoBERT model to identify toponyms in each dataset. The two datasets will be joined together after relational retagging in notebook 3.\n"
   ]
  },
  {
   "cell_type": "code",
   "execution_count": null,
   "metadata": {},
   "outputs": [],
   "source": [
    "# Load the dataset using the BERT_geoparser Data.py module\n",
    "data_csv = r'../data/NB1/wikineural_train_dataset.csv' # specify the data used to train the model for correct tokenization.\n",
    "tokenizer = Tokenizer(size='large', cased=True)\n",
    "data = Data(data_path=data_csv, \n",
    "            tokenizer=tokenizer,\n",
    "            max_len=80)\n",
    "\n",
    "model = BertModel(saved_model='../models/TopoBERT_WikiNeural.hdf5', data=data)\n",
    "model.model.summary()\n",
    "\n",
    "cities_data = pd.read_csv('../data/NB2/wiki_cities_reference.csv')\n",
    "counties_data = pd.read_csv('../data/NB2/wiki_counties_reference.csv')\n",
    "\n",
    "print('Tagging cities dataset')\n",
    "cities_results_df = model.results_dataframe(cities_data.text.values, include_best=True)\n",
    "print('Tagging counties dataset')\n",
    "counties_results_df = model.results_dataframe(counties_data.text.values, include_best=True)"
   ]
  },
  {
   "cell_type": "code",
   "execution_count": 48,
   "metadata": {},
   "outputs": [],
   "source": [
    "cities_results_df.to_csv('../data/NB2/wiki_cities_tagged.csv', index=False)\n",
    "counties_results_df.to_csv('../data/NB2/wiki_counties_tagged.csv', index=False)"
   ]
  }
 ],
 "metadata": {
  "kernelspec": {
   "display_name": "tensorflow-gpu",
   "language": "python",
   "name": "python3"
  },
  "language_info": {
   "codemirror_mode": {
    "name": "ipython",
    "version": 3
   },
   "file_extension": ".py",
   "mimetype": "text/x-python",
   "name": "python",
   "nbconvert_exporter": "python",
   "pygments_lexer": "ipython3",
   "version": "3.10.13"
  }
 },
 "nbformat": 4,
 "nbformat_minor": 2
}
