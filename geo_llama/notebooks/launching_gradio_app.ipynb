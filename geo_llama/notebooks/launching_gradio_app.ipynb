{
 "cells": [
  {
   "cell_type": "markdown",
   "metadata": {},
   "source": [
    "# Gradio GeoLlama App\n",
    "This notebook shows how to launch the Gradio based GeoLlama App. We will include the full pipeline, from translation to toponym extraction to geoparsing."
   ]
  },
  {
   "cell_type": "code",
   "execution_count": 6,
   "metadata": {},
   "outputs": [],
   "source": [
    "import sys\n",
    "sys.path.append('..')\n",
    "import gradio as gr\n",
    "from geo_llama.translator import Translator\n",
    "from geo_llama.model import RAGModel, TopoModel\n",
    "from geo_llama.geo_llama import GeoLlama\n",
    "from geo_llama.plotting import plot_map"
   ]
  },
  {
   "cell_type": "code",
   "execution_count": null,
   "metadata": {},
   "outputs": [],
   "source": [
    "translator = Translator(model_size='1.2B')\n",
    "topo_model = TopoModel(model_name='JoeShingleton/GeoLlama_7b_toponym', \n",
    "                    prompt_path='data/prompt_templates/prompt_template.txt',\n",
    "                    instruct_path='data/prompt_templates/topo_instruction.txt',\n",
    "                    input_path=None,\n",
    "                    config_path='data/config_files/model_config.json')\n",
    "\n",
    "rag_model = RAGModel(model_name='JoeShingleton/GeoLlama_7b_RAG', \n",
    "                    prompt_path='data/prompt_templates/prompt_template.txt',\n",
    "                    instruct_path='data/prompt_templates/rag_instruction.txt',\n",
    "                    input_path='data/prompt_templates/rag_input.txt',\n",
    "                    config_path='data/config_files/model_config.json')\n",
    "\n",
    "geo_llama = GeoLlama(topo_model, rag_model)"
   ]
  },
  {
   "cell_type": "code",
   "execution_count": null,
   "metadata": {},
   "outputs": [],
   "source": [
    "def translate(text):\n",
    "    out = translator.translate(text, out_lang='en')\n",
    "    return out\n",
    "\n",
    "def geoparse(text):\n",
    "    translated_text = translate(text, translator)\n",
    "    locations = geo_llama.geoparse(translated_text['translation'])\n",
    "    locations_str = ', '.join([x['name'] for x in locations])\n",
    "    mapped = plot_map(locations)\n",
    "    return translated_text, locations_str, mapped"
   ]
  },
  {
   "cell_type": "code",
   "execution_count": null,
   "metadata": {},
   "outputs": [],
   "source": [
    "input = gr.Textbox(label='Text')\n",
    "output1 = gr.Textbox(label='Translation')\n",
    "output2 = gr.Textbox(label='Toponyms')\n",
    "output3 = gr.Plot(label='Mapped Locations')\n",
    "demo = gr.Interface(fn=geoparse, \n",
    "                    inputs=input, \n",
    "                    outputs=[output1, output2, output3])\n",
    "demo.launch()"
   ]
  }
 ],
 "metadata": {
  "kernelspec": {
   "display_name": "geollama-test-env",
   "language": "python",
   "name": "python3"
  },
  "language_info": {
   "codemirror_mode": {
    "name": "ipython",
    "version": 3
   },
   "file_extension": ".py",
   "mimetype": "text/x-python",
   "name": "python",
   "nbconvert_exporter": "python",
   "pygments_lexer": "ipython3",
   "version": "3.10.0"
  }
 },
 "nbformat": 4,
 "nbformat_minor": 2
}
