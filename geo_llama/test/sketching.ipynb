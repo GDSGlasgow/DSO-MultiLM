{
 "cells": [
  {
   "cell_type": "code",
   "execution_count": 1,
   "metadata": {},
   "outputs": [],
   "source": [
    "import json\n"
   ]
  },
  {
   "cell_type": "code",
   "execution_count": 9,
   "metadata": {},
   "outputs": [
    {
     "data": {
      "text/plain": [
       "['toponym1', 'toponym2', 'top]}\\n']"
      ]
     },
     "execution_count": 9,
     "metadata": {},
     "output_type": "execute_result"
    }
   ],
   "source": [
    "# let say we have some broken json as below:\n",
    "\n",
    "json_str = '{\"toponyms\":[\"toponym1\", \"toponym2\", \"top]}\\n'\n",
    "\n",
    "# we want to grab the list elements from this, including the broken ones:\n",
    "\n",
    "list_elements_str = json_str.split('[\"')[1]\n",
    "list_elements = list_elements_str.split('\", \"')\n",
    "list_elements"
   ]
  },
  {
   "cell_type": "code",
   "execution_count": 10,
   "metadata": {},
   "outputs": [],
   "source": [
    "# we now want to get rid of any trailing\n",
    "for i, element in enumerate(list_elements[-1][::-1]):\n",
    "    if element.isalpha() or element.isnumeric():\n",
    "        break\n",
    "list_elements[-1] = list_elements[-1][:-i]"
   ]
  },
  {
   "cell_type": "code",
   "execution_count": 12,
   "metadata": {},
   "outputs": [
    {
     "data": {
      "text/plain": [
       "['toponym1', 'toponym2', 'top']"
      ]
     },
     "execution_count": 12,
     "metadata": {},
     "output_type": "execute_result"
    }
   ],
   "source": [
    "list_elements"
   ]
  },
  {
   "cell_type": "code",
   "execution_count": null,
   "metadata": {},
   "outputs": [],
   "source": []
  }
 ],
 "metadata": {
  "kernelspec": {
   "display_name": "geollama-test-env",
   "language": "python",
   "name": "python3"
  },
  "language_info": {
   "codemirror_mode": {
    "name": "ipython",
    "version": 3
   },
   "file_extension": ".py",
   "mimetype": "text/x-python",
   "name": "python",
   "nbconvert_exporter": "python",
   "pygments_lexer": "ipython3",
   "version": "3.10.0"
  }
 },
 "nbformat": 4,
 "nbformat_minor": 2
}
